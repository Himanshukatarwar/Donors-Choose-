{
 "cells": [
  {
   "cell_type": "markdown",
   "metadata": {
    "colab_type": "text",
    "id": "-Ab-X-IrCyl0"
   },
   "source": [
    "# DonorsChoose"
   ]
  },
  {
   "cell_type": "markdown",
   "metadata": {
    "colab_type": "text",
    "id": "etNpzy7rCyl2"
   },
   "source": [
    "<p>\n",
    "DonorsChoose.org receives hundreds of thousands of project proposals each year for classroom projects in need of funding. Right now, a large number of volunteers is needed to manually screen each submission before it's approved to be posted on the DonorsChoose.org website.\n",
    "</p>\n",
    "<p>\n",
    "    Next year, DonorsChoose.org expects to receive close to 500,000 project proposals. As a result, there are three main problems they need to solve:\n",
    "<ul>\n",
    "<li>\n",
    "    How to scale current manual processes and resources to screen 500,000 projects so that they can be posted as quickly and as efficiently as possible</li>\n",
    "    <li>How to increase the consistency of project vetting across different volunteers to improve the experience for teachers</li>\n",
    "    <li>How to focus volunteer time on the applications that need the most assistance</li>\n",
    "    </ul>\n",
    "</p>    \n",
    "<p>\n",
    "The goal of the competition is to predict whether or not a DonorsChoose.org project proposal submitted by a teacher will be approved, using the text of project descriptions as well as additional metadata about the project, teacher, and school. DonorsChoose.org can then use this information to identify projects most likely to need further review before approval.\n",
    "</p>"
   ]
  },
  {
   "cell_type": "markdown",
   "metadata": {
    "colab_type": "text",
    "id": "kO2Kg7TgCyl4"
   },
   "source": [
    "## About the DonorsChoose Data Set\n",
    "\n",
    "The `train.csv` data set provided by DonorsChoose contains the following features:\n",
    "\n",
    "Feature | Description \n",
    "----------|---------------\n",
    "**`project_id`** | A unique identifier for the proposed project. **Example:** `p036502`   \n",
    "**`project_title`**    | Title of the project. **Examples:**<br><ul><li><code>Art Will Make You Happy!</code></li><li><code>First Grade Fun</code></li></ul> \n",
    "**`project_grade_category`** | Grade level of students for which the project is targeted. One of the following enumerated values: <br/><ul><li><code>Grades PreK-2</code></li><li><code>Grades 3-5</code></li><li><code>Grades 6-8</code></li><li><code>Grades 9-12</code></li></ul>  \n",
    " **`project_subject_categories`** | One or more (comma-separated) subject categories for the project from the following enumerated list of values:  <br/><ul><li><code>Applied Learning</code></li><li><code>Care &amp; Hunger</code></li><li><code>Health &amp; Sports</code></li><li><code>History &amp; Civics</code></li><li><code>Literacy &amp; Language</code></li><li><code>Math &amp; Science</code></li><li><code>Music &amp; The Arts</code></li><li><code>Special Needs</code></li><li><code>Warmth</code></li></ul><br/> **Examples:** <br/><ul><li><code>Music &amp; The Arts</code></li><li><code>Literacy &amp; Language, Math &amp; Science</code></li>  \n",
    "  **`school_state`** | State where school is located ([Two-letter U.S. postal code](https://en.wikipedia.org/wiki/List_of_U.S._state_abbreviations#Postal_codes)). **Example:** `WY`\n",
    "**`project_subject_subcategories`** | One or more (comma-separated) subject subcategories for the project. **Examples:** <br/><ul><li><code>Literacy</code></li><li><code>Literature &amp; Writing, Social Sciences</code></li></ul> \n",
    "**`project_resource_summary`** | An explanation of the resources needed for the project. **Example:** <br/><ul><li><code>My students need hands on literacy materials to manage sensory needs!</code</li></ul> \n",
    "**`project_essay_1`**    | First application essay<sup>*</sup>  \n",
    "**`project_essay_2`**    | Second application essay<sup>*</sup> \n",
    "**`project_essay_3`**    | Third application essay<sup>*</sup> \n",
    "**`project_essay_4`**    | Fourth application essay<sup>*</sup> \n",
    "**`project_submitted_datetime`** | Datetime when project application was submitted. **Example:** `2016-04-28 12:43:56.245`   \n",
    "**`teacher_id`** | A unique identifier for the teacher of the proposed project. **Example:** `bdf8baa8fedef6bfeec7ae4ff1c15c56`  \n",
    "**`teacher_prefix`** | Teacher's title. One of the following enumerated values: <br/><ul><li><code>nan</code></li><li><code>Dr.</code></li><li><code>Mr.</code></li><li><code>Mrs.</code></li><li><code>Ms.</code></li><li><code>Teacher.</code></li></ul>  \n",
    "**`teacher_number_of_previously_posted_projects`** | Number of project applications previously submitted by the same teacher. **Example:** `2` \n",
    "\n",
    "<sup>*</sup> See the section <b>Notes on the Essay Data</b> for more details about these features.\n",
    "\n",
    "Additionally, the `resources.csv` data set provides more data about the resources required for each project. Each line in this file represents a resource required by a project:\n",
    "\n",
    "Feature | Description \n",
    "----------|---------------\n",
    "**`id`** | A `project_id` value from the `train.csv` file.  **Example:** `p036502`   \n",
    "**`description`** | Desciption of the resource. **Example:** `Tenor Saxophone Reeds, Box of 25`   \n",
    "**`quantity`** | Quantity of the resource required. **Example:** `3`   \n",
    "**`price`** | Price of the resource required. **Example:** `9.95`   \n",
    "\n",
    "**Note:** Many projects require multiple resources. The `id` value corresponds to a `project_id` in train.csv, so you use it as a key to retrieve all resources needed for a project:\n",
    "\n",
    "The data set contains the following label (the value you will attempt to predict):\n",
    "\n",
    "Label | Description\n",
    "----------|---------------\n",
    "`project_is_approved` | A binary flag indicating whether DonorsChoose approved the project. A value of `0` indicates the project was not approved, and a value of `1` indicates the project was approved."
   ]
  },
  {
   "cell_type": "markdown",
   "metadata": {
    "colab_type": "text",
    "id": "dBGA_YStCyl6"
   },
   "source": [
    "### Notes on the Essay Data\n",
    "\n",
    "<ul>\n",
    "Prior to May 17, 2016, the prompts for the essays were as follows:\n",
    "<li>__project_essay_1:__ \"Introduce us to your classroom\"</li>\n",
    "<li>__project_essay_2:__ \"Tell us more about your students\"</li>\n",
    "<li>__project_essay_3:__ \"Describe how your students will use the materials you're requesting\"</li>\n",
    "<li>__project_essay_3:__ \"Close by sharing why your project will make a difference\"</li>\n",
    "</ul>\n",
    "\n",
    "\n",
    "<ul>\n",
    "Starting on May 17, 2016, the number of essays was reduced from 4 to 2, and the prompts for the first 2 essays were changed to the following:<br>\n",
    "<li>__project_essay_1:__ \"Describe your students: What makes your students special? Specific details about their background, your neighborhood, and your school are all helpful.\"</li>\n",
    "<li>__project_essay_2:__ \"About your project: How will these materials make a difference in your students' learning and improve their school lives?\"</li>\n",
    "<br>For all projects with project_submitted_datetime of 2016-05-17 and later, the values of project_essay_3 and project_essay_4 will be NaN.\n",
    "</ul>\n"
   ]
  },
  {
   "cell_type": "code",
   "execution_count": 1,
   "metadata": {
    "colab": {},
    "colab_type": "code",
    "id": "XTrCJ5p9Cyl7",
    "outputId": "06c35f2f-d281-4345-9668-f8f44b28d6ac"
   },
   "outputs": [],
   "source": [
    "%matplotlib inline\n",
    "import warnings\n",
    "warnings.filterwarnings(\"ignore\")\n",
    "\n",
    "import sqlite3\n",
    "import pandas as pd\n",
    "import numpy as np\n",
    "import nltk\n",
    "import string\n",
    "import matplotlib.pyplot as plt\n",
    "import seaborn as sns\n",
    "from sklearn.feature_extraction.text import TfidfTransformer\n",
    "from sklearn.feature_extraction.text import TfidfVectorizer\n",
    "\n",
    "from sklearn.feature_extraction.text import CountVectorizer\n",
    "from sklearn.metrics import confusion_matrix\n",
    "from sklearn import metrics\n",
    "from sklearn.metrics import roc_curve, auc\n",
    "from nltk.stem.porter import PorterStemmer\n",
    "\n",
    "import re\n",
    "# Tutorial about Python regular expressions: https://pymotw.com/2/re/\n",
    "import string\n",
    "from nltk.corpus import stopwords\n",
    "from nltk.stem import PorterStemmer\n",
    "from nltk.stem.wordnet import WordNetLemmatizer\n",
    "\n",
    "from gensim.models import Word2Vec\n",
    "from gensim.models import KeyedVectors\n",
    "import pickle\n",
    "\n",
    "from tqdm import tqdm\n",
    "import os\n",
    "from collections import Counter"
   ]
  },
  {
   "cell_type": "markdown",
   "metadata": {
    "colab_type": "text",
    "id": "MjknLZQqCymQ"
   },
   "source": [
    "## 1.1 Reading Data"
   ]
  },
  {
   "cell_type": "code",
   "execution_count": 2,
   "metadata": {
    "colab": {},
    "colab_type": "code",
    "id": "abtcqBS8CymT"
   },
   "outputs": [],
   "source": [
    "project_data = pd.read_csv('train_data.csv',nrows=50000)\n",
    "resource_data = pd.read_csv('resources.csv')\n",
    "price_data = resource_data.groupby('id').agg({'price':'sum', 'quantity':'sum'}).reset_index()\n",
    "project_data = pd.merge(project_data, price_data, on='id', how='left')"
   ]
  },
  {
   "cell_type": "code",
   "execution_count": 3,
   "metadata": {
    "colab": {},
    "colab_type": "code",
    "id": "Prf2ghjDCymX",
    "outputId": "226c1b3c-35c9-48bd-afc9-7a819c871e8d",
    "scrolled": true
   },
   "outputs": [
    {
     "name": "stdout",
     "output_type": "stream",
     "text": [
      "Number of data points in train data (50000, 19)\n",
      "--------------------------------------------------\n",
      "The attributes of data : ['Unnamed: 0' 'id' 'teacher_id' 'teacher_prefix' 'school_state'\n",
      " 'project_submitted_datetime' 'project_grade_category'\n",
      " 'project_subject_categories' 'project_subject_subcategories'\n",
      " 'project_title' 'project_essay_1' 'project_essay_2' 'project_essay_3'\n",
      " 'project_essay_4' 'project_resource_summary'\n",
      " 'teacher_number_of_previously_posted_projects' 'project_is_approved'\n",
      " 'price' 'quantity']\n"
     ]
    }
   ],
   "source": [
    "print(\"Number of data points in train data\", project_data.shape)\n",
    "print('-'*50)\n",
    "print(\"The attributes of data :\", project_data.columns.values)"
   ]
  },
  {
   "cell_type": "code",
   "execution_count": 4,
   "metadata": {},
   "outputs": [],
   "source": [
    "pr_gra=[]\n",
    "\n",
    "for i in project_data['project_grade_category']:\n",
    "    i=i.replace(' ','_')\n",
    "    i=i.replace('-','_')\n",
    "    pr_gra.append(i)\n",
    "project_data['project_grade_category']=pr_gra"
   ]
  },
  {
   "cell_type": "code",
   "execution_count": 5,
   "metadata": {},
   "outputs": [
    {
     "data": {
      "text/plain": [
       "0    Grades_PreK_2\n",
       "1       Grades_6_8\n",
       "2       Grades_6_8\n",
       "3    Grades_PreK_2\n",
       "4    Grades_PreK_2\n",
       "5       Grades_3_5\n",
       "6       Grades_6_8\n",
       "7       Grades_3_5\n",
       "8    Grades_PreK_2\n",
       "9    Grades_PreK_2\n",
       "Name: project_grade_category, dtype: object"
      ]
     },
     "execution_count": 5,
     "metadata": {},
     "output_type": "execute_result"
    }
   ],
   "source": [
    "project_data['project_grade_category'][:10]"
   ]
  },
  {
   "cell_type": "code",
   "execution_count": 6,
   "metadata": {
    "colab": {},
    "colab_type": "code",
    "id": "BTGMDQoPCymc",
    "outputId": "5b3c47b3-d5d0-416b-b512-a59b77f60f0b"
   },
   "outputs": [
    {
     "data": {
      "text/html": [
       "<div>\n",
       "<style scoped>\n",
       "    .dataframe tbody tr th:only-of-type {\n",
       "        vertical-align: middle;\n",
       "    }\n",
       "\n",
       "    .dataframe tbody tr th {\n",
       "        vertical-align: top;\n",
       "    }\n",
       "\n",
       "    .dataframe thead th {\n",
       "        text-align: right;\n",
       "    }\n",
       "</style>\n",
       "<table border=\"1\" class=\"dataframe\">\n",
       "  <thead>\n",
       "    <tr style=\"text-align: right;\">\n",
       "      <th></th>\n",
       "      <th>Unnamed: 0</th>\n",
       "      <th>id</th>\n",
       "      <th>teacher_id</th>\n",
       "      <th>teacher_prefix</th>\n",
       "      <th>school_state</th>\n",
       "      <th>Date</th>\n",
       "      <th>project_grade_category</th>\n",
       "      <th>project_subject_categories</th>\n",
       "      <th>project_subject_subcategories</th>\n",
       "      <th>project_title</th>\n",
       "      <th>project_essay_1</th>\n",
       "      <th>project_essay_2</th>\n",
       "      <th>project_essay_3</th>\n",
       "      <th>project_essay_4</th>\n",
       "      <th>project_resource_summary</th>\n",
       "      <th>teacher_number_of_previously_posted_projects</th>\n",
       "      <th>project_is_approved</th>\n",
       "      <th>price</th>\n",
       "      <th>quantity</th>\n",
       "    </tr>\n",
       "  </thead>\n",
       "  <tbody>\n",
       "    <tr>\n",
       "      <th>473</th>\n",
       "      <td>100660</td>\n",
       "      <td>p234804</td>\n",
       "      <td>cbc0e38f522143b86d372f8b43d4cff3</td>\n",
       "      <td>Mrs.</td>\n",
       "      <td>GA</td>\n",
       "      <td>2016-04-27 00:53:00</td>\n",
       "      <td>Grades_PreK_2</td>\n",
       "      <td>Applied Learning</td>\n",
       "      <td>Early Development</td>\n",
       "      <td>Flexible Seating for Flexible Learning</td>\n",
       "      <td>I recently read an article about giving studen...</td>\n",
       "      <td>I teach at a low-income (Title 1) school. Ever...</td>\n",
       "      <td>We need a classroom rug that we can use as a c...</td>\n",
       "      <td>Benjamin Franklin once said, \\\"Tell me and I f...</td>\n",
       "      <td>My students need flexible seating in the class...</td>\n",
       "      <td>2</td>\n",
       "      <td>1</td>\n",
       "      <td>481.04</td>\n",
       "      <td>9</td>\n",
       "    </tr>\n",
       "    <tr>\n",
       "      <th>41558</th>\n",
       "      <td>33679</td>\n",
       "      <td>p137682</td>\n",
       "      <td>06f6e62e17de34fcf81020c77549e1d5</td>\n",
       "      <td>Mrs.</td>\n",
       "      <td>WA</td>\n",
       "      <td>2016-04-27 01:05:25</td>\n",
       "      <td>Grades_3_5</td>\n",
       "      <td>Literacy &amp; Language</td>\n",
       "      <td>Literacy</td>\n",
       "      <td>Going Deep: The Art of Inner Thinking!</td>\n",
       "      <td>My students crave challenge, they eat obstacle...</td>\n",
       "      <td>We are an urban, public k-5 elementary school....</td>\n",
       "      <td>With the new common core standards that have b...</td>\n",
       "      <td>These remarkable gifts will provide students w...</td>\n",
       "      <td>My students need copies of the New York Times ...</td>\n",
       "      <td>2</td>\n",
       "      <td>1</td>\n",
       "      <td>17.74</td>\n",
       "      <td>14</td>\n",
       "    </tr>\n",
       "  </tbody>\n",
       "</table>\n",
       "</div>"
      ],
      "text/plain": [
       "       Unnamed: 0       id                        teacher_id teacher_prefix  \\\n",
       "473        100660  p234804  cbc0e38f522143b86d372f8b43d4cff3           Mrs.   \n",
       "41558       33679  p137682  06f6e62e17de34fcf81020c77549e1d5           Mrs.   \n",
       "\n",
       "      school_state                Date project_grade_category  \\\n",
       "473             GA 2016-04-27 00:53:00          Grades_PreK_2   \n",
       "41558           WA 2016-04-27 01:05:25             Grades_3_5   \n",
       "\n",
       "      project_subject_categories project_subject_subcategories  \\\n",
       "473             Applied Learning             Early Development   \n",
       "41558        Literacy & Language                      Literacy   \n",
       "\n",
       "                                project_title  \\\n",
       "473    Flexible Seating for Flexible Learning   \n",
       "41558  Going Deep: The Art of Inner Thinking!   \n",
       "\n",
       "                                         project_essay_1  \\\n",
       "473    I recently read an article about giving studen...   \n",
       "41558  My students crave challenge, they eat obstacle...   \n",
       "\n",
       "                                         project_essay_2  \\\n",
       "473    I teach at a low-income (Title 1) school. Ever...   \n",
       "41558  We are an urban, public k-5 elementary school....   \n",
       "\n",
       "                                         project_essay_3  \\\n",
       "473    We need a classroom rug that we can use as a c...   \n",
       "41558  With the new common core standards that have b...   \n",
       "\n",
       "                                         project_essay_4  \\\n",
       "473    Benjamin Franklin once said, \\\"Tell me and I f...   \n",
       "41558  These remarkable gifts will provide students w...   \n",
       "\n",
       "                                project_resource_summary  \\\n",
       "473    My students need flexible seating in the class...   \n",
       "41558  My students need copies of the New York Times ...   \n",
       "\n",
       "       teacher_number_of_previously_posted_projects  project_is_approved  \\\n",
       "473                                               2                    1   \n",
       "41558                                             2                    1   \n",
       "\n",
       "        price  quantity  \n",
       "473    481.04         9  \n",
       "41558   17.74        14  "
      ]
     },
     "execution_count": 6,
     "metadata": {},
     "output_type": "execute_result"
    }
   ],
   "source": [
    "# how to replace elements in list python: https://stackoverflow.com/a/2582163/4084039\n",
    "cols = ['Date' if x=='project_submitted_datetime' else x for x in list(project_data.columns)]\n",
    "\n",
    "\n",
    "#sort dataframe based on time pandas python: https://stackoverflow.com/a/49702492/4084039\n",
    "project_data['Date'] = pd.to_datetime(project_data['project_submitted_datetime'])\n",
    "project_data.drop('project_submitted_datetime', axis=1, inplace=True)\n",
    "project_data.sort_values(by=['Date'], inplace=True)\n",
    "\n",
    "\n",
    "# how to reorder columns pandas python: https://stackoverflow.com/a/13148611/4084039\n",
    "project_data = project_data[cols]\n",
    "\n",
    "\n",
    "project_data.head(2)"
   ]
  },
  {
   "cell_type": "code",
   "execution_count": 7,
   "metadata": {
    "colab": {},
    "colab_type": "code",
    "id": "ntdWuRoUCymj",
    "outputId": "7f1911f2-61b8-4069-bfb0-9fdfeb2419e3"
   },
   "outputs": [
    {
     "name": "stdout",
     "output_type": "stream",
     "text": [
      "Number of data points in train data (1541272, 4)\n",
      "['id' 'description' 'quantity' 'price']\n"
     ]
    },
    {
     "data": {
      "text/html": [
       "<div>\n",
       "<style scoped>\n",
       "    .dataframe tbody tr th:only-of-type {\n",
       "        vertical-align: middle;\n",
       "    }\n",
       "\n",
       "    .dataframe tbody tr th {\n",
       "        vertical-align: top;\n",
       "    }\n",
       "\n",
       "    .dataframe thead th {\n",
       "        text-align: right;\n",
       "    }\n",
       "</style>\n",
       "<table border=\"1\" class=\"dataframe\">\n",
       "  <thead>\n",
       "    <tr style=\"text-align: right;\">\n",
       "      <th></th>\n",
       "      <th>id</th>\n",
       "      <th>description</th>\n",
       "      <th>quantity</th>\n",
       "      <th>price</th>\n",
       "    </tr>\n",
       "  </thead>\n",
       "  <tbody>\n",
       "    <tr>\n",
       "      <th>0</th>\n",
       "      <td>p233245</td>\n",
       "      <td>LC652 - Lakeshore Double-Space Mobile Drying Rack</td>\n",
       "      <td>1</td>\n",
       "      <td>149.00</td>\n",
       "    </tr>\n",
       "    <tr>\n",
       "      <th>1</th>\n",
       "      <td>p069063</td>\n",
       "      <td>Bouncy Bands for Desks (Blue support pipes)</td>\n",
       "      <td>3</td>\n",
       "      <td>14.95</td>\n",
       "    </tr>\n",
       "  </tbody>\n",
       "</table>\n",
       "</div>"
      ],
      "text/plain": [
       "        id                                        description  quantity  \\\n",
       "0  p233245  LC652 - Lakeshore Double-Space Mobile Drying Rack         1   \n",
       "1  p069063        Bouncy Bands for Desks (Blue support pipes)         3   \n",
       "\n",
       "    price  \n",
       "0  149.00  \n",
       "1   14.95  "
      ]
     },
     "execution_count": 7,
     "metadata": {},
     "output_type": "execute_result"
    }
   ],
   "source": [
    "print(\"Number of data points in train data\", resource_data.shape)\n",
    "print(resource_data.columns.values)\n",
    "resource_data.head(2)"
   ]
  },
  {
   "cell_type": "markdown",
   "metadata": {
    "colab_type": "text",
    "id": "6WZaYhwJCymp"
   },
   "source": [
    "## 1.2 preprocessing of `project_subject_categories`"
   ]
  },
  {
   "cell_type": "code",
   "execution_count": 8,
   "metadata": {
    "colab": {},
    "colab_type": "code",
    "id": "Mdkhq7PRCymr"
   },
   "outputs": [],
   "source": [
    "catogories = list(project_data['project_subject_categories'].values)\n",
    "# remove special characters from list of strings python: https://stackoverflow.com/a/47301924/4084039\n",
    "\n",
    "# https://www.geeksforgeeks.org/removing-stop-words-nltk-python/\n",
    "# https://stackoverflow.com/questions/23669024/how-to-strip-a-specific-word-from-a-string\n",
    "# https://stackoverflow.com/questions/8270092/remove-all-whitespace-in-a-string-in-python\n",
    "cat_list = []\n",
    "for i in catogories:\n",
    "    temp = \"\"\n",
    "    # consider we have text like this \"Math & Science, Warmth, Care & Hunger\"\n",
    "    for j in i.split(','): # it will split it in three parts [\"Math & Science\", \"Warmth\", \"Care & Hunger\"]\n",
    "        if 'The' in j.split(): # this will split each of the catogory based on space \"Math & Science\"=> \"Math\",\"&\", \"Science\"\n",
    "            j=j.replace('The','') # if we have the words \"The\" we are going to replace it with ''(i.e removing 'The')\n",
    "        j = j.replace(' ','') # we are placeing all the ' '(space) with ''(empty) ex:\"Math & Science\"=>\"Math&Science\"\n",
    "        temp+=j.strip()+\" \" #\" abc \".strip() will return \"abc\", remove the trailing spaces\n",
    "        temp = temp.replace('&','_') # we are replacing the & value into \n",
    "    cat_list.append(temp.strip())\n",
    "    \n",
    "project_data['clean_categories'] = cat_list\n",
    "project_data.drop(['project_subject_categories'], axis=1, inplace=True)\n",
    "\n",
    "from collections import Counter\n",
    "my_counter = Counter()\n",
    "for word in project_data['clean_categories'].values:\n",
    "    my_counter.update(word.split())\n",
    "\n",
    "cat_dict = dict(my_counter)\n",
    "sorted_cat_dict = dict(sorted(cat_dict.items(), key=lambda kv: kv[1]))\n"
   ]
  },
  {
   "cell_type": "markdown",
   "metadata": {
    "colab_type": "text",
    "id": "386yx3T2Cymv"
   },
   "source": [
    "## 1.3 preprocessing of `project_subject_subcategories`"
   ]
  },
  {
   "cell_type": "code",
   "execution_count": 9,
   "metadata": {
    "colab": {},
    "colab_type": "code",
    "id": "4QSP0r8XCymw"
   },
   "outputs": [],
   "source": [
    "sub_catogories = list(project_data['project_subject_subcategories'].values)\n",
    "# remove special characters from list of strings python: https://stackoverflow.com/a/47301924/4084039\n",
    "\n",
    "# https://www.geeksforgeeks.org/removing-stop-words-nltk-python/\n",
    "# https://stackoverflow.com/questions/23669024/how-to-strip-a-specific-word-from-a-string\n",
    "# https://stackoverflow.com/questions/8270092/remove-all-whitespace-in-a-string-in-python\n",
    "\n",
    "sub_cat_list = []\n",
    "for i in sub_catogories:\n",
    "    temp = \"\"\n",
    "    # consider we have text like this \"Math & Science, Warmth, Care & Hunger\"\n",
    "    for j in i.split(','): # it will split it in three parts [\"Math & Science\", \"Warmth\", \"Care & Hunger\"]\n",
    "        if 'The' in j.split(): # this will split each of the catogory based on space \"Math & Science\"=> \"Math\",\"&\", \"Science\"\n",
    "            j=j.replace('The','') # if we have the words \"The\" we are going to replace it with ''(i.e removing 'The')\n",
    "        j = j.replace(' ','') # we are placeing all the ' '(space) with ''(empty) ex:\"Math & Science\"=>\"Math&Science\"\n",
    "        temp +=j.strip()+\" \"#\" abc \".strip() will return \"abc\", remove the trailing spaces\n",
    "        temp = temp.replace('&','_')\n",
    "    sub_cat_list.append(temp.strip())\n",
    "\n",
    "project_data['clean_subcategories'] = sub_cat_list\n",
    "project_data.drop(['project_subject_subcategories'], axis=1, inplace=True)\n",
    "\n",
    "# count of all the words in corpus python: https://stackoverflow.com/a/22898595/4084039"
   ]
  },
  {
   "cell_type": "markdown",
   "metadata": {
    "colab_type": "text",
    "id": "NANzhWlLCynN"
   },
   "source": [
    "## 1.3 Text preprocessing"
   ]
  },
  {
   "cell_type": "code",
   "execution_count": 10,
   "metadata": {
    "colab": {},
    "colab_type": "code",
    "id": "yqsmu-BTCynQ"
   },
   "outputs": [],
   "source": [
    "# merge two column text dataframe: \n",
    "project_data[\"essay\"] = project_data[\"project_essay_1\"].map(str) +\\\n",
    "                        project_data[\"project_essay_2\"].map(str) + \\\n",
    "                        project_data[\"project_essay_3\"].map(str) + \\\n",
    "                        project_data[\"project_essay_4\"].map(str)"
   ]
  },
  {
   "cell_type": "code",
   "execution_count": 11,
   "metadata": {
    "colab": {},
    "colab_type": "code",
    "id": "xxtnd3maCynV",
    "outputId": "2002cbb7-9006-4764-ee13-c990d1a3a99e"
   },
   "outputs": [
    {
     "data": {
      "text/html": [
       "<div>\n",
       "<style scoped>\n",
       "    .dataframe tbody tr th:only-of-type {\n",
       "        vertical-align: middle;\n",
       "    }\n",
       "\n",
       "    .dataframe tbody tr th {\n",
       "        vertical-align: top;\n",
       "    }\n",
       "\n",
       "    .dataframe thead th {\n",
       "        text-align: right;\n",
       "    }\n",
       "</style>\n",
       "<table border=\"1\" class=\"dataframe\">\n",
       "  <thead>\n",
       "    <tr style=\"text-align: right;\">\n",
       "      <th></th>\n",
       "      <th>Unnamed: 0</th>\n",
       "      <th>id</th>\n",
       "      <th>teacher_id</th>\n",
       "      <th>teacher_prefix</th>\n",
       "      <th>school_state</th>\n",
       "      <th>Date</th>\n",
       "      <th>project_grade_category</th>\n",
       "      <th>project_title</th>\n",
       "      <th>project_essay_1</th>\n",
       "      <th>project_essay_2</th>\n",
       "      <th>project_essay_3</th>\n",
       "      <th>project_essay_4</th>\n",
       "      <th>project_resource_summary</th>\n",
       "      <th>teacher_number_of_previously_posted_projects</th>\n",
       "      <th>project_is_approved</th>\n",
       "      <th>price</th>\n",
       "      <th>quantity</th>\n",
       "      <th>clean_categories</th>\n",
       "      <th>clean_subcategories</th>\n",
       "      <th>essay</th>\n",
       "    </tr>\n",
       "  </thead>\n",
       "  <tbody>\n",
       "    <tr>\n",
       "      <th>473</th>\n",
       "      <td>100660</td>\n",
       "      <td>p234804</td>\n",
       "      <td>cbc0e38f522143b86d372f8b43d4cff3</td>\n",
       "      <td>Mrs.</td>\n",
       "      <td>GA</td>\n",
       "      <td>2016-04-27 00:53:00</td>\n",
       "      <td>Grades_PreK_2</td>\n",
       "      <td>Flexible Seating for Flexible Learning</td>\n",
       "      <td>I recently read an article about giving studen...</td>\n",
       "      <td>I teach at a low-income (Title 1) school. Ever...</td>\n",
       "      <td>We need a classroom rug that we can use as a c...</td>\n",
       "      <td>Benjamin Franklin once said, \\\"Tell me and I f...</td>\n",
       "      <td>My students need flexible seating in the class...</td>\n",
       "      <td>2</td>\n",
       "      <td>1</td>\n",
       "      <td>481.04</td>\n",
       "      <td>9</td>\n",
       "      <td>AppliedLearning</td>\n",
       "      <td>EarlyDevelopment</td>\n",
       "      <td>I recently read an article about giving studen...</td>\n",
       "    </tr>\n",
       "    <tr>\n",
       "      <th>41558</th>\n",
       "      <td>33679</td>\n",
       "      <td>p137682</td>\n",
       "      <td>06f6e62e17de34fcf81020c77549e1d5</td>\n",
       "      <td>Mrs.</td>\n",
       "      <td>WA</td>\n",
       "      <td>2016-04-27 01:05:25</td>\n",
       "      <td>Grades_3_5</td>\n",
       "      <td>Going Deep: The Art of Inner Thinking!</td>\n",
       "      <td>My students crave challenge, they eat obstacle...</td>\n",
       "      <td>We are an urban, public k-5 elementary school....</td>\n",
       "      <td>With the new common core standards that have b...</td>\n",
       "      <td>These remarkable gifts will provide students w...</td>\n",
       "      <td>My students need copies of the New York Times ...</td>\n",
       "      <td>2</td>\n",
       "      <td>1</td>\n",
       "      <td>17.74</td>\n",
       "      <td>14</td>\n",
       "      <td>Literacy_Language</td>\n",
       "      <td>Literacy</td>\n",
       "      <td>My students crave challenge, they eat obstacle...</td>\n",
       "    </tr>\n",
       "  </tbody>\n",
       "</table>\n",
       "</div>"
      ],
      "text/plain": [
       "       Unnamed: 0       id                        teacher_id teacher_prefix  \\\n",
       "473        100660  p234804  cbc0e38f522143b86d372f8b43d4cff3           Mrs.   \n",
       "41558       33679  p137682  06f6e62e17de34fcf81020c77549e1d5           Mrs.   \n",
       "\n",
       "      school_state                Date project_grade_category  \\\n",
       "473             GA 2016-04-27 00:53:00          Grades_PreK_2   \n",
       "41558           WA 2016-04-27 01:05:25             Grades_3_5   \n",
       "\n",
       "                                project_title  \\\n",
       "473    Flexible Seating for Flexible Learning   \n",
       "41558  Going Deep: The Art of Inner Thinking!   \n",
       "\n",
       "                                         project_essay_1  \\\n",
       "473    I recently read an article about giving studen...   \n",
       "41558  My students crave challenge, they eat obstacle...   \n",
       "\n",
       "                                         project_essay_2  \\\n",
       "473    I teach at a low-income (Title 1) school. Ever...   \n",
       "41558  We are an urban, public k-5 elementary school....   \n",
       "\n",
       "                                         project_essay_3  \\\n",
       "473    We need a classroom rug that we can use as a c...   \n",
       "41558  With the new common core standards that have b...   \n",
       "\n",
       "                                         project_essay_4  \\\n",
       "473    Benjamin Franklin once said, \\\"Tell me and I f...   \n",
       "41558  These remarkable gifts will provide students w...   \n",
       "\n",
       "                                project_resource_summary  \\\n",
       "473    My students need flexible seating in the class...   \n",
       "41558  My students need copies of the New York Times ...   \n",
       "\n",
       "       teacher_number_of_previously_posted_projects  project_is_approved  \\\n",
       "473                                               2                    1   \n",
       "41558                                             2                    1   \n",
       "\n",
       "        price  quantity   clean_categories clean_subcategories  \\\n",
       "473    481.04         9    AppliedLearning    EarlyDevelopment   \n",
       "41558   17.74        14  Literacy_Language            Literacy   \n",
       "\n",
       "                                                   essay  \n",
       "473    I recently read an article about giving studen...  \n",
       "41558  My students crave challenge, they eat obstacle...  "
      ]
     },
     "execution_count": 11,
     "metadata": {},
     "output_type": "execute_result"
    }
   ],
   "source": [
    "project_data.head(2)"
   ]
  },
  {
   "cell_type": "code",
   "execution_count": 12,
   "metadata": {
    "colab": {},
    "colab_type": "code",
    "id": "2ou8qSzkCyna"
   },
   "outputs": [],
   "source": [
    "#### 1.4.2.3 Using Pretrained Models: TFIDF weighted W2V"
   ]
  },
  {
   "cell_type": "code",
   "execution_count": null,
   "metadata": {
    "colab": {},
    "colab_type": "code",
    "id": "TCl7L1DhCyne",
    "outputId": "c1e9c200-8868-4b26-adbd-7836d815abef"
   },
   "outputs": [],
   "source": []
  },
  {
   "cell_type": "code",
   "execution_count": 13,
   "metadata": {
    "colab": {},
    "colab_type": "code",
    "id": "Yqj4vGVoCynh"
   },
   "outputs": [],
   "source": [
    "# https://stackoverflow.com/a/47091490/4084039\n",
    "import re\n",
    "\n",
    "def decontracted(phrase):\n",
    "    # specific\n",
    "    phrase = re.sub(r\"won't\", \"will not\", phrase)\n",
    "    phrase = re.sub(r\"can\\'t\", \"can not\", phrase)\n",
    "\n",
    "    # general\n",
    "    phrase = re.sub(r\"n\\'t\", \" not\", phrase)\n",
    "    phrase = re.sub(r\"\\'re\", \" are\", phrase)\n",
    "    phrase = re.sub(r\"\\'s\", \" is\", phrase)\n",
    "    phrase = re.sub(r\"\\'d\", \" would\", phrase)\n",
    "    phrase = re.sub(r\"\\'ll\", \" will\", phrase)\n",
    "    phrase = re.sub(r\"\\'t\", \" not\", phrase)\n",
    "    phrase = re.sub(r\"\\'ve\", \" have\", phrase)\n",
    "    phrase = re.sub(r\"\\'m\", \" am\", phrase)\n",
    "    return phrase"
   ]
  },
  {
   "cell_type": "code",
   "execution_count": null,
   "metadata": {
    "colab": {},
    "colab_type": "code",
    "id": "aDUbe9piCynj",
    "outputId": "cd082bbf-9ba2-4373-ea65-73c45627bb7d"
   },
   "outputs": [],
   "source": []
  },
  {
   "cell_type": "code",
   "execution_count": null,
   "metadata": {
    "colab": {},
    "colab_type": "code",
    "id": "vXSbHYJ4Cynp",
    "outputId": "1becc1e1-bb25-48aa-f44f-32c99df9e13a"
   },
   "outputs": [],
   "source": []
  },
  {
   "cell_type": "code",
   "execution_count": 14,
   "metadata": {
    "colab": {},
    "colab_type": "code",
    "id": "67Agrz_YCynt",
    "outputId": "ec6bf4e3-c419-4740-9989-fa53128abe20"
   },
   "outputs": [],
   "source": [
    "#remove spacial character: https://stackoverflow.com/a/5843547/4084039\n"
   ]
  },
  {
   "cell_type": "code",
   "execution_count": 15,
   "metadata": {
    "colab": {},
    "colab_type": "code",
    "id": "hhyPw-8wCyny"
   },
   "outputs": [],
   "source": [
    "# https://gist.github.com/sebleier/554280\n",
    "# we are removing the words from the stop words list: 'no', 'nor', 'not'\n",
    "stopwords= ['i', 'me', 'my', 'myself', 'we', 'our', 'ours', 'ourselves', 'you', \"you're\", \"you've\",\\\n",
    "            \"you'll\", \"you'd\", 'your', 'yours', 'yourself', 'yourselves', 'he', 'him', 'his', 'himself', \\\n",
    "            'she', \"she's\", 'her', 'hers', 'herself', 'it', \"it's\", 'its', 'itself', 'they', 'them', 'their',\\\n",
    "            'theirs', 'themselves', 'what', 'which', 'who', 'whom', 'this', 'that', \"that'll\", 'these', 'those', \\\n",
    "            'am', 'is', 'are', 'was', 'were', 'be', 'been', 'being', 'have', 'has', 'had', 'having', 'do', 'does', \\\n",
    "            'did', 'doing', 'a', 'an', 'the', 'and', 'but', 'if', 'or', 'because', 'as', 'until', 'while', 'of', \\\n",
    "            'at', 'by', 'for', 'with', 'about', 'against', 'between', 'into', 'through', 'during', 'before', 'after',\\\n",
    "            'above', 'below', 'to', 'from', 'up', 'down', 'in', 'out', 'on', 'off', 'over', 'under', 'again', 'further',\\\n",
    "            'then', 'once', 'here', 'there', 'when', 'where', 'why', 'how', 'all', 'any', 'both', 'each', 'few', 'more',\\\n",
    "            'most', 'other', 'some', 'such', 'only', 'own', 'same', 'so', 'than', 'too', 'very', \\\n",
    "            's', 't', 'can', 'will', 'just', 'don', \"don't\", 'should', \"should've\", 'now', 'd', 'll', 'm', 'o', 're', \\\n",
    "            've', 'y', 'ain', 'aren', \"aren't\", 'couldn', \"couldn't\", 'didn', \"didn't\", 'doesn', \"doesn't\", 'hadn',\\\n",
    "            \"hadn't\", 'hasn', \"hasn't\", 'haven', \"haven't\", 'isn', \"isn't\", 'ma', 'mightn', \"mightn't\", 'mustn',\\\n",
    "            \"mustn't\", 'needn', \"needn't\", 'shan', \"shan't\", 'shouldn', \"shouldn't\", 'wasn', \"wasn't\", 'weren', \"weren't\", \\\n",
    "            'won', \"won't\", 'wouldn', \"wouldn't\"]"
   ]
  },
  {
   "cell_type": "code",
   "execution_count": 16,
   "metadata": {
    "colab": {},
    "colab_type": "code",
    "id": "d6RCdphRCyn0",
    "outputId": "a59d693e-fa5b-4821-e173-e308905b96d5"
   },
   "outputs": [
    {
     "name": "stderr",
     "output_type": "stream",
     "text": [
      "100%|██████████| 50000/50000 [00:26<00:00, 1868.84it/s]\n"
     ]
    }
   ],
   "source": [
    "# Combining all the above stundents \n",
    "from tqdm import tqdm\n",
    "preprocessed_essays = []\n",
    "# tqdm is for printing the status bar\n",
    "for sentance in tqdm(project_data['essay'].values):\n",
    "    sent = decontracted(sentance)\n",
    "    sent = sent.replace('\\\\r', ' ')\n",
    "    sent = sent.replace('\\\\\"', ' ')\n",
    "    sent = sent.replace('\\\\n', ' ')\n",
    "    sent = re.sub('[^A-Za-z0-9]+', ' ', sent)\n",
    "    # https://gist.github.com/sebleier/554280\n",
    "    sent = ' '.join(e for e in sent.split() if e.lower() not in stopwords)\n",
    "    preprocessed_essays.append(sent.lower().strip())"
   ]
  },
  {
   "cell_type": "code",
   "execution_count": 17,
   "metadata": {
    "colab": {},
    "colab_type": "code",
    "id": "rPo9cLvNCyn3",
    "outputId": "f4069bd0-65e3-46af-e799-f7e9132301bb"
   },
   "outputs": [],
   "source": [
    "# after preprocesing\n"
   ]
  },
  {
   "cell_type": "markdown",
   "metadata": {
    "colab_type": "text",
    "id": "QeUw6WMKCyn7"
   },
   "source": [
    "<h2><font color='red'> 1.4 Preprocessing of `project_title`</font></h2>"
   ]
  },
  {
   "cell_type": "code",
   "execution_count": 18,
   "metadata": {
    "colab": {},
    "colab_type": "code",
    "id": "Ql9ttfW3Cyn7"
   },
   "outputs": [],
   "source": [
    "# similarly you can preprocess the titles also\n",
    "project_title=project_data['project_title']\n",
    "import re\n",
    "preprocessed_title=[]\n",
    "for i in project_title:\n",
    "    i=i.replace('\\\\r',\"\")\n",
    "    i=i.replace('\\\\n',\"\")\n",
    "    i=i.replace('\\\\t',\"\")\n",
    "    i=i.replace(\"'\\'\",\"\")\n",
    "    i=i.replace(\":\",\"\")\n",
    "    i=i.replace(\"'\",\"\")\n",
    "    i=i.replace(\"-\",\"\")\n",
    "    i=i.replace(\",\",\"\")\n",
    "    i=i.replace(\".\",\"\")\n",
    "    i=i.replace(\"'\"\"'\",\"\")\n",
    "    clean=re.sub('[^A-Za-z0-9]+',\" \",i)\n",
    "    word = ' '.join(e for e in clean.split() if e not in stopwords)\n",
    "    preprocessed_title.append(word.lower().strip())"
   ]
  },
  {
   "cell_type": "code",
   "execution_count": 19,
   "metadata": {},
   "outputs": [
    {
     "name": "stderr",
     "output_type": "stream",
     "text": [
      "100%|██████████| 50000/50000 [00:42<00:00, 1162.85it/s]\n"
     ]
    }
   ],
   "source": [
    "#https://simmonhessner.de/lammitize-whole-sentences-with-python-and-nltks-wordnetlemmatizer/\n",
    "#lemmatizing the preprocessed_title\n",
    "from nltk.stem import *\n",
    "import nltk\n",
    "from nltk.corpus import wordnet\n",
    "lemmatizer=WordNetLemmatizer()\n",
    "def nltk2wn_tag(nltk_tag):\n",
    "    if nltk_tag.startswith('J'):\n",
    "        return wordnet.ADJ\n",
    "    elif nltk_tag.startswith('V'):\n",
    "        return wordnet.VERB\n",
    "    elif nltk_tag.startswith('N'):\n",
    "        return wordnet.NOUN\n",
    "    elif nltk_tag.startswith('R'):\n",
    "        return wordnet.ADV\n",
    "    else:\n",
    "        return None\n",
    "def lemmatize_sentence(sentence):\n",
    "    nltk_tagged=nltk.pos_tag(nltk.word_tokenize(sentence))\n",
    "    wn_tagged=map(lambda x:(x[0],nltk2wn_tag(x[1])),nltk_tagged)\n",
    "    res_words=[]\n",
    "    for word,tag in wn_tagged:\n",
    "        if tag is None:\n",
    "            res_words.append(word)\n",
    "        else:\n",
    "            res_words.append(lemmatizer.lemmatize(word,tag))\n",
    "    return \" \".join(res_words)\n",
    "from tqdm import tqdm\n",
    "clean_title=[]\n",
    "for word in tqdm(preprocessed_title):\n",
    "    i=lemmatize_sentence(word)\n",
    "    clean_title.append(i)"
   ]
  },
  {
   "cell_type": "code",
   "execution_count": 20,
   "metadata": {},
   "outputs": [
    {
     "name": "stdout",
     "output_type": "stream",
     "text": [
      "[1, 0, 1, 0, 0, 0, 0, 0, 0, 0, 0, 0, 0, 0, 0, 0]\n",
      "50000\n"
     ]
    }
   ],
   "source": [
    "num_counter=[]\n",
    "project_sumry=project_data['project_resource_summary'].str.split()\n",
    "for i,sent in enumerate(project_sumry):\n",
    "    for word in sent:\n",
    "        if word.isdigit():\n",
    "            num_counter.append(i)\n",
    "numerical_digit=[]\n",
    "for sent_i in range(len(project_sumry)):\n",
    "    if sent_i in num_counter:\n",
    "        numerical_digit.append(1)\n",
    "    else:\n",
    "        numerical_digit.append(0)\n",
    "print(numerical_digit[4:20])\n",
    "print(len(numerical_digit))\n"
   ]
  },
  {
   "cell_type": "markdown",
   "metadata": {
    "colab_type": "text",
    "id": "NQg4ZfFtCyn9"
   },
   "source": [
    "\n",
    "## 1.5 Preparing data for models"
   ]
  },
  {
   "cell_type": "code",
   "execution_count": 21,
   "metadata": {
    "colab": {},
    "colab_type": "code",
    "id": "V4GS54ZTCyn-",
    "outputId": "febd575b-ed33-454e-d2d5-e8f6f635d117"
   },
   "outputs": [
    {
     "data": {
      "text/plain": [
       "Index(['Unnamed: 0', 'id', 'teacher_id', 'teacher_prefix', 'school_state',\n",
       "       'Date', 'project_grade_category', 'project_title', 'project_essay_1',\n",
       "       'project_essay_2', 'project_essay_3', 'project_essay_4',\n",
       "       'project_resource_summary',\n",
       "       'teacher_number_of_previously_posted_projects', 'project_is_approved',\n",
       "       'price', 'quantity', 'clean_categories', 'clean_subcategories', 'essay',\n",
       "       'num_or_not'],\n",
       "      dtype='object')"
      ]
     },
     "execution_count": 21,
     "metadata": {},
     "output_type": "execute_result"
    }
   ],
   "source": [
    "project_data['num_or_not']=numerical_digit\n",
    "project_data['project_title']=clean_title\n",
    "project_data['essay']=preprocessed_essays\n",
    "project_data.columns"
   ]
  },
  {
   "cell_type": "code",
   "execution_count": null,
   "metadata": {},
   "outputs": [],
   "source": []
  },
  {
   "cell_type": "markdown",
   "metadata": {
    "colab_type": "text",
    "id": "6FDsc1epCyoD"
   },
   "source": [
    "we are going to consider\n",
    "\n",
    "       - school_state : categorical data\n",
    "       - clean_categories : categorical data\n",
    "       - clean_subcategories : categorical data\n",
    "       - project_grade_category : categorical data\n",
    "       - teacher_prefix : categorical data\n",
    "       \n",
    "       - project_title : text data\n",
    "       - text : text data\n",
    "       - project_resource_summary: text data (optinal)\n",
    "       \n",
    "       - quantity : numerical (optinal)\n",
    "       - teacher_number_of_previously_posted_projects : numerical\n",
    "       - price : numerical"
   ]
  },
  {
   "cell_type": "markdown",
   "metadata": {
    "colab_type": "text",
    "id": "V3vrK7BSCypi"
   },
   "source": [
    "# Assignment 3: Apply KNN"
   ]
  },
  {
   "cell_type": "markdown",
   "metadata": {
    "colab_type": "text",
    "id": "WFI1ug-gCypi"
   },
   "source": [
    "<ol>\n",
    "    <li><strong>[Task-1] Apply KNN(brute force version) on these feature sets</strong>\n",
    "        <ul>\n",
    "            <li><font color='red'>Set 1</font>: categorical, numerical features + project_title(BOW) + preprocessed_essay (BOW)</li>\n",
    "            <li><font color='red'>Set 2</font>: categorical, numerical features + project_title(TFIDF)+  preprocessed_essay (TFIDF)</li>\n",
    "            <li><font color='red'>Set 3</font>: categorical, numerical features + project_title(AVG W2V)+  preprocessed_essay (AVG W2V)</li>\n",
    "            <li><font color='red'>Set 4</font>: categorical, numerical features + project_title(TFIDF W2V)+  preprocessed_essay (TFIDF W2V)</li>\n",
    "        </ul>\n",
    "    </li>\n",
    "    <br>\n",
    "    <li><strong>Hyper paramter tuning to find best K</strong>\n",
    "        <ul>\n",
    "    <li>Find the best hyper parameter which results in the maximum <a href='https://www.appliedaicourse.com/course/applied-ai-course-online/lessons/receiver-operating-characteristic-curve-roc-curve-and-auc-1/'>AUC</a> value</li>\n",
    "    <li>Find the best hyper paramter using k-fold cross validation (or) simple cross validation data</li>\n",
    "    <li>Use gridsearch-cv or randomsearch-cv or  write your own for loops to do this task</li>\n",
    "        </ul>\n",
    "    </li>\n",
    "    <br>\n",
    "    <li>\n",
    "    <strong>Representation of results</strong>\n",
    "        <ul>\n",
    "    <li>You need to plot the performance of model both on train data and cross validation data for each hyper parameter, as shown in the figure\n",
    "    <img src='train_cv_auc.JPG' width=300px></li>\n",
    "    <li>Once you find the best hyper parameter, you need to train your model-M using the best hyper-param. Now, find the AUC on test data and plot the ROC curve on both train and test using model-M.\n",
    "    <img src='train_test_auc.JPG' width=300px></li>\n",
    "    <li>Along with plotting ROC curve, you need to print the <a href='https://www.appliedaicourse.com/course/applied-ai-course-online/lessons/confusion-matrix-tpr-fpr-fnr-tnr-1/'>confusion matrix</a> with predicted and original labels of test data points\n",
    "    <img src='confusion_matrix.png' width=300px></li>\n",
    "        </ul>\n",
    "    </li>\n",
    "    <li><strong> [Task-2] </strong>\n",
    "        <ul>\n",
    "            <li>Select top 2000 features from feature <font color='red'>Set 2</font> using <a href='https://scikit-learn.org/stable/modules/generated/sklearn.feature_selection.SelectKBest.html'>`SelectKBest`</a>\n",
    "and then apply KNN on top of these features</li>\n",
    "            <li>\n",
    "                <pre>\n",
    "                from sklearn.datasets import load_digits\n",
    "                from sklearn.feature_selection import SelectKBest, chi2\n",
    "                X, y = load_digits(return_X_y=True)\n",
    "                X.shape\n",
    "                X_new = SelectKBest(chi2, k=20).fit_transform(X, y)\n",
    "                X_new.shape\n",
    "                ========\n",
    "                output:\n",
    "                (1797, 64)\n",
    "                (1797, 20)\n",
    "                </pre>\n",
    "            </li>\n",
    "            <li>Repeat the steps 2 and 3 on the data matrix after feature selection</li>\n",
    "        </ul>\n",
    "    </li>\n",
    "    <br>\n",
    "    <li><strong>Conclusion</strong>\n",
    "        <ul>\n",
    "    <li>You need to summarize the results at the end of the notebook, summarize it in the table format. To print out a table please refer to this prettytable library<a href='http://zetcode.com/python/prettytable/'> link</a> \n",
    "        <img src='summary.JPG' width=400px>\n",
    "    </li>\n",
    "        </ul>\n",
    "</ol>"
   ]
  },
  {
   "cell_type": "markdown",
   "metadata": {
    "colab_type": "text",
    "id": "vNcsOaPrCypk"
   },
   "source": [
    "<h4><font color='red'>Note: Data Leakage</font></h4>\n",
    "\n",
    "1. There will be an issue of data-leakage if you vectorize the entire data and then split it into train/cv/test.\n",
    "2. To avoid the issue of data-leakag, make sure to split your data first and then vectorize it. \n",
    "3. While vectorizing your data, apply the method fit_transform() on you train data, and apply the method transform() on cv/test data.\n",
    "4. For more details please go through this <a href='https://soundcloud.com/applied-ai-course/leakage-bow-and-tfidf'>link.</a>"
   ]
  },
  {
   "cell_type": "markdown",
   "metadata": {
    "colab_type": "text",
    "id": "u7svGNyWCypl"
   },
   "source": [
    "<h1>2. K Nearest Neighbor</h1>"
   ]
  },
  {
   "cell_type": "markdown",
   "metadata": {
    "colab_type": "text",
    "id": "W6fBRNBMCypl"
   },
   "source": [
    "<h2>2.1 Splitting data into Train and cross validation(or test): Stratified Sampling</h2>"
   ]
  },
  {
   "cell_type": "code",
   "execution_count": 22,
   "metadata": {},
   "outputs": [
    {
     "data": {
      "text/plain": [
       "Index(['Unnamed: 0', 'id', 'teacher_id', 'teacher_prefix', 'school_state',\n",
       "       'Date', 'project_grade_category', 'project_title', 'project_essay_1',\n",
       "       'project_essay_2', 'project_essay_3', 'project_essay_4',\n",
       "       'project_resource_summary',\n",
       "       'teacher_number_of_previously_posted_projects', 'project_is_approved',\n",
       "       'price', 'quantity', 'clean_categories', 'clean_subcategories', 'essay',\n",
       "       'num_or_not'],\n",
       "      dtype='object')"
      ]
     },
     "execution_count": 22,
     "metadata": {},
     "output_type": "execute_result"
    }
   ],
   "source": [
    "project_data.columns"
   ]
  },
  {
   "cell_type": "code",
   "execution_count": 23,
   "metadata": {
    "colab": {},
    "colab_type": "code",
    "id": "WACKQWT_Cypl"
   },
   "outputs": [
    {
     "name": "stdout",
     "output_type": "stream",
     "text": [
      "(24498, 12)\n",
      "(24498,)\n",
      "(15000, 12)\n",
      "(15000,)\n",
      "(10500, 12)\n",
      "(10500,)\n",
      "Index(['teacher_prefix', 'school_state', 'project_grade_category',\n",
      "       'project_title', 'project_resource_summary',\n",
      "       'teacher_number_of_previously_posted_projects', 'clean_categories',\n",
      "       'clean_subcategories', 'essay', 'price', 'quantity', 'num_or_not'],\n",
      "      dtype='object')\n"
     ]
    }
   ],
   "source": [
    "# please write all the code with proper documentation, and proper titles for each subsection\n",
    "# go through documentations and blogs before you start coding\n",
    "# first figure out what to do, and then think about how to do.\n",
    "# reading and understanding error messages will be very much helpfull in debugging your code\n",
    "# when you plot any graph make sure you use \n",
    "    # a. Title, that describes your plot, this will be very helpful to the reader\n",
    "    # b. Legends if needed\n",
    "    # c. X-axis label\n",
    "    # d. Y-axis label\n",
    "from sklearn.model_selection import train_test_split\n",
    "project_data=project_data[['teacher_prefix', 'school_state', 'project_grade_category', 'project_title', 'project_resource_summary',\n",
    "       'teacher_number_of_previously_posted_projects',\n",
    "       'clean_categories', 'clean_subcategories', 'essay', 'price', 'quantity','project_is_approved','num_or_not']]\n",
    "project_data=project_data.dropna()\n",
    "y=project_data['project_is_approved']\n",
    "x=project_data[['teacher_prefix', 'school_state', 'project_grade_category', 'project_title', 'project_resource_summary',\n",
    "       'teacher_number_of_previously_posted_projects',\n",
    "       'clean_categories', 'clean_subcategories', 'essay', 'price', 'quantity','num_or_not']]\n",
    "x_train,x_test,y_train,y_test=train_test_split(x,y,test_size=0.3,random_state=0)\n",
    "x_train,x_cv,y_train,y_cv=train_test_split(x_train,y_train,test_size=0.3,random_state=0)\n",
    "print(x_train.shape)\n",
    "print(y_train.shape)\n",
    "print(x_test.shape)\n",
    "print(y_test.shape)\n",
    "print(x_cv.shape)\n",
    "print(y_cv.shape)\n",
    "print(x_train.columns)"
   ]
  },
  {
   "cell_type": "code",
   "execution_count": 24,
   "metadata": {},
   "outputs": [
    {
     "name": "stdout",
     "output_type": "stream",
     "text": [
      "(20752, 13)\n",
      "(3746, 13)\n",
      "(20752, 13)\n"
     ]
    }
   ],
   "source": [
    "x_train['approved_project']=y_train\n",
    "approved_proj=x_train[x_train['approved_project']==1]\n",
    "reject_proj=x_train[x_train['approved_project']==0]\n",
    "reject_proj_upsample=reject_proj.sample(approved_proj.shape[0],replace=True)\n",
    "print(approved_proj.shape)\n",
    "print(reject_proj.shape)\n",
    "print(reject_proj_upsample.shape)"
   ]
  },
  {
   "cell_type": "code",
   "execution_count": 25,
   "metadata": {},
   "outputs": [
    {
     "data": {
      "text/plain": [
       "(41504, 12)"
      ]
     },
     "execution_count": 25,
     "metadata": {},
     "output_type": "execute_result"
    }
   ],
   "source": [
    "train_data=pd.concat([approved_proj,reject_proj_upsample],axis=0)\n",
    "y_train=train_data['approved_project']\n",
    "x_train=train_data.drop(['approved_project'],axis=1)\n",
    "x_train.shape"
   ]
  },
  {
   "cell_type": "code",
   "execution_count": 26,
   "metadata": {},
   "outputs": [
    {
     "name": "stdout",
     "output_type": "stream",
     "text": [
      "(41504,)\n"
     ]
    }
   ],
   "source": [
    "print(y_train.shape)"
   ]
  },
  {
   "cell_type": "markdown",
   "metadata": {
    "colab_type": "text",
    "id": "VG7SrQdCCypn"
   },
   "source": [
    "<h2>2.2 Make Data Model Ready: encoding numerical, categorical features</h2>"
   ]
  },
  {
   "cell_type": "code",
   "execution_count": 27,
   "metadata": {},
   "outputs": [],
   "source": [
    " my_counter=Counter()\n",
    "for grade in x_train['school_state'].values:\n",
    "    my_counter.update(grade.split())\n",
    "dict_my_counter=dict(my_counter)\n",
    "sort_project_grade_cat=dict(sorted(dict_my_counter.items(), key=lambda kv: kv[1]))\n",
    "vectorizer = CountVectorizer(vocabulary=list(sort_project_grade_cat),lowercase=False, binary=True)\n",
    "vectorizer.fit(x_train['school_state'])\n",
    "    # vectorizing \n",
    "school_state_one_hot_train = vectorizer.transform(x_train['school_state'])\n",
    "school_state_one_hot_cv = vectorizer.transform(x_cv['school_state'])\n",
    "school_state_one_hot_test = vectorizer.transform(x_test['school_state'])\n"
   ]
  },
  {
   "cell_type": "code",
   "execution_count": 28,
   "metadata": {},
   "outputs": [],
   "source": [
    "from sklearn.preprocessing import Normalizer\n",
    "\n",
    "my_counter=Counter()\n",
    "for grade in x_train['clean_subcategories'].values:\n",
    "    my_counter.update(grade.split())\n",
    "dict_my_counter=dict(my_counter)\n",
    "sorted_sub_cat_dict=dict(sorted(dict_my_counter.items(), key=lambda kv: kv[1]))\n",
    "vectorizer = CountVectorizer(vocabulary=list(sorted_sub_cat_dict.keys()),\\\n",
    "lowercase=False, binary= True) \n",
    "vectorizer.fit(x_train['clean_subcategories'].values)\n",
    "\n",
    "subcategories_one_hot_train=vectorizer.transform(x_train['clean_subcategories'])\n",
    "subcategories_one_hot_test=vectorizer.transform(x_test['clean_subcategories'])\n",
    "subcategories_one_hot_cv=vectorizer.transform(x_cv['clean_subcategories'])"
   ]
  },
  {
   "cell_type": "code",
   "execution_count": 29,
   "metadata": {
    "colab": {},
    "colab_type": "code",
    "id": "cTlBv2kmCypo"
   },
   "outputs": [],
   "source": [
    "my_counter=Counter()\n",
    "for grade in x_train['project_grade_category'].values:\n",
    "    my_counter.update(grade.split())\n",
    "dict_my_counter=dict(my_counter)\n",
    "sorted_sub_cat_dict=dict(sorted(dict_my_counter.items(), key=lambda kv: kv[1]))\n",
    "vectorizer = CountVectorizer(vocabulary=list(sorted_sub_cat_dict.keys()),\\\n",
    "lowercase=False, binary= True) \n",
    "vectorizer.fit(x_train['project_grade_category'].values)\n",
    "\n",
    "grade_cat_one_hot_train=vectorizer.transform(x_train['project_grade_category'])\n",
    "grade_cat_one_hot_test=vectorizer.transform(x_test['project_grade_category'])\n",
    "grade_cat_one_hot_cv=vectorizer.transform(x_cv['project_grade_category'])\n",
    "grade_feature_name= vectorizer.get_feature_names()\n",
    "\n",
    "from sklearn.preprocessing import Normalizer\n",
    "normalizer=Normalizer()\n",
    "normalizer.fit(x_train['price'].values.reshape(-1,1))\n",
    "price_one_hot_train = normalizer.transform(x_train['price'].values.reshape(-1,1)) \n",
    "price_one_hot_test = normalizer.transform(x_test['price'].values.reshape(-1,1)) \n",
    "price_one_hot_cv = normalizer.transform(x_cv['price'].values.reshape(-1,1)) \n",
    "normalizer.fit(x_train['quantity'].values.reshape(-1,1))\n",
    "quantity_one_hot_train=normalizer.transform(x_train['price'].values.reshape(-1,1))\n",
    "quantity_one_hot_test=normalizer.transform(x_test['price'].values.reshape(-1,1))\n",
    "quantity_one_hot_cv=normalizer.transform(x_cv['price'].values.reshape(-1,1))"
   ]
  },
  {
   "cell_type": "code",
   "execution_count": 30,
   "metadata": {},
   "outputs": [
    {
     "data": {
      "text/plain": [
       "['Grades_9_12', 'Grades_6_8', 'Grades_3_5', 'Grades_PreK_2']"
      ]
     },
     "execution_count": 30,
     "metadata": {},
     "output_type": "execute_result"
    }
   ],
   "source": [
    "grade_feature_name"
   ]
  },
  {
   "cell_type": "code",
   "execution_count": 31,
   "metadata": {},
   "outputs": [
    {
     "data": {
      "text/plain": [
       "(10500, 5)"
      ]
     },
     "execution_count": 31,
     "metadata": {},
     "output_type": "execute_result"
    }
   ],
   "source": [
    "my_counter=Counter()\n",
    "for grade in x_train['teacher_prefix'].values:\n",
    "    my_counter.update(grade.split())\n",
    "dict_my_counter=dict(my_counter)\n",
    "sorted_sub_cat_dict=dict(sorted(dict_my_counter.items(), key=lambda kv: kv[1]))\n",
    "vectorizer = CountVectorizer(vocabulary=list(sorted_sub_cat_dict.keys()),\\\n",
    "lowercase=False, binary= True) \n",
    "vectorizer.fit(x_train['teacher_prefix'].values)\n",
    "\n",
    "teacher_prefix_one_hot_train=vectorizer.transform(x_train['teacher_prefix'])\n",
    "teacher_prefix_one_hot_test=vectorizer.transform(x_test['teacher_prefix'])\n",
    "teacher_prefix_one_hot_cv=vectorizer.transform(x_cv['teacher_prefix'])\n",
    "teacher_prefix_one_hot_cv.shape"
   ]
  },
  {
   "cell_type": "code",
   "execution_count": 32,
   "metadata": {},
   "outputs": [],
   "source": [
    "my_counter=Counter()\n",
    "for grade in x_train['clean_categories'].values:\n",
    "    my_counter.update(grade.split())\n",
    "dict_my_counter=dict(my_counter)\n",
    "sorted_sub_cat_dict=dict(sorted(dict_my_counter.items(), key=lambda kv: kv[1]))\n",
    "vectorizer = CountVectorizer(vocabulary=list(sorted_sub_cat_dict.keys()),\\\n",
    "lowercase=False, binary= True) \n",
    "vectorizer.fit(x_train['clean_categories'].values)\n",
    "\n",
    "categories_one_hot_train=vectorizer.transform(x_train['clean_categories'].values)\n",
    "categories_one_hot_test=vectorizer.transform(x_test['clean_categories'].values)\n",
    "categories_one_hot_cv=vectorizer.transform(x_cv['clean_categories'].values)\n",
    "categories_feature_name=vectorizer.get_feature_names()"
   ]
  },
  {
   "cell_type": "code",
   "execution_count": 33,
   "metadata": {},
   "outputs": [
    {
     "name": "stdout",
     "output_type": "stream",
     "text": [
      "(10500, 51)\n",
      "(41504, 51)\n",
      "(15000, 51)\n",
      "(10500, 1)\n",
      "(41504, 1)\n",
      "(15000, 1)\n",
      "(10500, 1)\n",
      "(41504, 1)\n",
      "(15000, 1)\n",
      "(10500, 30)\n",
      "(41504, 30)\n",
      "(15000, 30)\n",
      "(10500, 9)\n",
      "(41504, 9)\n",
      "(15000, 9)\n",
      "(10500, 4)\n",
      "(41504, 4)\n",
      "(15000, 4)\n",
      "(10500, 5)\n",
      "(41504, 5)\n",
      "(15000, 5)\n"
     ]
    }
   ],
   "source": [
    "print(school_state_one_hot_cv.shape)\n",
    "print(school_state_one_hot_train.shape)\n",
    "print(school_state_one_hot_test.shape)\n",
    "print(quantity_one_hot_cv.shape)\n",
    "print(quantity_one_hot_train.shape)\n",
    "print(quantity_one_hot_test.shape)\n",
    "\n",
    "print(price_one_hot_cv.shape)\n",
    "print(price_one_hot_train.shape)\n",
    "print(price_one_hot_test.shape)\n",
    "\n",
    "print(subcategories_one_hot_cv.shape)\n",
    "print(subcategories_one_hot_train.shape)\n",
    "print(subcategories_one_hot_test.shape)\n",
    "print(categories_one_hot_cv.shape)\n",
    "print(categories_one_hot_train.shape)\n",
    "print(categories_one_hot_test.shape)\n",
    "print(grade_cat_one_hot_cv.shape)\n",
    "print(grade_cat_one_hot_train.shape)\n",
    "print(grade_cat_one_hot_test.shape)\n",
    "print(teacher_prefix_one_hot_cv.shape)\n",
    "print(teacher_prefix_one_hot_train.shape)\n",
    "print(teacher_prefix_one_hot_test.shape)"
   ]
  },
  {
   "cell_type": "code",
   "execution_count": 34,
   "metadata": {},
   "outputs": [
    {
     "data": {
      "text/plain": [
       "(41504, 1)"
      ]
     },
     "execution_count": 34,
     "metadata": {},
     "output_type": "execute_result"
    }
   ],
   "source": [
    "num_or_not_train=x_train['num_or_not'].values.reshape(-1,1)\n",
    "num_or_not_test=x_test['num_or_not'].values.reshape(-1,1)\n",
    "num_or_not_cv=x_cv['num_or_not'].values.reshape(-1,1)\n",
    "num_or_not_train.shape"
   ]
  },
  {
   "cell_type": "code",
   "execution_count": null,
   "metadata": {},
   "outputs": [],
   "source": []
  },
  {
   "cell_type": "code",
   "execution_count": null,
   "metadata": {},
   "outputs": [],
   "source": []
  },
  {
   "cell_type": "markdown",
   "metadata": {
    "colab_type": "text",
    "id": "V8pUeQFiCypq"
   },
   "source": [
    "<h2>2.3 Make Data Model Ready: encoding eassay, and project_title</h2>"
   ]
  },
  {
   "cell_type": "code",
   "execution_count": 35,
   "metadata": {
    "colab": {},
    "colab_type": "code",
    "id": "7L7e-_EfCypq"
   },
   "outputs": [],
   "source": [
    "# We are considering only the words which appeared in at least 10 documents(rows or projects).\n",
    "from sklearn.feature_extraction.text import CountVectorizer\n",
    "vectorizer = CountVectorizer(min_df=10)\n",
    "def bow(data): \n",
    "    text_bow = vectorizer.transform(data)\n",
    "    return text_bow\n",
    "vectorizer.fit(x_train['essay'])\n",
    "bow_train_essay=bow(x_train['essay'])\n",
    "bow_test_essay=bow(x_test['essay'])\n",
    "bow_cv_essay=bow(x_cv['essay'])\n",
    "#bow of v\n",
    "vectorizer.fit(x_train['project_title'])\n",
    "bow_train_title=bow(x_train['project_title'])\n",
    "bow_test_title=bow(x_test['project_title'])\n",
    "bow_cv_title=bow(x_cv['project_title'])\n"
   ]
  },
  {
   "cell_type": "code",
   "execution_count": 36,
   "metadata": {},
   "outputs": [
    {
     "name": "stdout",
     "output_type": "stream",
     "text": [
      "(10500, 1759)\n",
      "(41504, 1759)\n",
      "(15000, 1759)\n",
      "(10500, 11571)\n",
      "(41504, 11571)\n",
      "(15000, 11571)\n"
     ]
    }
   ],
   "source": [
    "print(bow_cv_title.shape)\n",
    "print(bow_train_title.shape)\n",
    "print(bow_test_title.shape)\n",
    "print(bow_cv_essay.shape)\n",
    "print(bow_train_essay.shape)\n",
    "print(bow_test_essay.shape)"
   ]
  },
  {
   "cell_type": "code",
   "execution_count": 37,
   "metadata": {},
   "outputs": [
    {
     "name": "stdout",
     "output_type": "stream",
     "text": [
      "(41504, 11571)\n",
      "(15000, 11571)\n",
      "(10500, 11571)\n"
     ]
    }
   ],
   "source": [
    "from sklearn.feature_extraction.text import TfidfVectorizer\n",
    "vectorizer = TfidfVectorizer()\n",
    "vectorizer = TfidfVectorizer(min_df=10)\n",
    "vectorizer.fit(x_train['essay'])\n",
    "tfidf_train_essay = vectorizer.transform(x_train['essay'])\n",
    "tfidf_test_essay = vectorizer.transform(x_test['essay'])\n",
    "tfidf_cv_essay = vectorizer.transform(x_cv['essay'])\n",
    "print(tfidf_train_essay.shape)\n",
    "print(tfidf_test_essay.shape)\n",
    "print(tfidf_cv_essay.shape)"
   ]
  },
  {
   "cell_type": "code",
   "execution_count": 38,
   "metadata": {},
   "outputs": [
    {
     "name": "stdout",
     "output_type": "stream",
     "text": [
      "(41504, 1759)\n",
      "(15000, 1759)\n",
      "(10500, 1759)\n"
     ]
    }
   ],
   "source": [
    "vectorizer.fit(x_train['project_title'])\n",
    "tfidf_train_title = vectorizer.transform(x_train['project_title'])\n",
    "tfidf_test_title = vectorizer.transform(x_test['project_title'])\n",
    "tfidf_cv_title = vectorizer.transform(x_cv['project_title'])\n",
    "print(tfidf_train_title.shape)\n",
    "print(tfidf_test_title.shape)\n",
    "print(tfidf_cv_title.shape)"
   ]
  },
  {
   "cell_type": "code",
   "execution_count": 39,
   "metadata": {},
   "outputs": [],
   "source": [
    "# average Word2Vec\n",
    "# compute average word2vec for each review.\n",
    "def avg_w2v(data):\n",
    "    with open('glove_vectors', 'rb') as f:\n",
    "        model = pickle.load(f)\n",
    "        glove_words =  set(model.keys())\n",
    "    avg_w2v_vectors = []; # the avg-w2v for each sentence/review is stored in this list\n",
    "    for sentence in data: # for each review/sentence\n",
    "        vector = np.zeros(300) # as word vectors are of zero length\n",
    "        cnt_words =0; # num of words with a valid vector in the sentence/review\n",
    "        for word in sentence.split(): # for each word in a review/sentence\n",
    "            if word in glove_words:\n",
    "                vector += model[word]\n",
    "                cnt_words += 1\n",
    "        if cnt_words != 0:\n",
    "            vector /= cnt_words\n",
    "        avg_w2v_vectors.append(vector)\n",
    "    return avg_w2v_vectors\n",
    "\n",
    "\n",
    "\n",
    "# average Word2Vec\n",
    "# compute average word2vec for each review\n",
    "def tfidf_weighted_w2v(data,tfidf_words):\n",
    "    with open('glove_vectors', 'rb') as f:\n",
    "        model = pickle.load(f)\n",
    "        glove_words =  set(model.keys())\n",
    "    tfidf_w2v_vectors = []; # the avg-w2v for each sentence/review is stored in this list\n",
    "    for sentence in data: # for each review/sentence\n",
    "        vector = np.zeros(300) # as word vectors are of zero length\n",
    "        tf_idf_weight =0; # num of words with a valid vector in the sentence/review\n",
    "        for word in sentence.split(): # for each word in a review/sentence\n",
    "            if (word in glove_words) and (word in tfidf_words):\n",
    "                vec = model[word] # getting the vector for each word\n",
    "            # here we are multiplying idf value(dictionary[word]) and the tf value((sentence.count(word)/len(sentence.split())))\n",
    "                tf_idf = dictionary[word]*(sentence.count(word)/len(sentence.split())) # getting the tfidf value for each word\n",
    "                vector += (vec * tf_idf) # calculating tfidf weighted w2v\n",
    "                tf_idf_weight += tf_idf\n",
    "        if tf_idf_weight != 0:\n",
    "            vector /= tf_idf_weight\n",
    "        tfidf_w2v_vectors.append(vector)\n",
    "    return tfidf_w2v_vectors"
   ]
  },
  {
   "cell_type": "code",
   "execution_count": 40,
   "metadata": {},
   "outputs": [],
   "source": [
    "avgw2v_train_essay=avg_w2v(x_train['essay'])\n",
    "avgw2v_test_essay=avg_w2v(x_test['essay'])\n",
    "avgw2v_cv_essay=avg_w2v(x_cv['essay'])\n",
    "avgw2v_train_title=avg_w2v(x_train['project_title'])\n",
    "avgw2v_test_title=avg_w2v(x_test['project_title'])\n",
    "avgw2v_cv_title=avg_w2v(x_cv['project_title'])\n",
    "\n",
    "\n",
    "tfidf_model = TfidfVectorizer()\n",
    "tfidf_model.fit(x_train['essay'])# we are converting a dictionary with word as a key, and the idf as a value\n",
    "dictionary = dict(zip(tfidf_model.get_feature_names(), list(tfidf_model.idf_)))\n",
    "tfidf_words = set(tfidf_model.get_feature_names())\n",
    "wtw2v_train_essay=tfidf_weighted_w2v(x_train['essay'],tfidf_words)\n",
    "wtw2v_test_essay=tfidf_weighted_w2v(x_test['essay'],tfidf_words)\n",
    "wtw2v_cv_essay=tfidf_weighted_w2v(x_cv['essay'],tfidf_words)\n",
    "\n",
    "\n",
    "tfidf_model = TfidfVectorizer()\n",
    "tfidf_model.fit(x_train['project_title'])# we are converting a dictionary with word as a key, and the idf as a value\n",
    "dictionary = dict(zip(tfidf_model.get_feature_names(), list(tfidf_model.idf_)))\n",
    "tfidf_words = set(tfidf_model.get_feature_names())\n",
    "wtw2v_train_title=tfidf_weighted_w2v(x_train['project_title'],tfidf_words)\n",
    "wtw2v_test_title=tfidf_weighted_w2v(x_test['project_title'],tfidf_words)\n",
    "wtw2v_cv_title=tfidf_weighted_w2v(x_cv['project_title'],tfidf_words)"
   ]
  },
  {
   "cell_type": "code",
   "execution_count": 41,
   "metadata": {},
   "outputs": [],
   "source": [
    "from scipy.sparse import hstack\n"
   ]
  },
  {
   "cell_type": "code",
   "execution_count": 42,
   "metadata": {
    "colab": {},
    "colab_type": "code",
    "id": "Tsay467cCypt"
   },
   "outputs": [],
   "source": [
    "# please write all the code with proper documentation, and proper titles for each subsection\n",
    "# go through documentations and blogs before you start coding\n",
    "# first figure out what to do, and then think about how to do.\n",
    "# reading and understanding error messages will be very much helpfull in debugging your code\n",
    "\n",
    "# when you plot any graph make sure you use \n",
    "    # a. Title, that describes your plot, this will be very helpful to the reader\n",
    "    # b. Legends if needed\n",
    "    # c. X-axis label\n",
    "    # d. Y-axis label\n",
    "from sklearn.neighbors import KNeighborsClassifier\n",
    "from sklearn.metrics import roc_auc_score\n"
   ]
  },
  {
   "cell_type": "markdown",
   "metadata": {
    "colab_type": "text",
    "id": "B1dIm8PiCypw"
   },
   "source": [
    "### 2.4.1 Applying KNN brute force on BOW,<font color='red'> SET 1</font>"
   ]
  },
  {
   "cell_type": "code",
   "execution_count": 43,
   "metadata": {
    "colab": {},
    "colab_type": "code",
    "id": "5VCLzbIoCypy"
   },
   "outputs": [
    {
     "name": "stdout",
     "output_type": "stream",
     "text": [
      "(41504, 13432)\n",
      "(15000, 13432)\n",
      "(10500, 13432)\n",
      "(41504,)\n"
     ]
    }
   ],
   "source": [
    "# Please write all the code with proper documentation\n",
    "train_bow=hstack((teacher_prefix_one_hot_train,school_state_one_hot_train,num_or_not_train,\\\n",
    "grade_cat_one_hot_train,categories_one_hot_train,subcategories_one_hot_train,price_one_hot_train,\\\n",
    "quantity_one_hot_train,bow_train_essay,bow_train_title)).tocsr()\n",
    "cv_bow=hstack((teacher_prefix_one_hot_cv,school_state_one_hot_cv,num_or_not_cv,\\\n",
    "grade_cat_one_hot_cv,categories_one_hot_cv,subcategories_one_hot_cv,price_one_hot_cv,\\\n",
    "quantity_one_hot_cv,bow_cv_essay,bow_cv_title)).tocsr()\n",
    "test_bow=hstack((teacher_prefix_one_hot_test,school_state_one_hot_test,num_or_not_test,\\\n",
    "grade_cat_one_hot_test,categories_one_hot_test,subcategories_one_hot_test,price_one_hot_test,\\\n",
    "quantity_one_hot_test,bow_test_essay,bow_test_title)).tocsr()\n",
    "\n",
    "print(train_bow.shape)\n",
    "print(test_bow.shape)\n",
    "print(cv_bow.shape)\n",
    "print(y_train.shape)"
   ]
  },
  {
   "cell_type": "code",
   "execution_count": 44,
   "metadata": {},
   "outputs": [],
   "source": [
    "from sklearn.decomposition import TruncatedSVD\n",
    "svd=TruncatedSVD(6000)\n",
    "train_new=svd.fit(train_bow)"
   ]
  },
  {
   "cell_type": "code",
   "execution_count": 66,
   "metadata": {},
   "outputs": [
    {
     "data": {
      "text/plain": [
       "Text(0,0.5,'dimension')"
      ]
     },
     "execution_count": 66,
     "metadata": {},
     "output_type": "execute_result"
    },
    {
     "data": {
      "image/png": "[encoded data removed]",
      "text/plain": [
       "<Figure size 432x288 with 1 Axes>"
      ]
     },
     "metadata": {
      "needs_background": "light"
     },
     "output_type": "display_data"
    }
   ],
   "source": [
    "plt.plot(np.cumsum(svd.explained_variance_ratio_))\n",
    "plt.xlabel('variance')\n",
    "plt.ylabel('dimension')"
   ]
  },
  {
   "cell_type": "code",
   "execution_count": 45,
   "metadata": {},
   "outputs": [],
   "source": [
    "train_new_bow=svd.transform(train_bow)\n",
    "cv_new_bow=svd.transform(cv_bow)\n",
    "test_new_bow=svd.transform(test_bow)"
   ]
  },
  {
   "cell_type": "code",
   "execution_count": 46,
   "metadata": {},
   "outputs": [
    {
     "name": "stdout",
     "output_type": "stream",
     "text": [
      "(41504, 6000)\n",
      "(10500, 6000)\n"
     ]
    }
   ],
   "source": [
    "print(train_new_bow.shape)\n",
    "print(cv_new_bow.shape)"
   ]
  },
  {
   "cell_type": "code",
   "execution_count": 63,
   "metadata": {},
   "outputs": [
    {
     "name": "stderr",
     "output_type": "stream",
     "text": [
      "\n",
      "\n",
      "  0%|          | 0/16 [00:00<?, ?it/s]\n",
      "\n",
      "  6%|▋         | 1/16 [11:27<2:51:52, 687.49s/it]\n",
      "\n",
      " 12%|█▎        | 2/16 [23:49<2:44:13, 703.84s/it]\n",
      "\n",
      " 19%|█▉        | 3/16 [35:44<2:33:12, 707.08s/it]\n",
      "\n",
      " 25%|██▌       | 4/16 [45:51<2:15:24, 677.07s/it]\n",
      "\n",
      " 31%|███▏      | 5/16 [55:53<2:00:02, 654.73s/it]\n",
      "\n",
      " 38%|███▊      | 6/16 [1:05:56<1:46:31, 639.16s/it]\n",
      "\n",
      " 44%|████▍     | 7/16 [1:17:20<1:37:53, 652.65s/it]\n",
      "\n",
      " 50%|█████     | 8/16 [1:29:00<1:28:53, 666.69s/it]\n",
      "\n",
      " 56%|█████▋    | 9/16 [1:40:47<1:19:12, 678.91s/it]\n",
      "\n",
      " 62%|██████▎   | 10/16 [1:52:32<1:08:40, 686.72s/it]\n",
      "\n",
      " 69%|██████▉   | 11/16 [2:04:13<57:34, 690.85s/it]  \n",
      "\n",
      " 75%|███████▌  | 12/16 [2:14:56<45:06, 676.67s/it]\n",
      "\n",
      " 81%|████████▏ | 13/16 [2:25:18<33:00, 660.14s/it]\n",
      "\n",
      " 88%|████████▊ | 14/16 [2:35:37<21:35, 647.86s/it]\n",
      "\n",
      " 94%|█████████▍| 15/16 [2:46:03<10:41, 641.21s/it]\n",
      "\n",
      "100%|██████████| 16/16 [2:56:28<00:00, 636.34s/it]\n",
      "\n"
     ]
    }
   ],
   "source": [
    "train_auc=[]\n",
    "cv_auc=[]\n",
    "from tqdm import tqdm\n",
    "k=[1,5,11,19,25,31,39,41,49,51,59,61,71,81,91,99]\n",
    "for k in tqdm(k):\n",
    "    model=KNeighborsClassifier(n_neighbors=k, algorithm='brute')\n",
    "    model.fit(train_new_bow,y_train)\n",
    "    y_train_prob=[]\n",
    "    for i in range(0,train_new_bow.shape[0],1000):\n",
    "        y_train_prob.extend(model.predict_proba(train_new_bow[i:i+1000])[:,1])\n",
    "    y_cv_prob=[]\n",
    "    for i in range(0,cv_new_bow.shape[0],1000):\n",
    "        y_cv_prob.extend(model.predict_proba(cv_new_bow[i:i+1000])[:,1])\n",
    "    train_auc.append(roc_auc_score(y_train,y_train_prob))\n",
    "    cv_auc.append(roc_auc_score(y_cv,y_cv_prob))"
   ]
  },
  {
   "cell_type": "code",
   "execution_count": null,
   "metadata": {},
   "outputs": [],
   "source": []
  },
  {
   "cell_type": "code",
   "execution_count": null,
   "metadata": {},
   "outputs": [],
   "source": []
  },
  {
   "cell_type": "code",
   "execution_count": 64,
   "metadata": {},
   "outputs": [
    {
     "data": {
      "image/png": "[encoded data removed]",
      "text/plain": [
       "<Figure size 432x288 with 1 Axes>"
      ]
     },
     "metadata": {
      "needs_background": "light"
     },
     "output_type": "display_data"
    }
   ],
   "source": [
    "k=[1,5,11,19,25,31,39,41,49,51,59,61,71,81,91,99]\n",
    "plt.plot(k,train_auc,label='train_auc')\n",
    "plt.plot(k,cv_auc,label='cv_auc')\n",
    "plt.legend()\n",
    "plt.scatter(k,train_auc)\n",
    "plt.scatter(k,cv_auc)\n",
    "plt.grid()\n",
    "plt.ylabel('auc')\n",
    "plt.xlabel('value of k')\n",
    "plt.show()\n"
   ]
  },
  {
   "cell_type": "code",
   "execution_count": 47,
   "metadata": {},
   "outputs": [
    {
     "name": "stderr",
     "output_type": "stream",
     "text": [
      "100%|██████████| 42/42 [7:04:56<00:00, 420.35s/it]  \n",
      "100%|██████████| 15/15 [2:09:43<00:00, 497.65s/it] \n"
     ]
    }
   ],
   "source": [
    "from sklearn.metrics import roc_curve,auc\n",
    "bestK=71\n",
    "clf=KNeighborsClassifier(n_neighbors=bestK)\n",
    "clf.fit(train_new_bow,y_train)\n",
    "y_train_pred=[]\n",
    "for i in tqdm(range(0,train_new_bow.shape[0],1000)):\n",
    "    y_train_pred.extend(clf.predict_proba(train_new_bow[i:i+1000])[:,1])\n",
    "fpr_train,tpr_train,thresholds_train=roc_curve(y_train,y_train_pred)\n",
    "y_test_pred=[]\n",
    "for i in tqdm(range(0,test_new_bow.shape[0],1000)):\n",
    "    y_test_pred.extend(clf.predict_proba(test_new_bow[i:i+1000])[:,1])\n",
    "fpr_test,tpr_test,thresholds_test=roc_curve(y_test,y_test_pred)"
   ]
  },
  {
   "cell_type": "code",
   "execution_count": 48,
   "metadata": {},
   "outputs": [
    {
     "data": {
      "text/plain": [
       "Text(0,0.5,'True positive rate')"
      ]
     },
     "execution_count": 48,
     "metadata": {},
     "output_type": "execute_result"
    },
    {
     "data": {
      "image/png": "[encoded data removed]",
      "text/plain": [
       "<Figure size 432x288 with 1 Axes>"
      ]
     },
     "metadata": {
      "needs_background": "light"
     },
     "output_type": "display_data"
    }
   ],
   "source": [
    "plt.title('Error')\n",
    "plt.plot(fpr_test,tpr_test,label='test='+str(auc(fpr_test,tpr_test)))\n",
    "plt.plot(fpr_train,tpr_train,label='train='+str(auc(fpr_train,tpr_train)))\n",
    "plt.legend()\n",
    "plt.xlabel('False positive rate')\n",
    "plt.ylabel('True positive rate')\n"
   ]
  },
  {
   "cell_type": "code",
   "execution_count": 49,
   "metadata": {},
   "outputs": [],
   "source": [
    "def predict(proba, threshould, fpr, tpr):\n",
    "    \n",
    "    t = threshould[np.argmax(fpr*(1-tpr))]\n",
    "    \n",
    "    # (tpr*(1-fpr)) will be maximum if your fpr is very low and tpr is very high\n",
    "    \n",
    "    print(\"the maximum value of tpr*(1-fpr)\", max(tpr*(1-fpr)), \"for threshold\", np.round(t,3))\n",
    "    predictions = []\n",
    "    for i in proba:\n",
    "        if i>=t:\n",
    "            predictions.append(1)\n",
    "        else:\n",
    "            predictions.append(0)\n",
    "    return predictions"
   ]
  },
  {
   "cell_type": "code",
   "execution_count": 50,
   "metadata": {},
   "outputs": [
    {
     "name": "stdout",
     "output_type": "stream",
     "text": [
      "Train Confusion Matrix\n",
      "the maximum value of tpr*(1-fpr) 0.4176784346505101 for threshold 0.479\n",
      "[[13514  7238]\n",
      " [ 7442 13310]]\n",
      "the maximum value of tpr*(1-fpr) 0.4176784346505101 for threshold 0.479\n"
     ]
    },
    {
     "data": {
      "text/plain": [
       "<matplotlib.axes._subplots.AxesSubplot at 0x1a0255b24a8>"
      ]
     },
     "execution_count": 50,
     "metadata": {},
     "output_type": "execute_result"
    },
    {
     "data": {
      "image/png": "[encoded data removed]",
      "text/plain": [
       "<Figure size 432x288 with 1 Axes>"
      ]
     },
     "metadata": {
      "needs_background": "light"
     },
     "output_type": "display_data"
    }
   ],
   "source": [
    "# Please write all the code with proper documentation\n",
    "print('Train Confusion Matrix')\n",
    "print(confusion_matrix(y_train,predict(y_train_pred,thresholds_train,fpr_train,tpr_train)))\n",
    "tn,fp,fn,tp=confusion_matrix(y_train,predict(y_train_pred,thresholds_train,fpr_train,tpr_train)).ravel()\n",
    "mat=np.matrix([[tn,fn],[fp,tp]])\n",
    "sns.heatmap(mat, square=True, annot=True,fmt='d', cbar=False,            \n",
    "xticklabels=[0,1], yticklabels=[0,1]) "
   ]
  },
  {
   "cell_type": "code",
   "execution_count": 51,
   "metadata": {},
   "outputs": [
    {
     "name": "stdout",
     "output_type": "stream",
     "text": [
      "Test Confusion Matrix\n",
      "the maximum value of tpr*(1-fpr) 0.4176784346505101 for threshold 0.479\n",
      "[[1199 1121]\n",
      " [4921 7759]]\n",
      "the maximum value of tpr*(1-fpr) 0.4176784346505101 for threshold 0.479\n"
     ]
    },
    {
     "data": {
      "text/plain": [
       "<matplotlib.axes._subplots.AxesSubplot at 0x1a02c490518>"
      ]
     },
     "execution_count": 51,
     "metadata": {},
     "output_type": "execute_result"
    },
    {
     "data": {
      "image/png": "[encoded data removed]",
      "text/plain": [
       "<Figure size 432x288 with 1 Axes>"
      ]
     },
     "metadata": {
      "needs_background": "light"
     },
     "output_type": "display_data"
    }
   ],
   "source": [
    "print('Test Confusion Matrix')\n",
    "print(confusion_matrix(y_test,predict(y_test_pred,thresholds_train,fpr_train,tpr_train)))\n",
    "tn,fp,fn,tp=confusion_matrix(y_test,predict(y_test_pred,thresholds_train,fpr_train,tpr_train)).ravel()\n",
    "mat=np.matrix([[tn,fn],[fp,tp]])\n",
    "sns.heatmap(mat, square=True, annot=True, fmt='d', cbar=False,            \n",
    "xticklabels=[0,1], yticklabels=[0,1]) "
   ]
  },
  {
   "cell_type": "markdown",
   "metadata": {
    "colab_type": "text",
    "id": "s85gPOAbCyp1"
   },
   "source": [
    "### 2.4.2 Applying KNN brute force on TFIDF,<font color='red'> SET 2</font>"
   ]
  },
  {
   "cell_type": "code",
   "execution_count": 52,
   "metadata": {
    "colab": {},
    "colab_type": "code",
    "id": "AfUKrzirCyp1"
   },
   "outputs": [
    {
     "name": "stdout",
     "output_type": "stream",
     "text": [
      "(15000, 13432)\n",
      "(41504, 13432)\n",
      "(10500, 13432)\n"
     ]
    }
   ],
   "source": [
    "# Please write all the code with proper documentation\n",
    "train_tfidf=hstack((teacher_prefix_one_hot_train,school_state_one_hot_train,num_or_not_train,\\\n",
    "grade_cat_one_hot_train,categories_one_hot_train,subcategories_one_hot_train,price_one_hot_train,\\\n",
    "quantity_one_hot_train,tfidf_train_essay,tfidf_train_title)).tocsr()\n",
    "cv_tfidf=hstack((teacher_prefix_one_hot_cv,school_state_one_hot_cv,num_or_not_cv,\\\n",
    "grade_cat_one_hot_cv,categories_one_hot_cv,subcategories_one_hot_cv,price_one_hot_cv,\\\n",
    "quantity_one_hot_cv,tfidf_cv_essay,tfidf_cv_title)).tocsr()\n",
    "test_tfidf=hstack((teacher_prefix_one_hot_test,school_state_one_hot_test,num_or_not_test,\\\n",
    "grade_cat_one_hot_test,categories_one_hot_test,subcategories_one_hot_test,price_one_hot_test,\\\n",
    "quantity_one_hot_test,tfidf_test_essay,tfidf_test_title)).tocsr()\n",
    "print(test_tfidf.shape)\n",
    "\n",
    "print(train_tfidf.shape)\n",
    "print(cv_tfidf.shape)\n"
   ]
  },
  {
   "cell_type": "code",
   "execution_count": 53,
   "metadata": {},
   "outputs": [
    {
     "data": {
      "text/plain": [
       "Text(0,0.5,'variance')"
      ]
     },
     "execution_count": 53,
     "metadata": {},
     "output_type": "execute_result"
    },
    {
     "data": {
      "image/png": "[encoded data removed]",
      "text/plain": [
       "<Figure size 432x288 with 1 Axes>"
      ]
     },
     "metadata": {
      "needs_background": "light"
     },
     "output_type": "display_data"
    }
   ],
   "source": [
    "from sklearn.decomposition import TruncatedSVD\n",
    "reducing_d=TruncatedSVD(6000)\n",
    "reducing_d.fit(train_tfidf)\n",
    "plt.plot(np.cumsum(reducing_d.explained_variance_ratio_))\n",
    "plt.xlabel('dimension')\n",
    "plt.ylabel('variance')"
   ]
  },
  {
   "cell_type": "code",
   "execution_count": 54,
   "metadata": {},
   "outputs": [
    {
     "name": "stdout",
     "output_type": "stream",
     "text": [
      "(41504, 6000)\n",
      "(10500, 6000)\n",
      "(15000, 6000)\n"
     ]
    }
   ],
   "source": [
    "train_new=reducing_d.transform(train_tfidf)\n",
    "cv_new=reducing_d.transform(cv_tfidf)\n",
    "test_new=reducing_d.transform(test_tfidf)\n",
    "print(train_new.shape)\n",
    "print(cv_new.shape)\n",
    "print(test_new.shape)"
   ]
  },
  {
   "cell_type": "code",
   "execution_count": 39,
   "metadata": {},
   "outputs": [
    {
     "name": "stderr",
     "output_type": "stream",
     "text": [
      "100%|██████████| 8/8 [53:19<00:00, 399.29s/it]\n"
     ]
    }
   ],
   "source": [
    "train_auc=[]\n",
    "cv_auc=[]\n",
    "from tqdm import tqdm\n",
    "K=[19,31,45,49,53,71,81,91]\n",
    "for k in tqdm(K):\n",
    "    model=KNeighborsClassifier(n_neighbors=k,algorithm='brute')\n",
    "    model.fit(train_new,y_train)\n",
    "    y_train_prob=[]\n",
    "    for i in range(0,train_new.shape[0],1000):\n",
    "        y_train_prob.extend(model.predict_proba(train_new[i:i+1000])[:,1])\n",
    "    y_cv_prob=[]\n",
    "    for i in range(0,cv_new.shape[0],1000):\n",
    "        y_cv_prob.extend(model.predict_proba(cv_new[i:i+1000])[:,1])\n",
    "    train_auc.append(roc_auc_score(y_train,y_train_prob))\n",
    "    cv_auc.append(roc_auc_score(y_cv,y_cv_prob))"
   ]
  },
  {
   "cell_type": "code",
   "execution_count": 42,
   "metadata": {},
   "outputs": [
    {
     "name": "stderr",
     "output_type": "stream",
     "text": [
      "100%|██████████| 2/2 [14:15<00:00, 410.10s/it]\n"
     ]
    }
   ],
   "source": [
    "K=[95,99]\n",
    "for k in tqdm(K):\n",
    "    model=KNeighborsClassifier(n_neighbors=k,algorithm='brute')\n",
    "    model.fit(train_new,y_train)\n",
    "    y_train_prob=[]\n",
    "    for i in range(0,train_new.shape[0],1000):\n",
    "        y_train_prob.extend(model.predict_proba(train_new[i:i+1000])[:,1])\n",
    "    y_cv_prob=[]\n",
    "    for i in range(0,cv_new.shape[0],1000):\n",
    "        y_cv_prob.extend(model.predict_proba(cv_new[i:i+1000])[:,1])\n",
    "    train_auc.append(roc_auc_score(y_train,y_train_prob))\n",
    "    cv_auc.append(roc_auc_score(y_cv,y_cv_prob))"
   ]
  },
  {
   "cell_type": "code",
   "execution_count": 43,
   "metadata": {},
   "outputs": [
    {
     "data": {
      "image/png": "[encoded data removed]",
      "text/plain": [
       "<Figure size 432x288 with 1 Axes>"
      ]
     },
     "metadata": {
      "needs_background": "light"
     },
     "output_type": "display_data"
    }
   ],
   "source": [
    "k=[19,31,45,49,53,71,81,91,95,99]\n",
    "plt.plot(k,train_auc,label='train_auc')\n",
    "plt.plot(k,cv_auc,label='cv_auc')\n",
    "plt.legend()\n",
    "plt.scatter(k,train_auc)\n",
    "plt.scatter(k,cv_auc)\n",
    "plt.grid()\n",
    "plt.ylabel('auc')\n",
    "plt.xlabel('value of k')\n",
    "plt.show()\n"
   ]
  },
  {
   "cell_type": "code",
   "execution_count": null,
   "metadata": {},
   "outputs": [],
   "source": []
  },
  {
   "cell_type": "code",
   "execution_count": 55,
   "metadata": {},
   "outputs": [],
   "source": [
    "bestK=91\n",
    "clf=KNeighborsClassifier(n_neighbors=bestK,algorithm='brute')\n",
    "clf.fit(train_new,y_train)\n",
    "y_train_pred=[]\n",
    "for i in range(0,train_new.shape[0],1000):\n",
    "    y_train_pred.extend(clf.predict_proba(train_new[i:i+1000])[:,1])\n",
    "fpr_train,tpr_train,thresholds_train=roc_curve(y_train,y_train_pred)\n",
    "y_test_pred=[]\n",
    "for i in range(0,test_new.shape[0],1000):\n",
    "    y_test_pred.extend(clf.predict_proba(test_new[i:i+1000])[:,1])\n",
    "fpr_test,tpr_test,thresholds_test=roc_curve(y_test,y_test_pred)"
   ]
  },
  {
   "cell_type": "code",
   "execution_count": 56,
   "metadata": {},
   "outputs": [
    {
     "data": {
      "text/plain": [
       "Text(0,0.5,'True positive rate')"
      ]
     },
     "execution_count": 56,
     "metadata": {},
     "output_type": "execute_result"
    },
    {
     "data": {
      "image/png": "[encoded data removed]",
      "text/plain": [
       "<Figure size 432x288 with 1 Axes>"
      ]
     },
     "metadata": {
      "needs_background": "light"
     },
     "output_type": "display_data"
    }
   ],
   "source": [
    "plt.title('Error')\n",
    "plt.plot(fpr_test,tpr_test,label='test='+str(auc(fpr_test,tpr_test)))\n",
    "plt.plot(fpr_train,tpr_train,label='train='+str(auc(fpr_train,tpr_train)))\n",
    "plt.legend()\n",
    "plt.xlabel('False positive rate')\n",
    "plt.ylabel('True positive rate')"
   ]
  },
  {
   "cell_type": "code",
   "execution_count": 57,
   "metadata": {},
   "outputs": [
    {
     "name": "stdout",
     "output_type": "stream",
     "text": [
      "Train Confusion Matrix\n",
      "the maximum value of tpr*(1-fpr) 0.35965249041587577 for threshold 0.593\n",
      "[[12560  8192]\n",
      " [ 8448 12304]]\n",
      "the maximum value of tpr*(1-fpr) 0.35965249041587577 for threshold 0.593\n"
     ]
    },
    {
     "data": {
      "text/plain": [
       "<matplotlib.axes._subplots.AxesSubplot at 0x1a07b8e3780>"
      ]
     },
     "execution_count": 57,
     "metadata": {},
     "output_type": "execute_result"
    },
    {
     "data": {
      "image/png": "[encoded data removed]",
      "text/plain": [
       "<Figure size 432x288 with 1 Axes>"
      ]
     },
     "metadata": {
      "needs_background": "light"
     },
     "output_type": "display_data"
    }
   ],
   "source": [
    "# Please write all the code with proper documentation\n",
    "print('Train Confusion Matrix')\n",
    "print(confusion_matrix(y_train,predict(y_train_pred,thresholds_train,fpr_train,tpr_train)))\n",
    "tn,fp,fn,tp=confusion_matrix(y_train,predict(y_train_pred,thresholds_train,fpr_train,tpr_train)).ravel()\n",
    "mat=np.matrix([[tn,fn],[fp,tp]])\n",
    "sns.heatmap(mat, square=True, annot=True,fmt='d', cbar=False,            \n",
    "xticklabels=[0,1], yticklabels=[0,1]) "
   ]
  },
  {
   "cell_type": "code",
   "execution_count": 58,
   "metadata": {},
   "outputs": [
    {
     "name": "stdout",
     "output_type": "stream",
     "text": [
      "Test Confusion Matrix\n",
      "the maximum value of tpr*(1-fpr) 0.35965249041587577 for threshold 0.593\n",
      "[[1164 1156]\n",
      " [5376 7304]]\n",
      "the maximum value of tpr*(1-fpr) 0.35965249041587577 for threshold 0.593\n"
     ]
    },
    {
     "data": {
      "text/plain": [
       "<matplotlib.axes._subplots.AxesSubplot at 0x1a0255acf28>"
      ]
     },
     "execution_count": 58,
     "metadata": {},
     "output_type": "execute_result"
    },
    {
     "data": {
      "image/png": "[encoded data removed]",
      "text/plain": [
       "<Figure size 432x288 with 1 Axes>"
      ]
     },
     "metadata": {
      "needs_background": "light"
     },
     "output_type": "display_data"
    }
   ],
   "source": [
    "print('Test Confusion Matrix')\n",
    "print(confusion_matrix(y_test,predict(y_test_pred,thresholds_train,fpr_train,tpr_train)))\n",
    "tn,fp,fn,tp=confusion_matrix(y_test,predict(y_test_pred,thresholds_train,fpr_train,tpr_train)).ravel()\n",
    "mat=np.matrix([[tn,fn],[fp,tp]])\n",
    "sns.heatmap(mat, square=True, annot=True, fmt='d', cbar=False,            \n",
    "xticklabels=[0,1], yticklabels=[0,1]) "
   ]
  },
  {
   "cell_type": "markdown",
   "metadata": {
    "colab_type": "text",
    "id": "oq3NW2CbCyp3"
   },
   "source": [
    "### 2.4.3 Applying KNN brute force on AVG W2V,<font color='red'> SET 3</font>"
   ]
  },
  {
   "cell_type": "code",
   "execution_count": 59,
   "metadata": {
    "colab": {},
    "colab_type": "code",
    "id": "jRug28P9Cyp3"
   },
   "outputs": [
    {
     "name": "stdout",
     "output_type": "stream",
     "text": [
      "(15000, 701)\n",
      "(41504, 701)\n",
      "(10500, 701)\n"
     ]
    }
   ],
   "source": [
    "# Please write all the code with proper documentation\n",
    "train_avgw2v=hstack((teacher_prefix_one_hot_train,school_state_one_hot_train,\\\n",
    "grade_cat_one_hot_train,categories_one_hot_train,subcategories_one_hot_train,price_one_hot_train,\\\n",
    "quantity_one_hot_train,avgw2v_train_essay,avgw2v_train_title)).tocsr()\n",
    "cv_avgw2v=hstack((teacher_prefix_one_hot_cv,school_state_one_hot_cv,\\\n",
    "grade_cat_one_hot_cv,categories_one_hot_cv,subcategories_one_hot_cv,price_one_hot_cv,\\\n",
    "quantity_one_hot_cv,avgw2v_cv_essay,avgw2v_cv_title)).tocsr()\n",
    "test_avgw2v=hstack((teacher_prefix_one_hot_test,school_state_one_hot_test,\\\n",
    "grade_cat_one_hot_test,categories_one_hot_test,subcategories_one_hot_test,price_one_hot_test,\\\n",
    "quantity_one_hot_test,avgw2v_test_essay,avgw2v_test_title)).tocsr()\n",
    "print(test_avgw2v.shape)\n",
    "print(train_avgw2v.shape)\n",
    "print(cv_avgw2v.shape)\n"
   ]
  },
  {
   "cell_type": "code",
   "execution_count": 60,
   "metadata": {},
   "outputs": [
    {
     "data": {
      "text/plain": [
       "Text(0,0.5,'variance')"
      ]
     },
     "execution_count": 60,
     "metadata": {},
     "output_type": "execute_result"
    },
    {
     "data": {
      "image/png": "[encoded data removed]",
      "text/plain": [
       "<Figure size 432x288 with 1 Axes>"
      ]
     },
     "metadata": {
      "needs_background": "light"
     },
     "output_type": "display_data"
    }
   ],
   "source": [
    "from sklearn.decomposition import TruncatedSVD\n",
    "reducing_d=TruncatedSVD(450)\n",
    "reducing_d.fit(train_avgw2v)\n",
    "plt.plot(np.cumsum(reducing_d.explained_variance_ratio_))\n",
    "plt.xlabel('dimension')\n",
    "plt.ylabel('variance')"
   ]
  },
  {
   "cell_type": "code",
   "execution_count": 61,
   "metadata": {},
   "outputs": [],
   "source": [
    "train_n=reducing_d.fit_transform(train_avgw2v)\n",
    "cv_n=reducing_d.fit_transform(cv_avgw2v)\n",
    "test_n = reducing_d.fit_transform(test_avgw2v)"
   ]
  },
  {
   "cell_type": "code",
   "execution_count": 74,
   "metadata": {},
   "outputs": [
    {
     "data": {
      "text/plain": [
       "(10000,)"
      ]
     },
     "execution_count": 74,
     "metadata": {},
     "output_type": "execute_result"
    }
   ],
   "source": [
    "y_train[:10000].shape"
   ]
  },
  {
   "cell_type": "code",
   "execution_count": 89,
   "metadata": {
    "scrolled": true
   },
   "outputs": [
    {
     "name": "stderr",
     "output_type": "stream",
     "text": [
      "\n",
      "\n",
      "\n",
      "\n",
      "\n",
      "\n",
      "\n",
      "  0%|          | 0/8 [00:00<?, ?it/s]\n",
      "\n",
      "\n",
      "\n",
      "\n",
      "\n",
      "\n",
      " 12%|█▎        | 1/8 [01:12<08:25, 72.22s/it]\n",
      "\n",
      "\n",
      "\n",
      "\n",
      "\n",
      "\n",
      " 25%|██▌       | 2/8 [02:26<07:16, 72.70s/it]\n",
      "\n",
      "\n",
      "\n",
      "\n",
      "\n",
      "\n",
      " 38%|███▊      | 3/8 [03:42<06:09, 73.80s/it]\n",
      "\n",
      "\n",
      "\n",
      "\n",
      "\n",
      "\n",
      " 50%|█████     | 4/8 [05:03<05:04, 76.09s/it]\n",
      "\n",
      "\n",
      "\n",
      "\n",
      "\n",
      "\n",
      " 62%|██████▎   | 5/8 [06:23<03:51, 77.19s/it]\n",
      "\n",
      "\n",
      "\n",
      "\n",
      "\n",
      "\n",
      " 75%|███████▌  | 6/8 [07:39<02:33, 76.90s/it]\n",
      "\n",
      "\n",
      "\n",
      "\n",
      "\n",
      "\n",
      " 88%|████████▊ | 7/8 [08:55<01:16, 76.64s/it]\n",
      "\n",
      "\n",
      "\n",
      "\n",
      "\n",
      "\n",
      "100%|██████████| 8/8 [10:24<00:00, 80.32s/it]\n",
      "\n",
      "\n",
      "\n",
      "\n",
      "\n",
      "\n"
     ]
    }
   ],
   "source": [
    "train_auc=[]\n",
    "cv_auc=[]\n",
    "K=[19,31,45,49,53,71,81,91]\n",
    "for k in tqdm(K):\n",
    "    model=KNeighborsClassifier(n_neighbors=k,algorithm='brute')\n",
    "    model.fit(train_n,y_train)\n",
    "    y_train_prob=[]\n",
    "    y_train_prob.extend(model.predict_proba(train_n)[:,1])\n",
    "    train_auc.append(roc_auc_score(y_train,y_train_prob))\n",
    "    y_cv_prob=[]\n",
    "    y_cv_prob.extend(model.predict_proba(cv_n)[:,1])\n",
    "    cv_auc.append(roc_auc_score(y_cv,y_cv_prob))"
   ]
  },
  {
   "cell_type": "code",
   "execution_count": 91,
   "metadata": {},
   "outputs": [],
   "source": [
    "train_auc=train_auc[:8]"
   ]
  },
  {
   "cell_type": "code",
   "execution_count": 92,
   "metadata": {},
   "outputs": [
    {
     "data": {
      "image/png": "[encoded data removed]",
      "text/plain": [
       "<Figure size 432x288 with 1 Axes>"
      ]
     },
     "metadata": {
      "needs_background": "light"
     },
     "output_type": "display_data"
    }
   ],
   "source": [
    "k=[19,31,45,49,53,71,81,91]\n",
    "plt.plot(k,train_auc,label='train_auc')\n",
    "plt.plot(k,cv_auc,label='cv_auc')\n",
    "plt.legend()\n",
    "plt.scatter(k,train_auc)\n",
    "plt.scatter(k,cv_auc)\n",
    "plt.grid()\n",
    "plt.ylabel('auc')\n",
    "plt.xlabel('value of k')\n",
    "plt.show()"
   ]
  },
  {
   "cell_type": "code",
   "execution_count": 62,
   "metadata": {},
   "outputs": [],
   "source": [
    "bestK=91\n",
    "clf=KNeighborsClassifier(n_neighbors=bestK)\n",
    "clf.fit(train_n,y_train)\n",
    "y_train_pred=[]\n",
    "y_train_pred.extend(clf.predict_proba(train_n)[:,1])\n",
    "fpr_train,tpr_train,thresholds_train=roc_curve(y_train,y_train_pred)\n",
    "y_test_pred=[]\n",
    "y_test_pred.extend(clf.predict_proba(test_n)[:,1])\n",
    "fpr_test,tpr_test,thresholds_test=roc_curve(y_test,y_test_pred)"
   ]
  },
  {
   "cell_type": "code",
   "execution_count": 63,
   "metadata": {},
   "outputs": [
    {
     "data": {
      "text/plain": [
       "Text(0,0.5,'True positive rate')"
      ]
     },
     "execution_count": 63,
     "metadata": {},
     "output_type": "execute_result"
    },
    {
     "data": {
      "image/png": "[encoded data removed]",
      "text/plain": [
       "<Figure size 432x288 with 1 Axes>"
      ]
     },
     "metadata": {
      "needs_background": "light"
     },
     "output_type": "display_data"
    }
   ],
   "source": [
    "plt.title('Error')\n",
    "plt.plot(fpr_test,tpr_test,label='test='+str(auc(fpr_test,tpr_test)))\n",
    "plt.plot(fpr_train,tpr_train,label='train='+str(auc(fpr_train,tpr_train)))\n",
    "plt.legend()\n",
    "plt.xlabel('False positive rate')\n",
    "plt.ylabel('True positive rate')"
   ]
  },
  {
   "cell_type": "code",
   "execution_count": 64,
   "metadata": {},
   "outputs": [
    {
     "name": "stdout",
     "output_type": "stream",
     "text": [
      "Train Confusion Matrix\n",
      "the maximum value of tpr*(1-fpr) 0.39143788669392454 for threshold 0.495\n",
      "[[12272  8480]\n",
      " [ 7125 13627]]\n",
      "the maximum value of tpr*(1-fpr) 0.39143788669392454 for threshold 0.495\n"
     ]
    },
    {
     "data": {
      "text/plain": [
       "<matplotlib.axes._subplots.AxesSubplot at 0x1a0251a9dd8>"
      ]
     },
     "execution_count": 64,
     "metadata": {},
     "output_type": "execute_result"
    },
    {
     "data": {
      "image/png": "[encoded data removed]",
      "text/plain": [
       "<Figure size 432x288 with 1 Axes>"
      ]
     },
     "metadata": {
      "needs_background": "light"
     },
     "output_type": "display_data"
    }
   ],
   "source": [
    "# Please write all the code with proper documentation\n",
    "print('Train Confusion Matrix')\n",
    "print(confusion_matrix(y_train,predict(y_train_pred,thresholds_train,fpr_train,tpr_train)))\n",
    "tn,fp,fn,tp=confusion_matrix(y_train,predict(y_train_pred,thresholds_train,fpr_train,tpr_train)).ravel()\n",
    "mat=np.matrix([[tn,fn],[fp,tp]])\n",
    "sns.heatmap(mat, square=True, annot=True,fmt='d', cbar=False,            \n",
    "xticklabels=[0,1], yticklabels=[0,1]) "
   ]
  },
  {
   "cell_type": "code",
   "execution_count": 65,
   "metadata": {},
   "outputs": [
    {
     "name": "stdout",
     "output_type": "stream",
     "text": [
      "Test Confusion Matrix\n",
      "the maximum value of tpr*(1-fpr) 0.39143788669392454 for threshold 0.495\n",
      "[[1006 1314]\n",
      " [4710 7970]]\n",
      "the maximum value of tpr*(1-fpr) 0.39143788669392454 for threshold 0.495\n"
     ]
    },
    {
     "data": {
      "text/plain": [
       "<matplotlib.axes._subplots.AxesSubplot at 0x1a0088de2b0>"
      ]
     },
     "execution_count": 65,
     "metadata": {},
     "output_type": "execute_result"
    },
    {
     "data": {
      "image/png": "[encoded data removed]",
      "text/plain": [
       "<Figure size 432x288 with 1 Axes>"
      ]
     },
     "metadata": {
      "needs_background": "light"
     },
     "output_type": "display_data"
    }
   ],
   "source": [
    "print('Test Confusion Matrix')\n",
    "print(confusion_matrix(y_test,predict(y_test_pred,thresholds_train,fpr_train,tpr_train)))\n",
    "tn,fp,fn,tp=confusion_matrix(y_test,predict(y_test_pred,thresholds_train,fpr_train,tpr_train)).ravel()\n",
    "mat=np.matrix([[tn,fn],[fp,tp]])\n",
    "sns.heatmap(mat, square=True, annot=True, fmt='d', cbar=False,            \n",
    "xticklabels=[0,1], yticklabels=[0,1]) "
   ]
  },
  {
   "cell_type": "markdown",
   "metadata": {
    "colab_type": "text",
    "id": "TJLjbsNYCyp5"
   },
   "source": [
    "### 2.4.4 Applying KNN brute force on TFIDF W2V,<font color='red'> SET 4</font>"
   ]
  },
  {
   "cell_type": "code",
   "execution_count": 66,
   "metadata": {},
   "outputs": [
    {
     "name": "stdout",
     "output_type": "stream",
     "text": [
      "(15000, 701)\n",
      "(41504, 701)\n",
      "(10500, 701)\n"
     ]
    }
   ],
   "source": [
    "train_tfidfw2v=hstack((teacher_prefix_one_hot_train,school_state_one_hot_train,\\\n",
    "grade_cat_one_hot_train,categories_one_hot_train,subcategories_one_hot_train,price_one_hot_train,\\\n",
    "quantity_one_hot_train,wtw2v_train_essay,wtw2v_train_title)).tocsr()\n",
    "\n",
    "cv_tfidfw2v=hstack((teacher_prefix_one_hot_cv,school_state_one_hot_cv,\\\n",
    "grade_cat_one_hot_cv,categories_one_hot_cv,subcategories_one_hot_cv,price_one_hot_cv,\\\n",
    "quantity_one_hot_cv,wtw2v_cv_essay,wtw2v_cv_title)).tocsr()\n",
    "\n",
    "test_tfidfw2v=hstack((teacher_prefix_one_hot_test,school_state_one_hot_test,\\\n",
    "grade_cat_one_hot_test,categories_one_hot_test,subcategories_one_hot_test,price_one_hot_test,\\\n",
    "quantity_one_hot_test,wtw2v_test_essay,wtw2v_test_title)).tocsr()\n",
    "\n",
    "print(test_tfidfw2v.shape)\n",
    "print(train_tfidfw2v.shape)\n",
    "print(cv_tfidfw2v.shape)"
   ]
  },
  {
   "cell_type": "code",
   "execution_count": 67,
   "metadata": {},
   "outputs": [
    {
     "data": {
      "text/plain": [
       "Text(0,0.5,'variance')"
      ]
     },
     "execution_count": 67,
     "metadata": {},
     "output_type": "execute_result"
    },
    {
     "data": {
      "image/png": "[encoded data removed]",
      "text/plain": [
       "<Figure size 432x288 with 1 Axes>"
      ]
     },
     "metadata": {
      "needs_background": "light"
     },
     "output_type": "display_data"
    }
   ],
   "source": [
    "from sklearn.decomposition import TruncatedSVD\n",
    "reducing_d=TruncatedSVD(450)\n",
    "reducing_d.fit(train_tfidfw2v)\n",
    "plt.plot(np.cumsum(reducing_d.explained_variance_ratio_))\n",
    "plt.xlabel('dimension')\n",
    "plt.ylabel('variance')"
   ]
  },
  {
   "cell_type": "code",
   "execution_count": 68,
   "metadata": {},
   "outputs": [],
   "source": [
    "train_n=reducing_d.fit_transform(train_tfidfw2v)\n",
    "cv_n=reducing_d.fit_transform(cv_tfidfw2v)\n",
    "test_n = reducing_d.fit_transform(test_tfidfw2v)"
   ]
  },
  {
   "cell_type": "code",
   "execution_count": 103,
   "metadata": {
    "colab": {},
    "colab_type": "code",
    "id": "b-sFaOjWCyp6",
    "scrolled": true
   },
   "outputs": [
    {
     "name": "stderr",
     "output_type": "stream",
     "text": [
      "\n",
      "\n",
      "\n",
      "\n",
      "\n",
      "\n",
      "\n",
      "  0%|          | 0/9 [00:00<?, ?it/s]\n",
      "\n",
      "\n",
      "\n",
      "\n",
      "\n",
      "\n",
      " 11%|█         | 1/9 [01:23<11:05, 83.19s/it]\n",
      "\n",
      "\n",
      "\n",
      "\n",
      "\n",
      "\n",
      " 22%|██▏       | 2/9 [02:44<09:37, 82.49s/it]\n",
      "\n",
      "\n",
      "\n",
      "\n",
      "\n",
      "\n",
      " 33%|███▎      | 3/9 [04:27<08:53, 88.92s/it]\n",
      "\n",
      "\n",
      "\n",
      "\n",
      "\n",
      "\n",
      " 44%|████▍     | 4/9 [05:56<07:23, 88.67s/it]\n",
      "\n",
      "\n",
      "\n",
      "\n",
      "\n",
      "\n",
      " 56%|█████▌    | 5/9 [07:31<06:02, 90.59s/it]\n",
      "\n",
      "\n",
      "\n",
      "\n",
      "\n",
      "\n",
      " 67%|██████▋   | 6/9 [09:15<04:44, 94.76s/it]\n",
      "\n",
      "\n",
      "\n",
      "\n",
      "\n",
      "\n",
      " 78%|███████▊  | 7/9 [10:46<03:07, 93.71s/it]\n",
      "\n",
      "\n",
      "\n",
      "\n",
      "\n",
      "\n",
      " 89%|████████▉ | 8/9 [12:18<01:33, 93.16s/it]\n",
      "\n",
      "\n",
      "\n",
      "\n",
      "\n",
      "\n",
      "100%|██████████| 9/9 [13:48<00:00, 92.04s/it]\n",
      "\n",
      "\n",
      "\n",
      "\n",
      "\n",
      "\n"
     ]
    }
   ],
   "source": [
    "# Please wrtrain_auc=[]\n",
    "train_auc=[]\n",
    "cv_auc=[]\n",
    "k=[19,35,41,49,55,61,71,83,91]\n",
    "for k in tqdm(k):\n",
    "    model=KNeighborsClassifier(n_neighbors=k,algorithm='brute')\n",
    "    model.fit(train_n,y_train)\n",
    "    y_train_prob=[]\n",
    "    for i in range(0,train_n.shape[0],1000):\n",
    "        y_train_prob.extend(model.predict_proba(train_n[i:i+1000])[:,1])\n",
    "    y_cv_prob=[]\n",
    "    for i in range(0,cv_n.shape[0],1000):\n",
    "        y_cv_prob.extend(model.predict_proba(cv_n[i:i+1000])[:,1])\n",
    "    train_auc.append(roc_auc_score(y_train,y_train_prob))\n",
    "    cv_auc.append(roc_auc_score(y_cv,y_cv_prob))\n"
   ]
  },
  {
   "cell_type": "code",
   "execution_count": 104,
   "metadata": {},
   "outputs": [
    {
     "data": {
      "image/png": "[encoded data removed]",
      "text/plain": [
       "<Figure size 432x288 with 1 Axes>"
      ]
     },
     "metadata": {
      "needs_background": "light"
     },
     "output_type": "display_data"
    }
   ],
   "source": [
    "k=[19,35,41,49,55,61,71,83,91]\n",
    "plt.plot(k,train_auc,label='train_auc')\n",
    "plt.plot(k,cv_auc,label='cv_auc')\n",
    "plt.legend()\n",
    "plt.scatter(k,train_auc)\n",
    "plt.scatter(k,cv_auc)\n",
    "plt.grid()\n",
    "plt.ylabel('auc')\n",
    "plt.xlabel('value of k')\n",
    "plt.show()"
   ]
  },
  {
   "cell_type": "code",
   "execution_count": 69,
   "metadata": {},
   "outputs": [],
   "source": [
    "bestK=61\n",
    "clf=KNeighborsClassifier(n_neighbors=bestK,algorithm='brute')\n",
    "clf.fit(train_n,y_train)\n",
    "y_train_pred=[]\n",
    "y_train_pred.extend(clf.predict_proba(train_n)[:,1])\n",
    "fpr_train,tpr_train,thresholds_train=roc_curve(y_train,y_train_pred)\n",
    "y_test_pred=[]\n",
    "y_test_pred.extend(clf.predict_proba(test_n)[:,1])\n",
    "fpr_test,tpr_test,thresholds_test=roc_curve(y_test,y_test_pred)"
   ]
  },
  {
   "cell_type": "code",
   "execution_count": 70,
   "metadata": {},
   "outputs": [
    {
     "data": {
      "text/plain": [
       "Text(0,0.5,'True positive rate')"
      ]
     },
     "execution_count": 70,
     "metadata": {},
     "output_type": "execute_result"
    },
    {
     "data": {
      "image/png": "[encoded data removed]",
      "text/plain": [
       "<Figure size 432x288 with 1 Axes>"
      ]
     },
     "metadata": {
      "needs_background": "light"
     },
     "output_type": "display_data"
    }
   ],
   "source": [
    "plt.title('Error')\n",
    "plt.plot(fpr_test,tpr_test,label='test='+str(auc(fpr_test,tpr_test)))\n",
    "plt.plot(fpr_train,tpr_train,label='train='+str(auc(fpr_train,tpr_train)))\n",
    "plt.legend()\n",
    "plt.xlabel('False positive rate')\n",
    "plt.ylabel('True positive rate')"
   ]
  },
  {
   "cell_type": "code",
   "execution_count": 71,
   "metadata": {},
   "outputs": [
    {
     "name": "stdout",
     "output_type": "stream",
     "text": [
      "Train Confusion Matrix\n",
      "the maximum value of tpr*(1-fpr) 0.41402676527188353 for threshold 0.475\n",
      "[[12366  8386]\n",
      " [ 6650 14102]]\n",
      "the maximum value of tpr*(1-fpr) 0.41402676527188353 for threshold 0.475\n"
     ]
    },
    {
     "data": {
      "text/plain": [
       "<matplotlib.axes._subplots.AxesSubplot at 0x1a022ee8d30>"
      ]
     },
     "execution_count": 71,
     "metadata": {},
     "output_type": "execute_result"
    },
    {
     "data": {
      "image/png": "[encoded data removed]",
      "text/plain": [
       "<Figure size 432x288 with 1 Axes>"
      ]
     },
     "metadata": {
      "needs_background": "light"
     },
     "output_type": "display_data"
    }
   ],
   "source": [
    "# Please write all the code with proper documentation\n",
    "print('Train Confusion Matrix')\n",
    "print(confusion_matrix(y_train,predict(y_train_pred,thresholds_train,fpr_train,tpr_train)))\n",
    "tn,fp,fn,tp=confusion_matrix(y_train,predict(y_train_pred,thresholds_train,fpr_train,tpr_train)).ravel()\n",
    "mat=np.matrix([[tn,fn],[fp,tp]])\n",
    "sns.heatmap(mat, square=True, annot=True,fmt='d', cbar=False,            \n",
    "xticklabels=[0,1], yticklabels=[0,1]) "
   ]
  },
  {
   "cell_type": "code",
   "execution_count": 72,
   "metadata": {},
   "outputs": [
    {
     "name": "stdout",
     "output_type": "stream",
     "text": [
      "Test Confusion Matrix\n",
      "the maximum value of tpr*(1-fpr) 0.41402676527188353 for threshold 0.475\n",
      "[[ 976 1344]\n",
      " [5155 7525]]\n",
      "the maximum value of tpr*(1-fpr) 0.41402676527188353 for threshold 0.475\n"
     ]
    },
    {
     "data": {
      "text/plain": [
       "<matplotlib.axes._subplots.AxesSubplot at 0x1a0251f0470>"
      ]
     },
     "execution_count": 72,
     "metadata": {},
     "output_type": "execute_result"
    },
    {
     "data": {
      "image/png": "[encoded data removed]",
      "text/plain": [
       "<Figure size 432x288 with 1 Axes>"
      ]
     },
     "metadata": {
      "needs_background": "light"
     },
     "output_type": "display_data"
    }
   ],
   "source": [
    "print('Test Confusion Matrix')\n",
    "print(confusion_matrix(y_test,predict(y_test_pred,thresholds_train,fpr_train,tpr_train)))\n",
    "tn,fp,fn,tp=confusion_matrix(y_test,predict(y_test_pred,thresholds_train,fpr_train,tpr_train)).ravel()\n",
    "mat=np.matrix([[tn,fn],[fp,tp]])\n",
    "sns.heatmap(mat, square=True, annot=True, fmt='d', cbar=False,            \n",
    "xticklabels=[0,1], yticklabels=[0,1]) "
   ]
  },
  {
   "cell_type": "markdown",
   "metadata": {
    "colab_type": "text",
    "id": "G60n-gK8Cyp7"
   },
   "source": [
    "<h2>2.5 Feature selection with `SelectKBest` </h2>"
   ]
  },
  {
   "cell_type": "code",
   "execution_count": 73,
   "metadata": {
    "colab": {},
    "colab_type": "code",
    "id": "VThRCDvZCyp9"
   },
   "outputs": [
    {
     "name": "stdout",
     "output_type": "stream",
     "text": [
      "(41504, 27962)\n",
      "(10500, 27962)\n",
      "(15000, 27962)\n"
     ]
    }
   ],
   "source": [
    "# please write all the code with proper documentation, and proper titles for each subsection\n",
    "# go through documentations and blogs before you start coding\n",
    "# first figure out what to do, and then think about how to do.\n",
    "# reading and understanding error messages will be very much helpfull in debugging your code\n",
    "\n",
    "# when you plot any graph make sure you use \n",
    "    # a. Title, that describes your plot, this will be very helpful to the reader\n",
    "    # b. Legends if needed\n",
    "    # c. X-axis label\n",
    "    # d. Y-axis label\n",
    "train_x=hstack((teacher_prefix_one_hot_train,school_state_one_hot_train,num_or_not_train,\\\n",
    "grade_cat_one_hot_train,categories_one_hot_train,subcategories_one_hot_train,price_one_hot_train,\\\n",
    "quantity_one_hot_train,bow_train_essay,bow_train_title,wtw2v_train_essay,wtw2v_train_title,avgw2v_train_essay,avgw2v_train_title,tfidf_train_essay,tfidf_train_title)).tocsr()\n",
    "cv_x=hstack((teacher_prefix_one_hot_cv,school_state_one_hot_cv,num_or_not_cv,\\\n",
    "grade_cat_one_hot_cv,categories_one_hot_cv,subcategories_one_hot_cv,price_one_hot_cv,\\\n",
    "quantity_one_hot_cv,bow_cv_essay,bow_cv_title,wtw2v_cv_essay,wtw2v_cv_title,avgw2v_cv_essay,avgw2v_cv_title,tfidf_cv_essay,tfidf_cv_title)).tocsr()\n",
    "test_x=hstack((teacher_prefix_one_hot_test,school_state_one_hot_test,num_or_not_test,\\\n",
    "grade_cat_one_hot_test,categories_one_hot_test,subcategories_one_hot_test,price_one_hot_test,\\\n",
    "quantity_one_hot_test,bow_test_essay,bow_test_title,wtw2v_test_essay,wtw2v_test_title,avgw2v_test_essay,avgw2v_test_title,tfidf_test_essay,tfidf_test_title)).tocsr()\n",
    "print(train_x.shape)  \n",
    "print(cv_x.shape)\n",
    "print(test_x.shape)"
   ]
  },
  {
   "cell_type": "code",
   "execution_count": null,
   "metadata": {},
   "outputs": [],
   "source": []
  },
  {
   "cell_type": "code",
   "execution_count": 74,
   "metadata": {},
   "outputs": [],
   "source": [
    "import warnings\n",
    "warnings.filterwarnings(\"ignore\")\n",
    "\n",
    "from sklearn.feature_selection import SelectKBest,f_classif\n",
    "train_new=SelectKBest(f_classif,k=2000).fit_transform(train_x,y_train)\n",
    "cv_new=SelectKBest(f_classif,k=2000).fit_transform(cv_x,y_cv)\n",
    "test_new=SelectKBest(f_classif,k=2000).fit_transform(test_x,y_test)"
   ]
  },
  {
   "cell_type": "code",
   "execution_count": 75,
   "metadata": {},
   "outputs": [
    {
     "name": "stdout",
     "output_type": "stream",
     "text": [
      "(41504, 2000)\n",
      "(10500, 2000)\n",
      "(15000, 2000)\n"
     ]
    }
   ],
   "source": [
    "print(train_new.shape)\n",
    "print(cv_new.shape)\n",
    "print(test_new.shape)"
   ]
  },
  {
   "cell_type": "code",
   "execution_count": 65,
   "metadata": {},
   "outputs": [
    {
     "name": "stderr",
     "output_type": "stream",
     "text": [
      "100%|██████████| 9/9 [5:10:41<00:00, 1852.81s/it]  \n"
     ]
    }
   ],
   "source": [
    "train_auc=[]\n",
    "cv_auc=[]\n",
    "from tqdm import tqdm\n",
    "K=[11,25,39,41,57,61,77,87,93]\n",
    "for k in tqdm(K):\n",
    "    model=KNeighborsClassifier(n_neighbors=k,algorithm='brute')\n",
    "    model.fit(train_new,y_train)\n",
    "    y_train_prob=[]\n",
    "    for i in range(0,train_new.shape[0],1000):\n",
    "        y_train_prob.extend(model.predict_proba(train_new[i:i+1000])[:,1])\n",
    "    y_cv_prob=[]\n",
    "    for i in range(0,cv_new.shape[0],1000):\n",
    "        y_cv_prob.extend(model.predict_proba(cv_new[i:i+1000])[:,1])\n",
    "    train_auc.append(roc_auc_score(y_train,y_train_prob))\n",
    "    cv_auc.append(roc_auc_score(y_cv,y_cv_prob))"
   ]
  },
  {
   "cell_type": "code",
   "execution_count": 66,
   "metadata": {},
   "outputs": [
    {
     "data": {
      "image/png": "[encoded data removed]",
      "text/plain": [
       "<Figure size 432x288 with 1 Axes>"
      ]
     },
     "metadata": {
      "needs_background": "light"
     },
     "output_type": "display_data"
    }
   ],
   "source": [
    "k=[11,25,39,41,57,61,77,87,93]\n",
    "plt.plot(k,train_auc,label='train_auc')\n",
    "plt.plot(k,cv_auc,label='cv_auc')\n",
    "plt.legend()\n",
    "plt.scatter(k,train_auc)\n",
    "plt.scatter(k,cv_auc)\n",
    "plt.grid()\n",
    "plt.ylabel('auc')\n",
    "plt.xlabel('value of k')\n",
    "plt.show()"
   ]
  },
  {
   "cell_type": "code",
   "execution_count": 76,
   "metadata": {},
   "outputs": [],
   "source": [
    "bestK=77\n",
    "clf=KNeighborsClassifier(n_neighbors=bestK,algorithm='brute')\n",
    "clf.fit(train_new,y_train)\n",
    "y_train_pred=[]\n",
    "y_train_pred.extend(clf.predict_proba(train_new)[:,1])\n",
    "fpr_train,tpr_train,thresholds_train=roc_curve(y_train,y_train_pred)\n",
    "y_test_pred=[]\n",
    "y_test_pred.extend(clf.predict_proba(test_new)[:,1])\n",
    "fpr_test,tpr_test,thresholds_test=roc_curve(y_test,y_test_pred)"
   ]
  },
  {
   "cell_type": "code",
   "execution_count": 77,
   "metadata": {},
   "outputs": [
    {
     "data": {
      "text/plain": [
       "Text(0,0.5,'True positive rate')"
      ]
     },
     "execution_count": 77,
     "metadata": {},
     "output_type": "execute_result"
    },
    {
     "data": {
      "image/png": "[encoded data removed]",
      "text/plain": [
       "<Figure size 432x288 with 1 Axes>"
      ]
     },
     "metadata": {
      "needs_background": "light"
     },
     "output_type": "display_data"
    }
   ],
   "source": [
    "plt.title('Error')\n",
    "plt.plot(fpr_test,tpr_test,label='test='+str(auc(fpr_test,tpr_test)))\n",
    "plt.plot(fpr_train,tpr_train,label='train='+str(auc(fpr_train,tpr_train)))\n",
    "plt.legend()\n",
    "plt.xlabel('False positive rate')\n",
    "plt.ylabel('True positive rate')"
   ]
  },
  {
   "cell_type": "code",
   "execution_count": 78,
   "metadata": {},
   "outputs": [
    {
     "name": "stdout",
     "output_type": "stream",
     "text": [
      "Train Confusion Matrix\n",
      "the maximum value of tpr*(1-fpr) 0.4198249472494203 for threshold 0.364\n",
      "[[13722  7030]\n",
      " [ 7590 13162]]\n",
      "the maximum value of tpr*(1-fpr) 0.4198249472494203 for threshold 0.364\n"
     ]
    },
    {
     "data": {
      "text/plain": [
       "<matplotlib.axes._subplots.AxesSubplot at 0x1a02c4fbeb8>"
      ]
     },
     "execution_count": 78,
     "metadata": {},
     "output_type": "execute_result"
    },
    {
     "data": {
      "image/png": "[encoded data removed]",
      "text/plain": [
       "<Figure size 432x288 with 1 Axes>"
      ]
     },
     "metadata": {
      "needs_background": "light"
     },
     "output_type": "display_data"
    }
   ],
   "source": [
    "# Please write all the code with proper documentation\n",
    "print('Train Confusion Matrix')\n",
    "print(confusion_matrix(y_train,predict(y_train_pred,thresholds_train,fpr_train,tpr_train)))\n",
    "tn,fp,fn,tp=confusion_matrix(y_train,predict(y_train_pred,thresholds_train,fpr_train,tpr_train)).ravel()\n",
    "mat=np.matrix([[tn,fn],[fp,tp]])\n",
    "sns.heatmap(mat, square=True, annot=True,fmt='d', cbar=False,            \n",
    "xticklabels=[0,1], yticklabels=[0,1]) "
   ]
  },
  {
   "cell_type": "code",
   "execution_count": 79,
   "metadata": {},
   "outputs": [
    {
     "name": "stdout",
     "output_type": "stream",
     "text": [
      "Test Confusion Matrix\n",
      "the maximum value of tpr*(1-fpr) 0.4198249472494203 for threshold 0.364\n",
      "[[ 2133   187]\n",
      " [11544  1136]]\n",
      "the maximum value of tpr*(1-fpr) 0.4198249472494203 for threshold 0.364\n"
     ]
    },
    {
     "data": {
      "text/plain": [
       "<matplotlib.axes._subplots.AxesSubplot at 0x1a008d95668>"
      ]
     },
     "execution_count": 79,
     "metadata": {},
     "output_type": "execute_result"
    },
    {
     "data": {
      "image/png": "[encoded data removed]",
      "text/plain": [
       "<Figure size 432x288 with 1 Axes>"
      ]
     },
     "metadata": {
      "needs_background": "light"
     },
     "output_type": "display_data"
    }
   ],
   "source": [
    "print('Test Confusion Matrix')\n",
    "print(confusion_matrix(y_test,predict(y_test_pred,thresholds_train,fpr_train,tpr_train)))\n",
    "tn,fp,fn,tp=confusion_matrix(y_test,predict(y_test_pred,thresholds_train,fpr_train,tpr_train)).ravel()\n",
    "mat=np.matrix([[tn,fn],[fp,tp]])\n",
    "sns.heatmap(mat, square=True, annot=True, fmt='d', cbar=False,            \n",
    "xticklabels=[0,1], yticklabels=[0,1]) "
   ]
  },
  {
   "cell_type": "markdown",
   "metadata": {
    "colab_type": "text",
    "id": "bemispVtCyp-"
   },
   "source": [
    "<h1>3. Conclusions</h1>"
   ]
  },
  {
   "cell_type": "code",
   "execution_count": 80,
   "metadata": {},
   "outputs": [],
   "source": [
    "from prettytable import PrettyTable\n",
    "table=PrettyTable()\n",
    "table.field_names=['set','hyperparameter','score']\n",
    "table.add_row(['BOW','71','0.58'])\n",
    "table.add_row(['TFIDF','91','0.54'])\n",
    "table.add_row(['AVGW2V','91','0.54'])\n",
    "table.add_row(['TFIDFW2V','61','0.51'])\n",
    "table.add_row(['SELECTKBEST','77','0.50'])"
   ]
  },
  {
   "cell_type": "code",
   "execution_count": 81,
   "metadata": {},
   "outputs": [
    {
     "name": "stdout",
     "output_type": "stream",
     "text": [
      "+-------------+----------------+-------+\n",
      "|     set     | hyperparameter | score |\n",
      "+-------------+----------------+-------+\n",
      "|     BOW     |       71       |  0.58 |\n",
      "|    TFIDF    |       91       |  0.54 |\n",
      "|    AVGW2V   |       91       |  0.54 |\n",
      "|   TFIDFW2V  |       61       |  0.51 |\n",
      "| SELECTKBEST |       77       |  0.50 |\n",
      "+-------------+----------------+-------+\n"
     ]
    }
   ],
   "source": [
    "print(table)"
   ]
  }
 ],
 "metadata": {
  "colab": {
   "collapsed_sections": [
    "0d0QeeQ-CyoD",
    "5YnkzKnmCyoN",
    "W544CoFtCyoN",
    "gK_SHRpTCyol",
    "YHwGesZUCyo1",
    "_s3QN_ZNCypD",
    "B1dIm8PiCypw",
    "s85gPOAbCyp1",
    "oq3NW2CbCyp3",
    "TJLjbsNYCyp5"
   ],
   "name": "3_DonorsChoose_KNN.ipynb",
   "provenance": [],
   "version": "0.3.2"
  },
  "kernelspec": {
   "display_name": "Python 3",
   "language": "python",
   "name": "python3"
  },
  "language_info": {
   "codemirror_mode": {
    "name": "ipython",
    "version": 3
   },
   "file_extension": ".py",
   "mimetype": "text/x-python",
   "name": "python",
   "nbconvert_exporter": "python",
   "pygments_lexer": "ipython3",
   "version": "3.7.3"
  }
 },
 "nbformat": 4,
 "nbformat_minor": 1
}
