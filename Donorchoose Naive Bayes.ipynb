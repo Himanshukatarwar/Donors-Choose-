{
 "cells": [
  {
   "cell_type": "markdown",
   "metadata": {
    "colab_type": "text",
    "id": "7Od5bBp9N1Lg"
   },
   "source": [
    "# DonorsChoose"
   ]
  },
  {
   "cell_type": "markdown",
   "metadata": {
    "colab_type": "text",
    "id": "5u7wpFZwN1Lh"
   },
   "source": [
    "<p>\n",
    "DonorsChoose.org receives hundreds of thousands of project proposals each year for classroom projects in need of funding. Right now, a large number of volunteers is needed to manually screen each submission before it's approved to be posted on the DonorsChoose.org website.\n",
    "</p>\n",
    "<p>\n",
    "    Next year, DonorsChoose.org expects to receive close to 500,000 project proposals. As a result, there are three main problems they need to solve:\n",
    "<ul>\n",
    "<li>\n",
    "    How to scale current manual processes and resources to screen 500,000 projects so that they can be posted as quickly and as efficiently as possible</li>\n",
    "    <li>How to increase the consistency of project vetting across different volunteers to improve the experience for teachers</li>\n",
    "    <li>How to focus volunteer time on the applications that need the most assistance</li>\n",
    "    </ul>\n",
    "</p>    \n",
    "<p>\n",
    "The goal of the competition is to predict whether or not a DonorsChoose.org project proposal submitted by a teacher will be approved, using the text of project descriptions as well as additional metadata about the project, teacher, and school. DonorsChoose.org can then use this information to identify projects most likely to need further review before approval.\n",
    "</p>"
   ]
  },
  {
   "cell_type": "markdown",
   "metadata": {
    "colab_type": "text",
    "id": "keOckW8PN1Li"
   },
   "source": [
    "## About the DonorsChoose Data Set\n",
    "\n",
    "The `train.csv` data set provided by DonorsChoose contains the following features:\n",
    "\n",
    "Feature | Description \n",
    "----------|---------------\n",
    "**`project_id`** | A unique identifier for the proposed project. **Example:** `p036502`   \n",
    "**`project_title`**    | Title of the project. **Examples:**<br><ul><li><code>Art Will Make You Happy!</code></li><li><code>First Grade Fun</code></li></ul> \n",
    "**`project_grade_category`** | Grade level of students for which the project is targeted. One of the following enumerated values: <br/><ul><li><code>Grades PreK-2</code></li><li><code>Grades 3-5</code></li><li><code>Grades 6-8</code></li><li><code>Grades 9-12</code></li></ul>  \n",
    " **`project_subject_categories`** | One or more (comma-separated) subject categories for the project from the following enumerated list of values:  <br/><ul><li><code>Applied Learning</code></li><li><code>Care &amp; Hunger</code></li><li><code>Health &amp; Sports</code></li><li><code>History &amp; Civics</code></li><li><code>Literacy &amp; Language</code></li><li><code>Math &amp; Science</code></li><li><code>Music &amp; The Arts</code></li><li><code>Special Needs</code></li><li><code>Warmth</code></li></ul><br/> **Examples:** <br/><ul><li><code>Music &amp; The Arts</code></li><li><code>Literacy &amp; Language, Math &amp; Science</code></li>  \n",
    "  **`school_state`** | State where school is located ([Two-letter U.S. postal code](https://en.wikipedia.org/wiki/List_of_U.S._state_abbreviations#Postal_codes)). **Example:** `WY`\n",
    "**`project_subject_subcategories`** | One or more (comma-separated) subject subcategories for the project. **Examples:** <br/><ul><li><code>Literacy</code></li><li><code>Literature &amp; Writing, Social Sciences</code></li></ul> \n",
    "**`project_resource_summary`** | An explanation of the resources needed for the project. **Example:** <br/><ul><li><code>My students need hands on literacy materials to manage sensory needs!</code</li></ul> \n",
    "**`project_essay_1`**    | First application essay<sup>*</sup>  \n",
    "**`project_essay_2`**    | Second application essay<sup>*</sup> \n",
    "**`project_essay_3`**    | Third application essay<sup>*</sup> \n",
    "**`project_essay_4`**    | Fourth application essay<sup>*</sup> \n",
    "**`project_submitted_datetime`** | Datetime when project application was submitted. **Example:** `2016-04-28 12:43:56.245`   \n",
    "**`teacher_id`** | A unique identifier for the teacher of the proposed project. **Example:** `bdf8baa8fedef6bfeec7ae4ff1c15c56`  \n",
    "**`teacher_prefix`** | Teacher's title. One of the following enumerated values: <br/><ul><li><code>nan</code></li><li><code>Dr.</code></li><li><code>Mr.</code></li><li><code>Mrs.</code></li><li><code>Ms.</code></li><li><code>Teacher.</code></li></ul>  \n",
    "**`teacher_number_of_previously_posted_projects`** | Number of project applications previously submitted by the same teacher. **Example:** `2` \n",
    "\n",
    "<sup>*</sup> See the section <b>Notes on the Essay Data</b> for more details about these features.\n",
    "\n",
    "Additionally, the `resources.csv` data set provides more data about the resources required for each project. Each line in this file represents a resource required by a project:\n",
    "\n",
    "Feature | Description \n",
    "----------|---------------\n",
    "**`id`** | A `project_id` value from the `train.csv` file.  **Example:** `p036502`   \n",
    "**`description`** | Desciption of the resource. **Example:** `Tenor Saxophone Reeds, Box of 25`   \n",
    "**`quantity`** | Quantity of the resource required. **Example:** `3`   \n",
    "**`price`** | Price of the resource required. **Example:** `9.95`   \n",
    "\n",
    "**Note:** Many projects require multiple resources. The `id` value corresponds to a `project_id` in train.csv, so you use it as a key to retrieve all resources needed for a project:\n",
    "\n",
    "The data set contains the following label (the value you will attempt to predict):\n",
    "\n",
    "Label | Description\n",
    "----------|---------------\n",
    "`project_is_approved` | A binary flag indicating whether DonorsChoose approved the project. A value of `0` indicates the project was not approved, and a value of `1` indicates the project was approved."
   ]
  },
  {
   "cell_type": "markdown",
   "metadata": {
    "colab_type": "text",
    "id": "uxakXcmGN1Lj"
   },
   "source": [
    "### Notes on the Essay Data\n",
    "\n",
    "<ul>\n",
    "Prior to May 17, 2016, the prompts for the essays were as follows:\n",
    "<li>__project_essay_1:__ \"Introduce us to your classroom\"</li>\n",
    "<li>__project_essay_2:__ \"Tell us more about your students\"</li>\n",
    "<li>__project_essay_3:__ \"Describe how your students will use the materials you're requesting\"</li>\n",
    "<li>__project_essay_3:__ \"Close by sharing why your project will make a difference\"</li>\n",
    "</ul>\n",
    "\n",
    "\n",
    "<ul>\n",
    "Starting on May 17, 2016, the number of essays was reduced from 4 to 2, and the prompts for the first 2 essays were changed to the following:<br>\n",
    "<li>__project_essay_1:__ \"Describe your students: What makes your students special? Specific details about their background, your neighborhood, and your school are all helpful.\"</li>\n",
    "<li>__project_essay_2:__ \"About your project: How will these materials make a difference in your students' learning and improve their school lives?\"</li>\n",
    "<br>For all projects with project_submitted_datetime of 2016-05-17 and later, the values of project_essay_3 and project_essay_4 will be NaN.\n",
    "</ul>\n"
   ]
  },
  {
   "cell_type": "code",
   "execution_count": 1,
   "metadata": {
    "colab": {},
    "colab_type": "code",
    "id": "Ac3XhloUN1Ll",
    "outputId": "85b85465-2d9f-4fc0-980a-b36834b07c96"
   },
   "outputs": [],
   "source": [
    "%matplotlib inline\n",
    "import warnings\n",
    "warnings.filterwarnings(\"ignore\")\n",
    "\n",
    "import sqlite3\n",
    "import pandas as pd\n",
    "import numpy as np\n",
    "import nltk\n",
    "import string\n",
    "import matplotlib.pyplot as plt\n",
    "import seaborn as sns\n",
    "from sklearn.feature_extraction.text import TfidfTransformer\n",
    "from sklearn.feature_extraction.text import TfidfVectorizer\n",
    "\n",
    "from sklearn.feature_extraction.text import CountVectorizer\n",
    "from sklearn.metrics import confusion_matrix\n",
    "from sklearn import metrics\n",
    "from sklearn.metrics import roc_curve, auc\n",
    "from nltk.stem.porter import PorterStemmer\n",
    "\n",
    "import re\n",
    "# Tutorial about Python regular expressions: https://pymotw.com/2/re/\n",
    "import string\n",
    "from nltk.corpus import stopwords\n",
    "from nltk.stem import PorterStemmer\n",
    "from nltk.stem.wordnet import WordNetLemmatizer\n",
    "\n",
    "from gensim.models import Word2Vec\n",
    "from gensim.models import KeyedVectors\n",
    "import pickle\n",
    "\n",
    "from tqdm import tqdm\n",
    "import os\n",
    "\n",
    "\n",
    "from collections import Counter"
   ]
  },
  {
   "cell_type": "markdown",
   "metadata": {
    "colab_type": "text",
    "id": "So4PAGWPN1Lv"
   },
   "source": [
    "## 1.1 Reading Data"
   ]
  },
  {
   "cell_type": "code",
   "execution_count": 2,
   "metadata": {
    "colab": {},
    "colab_type": "code",
    "id": "kV1VkghZN1Lw"
   },
   "outputs": [
    {
     "data": {
      "text/plain": [
       "Index(['Unnamed: 0', 'id', 'teacher_id', 'teacher_prefix', 'school_state',\n",
       "       'project_submitted_datetime', 'project_grade_category',\n",
       "       'project_subject_categories', 'project_subject_subcategories',\n",
       "       'project_title', 'project_essay_1', 'project_essay_2',\n",
       "       'project_essay_3', 'project_essay_4', 'project_resource_summary',\n",
       "       'teacher_number_of_previously_posted_projects', 'project_is_approved',\n",
       "       'price', 'quantity'],\n",
       "      dtype='object')"
      ]
     },
     "execution_count": 2,
     "metadata": {},
     "output_type": "execute_result"
    }
   ],
   "source": [
    "project_data = pd.read_csv('train_data.csv')\n",
    "resource_data = pd.read_csv('resources.csv')\n",
    "price_data = resource_data.groupby('id').agg({'price':'sum', 'quantity':'sum'}).reset_index()\n",
    "project_data = pd.merge(project_data, price_data, on='id', how='left')\n",
    "project_data.columns"
   ]
  },
  {
   "cell_type": "code",
   "execution_count": 3,
   "metadata": {
    "colab": {},
    "colab_type": "code",
    "id": "2XZKpv2zN1L0",
    "outputId": "8f6e9329-73c0-46a1-dcd3-cfbb1ebae005"
   },
   "outputs": [
    {
     "name": "stdout",
     "output_type": "stream",
     "text": [
      "Number of data points in train data (109248, 19)\n",
      "--------------------------------------------------\n",
      "The attributes of data : ['Unnamed: 0' 'id' 'teacher_id' 'teacher_prefix' 'school_state'\n",
      " 'project_submitted_datetime' 'project_grade_category'\n",
      " 'project_subject_categories' 'project_subject_subcategories'\n",
      " 'project_title' 'project_essay_1' 'project_essay_2' 'project_essay_3'\n",
      " 'project_essay_4' 'project_resource_summary'\n",
      " 'teacher_number_of_previously_posted_projects' 'project_is_approved'\n",
      " 'price' 'quantity']\n"
     ]
    }
   ],
   "source": [
    "print(\"Number of data points in train data\", project_data.shape)\n",
    "print('-'*50)\n",
    "print(\"The attributes of data :\", project_data.columns.values)"
   ]
  },
  {
   "cell_type": "code",
   "execution_count": 4,
   "metadata": {
    "colab": {},
    "colab_type": "code",
    "id": "56EW1wdvN1L5",
    "outputId": "bb0af8a7-834e-42ea-afcb-492b1e14d4df"
   },
   "outputs": [
    {
     "name": "stdout",
     "output_type": "stream",
     "text": [
      "Number of data points in train data (1541272, 4)\n",
      "['id' 'description' 'quantity' 'price']\n"
     ]
    },
    {
     "data": {
      "text/html": [
       "<div>\n",
       "<style scoped>\n",
       "    .dataframe tbody tr th:only-of-type {\n",
       "        vertical-align: middle;\n",
       "    }\n",
       "\n",
       "    .dataframe tbody tr th {\n",
       "        vertical-align: top;\n",
       "    }\n",
       "\n",
       "    .dataframe thead th {\n",
       "        text-align: right;\n",
       "    }\n",
       "</style>\n",
       "<table border=\"1\" class=\"dataframe\">\n",
       "  <thead>\n",
       "    <tr style=\"text-align: right;\">\n",
       "      <th></th>\n",
       "      <th>id</th>\n",
       "      <th>description</th>\n",
       "      <th>quantity</th>\n",
       "      <th>price</th>\n",
       "    </tr>\n",
       "  </thead>\n",
       "  <tbody>\n",
       "    <tr>\n",
       "      <th>0</th>\n",
       "      <td>p233245</td>\n",
       "      <td>LC652 - Lakeshore Double-Space Mobile Drying Rack</td>\n",
       "      <td>1</td>\n",
       "      <td>149.00</td>\n",
       "    </tr>\n",
       "    <tr>\n",
       "      <th>1</th>\n",
       "      <td>p069063</td>\n",
       "      <td>Bouncy Bands for Desks (Blue support pipes)</td>\n",
       "      <td>3</td>\n",
       "      <td>14.95</td>\n",
       "    </tr>\n",
       "  </tbody>\n",
       "</table>\n",
       "</div>"
      ],
      "text/plain": [
       "        id                                        description  quantity  \\\n",
       "0  p233245  LC652 - Lakeshore Double-Space Mobile Drying Rack         1   \n",
       "1  p069063        Bouncy Bands for Desks (Blue support pipes)         3   \n",
       "\n",
       "    price  \n",
       "0  149.00  \n",
       "1   14.95  "
      ]
     },
     "execution_count": 4,
     "metadata": {},
     "output_type": "execute_result"
    }
   ],
   "source": [
    "print(\"Number of data points in train data\", resource_data.shape)\n",
    "print(resource_data.columns.values)\n",
    "resource_data.head(2)"
   ]
  },
  {
   "cell_type": "markdown",
   "metadata": {
    "colab_type": "text",
    "id": "49t2H2HwN1L8"
   },
   "source": [
    "## 1.2 preprocessing of `project_subject_categories`"
   ]
  },
  {
   "cell_type": "code",
   "execution_count": 5,
   "metadata": {
    "colab": {},
    "colab_type": "code",
    "id": "RMx6975eN1L-"
   },
   "outputs": [],
   "source": [
    "catogories = list(project_data['project_subject_categories'].values)\n",
    "# remove special characters from list of strings python: https://stackoverflow.com/a/47301924/4084039\n",
    "\n",
    "# https://www.geeksforgeeks.org/removing-stop-words-nltk-python/\n",
    "# https://stackoverflow.com/questions/23669024/how-to-strip-a-specific-word-from-a-string\n",
    "# https://stackoverflow.com/questions/8270092/remove-all-whitespace-in-a-string-in-python\n",
    "cat_list = []\n",
    "for i in catogories:\n",
    "    temp = \"\"\n",
    "    # consider we have text like this \"Math & Science, Warmth, Care & Hunger\"\n",
    "    for j in i.split(','): # it will split it in three parts [\"Math & Science\", \"Warmth\", \"Care & Hunger\"]\n",
    "        if 'The' in j.split(): # this will split each of the catogory based on space \"Math & Science\"=> \"Math\",\"&\", \"Science\"\n",
    "            j=j.replace('The','') # if we have the words \"The\" we are going to replace it with ''(i.e removing 'The')\n",
    "        j = j.replace(' ','') # we are placeing all the ' '(space) with ''(empty) ex:\"Math & Science\"=>\"Math&Science\"\n",
    "        temp+=j.strip()+\" \" #\" abc \".strip() will return \"abc\", remove the trailing spaces\n",
    "        temp = temp.replace('&','_') # we are replacing the & value into \n",
    "    cat_list.append(temp.strip())\n",
    "    \n",
    "project_data['clean_categories'] = cat_list\n",
    "project_data.drop(['project_subject_categories'], axis=1, inplace=True)\n",
    "\n",
    "from collections import Counter\n",
    "my_counter = Counter()\n",
    "for word in project_data['clean_categories'].values:\n",
    "    my_counter.update(word.split())\n",
    "\n",
    "cat_dict = dict(my_counter)\n",
    "sorted_cat_dict = dict(sorted(cat_dict.items(), key=lambda kv: kv[1]))\n"
   ]
  },
  {
   "cell_type": "markdown",
   "metadata": {
    "colab_type": "text",
    "id": "hIRe9h-PN1MB"
   },
   "source": [
    "## 1.3 preprocessing of `project_subject_subcategories`"
   ]
  },
  {
   "cell_type": "code",
   "execution_count": 6,
   "metadata": {
    "colab": {},
    "colab_type": "code",
    "id": "KH655NiTN1MD"
   },
   "outputs": [],
   "source": [
    "sub_catogories = list(project_data['project_subject_subcategories'].values)\n",
    "# remove special characters from list of strings python: https://stackoverflow.com/a/47301924/4084039\n",
    "\n",
    "# https://www.geeksforgeeks.org/removing-stop-words-nltk-python/\n",
    "# https://stackoverflow.com/questions/23669024/how-to-strip-a-specific-word-from-a-string\n",
    "# https://stackoverflow.com/questions/8270092/remove-all-whitespace-in-a-string-in-python\n",
    "\n",
    "sub_cat_list = []\n",
    "for i in sub_catogories:\n",
    "    temp = \"\"\n",
    "    # consider we have text like this \"Math & Science, Warmth, Care & Hunger\"\n",
    "    for j in i.split(','): # it will split it in three parts [\"Math & Science\", \"Warmth\", \"Care & Hunger\"]\n",
    "        if 'The' in j.split(): # this will split each of the catogory based on space \"Math & Science\"=> \"Math\",\"&\", \"Science\"\n",
    "            j=j.replace('The','') # if we have the words \"The\" we are going to replace it with ''(i.e removing 'The')\n",
    "        j = j.replace(' ','') # we are placeing all the ' '(space) with ''(empty) ex:\"Math & Science\"=>\"Math&Science\"\n",
    "        temp +=j.strip()+\" \"#\" abc \".strip() will return \"abc\", remove the trailing spaces\n",
    "        temp = temp.replace('&','_')\n",
    "    sub_cat_list.append(temp.strip())\n",
    "\n",
    "project_data['clean_subcategories'] = sub_cat_list\n",
    "project_data.drop(['project_subject_subcategories'], axis=1, inplace=True)\n",
    "\n",
    "# count of all the words in corpus python: https://stackoverflow.com/a/22898595/4084039\n",
    "my_counter = Counter()\n",
    "for word in project_data['clean_subcategories'].values:\n",
    "    my_counter.update(word.split())\n",
    "    \n",
    "sub_cat_dict = dict(my_counter)\n",
    "sorted_sub_cat_dict = dict(sorted(sub_cat_dict.items(), key=lambda kv: kv[1]))"
   ]
  },
  {
   "cell_type": "markdown",
   "metadata": {
    "colab_type": "text",
    "id": "EftBxw8MN1MG"
   },
   "source": [
    "## 1.3 Text preprocessing"
   ]
  },
  {
   "cell_type": "code",
   "execution_count": 7,
   "metadata": {
    "colab": {},
    "colab_type": "code",
    "id": "Ak4yp4twN1MH"
   },
   "outputs": [],
   "source": [
    "# merge two column text dataframe: \n",
    "project_data[\"essay\"] = project_data[\"project_essay_1\"].map(str) +\\\n",
    "                        project_data[\"project_essay_2\"].map(str) + \\\n",
    "                        project_data[\"project_essay_3\"].map(str) + \\\n",
    "                        project_data[\"project_essay_4\"].map(str)"
   ]
  },
  {
   "cell_type": "code",
   "execution_count": 8,
   "metadata": {
    "colab": {},
    "colab_type": "code",
    "id": "q6ST72vNN1MK",
    "outputId": "4ecd7ed3-86c5-48b9-9f4d-2ba8be3237c3"
   },
   "outputs": [
    {
     "data": {
      "text/html": [
       "<div>\n",
       "<style scoped>\n",
       "    .dataframe tbody tr th:only-of-type {\n",
       "        vertical-align: middle;\n",
       "    }\n",
       "\n",
       "    .dataframe tbody tr th {\n",
       "        vertical-align: top;\n",
       "    }\n",
       "\n",
       "    .dataframe thead th {\n",
       "        text-align: right;\n",
       "    }\n",
       "</style>\n",
       "<table border=\"1\" class=\"dataframe\">\n",
       "  <thead>\n",
       "    <tr style=\"text-align: right;\">\n",
       "      <th></th>\n",
       "      <th>Unnamed: 0</th>\n",
       "      <th>id</th>\n",
       "      <th>teacher_id</th>\n",
       "      <th>teacher_prefix</th>\n",
       "      <th>school_state</th>\n",
       "      <th>project_submitted_datetime</th>\n",
       "      <th>project_grade_category</th>\n",
       "      <th>project_title</th>\n",
       "      <th>project_essay_1</th>\n",
       "      <th>project_essay_2</th>\n",
       "      <th>project_essay_3</th>\n",
       "      <th>project_essay_4</th>\n",
       "      <th>project_resource_summary</th>\n",
       "      <th>teacher_number_of_previously_posted_projects</th>\n",
       "      <th>project_is_approved</th>\n",
       "      <th>price</th>\n",
       "      <th>quantity</th>\n",
       "      <th>clean_categories</th>\n",
       "      <th>clean_subcategories</th>\n",
       "      <th>essay</th>\n",
       "    </tr>\n",
       "  </thead>\n",
       "  <tbody>\n",
       "    <tr>\n",
       "      <th>0</th>\n",
       "      <td>160221</td>\n",
       "      <td>p253737</td>\n",
       "      <td>c90749f5d961ff158d4b4d1e7dc665fc</td>\n",
       "      <td>Mrs.</td>\n",
       "      <td>IN</td>\n",
       "      <td>2016-12-05 13:43:57</td>\n",
       "      <td>Grades PreK-2</td>\n",
       "      <td>Educational Support for English Learners at Home</td>\n",
       "      <td>My students are English learners that are work...</td>\n",
       "      <td>\\\"The limits of your language are the limits o...</td>\n",
       "      <td>NaN</td>\n",
       "      <td>NaN</td>\n",
       "      <td>My students need opportunities to practice beg...</td>\n",
       "      <td>0</td>\n",
       "      <td>0</td>\n",
       "      <td>154.6</td>\n",
       "      <td>23</td>\n",
       "      <td>Literacy_Language</td>\n",
       "      <td>ESL Literacy</td>\n",
       "      <td>My students are English learners that are work...</td>\n",
       "    </tr>\n",
       "    <tr>\n",
       "      <th>1</th>\n",
       "      <td>140945</td>\n",
       "      <td>p258326</td>\n",
       "      <td>897464ce9ddc600bced1151f324dd63a</td>\n",
       "      <td>Mr.</td>\n",
       "      <td>FL</td>\n",
       "      <td>2016-10-25 09:22:10</td>\n",
       "      <td>Grades 6-8</td>\n",
       "      <td>Wanted: Projector for Hungry Learners</td>\n",
       "      <td>Our students arrive to our school eager to lea...</td>\n",
       "      <td>The projector we need for our school is very c...</td>\n",
       "      <td>NaN</td>\n",
       "      <td>NaN</td>\n",
       "      <td>My students need a projector to help with view...</td>\n",
       "      <td>7</td>\n",
       "      <td>1</td>\n",
       "      <td>299.0</td>\n",
       "      <td>1</td>\n",
       "      <td>History_Civics Health_Sports</td>\n",
       "      <td>Civics_Government TeamSports</td>\n",
       "      <td>Our students arrive to our school eager to lea...</td>\n",
       "    </tr>\n",
       "  </tbody>\n",
       "</table>\n",
       "</div>"
      ],
      "text/plain": [
       "   Unnamed: 0       id                        teacher_id teacher_prefix  \\\n",
       "0      160221  p253737  c90749f5d961ff158d4b4d1e7dc665fc           Mrs.   \n",
       "1      140945  p258326  897464ce9ddc600bced1151f324dd63a            Mr.   \n",
       "\n",
       "  school_state project_submitted_datetime project_grade_category  \\\n",
       "0           IN        2016-12-05 13:43:57          Grades PreK-2   \n",
       "1           FL        2016-10-25 09:22:10             Grades 6-8   \n",
       "\n",
       "                                      project_title  \\\n",
       "0  Educational Support for English Learners at Home   \n",
       "1             Wanted: Projector for Hungry Learners   \n",
       "\n",
       "                                     project_essay_1  \\\n",
       "0  My students are English learners that are work...   \n",
       "1  Our students arrive to our school eager to lea...   \n",
       "\n",
       "                                     project_essay_2 project_essay_3  \\\n",
       "0  \\\"The limits of your language are the limits o...             NaN   \n",
       "1  The projector we need for our school is very c...             NaN   \n",
       "\n",
       "  project_essay_4                           project_resource_summary  \\\n",
       "0             NaN  My students need opportunities to practice beg...   \n",
       "1             NaN  My students need a projector to help with view...   \n",
       "\n",
       "   teacher_number_of_previously_posted_projects  project_is_approved  price  \\\n",
       "0                                             0                    0  154.6   \n",
       "1                                             7                    1  299.0   \n",
       "\n",
       "   quantity              clean_categories           clean_subcategories  \\\n",
       "0        23             Literacy_Language                  ESL Literacy   \n",
       "1         1  History_Civics Health_Sports  Civics_Government TeamSports   \n",
       "\n",
       "                                               essay  \n",
       "0  My students are English learners that are work...  \n",
       "1  Our students arrive to our school eager to lea...  "
      ]
     },
     "execution_count": 8,
     "metadata": {},
     "output_type": "execute_result"
    }
   ],
   "source": [
    "project_data.head(2)"
   ]
  },
  {
   "cell_type": "code",
   "execution_count": 9,
   "metadata": {
    "colab": {},
    "colab_type": "code",
    "id": "1nYsCeFCN1MW"
   },
   "outputs": [],
   "source": [
    "# https://stackoverflow.com/a/47091490/4084039\n",
    "import re\n",
    "\n",
    "def decontracted(phrase):\n",
    "    # specific\n",
    "    phrase = re.sub(r\"won't\", \"will not\", phrase)\n",
    "    phrase = re.sub(r\"can\\'t\", \"can not\", phrase)\n",
    "\n",
    "    # general\n",
    "    phrase = re.sub(r\"n\\'t\", \" not\", phrase)\n",
    "    phrase = re.sub(r\"\\'re\", \" are\", phrase)\n",
    "    phrase = re.sub(r\"\\'s\", \" is\", phrase)\n",
    "    phrase = re.sub(r\"\\'d\", \" would\", phrase)\n",
    "    phrase = re.sub(r\"\\'ll\", \" will\", phrase)\n",
    "    phrase = re.sub(r\"\\'t\", \" not\", phrase)\n",
    "    phrase = re.sub(r\"\\'ve\", \" have\", phrase)\n",
    "    phrase = re.sub(r\"\\'m\", \" am\", phrase)\n",
    "    return phrase"
   ]
  },
  {
   "cell_type": "code",
   "execution_count": 10,
   "metadata": {
    "colab": {},
    "colab_type": "code",
    "id": "mOBm8phKN1Mp"
   },
   "outputs": [],
   "source": [
    "# https://gist.github.com/sebleier/554280\n",
    "# we are removing the words from the stop words list: 'no', 'nor', 'not'\n",
    "stopwords= ['i', 'me', 'my', 'myself', 'we', 'our', 'ours', 'ourselves', 'you', \"you're\", \"you've\",\\\n",
    "            \"you'll\", \"you'd\", 'your', 'yours', 'yourself', 'yourselves', 'he', 'him', 'his', 'himself', \\\n",
    "            'she', \"she's\", 'her', 'hers', 'herself', 'it', \"it's\", 'its', 'itself', 'they', 'them', 'their',\\\n",
    "            'theirs', 'themselves', 'what', 'which', 'who', 'whom', 'this', 'that', \"that'll\", 'these', 'those', \\\n",
    "            'am', 'is', 'are', 'was', 'were', 'be', 'been', 'being', 'have', 'has', 'had', 'having', 'do', 'does', \\\n",
    "            'did', 'doing', 'a', 'an', 'the', 'and', 'but', 'if', 'or', 'because', 'as', 'until', 'while', 'of', \\\n",
    "            'at', 'by', 'for', 'with', 'about', 'against', 'between', 'into', 'through', 'during', 'before', 'after',\\\n",
    "            'above', 'below', 'to', 'from', 'up', 'down', 'in', 'out', 'on', 'off', 'over', 'under', 'again', 'further',\\\n",
    "            'then', 'once', 'here', 'there', 'when', 'where', 'why', 'how', 'all', 'any', 'both', 'each', 'few', 'more',\\\n",
    "            'most', 'other', 'some', 'such', 'only', 'own', 'same', 'so', 'than', 'too', 'very', \\\n",
    "            's', 't', 'can', 'will', 'just', 'don', \"don't\", 'should', \"should've\", 'now', 'd', 'll', 'm', 'o', 're', \\\n",
    "            've', 'y', 'ain', 'aren', \"aren't\", 'couldn', \"couldn't\", 'didn', \"didn't\", 'doesn', \"doesn't\", 'hadn',\\\n",
    "            \"hadn't\", 'hasn', \"hasn't\", 'haven', \"haven't\", 'isn', \"isn't\", 'ma', 'mightn', \"mightn't\", 'mustn',\\\n",
    "            \"mustn't\", 'needn', \"needn't\", 'shan', \"shan't\", 'shouldn', \"shouldn't\", 'wasn', \"wasn't\", 'weren', \"weren't\", \\\n",
    "            'won', \"won't\", 'wouldn', \"wouldn't\"]"
   ]
  },
  {
   "cell_type": "code",
   "execution_count": 11,
   "metadata": {
    "colab": {},
    "colab_type": "code",
    "id": "ttJf1f7ON1Mt",
    "outputId": "6437b980-d16d-4f92-c591-9f751a575ecc"
   },
   "outputs": [
    {
     "name": "stderr",
     "output_type": "stream",
     "text": [
      "100%|██████████| 109248/109248 [02:08<00:00, 850.46it/s]\n"
     ]
    }
   ],
   "source": [
    "# Combining all the above stundents \n",
    "from tqdm import tqdm\n",
    "preprocessed_essays = []\n",
    "# tqdm is for printing the status bar\n",
    "for sentance in tqdm(project_data['essay'].values):\n",
    "    sent = decontracted(sentance)\n",
    "    sent = sent.replace('\\\\r', ' ')\n",
    "    sent = sent.replace('\\\\\"', ' ')\n",
    "    sent = sent.replace('\\\\n', ' ')\n",
    "    sent = re.sub('[^A-Za-z0-9]+', ' ', sent)\n",
    "    # https://gist.github.com/sebleier/554280\n",
    "    sent = ' '.join(e for e in sent.split() if e not in stopwords)\n",
    "    preprocessed_essays.append(sent.lower().strip())"
   ]
  },
  {
   "cell_type": "code",
   "execution_count": 12,
   "metadata": {
    "colab": {},
    "colab_type": "code",
    "id": "sEdZTzI5N1Mx",
    "outputId": "38cf15fb-c78b-4be1-c442-e785be4809d0"
   },
   "outputs": [],
   "source": [
    "# after preprocesing"
   ]
  },
  {
   "cell_type": "markdown",
   "metadata": {
    "colab_type": "text",
    "id": "4AFlP-F-N1M0"
   },
   "source": [
    "<h2><font color='red'> 1.4 Preprocessing of `project_title`</font></h2>"
   ]
  },
  {
   "cell_type": "code",
   "execution_count": 13,
   "metadata": {
    "colab": {},
    "colab_type": "code",
    "id": "FCdq9z5FN1M1"
   },
   "outputs": [],
   "source": [
    "# similarly you can preprocess the titles also\n",
    "project_title=project_data['project_title']\n",
    "import re\n",
    "preprocessed_title=[]\n",
    "for i in project_title:\n",
    "    i=i.replace('\\\\r',\"\")\n",
    "    i=i.replace('\\\\n',\"\")\n",
    "    i=i.replace('\\\\t',\"\")\n",
    "    i=i.replace(\"'\\'\",\"\")\n",
    "    i=i.replace(\":\",\"\")\n",
    "    i=i.replace(\"'\",\"\")\n",
    "    i=i.replace(\"-\",\"\")\n",
    "    i=i.replace(\",\",\"\")\n",
    "    i=i.replace(\".\",\"\")\n",
    "    i=i.replace(\"'\"\"'\",\"\")\n",
    "    clean=re.sub('[^A-Za-z0-9]+',\" \",i)\n",
    "    word = ' '.join(e for e in clean.split() if e not in stopwords)\n",
    "    preprocessed_title.append(word.lower().strip())"
   ]
  },
  {
   "cell_type": "code",
   "execution_count": 14,
   "metadata": {},
   "outputs": [
    {
     "name": "stderr",
     "output_type": "stream",
     "text": [
      "100%|██████████| 109248/109248 [03:38<00:00, 500.97it/s]\n"
     ]
    }
   ],
   "source": [
    "#https://simmonhessner.de/lammitize-whole-sentences-with-python-and-nltks-wordnetlemmatizer/\n",
    "#lemmatizing the preprocessed_title\n",
    "from nltk.stem import WordNetLemmatizer\n",
    "import nltk\n",
    "from nltk.corpus import wordnet\n",
    "lemmatizer=WordNetLemmatizer()\n",
    "def nltk2wn_tag(nltk_tag):\n",
    "    if nltk_tag.startswith('J'):\n",
    "        return wordnet.ADJ\n",
    "    elif nltk_tag.startswith('V'):\n",
    "        return wordnet.VERB\n",
    "    elif nltk_tag.startswith('N'):\n",
    "        return wordnet.NOUN\n",
    "    elif nltk_tag.startswith('R'):\n",
    "        return wordnet.ADV\n",
    "    else:\n",
    "        return None\n",
    "def lemmatize_sentence(sentence):\n",
    "    nltk_tagged=nltk.pos_tag(nltk.word_tokenize(sentence))\n",
    "    wn_tagged=map(lambda x:(x[0],nltk2wn_tag(x[1])),nltk_tagged)\n",
    "    res_words=[]\n",
    "    for word,tag in wn_tagged:\n",
    "        if tag is None:\n",
    "            res_words.append(word)\n",
    "        else:\n",
    "            res_words.append(lemmatizer.lemmatize(word,tag))\n",
    "    return \" \".join(res_words)\n",
    "from tqdm import tqdm\n",
    "clean_title=[]\n",
    "for word in tqdm(preprocessed_title):\n",
    "    i=lemmatize_sentence(word)\n",
    "    clean_title.append(i)"
   ]
  },
  {
   "cell_type": "markdown",
   "metadata": {
    "colab_type": "text",
    "id": "js2WD9bON1M5"
   },
   "source": [
    "## 1.5 Preparing data for models"
   ]
  },
  {
   "cell_type": "code",
   "execution_count": 15,
   "metadata": {
    "colab": {},
    "colab_type": "code",
    "id": "Kh3xw4fpN1M6",
    "outputId": "0cac8eb3-350f-457b-e139-6340672f06f3"
   },
   "outputs": [],
   "source": [
    "project_data['project_title']=clean_title\n",
    "project_data['essay']=preprocessed_essays"
   ]
  },
  {
   "cell_type": "markdown",
   "metadata": {
    "colab_type": "text",
    "id": "tLfdQa8hN1M9"
   },
   "source": [
    "we are going to consider\n",
    "\n",
    "       - school_state : categorical data\n",
    "       - clean_categories : categorical data\n",
    "       - clean_subcategories : categorical data\n",
    "       - project_grade_category : categorical data\n",
    "       - teacher_prefix : categorical data\n",
    "       \n",
    "       - project_title : text data\n",
    "       - text : text data\n",
    "       - project_resource_summary: text data (optinal)\n",
    "       \n",
    "       - quantity : numerical (optinal)\n",
    "       - teacher_number_of_previously_posted_projects : numerical\n",
    "       - price : numerical"
   ]
  },
  {
   "cell_type": "markdown",
   "metadata": {
    "colab_type": "text",
    "id": "58YP-aXEN1OB"
   },
   "source": [
    "# Naive Bayes"
   ]
  },
  {
   "cell_type": "markdown",
   "metadata": {
    "colab_type": "text",
    "id": "cdOrIZk5N1OB"
   },
   "source": [
    "<ol>\n",
    "    <li><strong> Multinomial NaiveBayes on these feature sets</strong>\n",
    "        <ul>\n",
    "            <li><font color='red'>Set 1</font>: categorical, numerical features + project_title(BOW) + preprocessed_eassay (BOW)</li>\n",
    "            <li><font color='red'>Set 2</font>: categorical, numerical features + project_title(TFIDF)+  preprocessed_eassay (TFIDF)</li>\n",
    "        </ul>\n",
    "    </li>\n",
    "    <br>\n",
    "    <li><strong>The hyper paramter tuning(find best Alpha)</strong>\n",
    "        <ul>\n",
    "    <li>Finding the best hyper parameter which will give the maximum AUC value</li>\n",
    "    <li>Use gridsearch cv or randomsearch cv<li>\n",
    "        </ul>\n",
    "    </li>\n",
    "    <br>\n",
    "    <li><strong>Feature importance</strong>\n",
    "        <ul>\n",
    "    <li>Finding  the top 10 features of positive class and top 10 features of negative class for both feature sets <font color='red'>Set 1</font> and <font color='red'>Set 2</font> using values of `feature_log_prob_` parameter of  <a href='https://scikit-learn.org/stable/modules/generated/sklearn.naive_bayes.MultinomialNB.html'>MultinomialNB</a> and print their corresponding feature names</li>\n",
    "        </ul>\n",
    "    </li>\n",
    "    <br>\n",
    "    <li><strong>Representation of results</strong>\n",
    "        <ul>\n",
    "    <li>plot the performance of model both on train data and cross validation data for each hyper parameter.\n",
    "    <li>Once after found the best hyper parameter,train your model with it, and find the AUC on test data and plot the ROC curve on both train and test.\n",
    "    <li>Along with plotting ROC curve, print the confusion matrix with predicted and original labels of test data points. \n",
    "        </ul>\n",
    "    </li>\n",
    "    <br>\n",
    "    <li><strong>Conclusion</strong>\n",
    "        <ul>\n",
    "    <li>Summarize the results at the end of the notebook, summarize it in the table format.\n",
    "    </li>\n",
    "        </ul>\n",
    "</ol>"
   ]
  },
  {
   "cell_type": "markdown",
   "metadata": {
    "colab_type": "text",
    "id": "dQY4H_DjN1OC"
   },
   "source": [
    "<h1>2. Naive Bayes </h1>"
   ]
  },
  {
   "cell_type": "markdown",
   "metadata": {
    "colab_type": "text",
    "id": "Urn-yYqJN1OE"
   },
   "source": [
    "<h2>2.1 Splitting data into Train and cross validation(or test): Stratified Sampling</h2>"
   ]
  },
  {
   "cell_type": "code",
   "execution_count": 16,
   "metadata": {},
   "outputs": [
    {
     "data": {
      "text/plain": [
       "Index(['Unnamed: 0', 'id', 'teacher_id', 'teacher_prefix', 'school_state',\n",
       "       'project_submitted_datetime', 'project_grade_category', 'project_title',\n",
       "       'project_essay_1', 'project_essay_2', 'project_essay_3',\n",
       "       'project_essay_4', 'project_resource_summary',\n",
       "       'teacher_number_of_previously_posted_projects', 'project_is_approved',\n",
       "       'price', 'quantity', 'clean_categories', 'clean_subcategories',\n",
       "       'essay'],\n",
       "      dtype='object')"
      ]
     },
     "execution_count": 16,
     "metadata": {},
     "output_type": "execute_result"
    }
   ],
   "source": [
    "project_data.columns"
   ]
  },
  {
   "cell_type": "code",
   "execution_count": 17,
   "metadata": {
    "colab": {},
    "colab_type": "code",
    "id": "C-53q_BlN1OF"
   },
   "outputs": [
    {
     "name": "stdout",
     "output_type": "stream",
     "text": [
      "(68823, 11)\n",
      "(68823,)\n",
      "(32774, 11)\n",
      "(32774,)\n",
      "(7648, 11)\n",
      "(7648,)\n",
      "Index(['teacher_prefix', 'school_state', 'project_grade_category',\n",
      "       'project_title', 'project_resource_summary',\n",
      "       'teacher_number_of_previously_posted_projects', 'clean_categories',\n",
      "       'clean_subcategories', 'essay', 'price', 'quantity'],\n",
      "      dtype='object')\n"
     ]
    }
   ],
   "source": [
    "\n",
    "from sklearn.model_selection import train_test_split\n",
    "project_data=project_data[['teacher_prefix', 'school_state', 'project_grade_category', 'project_title', 'project_resource_summary',\n",
    "       'teacher_number_of_previously_posted_projects',\n",
    "       'clean_categories', 'clean_subcategories', 'essay','project_is_approved', 'price', 'quantity']]\n",
    "project_data=project_data.dropna()\n",
    "y=project_data['project_is_approved']\n",
    "x=project_data[['teacher_prefix', 'school_state', 'project_grade_category', 'project_title', 'project_resource_summary',\n",
    "       'teacher_number_of_previously_posted_projects',\n",
    "       'clean_categories', 'clean_subcategories', 'essay', 'price', 'quantity']]\n",
    "x_train,x_test,y_train,y_test=train_test_split(x,y,test_size=0.3,random_state=0)\n",
    "x_train,x_cv,y_train,y_cv=train_test_split(x_train,y_train,test_size=0.1,random_state=0)\n",
    "print(x_train.shape)\n",
    "print(y_train.shape)\n",
    "print(x_test.shape)\n",
    "print(y_test.shape)\n",
    "print(x_cv.shape)\n",
    "print(y_cv.shape)\n",
    "print(x_train.columns)   "
   ]
  },
  {
   "cell_type": "markdown",
   "metadata": {
    "colab_type": "text",
    "id": "vivFObi8N1OH"
   },
   "source": [
    "<h2>2.2 Make Data Model Ready: encoding numerical, categorical features</h2>"
   ]
  },
  {
   "cell_type": "markdown",
   "metadata": {},
   "source": [
    "#### Bow of Essay and project title"
   ]
  },
  {
   "cell_type": "code",
   "execution_count": 18,
   "metadata": {
    "colab": {},
    "colab_type": "code",
    "id": "EC_beXpAN1OI"
   },
   "outputs": [],
   "source": [
    "from sklearn.feature_extraction.text import CountVectorizer\n",
    "vectorizer = CountVectorizer(min_df=10)\n",
    "def bow(data): \n",
    "    text_bow = vectorizer.transform(data)\n",
    "    return text_bow\n",
    "vectorizer.fit(x_train['essay'])\n",
    "bow_train_essay  = bow(x_train['essay'])\n",
    "bow_test_essay   = bow(x_test['essay'])\n",
    "bow_cv_essay     = bow(x_cv['essay'])\n",
    "bow_essay_feature_name = vectorizer.get_feature_names()\n",
    "#bow of v\n",
    "vectorizer.fit(x_train['project_title'])\n",
    "bow_train_title=bow(x_train['project_title'])\n",
    "bow_test_title=bow(x_test['project_title'])\n",
    "bow_cv_title=bow(x_cv['project_title'])\n",
    "bow_title_feature_name = vectorizer.get_feature_names()"
   ]
  },
  {
   "cell_type": "code",
   "execution_count": 19,
   "metadata": {},
   "outputs": [
    {
     "name": "stdout",
     "output_type": "stream",
     "text": [
      "(7648, 2159)\n",
      "(68823, 2159)\n",
      "(32774, 2159)\n",
      "(7648, 13888)\n",
      "(68823, 13888)\n",
      "(32774, 13888)\n"
     ]
    }
   ],
   "source": [
    "print(bow_cv_title.shape)\n",
    "print(bow_train_title.shape)\n",
    "print(bow_test_title.shape)\n",
    "print(bow_cv_essay.shape)\n",
    "print(bow_train_essay.shape)\n",
    "print(bow_test_essay.shape)"
   ]
  },
  {
   "cell_type": "markdown",
   "metadata": {},
   "source": [
    "#### TF-IDF of Essay and project title feature"
   ]
  },
  {
   "cell_type": "code",
   "execution_count": 20,
   "metadata": {},
   "outputs": [
    {
     "name": "stdout",
     "output_type": "stream",
     "text": [
      "(68823, 13888)\n",
      "(32774, 13888)\n",
      "(7648, 13888)\n"
     ]
    }
   ],
   "source": [
    "from sklearn.feature_extraction.text import TfidfVectorizer\n",
    "vectorizer = TfidfVectorizer()\n",
    "vectorizer = TfidfVectorizer(min_df=10)\n",
    "vectorizer.fit(x_train['essay'])\n",
    "tfidf_train_essay = vectorizer.transform(x_train['essay'])\n",
    "tfidf_test_essay = vectorizer.transform(x_test['essay'])\n",
    "tfidf_cv_essay = vectorizer.transform(x_cv['essay'])\n",
    "tfidf_essay_feature= vectorizer.get_feature_names()\n",
    "print(tfidf_train_essay.shape)\n",
    "print(tfidf_test_essay.shape)\n",
    "print(tfidf_cv_essay.shape)"
   ]
  },
  {
   "cell_type": "code",
   "execution_count": 21,
   "metadata": {},
   "outputs": [
    {
     "name": "stdout",
     "output_type": "stream",
     "text": [
      "(68823, 2159)\n",
      "(32774, 2159)\n",
      "(7648, 2159)\n"
     ]
    }
   ],
   "source": [
    "vectorizer.fit(x_train['project_title'])\n",
    "tfidf_train_title = vectorizer.transform(x_train['project_title'])\n",
    "tfidf_test_title = vectorizer.transform(x_test['project_title'])\n",
    "tfidf_cv_title = vectorizer.transform(x_cv['project_title'])\n",
    "tfidf_title_feature = vectorizer.get_feature_names()\n",
    "print(tfidf_train_title.shape)\n",
    "print(tfidf_test_title.shape)\n",
    "print(tfidf_cv_title.shape)"
   ]
  },
  {
   "cell_type": "markdown",
   "metadata": {},
   "source": [
    "#### One Hot encoding of School state feature"
   ]
  },
  {
   "cell_type": "code",
   "execution_count": 22,
   "metadata": {},
   "outputs": [],
   "source": [
    " my_counter=Counter()\n",
    "for grade in x_train['school_state'].values:\n",
    "    my_counter.update(grade.split())\n",
    "dict_my_counter=dict(my_counter)\n",
    "sort_project_grade_cat=dict(sorted(dict_my_counter.items(), key=lambda kv: kv[1]))\n",
    "vectorizer = CountVectorizer(vocabulary=list(sort_project_grade_cat),lowercase=False, binary=True)\n",
    "vectorizer.fit(x_train['school_state'])\n",
    "    # vectorizing \n",
    "school_state_one_hot_train = vectorizer.transform(x_train['school_state'])\n",
    "school_state_one_hot_cv    = vectorizer.transform(x_cv['school_state'])\n",
    "school_state_one_hot_test  = vectorizer.transform(x_test['school_state'])\n",
    "school_state_feature_name  = vectorizer.get_feature_names()"
   ]
  },
  {
   "cell_type": "markdown",
   "metadata": {},
   "source": [
    "#### One hot encoding of Clean subcategories feature"
   ]
  },
  {
   "cell_type": "code",
   "execution_count": 23,
   "metadata": {},
   "outputs": [],
   "source": [
    "my_counter=Counter()\n",
    "for grade in x_train['clean_subcategories'].values:\n",
    "    my_counter.update(grade.split())\n",
    "dict_my_counter=dict(my_counter)\n",
    "sorted_sub_cat_dict=dict(sorted(dict_my_counter.items(), key=lambda kv: kv[1]))\n",
    "vectorizer = CountVectorizer(vocabulary=list(sorted_sub_cat_dict.keys()),\\\n",
    "lowercase=False, binary= True) \n",
    "vectorizer.fit(x_train['clean_subcategories'].values)\n",
    "\n",
    "\n",
    "subcategories_one_hot_train=vectorizer.transform(x_train['clean_subcategories'])\n",
    "subcategories_one_hot_test=vectorizer.transform(x_test['clean_subcategories'])\n",
    "subcategories_one_hot_cv=vectorizer.transform(x_cv['clean_subcategories'])\n",
    "subcategories_feature_name=vectorizer.get_feature_names()"
   ]
  },
  {
   "cell_type": "markdown",
   "metadata": {},
   "source": [
    "#### One hot encoding of  clean categories feature"
   ]
  },
  {
   "cell_type": "code",
   "execution_count": 24,
   "metadata": {},
   "outputs": [],
   "source": [
    "my_counter=Counter()\n",
    "for grade in x_train['clean_categories'].values:\n",
    "    my_counter.update(grade.split())\n",
    "dict_my_counter=dict(my_counter)\n",
    "sorted_sub_cat_dict=dict(sorted(dict_my_counter.items(), key=lambda kv: kv[1]))\n",
    "vectorizer = CountVectorizer(vocabulary=list(sorted_sub_cat_dict.keys()),\\\n",
    "lowercase=False, binary= True) \n",
    "vectorizer.fit(x_train['clean_categories'].values)\n",
    "\n",
    "categories_one_hot_train=vectorizer.transform(x_train['clean_categories'].values)\n",
    "categories_one_hot_test=vectorizer.transform(x_test['clean_categories'].values)\n",
    "categories_one_hot_cv=vectorizer.transform(x_cv['clean_categories'].values)\n",
    "categories_feature_name=vectorizer.get_feature_names()"
   ]
  },
  {
   "cell_type": "markdown",
   "metadata": {},
   "source": [
    "#### One hot encoding of project grade category"
   ]
  },
  {
   "cell_type": "code",
   "execution_count": 25,
   "metadata": {},
   "outputs": [],
   "source": [
    "my_counter=Counter()\n",
    "for grade in x_train['project_grade_category'].values:\n",
    "    my_counter.update(grade.split())\n",
    "dict_my_counter=dict(my_counter)\n",
    "if 'Grades' in dict_my_counter:\n",
    "    dict_my_counter.pop('Grades')\n",
    "sorted_sub_cat_dict=dict(sorted(dict_my_counter.items(), key=lambda kv: kv[1]))\n",
    "vectorizer = CountVectorizer(vocabulary=list(sorted_sub_cat_dict.keys()),\\\n",
    "lowercase=False, binary= True) \n",
    "vectorizer.fit(x_train['clean_categories'].values)\n",
    "\n",
    "grade_cat_one_hot_train=vectorizer.transform(x_train['project_grade_category'])\n",
    "grade_cat_one_hot_test=vectorizer.transform(x_test['project_grade_category'])\n",
    "grade_cat_one_hot_cv=vectorizer.transform(x_cv['project_grade_category'])\n",
    "grade_feature_name= vectorizer.get_feature_names()"
   ]
  },
  {
   "cell_type": "markdown",
   "metadata": {},
   "source": [
    "#### One hot encoding of teacher prefix"
   ]
  },
  {
   "cell_type": "code",
   "execution_count": 26,
   "metadata": {},
   "outputs": [],
   "source": [
    "my_counter=Counter()\n",
    "for grade in x_train['teacher_prefix'].values:\n",
    "    my_counter.update(grade.split())\n",
    "dict_my_counter=dict(my_counter)\n",
    "sorted_sub_cat_dict=dict(sorted(dict_my_counter.items(), key=lambda kv: kv[1]))\n",
    "vectorizer = CountVectorizer(vocabulary=list(sorted_sub_cat_dict.keys()),\\\n",
    "lowercase=False, binary= True) \n",
    "vectorizer.fit(x_train['teacher_prefix'].values)\n",
    "\n",
    "teacher_prefix_one_hot_train=vectorizer.transform(x_train['teacher_prefix'])\n",
    "teacher_prefix_one_hot_test=vectorizer.transform(x_test['teacher_prefix'])\n",
    "teacher_prefix_one_hot_cv=vectorizer.transform(x_cv['teacher_prefix'])\n",
    "teacher_pre_feature_name=vectorizer.get_feature_names()"
   ]
  },
  {
   "cell_type": "markdown",
   "metadata": {},
   "source": [
    "#### Normalize the Numerical Feature"
   ]
  },
  {
   "cell_type": "code",
   "execution_count": 27,
   "metadata": {},
   "outputs": [],
   "source": [
    "from sklearn.preprocessing import Normalizer\n",
    "def Normalization(data):\n",
    "    \"\"\"Normalizing Numerical feature\"\"\"\n",
    "    price_scalar = Normalizer()\n",
    "    price_scalar.fit(data.values.reshape(-1,1)) # finding the mean and standard deviation of this data\n",
    "# Now standardize the data with above maen and variance.\n",
    "    price_standardized = price_scalar.transform(data.values.reshape(-1, 1))\n",
    "    return price_standardized"
   ]
  },
  {
   "cell_type": "code",
   "execution_count": 30,
   "metadata": {},
   "outputs": [
    {
     "name": "stdout",
     "output_type": "stream",
     "text": [
      "(7648, 51)\n",
      "(68823, 51)\n",
      "(32774, 51)\n",
      "(7648, 1)\n",
      "(68823, 1)\n",
      "(32774, 1)\n",
      "(7648, 1)\n",
      "(68823, 1)\n",
      "(32774, 1)\n",
      "(7648, 30)\n",
      "(68823, 30)\n",
      "(32774, 30)\n",
      "(7648, 9)\n",
      "(68823, 9)\n",
      "(32774, 9)\n",
      "(7648, 4)\n",
      "(68823, 4)\n",
      "(32774, 4)\n",
      "(7648, 5)\n",
      "(68823, 5)\n",
      "(32774, 5)\n"
     ]
    }
   ],
   "source": [
    "print(school_state_one_hot_cv.shape)\n",
    "print(school_state_one_hot_train.shape)\n",
    "print(school_state_one_hot_test.shape)\n",
    "print(quantity_one_hot_cv.shape)\n",
    "print(quantity_one_hot_train.shape)\n",
    "print(quantity_one_hot_test.shape)\n",
    "\n",
    "print(price_one_hot_cv.shape)\n",
    "print(price_one_hot_train.shape)\n",
    "print(price_one_hot_test.shape)\n",
    "\n",
    "print(subcategories_one_hot_cv.shape)\n",
    "print(subcategories_one_hot_train.shape)\n",
    "print(subcategories_one_hot_test.shape)\n",
    "print(categories_one_hot_cv.shape)\n",
    "print(categories_one_hot_train.shape)\n",
    "print(categories_one_hot_test.shape)\n",
    "print(grade_cat_one_hot_cv.shape)\n",
    "print(grade_cat_one_hot_train.shape)\n",
    "print(grade_cat_one_hot_test.shape)\n",
    "print(teacher_prefix_one_hot_cv.shape)\n",
    "print(teacher_prefix_one_hot_train.shape)\n",
    "print(teacher_prefix_one_hot_test.shape)"
   ]
  },
  {
   "cell_type": "markdown",
   "metadata": {},
   "source": [
    "#### Normalizing Feature"
   ]
  },
  {
   "cell_type": "code",
   "execution_count": 29,
   "metadata": {},
   "outputs": [],
   "source": [
    "import warnings\n",
    "warnings.filterwarnings(\"ignore\")\n",
    "price_one_hot_train=Normalization(x_train['price'])\n",
    "price_one_hot_test=Normalization(x_test['price'])\n",
    "price_one_hot_cv=Normalization(x_cv['price'])\n",
    "quantity_one_hot_train=Normalization(x_train['quantity'])\n",
    "quantity_one_hot_test=Normalization(x_test['quantity'])\n",
    "quantity_one_hot_cv=Normalization(x_cv['quantity'])"
   ]
  },
  {
   "cell_type": "code",
   "execution_count": 31,
   "metadata": {},
   "outputs": [
    {
     "name": "stdout",
     "output_type": "stream",
     "text": [
      "(68823, 1)\n",
      "(7648, 1)\n",
      "(32774, 1)\n",
      "(68823, 1)\n",
      "(7648, 1)\n"
     ]
    }
   ],
   "source": [
    "print(price_one_hot_train.shape)\n",
    "print(price_one_hot_cv.shape)\n",
    "print(price_one_hot_test.shape)\n",
    "print(quantity_one_hot_train.shape)\n",
    "print(quantity_one_hot_cv.shape)\n"
   ]
  },
  {
   "cell_type": "markdown",
   "metadata": {
    "colab_type": "text",
    "id": "fZmrR3aBN1OJ"
   },
   "source": [
    "<h2>2.3 Make Data Model Ready: encoding eassay, and project_title</h2>"
   ]
  },
  {
   "cell_type": "code",
   "execution_count": null,
   "metadata": {
    "colab": {},
    "colab_type": "code",
    "id": "05rTs-7XN1OK"
   },
   "outputs": [],
   "source": [
    "# please write all the code with proper documentation, and proper titles for each subsection\n",
    "# go through documentations and blogs before you start coding\n",
    "# first figure out what to do, and then think about how to do.\n",
    "# reading and understanding error messages will be very much helpfull in debugging your code\n",
    "# make sure you featurize train and test data separatly\n",
    "\n",
    "# when you plot any graph make sure you use \n",
    "    # a. Title, that describes your plot, this will be very helpful to the reader\n",
    "    # b. Legends if needed\n",
    "    # c. X-axis label\n",
    "    # d. Y-axis label\n",
    "from scipy.sparse import hstack\n",
    "from sklearn.naive_bayes import MultinomialNB\n",
    "from sklearn.metrics import roc_auc_score"
   ]
  },
  {
   "cell_type": "markdown",
   "metadata": {
    "colab_type": "text",
    "id": "xzli_RRdN1OM"
   },
   "source": [
    "### 2.4.1 Applying Naive Bayes on BOW,<font color='red'> SET 1</font>"
   ]
  },
  {
   "cell_type": "code",
   "execution_count": null,
   "metadata": {
    "colab": {},
    "colab_type": "code",
    "id": "G8sy7LJmN1OO"
   },
   "outputs": [],
   "source": [
    "\n",
    "train_bow=hstack((teacher_prefix_one_hot_train,school_state_one_hot_train,\\\n",
    "grade_cat_one_hot_train,categories_one_hot_train,subcategories_one_hot_train,price_one_hot_train,\\\n",
    "bow_train_essay,bow_train_title)).tocsr()\n",
    "\n",
    "cv_bow=hstack((teacher_prefix_one_hot_cv,school_state_one_hot_cv,\\\n",
    "grade_cat_one_hot_cv,categories_one_hot_cv,subcategories_one_hot_cv,price_one_hot_cv,\\\n",
    "bow_cv_essay,bow_cv_title)).tocsr()\n",
    "\n",
    "test_bow=hstack((teacher_prefix_one_hot_test,school_state_one_hot_test,\\\n",
    "grade_cat_one_hot_test,categories_one_hot_test,subcategories_one_hot_test,price_one_hot_test,\\\n",
    "bow_test_essay,bow_test_title)).tocsr()\n",
    "\n",
    "print(train_bow.shape)\n",
    "print(cv_bow.shape)\n",
    "print(test_bow.shape)"
   ]
  },
  {
   "cell_type": "code",
   "execution_count": null,
   "metadata": {},
   "outputs": [],
   "source": [
    "y_cv.shape"
   ]
  },
  {
   "cell_type": "code",
   "execution_count": null,
   "metadata": {},
   "outputs": [],
   "source": [
    "from sklearn.naive_bayes import MultinomialNB\n",
    "from sklearn.metrics import roc_auc_score\n",
    "alpha=[0.00001,0.00005,0.0001,0.0005,0.001,0.005,0.01,0.5,1,5,10,50,100,500,1000,2500,5000,10000]\n",
    "train_auc=[]\n",
    "cv_auc=[]\n",
    "for a in tqdm(alpha):\n",
    "    y_train_pred=[]\n",
    "    y_cv_pred=[]\n",
    "    model=MultinomialNB(alpha=a,class_prior=[0.5,0.5])\n",
    "    model.fit(train_bow,y_train)\n",
    "    y_train_pred.extend(model.predict_log_proba(train_bow)[:,1])\n",
    "    y_cv_pred.extend(model.predict_log_proba(cv_bow)[:,1])\n",
    "    train_auc.append(roc_auc_score(y_train,y_train_pred))\n",
    "    cv_auc.append(roc_auc_score(y_cv,y_cv_pred))"
   ]
  },
  {
   "cell_type": "code",
   "execution_count": 122,
   "metadata": {},
   "outputs": [
    {
     "name": "stdout",
     "output_type": "stream",
     "text": [
      "[-11.512925464970229, -9.903487552536127, -9.210340371976182, -7.600902459542082, -6.907755278982137, -5.298317366548036, -4.605170185988091, -0.6931471805599453, 0.0, 1.6094379124341003, 2.302585092994046, 3.912023005428146, 4.605170185988092, 6.214608098422191, 6.907755278982137, 7.824046010856292, 8.517193191416238, 9.210340371976184]\n"
     ]
    }
   ],
   "source": [
    "import math\n",
    "log_alpha=[]\n",
    "for al in alpha:\n",
    "    log_alpha.append(math.log(al))\n",
    "print(log_alpha)"
   ]
  },
  {
   "cell_type": "code",
   "execution_count": 105,
   "metadata": {},
   "outputs": [
    {
     "data": {
      "image/png": "[encoded data removed]",
      "text/plain": [
       "<Figure size 432x288 with 1 Axes>"
      ]
     },
     "metadata": {
      "needs_background": "light"
     },
     "output_type": "display_data"
    }
   ],
   "source": [
    "plt.plot(log_alpha,train_auc,label='train_auc')\n",
    "plt.plot(log_alpha,cv_auc,label='cv_auc')\n",
    "plt.legend()\n",
    "plt.scatter(log_alpha,train_auc)\n",
    "plt.scatter(log_alpha,cv_auc)\n",
    "plt.grid()\n",
    "plt.ylabel('auc')\n",
    "plt.xlabel('value of alpha')\n",
    "plt.show()"
   ]
  },
  {
   "cell_type": "markdown",
   "metadata": {},
   "source": [
    "#### best alpha is 0.5 from this graph"
   ]
  },
  {
   "cell_type": "code",
   "execution_count": 181,
   "metadata": {},
   "outputs": [],
   "source": [
    "y_train_pred=[]\n",
    "y_test_pred=[]\n",
    "best_alpha=0.5\n",
    "clf=MultinomialNB(alpha=best_alpha,class_prior=[0.5,0.5])\n",
    "clf.fit(train_bow,y_train)\n",
    "y_train_pred.extend(clf.predict_proba(train_bow)[:,1])\n",
    "y_test_pred.extend(clf.predict_proba(test_bow)[:,1])\n",
    "fpr_train,tpr_train,thresholds_train=roc_curve(y_train,y_train_pred)\n",
    "fpr_test,tpr_test,thresholds_train=roc_curve(y_test,y_test_pred)"
   ]
  },
  {
   "cell_type": "code",
   "execution_count": 182,
   "metadata": {},
   "outputs": [
    {
     "data": {
      "text/plain": [
       "<matplotlib.legend.Legend at 0x1ed303f0160>"
      ]
     },
     "execution_count": 182,
     "metadata": {},
     "output_type": "execute_result"
    },
    {
     "data": {
      "image/png": "[encoded data removed]",
      "text/plain": [
       "<Figure size 432x288 with 1 Axes>"
      ]
     },
     "metadata": {
      "needs_background": "light"
     },
     "output_type": "display_data"
    }
   ],
   "source": [
    "plt.plot(fpr_train,tpr_train,label='train_auc'+str(auc(fpr_train,tpr_train)))\n",
    "plt.plot(fpr_test,tpr_test,label='test_auc'+str(auc(fpr_test,tpr_test)))\n",
    "plt.legend()"
   ]
  },
  {
   "cell_type": "markdown",
   "metadata": {},
   "source": [
    "### Confusion Matrix"
   ]
  },
  {
   "cell_type": "code",
   "execution_count": 183,
   "metadata": {},
   "outputs": [
    {
     "name": "stdout",
     "output_type": "stream",
     "text": [
      "Train Confusion Matrix\n",
      "[[ 7428  2925]\n",
      " [16813 41657]]\n",
      "Test Confusion Matrix\n",
      "[[ 3124  1938]\n",
      " [ 8469 19243]]\n"
     ]
    }
   ],
   "source": [
    "from sklearn.metrics import confusion_matrix\n",
    "print('Train Confusion Matrix')\n",
    "print(confusion_matrix(y_train,clf.predict(train_bow)))\n",
    "print('Test Confusion Matrix')\n",
    "print(confusion_matrix(y_test,clf.predict(test_bow)))"
   ]
  },
  {
   "cell_type": "markdown",
   "metadata": {},
   "source": [
    "#### Confusion Matrix of Train data"
   ]
  },
  {
   "cell_type": "code",
   "execution_count": 184,
   "metadata": {},
   "outputs": [
    {
     "data": {
      "text/plain": [
       "<matplotlib.axes._subplots.AxesSubplot at 0x1ed5b819d30>"
      ]
     },
     "execution_count": 184,
     "metadata": {},
     "output_type": "execute_result"
    },
    {
     "data": {
      "image/png": "[encoded data removed]",
      "text/plain": [
       "<Figure size 432x288 with 1 Axes>"
      ]
     },
     "metadata": {
      "needs_background": "light"
     },
     "output_type": "display_data"
    }
   ],
   "source": [
    "import seaborn as sns\n",
    "mat=confusion_matrix(y_train,clf.predict(train_bow))\n",
    "sns.heatmap(mat.T,square=True,annot=True,fmt='d',\\\n",
    "cbar=False)"
   ]
  },
  {
   "cell_type": "markdown",
   "metadata": {},
   "source": [
    "##### Confusion Matrix on Test data"
   ]
  },
  {
   "cell_type": "code",
   "execution_count": 185,
   "metadata": {
    "scrolled": true
   },
   "outputs": [
    {
     "data": {
      "text/plain": [
       "<matplotlib.axes._subplots.AxesSubplot at 0x1ed5c28fda0>"
      ]
     },
     "execution_count": 185,
     "metadata": {},
     "output_type": "execute_result"
    },
    {
     "data": {
      "image/png": "[encoded data removed]",
      "text/plain": [
       "<Figure size 432x288 with 1 Axes>"
      ]
     },
     "metadata": {
      "needs_background": "light"
     },
     "output_type": "display_data"
    }
   ],
   "source": [
    "#  pythondatascience handbook o'reilly book\n",
    "mat=confusion_matrix(y_test,clf.predict(test_bow))\n",
    "sns.heatmap(mat.T,square=True,annot=True,fmt='d',\\\n",
    "cbar=False)"
   ]
  },
  {
   "cell_type": "markdown",
   "metadata": {
    "colab_type": "text",
    "id": "WcsQ4_6VN1OQ"
   },
   "source": [
    "#### 2.4.1.1 Top 10 important features of positive class from<font color='red'> SET 1</font>"
   ]
  },
  {
   "cell_type": "code",
   "execution_count": 186,
   "metadata": {
    "colab": {},
    "colab_type": "code",
    "id": "Lj0N7EdHN1OR"
   },
   "outputs": [
    {
     "data": {
      "text/plain": [
       "MultinomialNB(alpha=0.5, class_prior=[0.5, 0.5], fit_prior=True)"
      ]
     },
     "execution_count": 186,
     "metadata": {},
     "output_type": "execute_result"
    }
   ],
   "source": [
    "# Please write all the code with proper documentatcuion\n",
    "clf=MultinomialNB(alpha=0.5,class_prior=[0.5,0.5])\n",
    "clf.fit(train_bow,y_train)"
   ]
  },
  {
   "cell_type": "code",
   "execution_count": 187,
   "metadata": {},
   "outputs": [
    {
     "name": "stdout",
     "output_type": "stream",
     "text": [
      "16147\n",
      "16147\n"
     ]
    }
   ],
   "source": [
    "feature_prob=[] #store probability of feature\n",
    "feature_names=[] #store feature names \n",
    "\n",
    "for cur_feature in range(train_bow.shape[1]):\n",
    "    feature_prob.append(clf.feature_log_prob_[1,cur_feature])#collecting only postive feature probability\n",
    "def feature_append(data):\n",
    "    \"\"\"Getting Features from data for probability\"\"\"\n",
    "    for a in data:\n",
    "        feature_names.append(a)\n",
    "feature_append(teacher_pre_feature_name)\n",
    "feature_append(school_state_feature_name)\n",
    "feature_append(grade_feature_name)\n",
    "feature_append(categories_feature_name)\n",
    "feature_append(subcategories_feature_name)\n",
    "feature_names.append('price')\n",
    "feature_append(bow_essay_feature_name)\n",
    "feature_append(bow_title_feature_name)\n",
    "print(len(feature_prob))\n",
    "print(len(feature_names))"
   ]
  },
  {
   "cell_type": "code",
   "execution_count": 188,
   "metadata": {},
   "outputs": [],
   "source": [
    "bow_feature=pd.DataFrame({'feature_prob':feature_prob,'feature_names':feature_names})\n",
    "sorted_feature=bow_feature.sort_values(by=['feature_prob'])"
   ]
  },
  {
   "cell_type": "code",
   "execution_count": 189,
   "metadata": {},
   "outputs": [
    {
     "data": {
      "text/html": [
       "<div>\n",
       "<style scoped>\n",
       "    .dataframe tbody tr th:only-of-type {\n",
       "        vertical-align: middle;\n",
       "    }\n",
       "\n",
       "    .dataframe tbody tr th {\n",
       "        vertical-align: top;\n",
       "    }\n",
       "\n",
       "    .dataframe thead th {\n",
       "        text-align: right;\n",
       "    }\n",
       "</style>\n",
       "<table border=\"1\" class=\"dataframe\">\n",
       "  <thead>\n",
       "    <tr style=\"text-align: right;\">\n",
       "      <th></th>\n",
       "      <th>feature_prob</th>\n",
       "      <th>feature_names</th>\n",
       "    </tr>\n",
       "  </thead>\n",
       "  <tbody>\n",
       "    <tr>\n",
       "      <th>0</th>\n",
       "      <td>-16.724248</td>\n",
       "      <td>Dr.</td>\n",
       "    </tr>\n",
       "    <tr>\n",
       "      <th>59</th>\n",
       "      <td>-16.724248</td>\n",
       "      <td>PreK-2</td>\n",
       "    </tr>\n",
       "    <tr>\n",
       "      <th>2</th>\n",
       "      <td>-16.724248</td>\n",
       "      <td>Mr.</td>\n",
       "    </tr>\n",
       "    <tr>\n",
       "      <th>3</th>\n",
       "      <td>-16.724248</td>\n",
       "      <td>Ms.</td>\n",
       "    </tr>\n",
       "    <tr>\n",
       "      <th>4</th>\n",
       "      <td>-16.724248</td>\n",
       "      <td>Mrs.</td>\n",
       "    </tr>\n",
       "    <tr>\n",
       "      <th>58</th>\n",
       "      <td>-16.724248</td>\n",
       "      <td>3-5</td>\n",
       "    </tr>\n",
       "    <tr>\n",
       "      <th>57</th>\n",
       "      <td>-16.724248</td>\n",
       "      <td>6-8</td>\n",
       "    </tr>\n",
       "    <tr>\n",
       "      <th>56</th>\n",
       "      <td>-16.724248</td>\n",
       "      <td>9-12</td>\n",
       "    </tr>\n",
       "    <tr>\n",
       "      <th>985</th>\n",
       "      <td>-14.527023</td>\n",
       "      <td>archive</td>\n",
       "    </tr>\n",
       "    <tr>\n",
       "      <th>1446</th>\n",
       "      <td>-14.326353</td>\n",
       "      <td>behaving</td>\n",
       "    </tr>\n",
       "    <tr>\n",
       "      <th>14564</th>\n",
       "      <td>-14.326353</td>\n",
       "      <td>economy</td>\n",
       "    </tr>\n",
       "    <tr>\n",
       "      <th>7343</th>\n",
       "      <td>-14.326353</td>\n",
       "      <td>licensed</td>\n",
       "    </tr>\n",
       "    <tr>\n",
       "      <th>7235</th>\n",
       "      <td>-14.326353</td>\n",
       "      <td>lb</td>\n",
       "    </tr>\n",
       "    <tr>\n",
       "      <th>4452</th>\n",
       "      <td>-14.326353</td>\n",
       "      <td>enterprise</td>\n",
       "    </tr>\n",
       "    <tr>\n",
       "      <th>5065</th>\n",
       "      <td>-14.326353</td>\n",
       "      <td>fireman</td>\n",
       "    </tr>\n",
       "    <tr>\n",
       "      <th>14107</th>\n",
       "      <td>-14.326353</td>\n",
       "      <td>arrangement</td>\n",
       "    </tr>\n",
       "    <tr>\n",
       "      <th>12178</th>\n",
       "      <td>-14.159298</td>\n",
       "      <td>sunday</td>\n",
       "    </tr>\n",
       "    <tr>\n",
       "      <th>3047</th>\n",
       "      <td>-14.159298</td>\n",
       "      <td>counsel</td>\n",
       "    </tr>\n",
       "    <tr>\n",
       "      <th>9779</th>\n",
       "      <td>-14.159298</td>\n",
       "      <td>propels</td>\n",
       "    </tr>\n",
       "    <tr>\n",
       "      <th>15036</th>\n",
       "      <td>-14.159298</td>\n",
       "      <td>k5</td>\n",
       "    </tr>\n",
       "  </tbody>\n",
       "</table>\n",
       "</div>"
      ],
      "text/plain": [
       "       feature_prob feature_names\n",
       "0        -16.724248           Dr.\n",
       "59       -16.724248        PreK-2\n",
       "2        -16.724248           Mr.\n",
       "3        -16.724248           Ms.\n",
       "4        -16.724248          Mrs.\n",
       "58       -16.724248           3-5\n",
       "57       -16.724248           6-8\n",
       "56       -16.724248          9-12\n",
       "985      -14.527023       archive\n",
       "1446     -14.326353      behaving\n",
       "14564    -14.326353       economy\n",
       "7343     -14.326353      licensed\n",
       "7235     -14.326353            lb\n",
       "4452     -14.326353    enterprise\n",
       "5065     -14.326353       fireman\n",
       "14107    -14.326353   arrangement\n",
       "12178    -14.159298        sunday\n",
       "3047     -14.159298       counsel\n",
       "9779     -14.159298       propels\n",
       "15036    -14.159298            k5"
      ]
     },
     "execution_count": 189,
     "metadata": {},
     "output_type": "execute_result"
    }
   ],
   "source": [
    "sorted_feature.head(20) #Top 20 positive word/categorical feature "
   ]
  },
  {
   "cell_type": "markdown",
   "metadata": {
    "colab_type": "text",
    "id": "mq21rLlsN1OS"
   },
   "source": [
    "#### 2.4.1.2 Top 10 important features of negative class from<font color='red'> SET 1</font>"
   ]
  },
  {
   "cell_type": "code",
   "execution_count": 192,
   "metadata": {
    "colab": {},
    "colab_type": "code",
    "id": "4fG1Lm9CN1OT"
   },
   "outputs": [
    {
     "name": "stdout",
     "output_type": "stream",
     "text": [
      "16147\n",
      "16147\n"
     ]
    }
   ],
   "source": [
    "# Please write all the code with proper documentation\n",
    "clf=MultinomialNB(alpha=0.5,class_prior=[0.5,0.5])\n",
    "clf.fit(train_bow,y_train)\n",
    "feature_prob=[]\n",
    "feature_names=[]\n",
    "for cur_feature in range(train_bow.shape[1]):\n",
    "    feature_prob.append(clf.feature_log_prob_[0,cur_feature])\n",
    "def feature_append(data):\n",
    "    for a in data:\n",
    "        feature_names.append(a)\n",
    "feature_append(teacher_pre_feature_name)\n",
    "feature_append(school_state_feature_name)\n",
    "feature_append(grade_feature_name)\n",
    "feature_append(categories_feature_name)\n",
    "feature_append(subcategories_feature_name)\n",
    "feature_names.append('price')\n",
    "feature_append(bow_essay_feature_name)\n",
    "feature_append(bow_title_feature_name)\n",
    "print(len(feature_prob))\n",
    "print(len(feature_names))\n"
   ]
  },
  {
   "cell_type": "code",
   "execution_count": 193,
   "metadata": {},
   "outputs": [
    {
     "data": {
      "text/html": [
       "<div>\n",
       "<style scoped>\n",
       "    .dataframe tbody tr th:only-of-type {\n",
       "        vertical-align: middle;\n",
       "    }\n",
       "\n",
       "    .dataframe tbody tr th {\n",
       "        vertical-align: top;\n",
       "    }\n",
       "\n",
       "    .dataframe thead th {\n",
       "        text-align: right;\n",
       "    }\n",
       "</style>\n",
       "<table border=\"1\" class=\"dataframe\">\n",
       "  <thead>\n",
       "    <tr style=\"text-align: right;\">\n",
       "      <th></th>\n",
       "      <th>feature_prob</th>\n",
       "      <th>feature_names</th>\n",
       "    </tr>\n",
       "  </thead>\n",
       "  <tbody>\n",
       "    <tr>\n",
       "      <th>0</th>\n",
       "      <td>-14.936947</td>\n",
       "      <td>Dr.</td>\n",
       "    </tr>\n",
       "    <tr>\n",
       "      <th>2746</th>\n",
       "      <td>-14.936947</td>\n",
       "      <td>con</td>\n",
       "    </tr>\n",
       "    <tr>\n",
       "      <th>793</th>\n",
       "      <td>-14.936947</td>\n",
       "      <td>ambulatory</td>\n",
       "    </tr>\n",
       "    <tr>\n",
       "      <th>13759</th>\n",
       "      <td>-14.936947</td>\n",
       "      <td>windmills</td>\n",
       "    </tr>\n",
       "    <tr>\n",
       "      <th>9738</th>\n",
       "      <td>-14.936947</td>\n",
       "      <td>prohibitive</td>\n",
       "    </tr>\n",
       "    <tr>\n",
       "      <th>13749</th>\n",
       "      <td>-14.936947</td>\n",
       "      <td>williams</td>\n",
       "    </tr>\n",
       "    <tr>\n",
       "      <th>9770</th>\n",
       "      <td>-14.936947</td>\n",
       "      <td>pronounced</td>\n",
       "    </tr>\n",
       "    <tr>\n",
       "      <th>9776</th>\n",
       "      <td>-14.936947</td>\n",
       "      <td>propaganda</td>\n",
       "    </tr>\n",
       "    <tr>\n",
       "      <th>1847</th>\n",
       "      <td>-14.936947</td>\n",
       "      <td>budgeted</td>\n",
       "    </tr>\n",
       "    <tr>\n",
       "      <th>13726</th>\n",
       "      <td>-14.936947</td>\n",
       "      <td>wiesel</td>\n",
       "    </tr>\n",
       "    <tr>\n",
       "      <th>13700</th>\n",
       "      <td>-14.936947</td>\n",
       "      <td>whimsical</td>\n",
       "    </tr>\n",
       "    <tr>\n",
       "      <th>1841</th>\n",
       "      <td>-14.936947</td>\n",
       "      <td>bud</td>\n",
       "    </tr>\n",
       "    <tr>\n",
       "      <th>4541</th>\n",
       "      <td>-14.936947</td>\n",
       "      <td>ernest</td>\n",
       "    </tr>\n",
       "    <tr>\n",
       "      <th>814</th>\n",
       "      <td>-14.936947</td>\n",
       "      <td>amusing</td>\n",
       "    </tr>\n",
       "    <tr>\n",
       "      <th>13686</th>\n",
       "      <td>-14.936947</td>\n",
       "      <td>wheeled</td>\n",
       "    </tr>\n",
       "    <tr>\n",
       "      <th>817</th>\n",
       "      <td>-14.936947</td>\n",
       "      <td>anaheim</td>\n",
       "    </tr>\n",
       "    <tr>\n",
       "      <th>9821</th>\n",
       "      <td>-14.936947</td>\n",
       "      <td>protractor</td>\n",
       "    </tr>\n",
       "    <tr>\n",
       "      <th>6033</th>\n",
       "      <td>-14.936947</td>\n",
       "      <td>hikes</td>\n",
       "    </tr>\n",
       "    <tr>\n",
       "      <th>3110</th>\n",
       "      <td>-14.936947</td>\n",
       "      <td>crank</td>\n",
       "    </tr>\n",
       "    <tr>\n",
       "      <th>9845</th>\n",
       "      <td>-14.936947</td>\n",
       "      <td>prowess</td>\n",
       "    </tr>\n",
       "  </tbody>\n",
       "</table>\n",
       "</div>"
      ],
      "text/plain": [
       "       feature_prob feature_names\n",
       "0        -14.936947           Dr.\n",
       "2746     -14.936947           con\n",
       "793      -14.936947    ambulatory\n",
       "13759    -14.936947     windmills\n",
       "9738     -14.936947   prohibitive\n",
       "13749    -14.936947      williams\n",
       "9770     -14.936947    pronounced\n",
       "9776     -14.936947    propaganda\n",
       "1847     -14.936947      budgeted\n",
       "13726    -14.936947        wiesel\n",
       "13700    -14.936947     whimsical\n",
       "1841     -14.936947           bud\n",
       "4541     -14.936947        ernest\n",
       "814      -14.936947       amusing\n",
       "13686    -14.936947       wheeled\n",
       "817      -14.936947       anaheim\n",
       "9821     -14.936947    protractor\n",
       "6033     -14.936947         hikes\n",
       "3110     -14.936947         crank\n",
       "9845     -14.936947       prowess"
      ]
     },
     "execution_count": 193,
     "metadata": {},
     "output_type": "execute_result"
    }
   ],
   "source": [
    "bow_feature=pd.DataFrame({'feature_prob':feature_prob,'feature_names':feature_names})\n",
    "sorted_feature=bow_feature.sort_values(by=['feature_prob'])\n",
    "sorted_feature.head(20) #Top 20 negative words/categories feature"
   ]
  },
  {
   "cell_type": "markdown",
   "metadata": {
    "colab_type": "text",
    "id": "4c1EK-EgN1OZ"
   },
   "source": [
    "### 2.4.2 Applying Naive Bayes on TFIDF,<font color='red'> SET 2</font>"
   ]
  },
  {
   "cell_type": "code",
   "execution_count": 194,
   "metadata": {
    "colab": {},
    "colab_type": "code",
    "id": "QfJBWFlxN1Oa"
   },
   "outputs": [
    {
     "name": "stdout",
     "output_type": "stream",
     "text": [
      "(68823, 16147)\n",
      "(7648, 16147)\n",
      "(32774, 16147)\n"
     ]
    }
   ],
   "source": [
    "\n",
    "train_tfidf=hstack((teacher_prefix_one_hot_train,school_state_one_hot_train,\\\n",
    "grade_cat_one_hot_train,categories_one_hot_train,subcategories_one_hot_train,price_one_hot_train,\\\n",
    "tfidf_train_essay,tfidf_train_title)).tocsr()\n",
    "cv_tfidf=hstack((teacher_prefix_one_hot_cv,school_state_one_hot_cv,\\\n",
    "grade_cat_one_hot_cv,categories_one_hot_cv,subcategories_one_hot_cv,price_one_hot_cv,\\\n",
    "tfidf_cv_essay,tfidf_cv_title)).tocsr()\n",
    "\n",
    "test_tfidf=hstack((teacher_prefix_one_hot_test,school_state_one_hot_test,\\\n",
    "grade_cat_one_hot_test,categories_one_hot_test,subcategories_one_hot_test,price_one_hot_test,\\\n",
    "tfidf_test_essay,tfidf_test_title)).tocsr()\n",
    "print(train_tfidf.shape)\n",
    "print(cv_tfidf.shape)\n",
    "print(test_tfidf.shape)"
   ]
  },
  {
   "cell_type": "code",
   "execution_count": 197,
   "metadata": {},
   "outputs": [
    {
     "name": "stderr",
     "output_type": "stream",
     "text": [
      "100%|██████████| 18/18 [00:02<00:00,  8.19it/s]\n"
     ]
    }
   ],
   "source": [
    "alpha=[0.00001,0.00005,0.0001,0.0005,0.001,0.005,0.01,0.5,1,5,10,50,100,500,1000,2500,5000,10000]\n",
    "y_train_pred=[]\n",
    "y_cv_pred=[]\n",
    "train_auc=[]\n",
    "cv_auc=[]\n",
    "log_alpha=[]\n",
    "for al in alpha:\n",
    "    log_alpha.append(math.log(al))\n",
    "for a in tqdm(alpha):\n",
    "    y_train_pred=[]\n",
    "    y_cv_pred=[]\n",
    "    model=MultinomialNB(alpha=a,class_prior=[0.5,0.5])\n",
    "    model.fit(train_bow,y_train)\n",
    "    y_train_pred.extend(model.predict_proba(train_bow)[:,1])\n",
    "    y_cv_pred.extend(model.predict_proba(cv_bow)[:,1])\n",
    "    train_auc.append(roc_auc_score(y_train,y_train_pred))\n",
    "    cv_auc.append(roc_auc_score(y_cv,y_cv_pred))"
   ]
  },
  {
   "cell_type": "code",
   "execution_count": 200,
   "metadata": {},
   "outputs": [
    {
     "name": "stdout",
     "output_type": "stream",
     "text": [
      "[-11.512925464970229, -9.903487552536127, -9.210340371976182, -7.600902459542082, -6.907755278982137, -5.298317366548036, -4.605170185988091, -0.6931471805599453, 0.0, 1.6094379124341003, 2.302585092994046, 3.912023005428146, 4.605170185988092, 6.214608098422191, 6.907755278982137, 7.824046010856292, 8.517193191416238, 9.210340371976184]\n"
     ]
    },
    {
     "data": {
      "image/png": "[encoded data removed]",
      "text/plain": [
       "<Figure size 432x288 with 1 Axes>"
      ]
     },
     "metadata": {
      "needs_background": "light"
     },
     "output_type": "display_data"
    },
    {
     "name": "stdout",
     "output_type": "stream",
     "text": [
      "[1e-05, 5e-05, 0.0001, 0.0005, 0.001, 0.005, 0.01, 0.5, 1, 5, 10, 50, 100, 500, 1000, 2500, 5000, 10000]\n"
     ]
    }
   ],
   "source": [
    "print(log_alpha)\n",
    "plt.plot(log_alpha,train_auc,label='train_auc')\n",
    "plt.plot(log_alpha,cv_auc,label='cv_auc')\n",
    "plt.legend()\n",
    "plt.scatter(log_alpha,train_auc)\n",
    "plt.scatter(log_alpha,cv_auc)\n",
    "plt.grid()\n",
    "plt.ylabel('auc')\n",
    "plt.xlabel('value of alpha')\n",
    "plt.show()\n",
    "print(alpha)"
   ]
  },
  {
   "cell_type": "code",
   "execution_count": 246,
   "metadata": {},
   "outputs": [],
   "source": [
    "y_train_pred=[]\n",
    "y_test_pred=[]\n",
    "best_alpha=1\n",
    "model=MultinomialNB(alpha=best_alpha,class_prior=[0.5,0.5])\n",
    "model.fit(train_bow,y_train)\n",
    "y_train_pred.extend(model.predict_proba(train_bow)[:,1])\n",
    "y_test_pred.extend(model.predict_proba(test_bow)[:,1])\n",
    "fpr_train,tpr_train,thresholds_train=roc_curve(y_train,y_train_pred)\n",
    "fpr_test,tpr_test,thresholds_train=roc_curve(y_test,y_test_pred)"
   ]
  },
  {
   "cell_type": "code",
   "execution_count": 247,
   "metadata": {},
   "outputs": [
    {
     "data": {
      "text/plain": [
       "Text(0.5,0,'Auc')"
      ]
     },
     "execution_count": 247,
     "metadata": {},
     "output_type": "execute_result"
    },
    {
     "data": {
      "image/png": "[encoded data removed]",
      "text/plain": [
       "<Figure size 432x288 with 1 Axes>"
      ]
     },
     "metadata": {
      "needs_background": "light"
     },
     "output_type": "display_data"
    }
   ],
   "source": [
    "plt.plot(fpr_train,tpr_train,label='train_auc'+str(auc(fpr_train,tpr_train)))\n",
    "plt.plot(fpr_test,tpr_test,label='test_auc'+str(auc(fpr_test,tpr_test)))\n",
    "plt.legend()\n",
    "plt.title('Roc-AUC curve')\n",
    "plt.xlabel('Auc')"
   ]
  },
  {
   "cell_type": "code",
   "execution_count": 248,
   "metadata": {},
   "outputs": [
    {
     "data": {
      "text/plain": [
       "(68823, 16147)"
      ]
     },
     "execution_count": 248,
     "metadata": {},
     "output_type": "execute_result"
    }
   ],
   "source": [
    "train_tfidf.shape"
   ]
  },
  {
   "cell_type": "code",
   "execution_count": 249,
   "metadata": {},
   "outputs": [
    {
     "name": "stdout",
     "output_type": "stream",
     "text": [
      "Train Confusion Matrix\n",
      "[[ 8329  2024]\n",
      " [25246 33224]]\n",
      "Test Confusion Matrix\n",
      "[[ 3589  1473]\n",
      " [12540 15172]]\n"
     ]
    }
   ],
   "source": [
    "from sklearn.metrics import confusion_matrix\n",
    "print('Train Confusion Matrix')\n",
    "print(confusion_matrix(y_train,model.predict(train_tfidf)))\n",
    "print('Test Confusion Matrix')\n",
    "print(confusion_matrix(y_test,model.predict(test_tfidf)))"
   ]
  },
  {
   "cell_type": "markdown",
   "metadata": {},
   "source": [
    "#### Test data confusion Matrix"
   ]
  },
  {
   "cell_type": "code",
   "execution_count": 250,
   "metadata": {},
   "outputs": [
    {
     "data": {
      "text/plain": [
       "<matplotlib.axes._subplots.AxesSubplot at 0x1ed01bcdcc0>"
      ]
     },
     "execution_count": 250,
     "metadata": {},
     "output_type": "execute_result"
    },
    {
     "data": {
      "image/png": "[encoded data removed]",
      "text/plain": [
       "<Figure size 432x288 with 1 Axes>"
      ]
     },
     "metadata": {
      "needs_background": "light"
     },
     "output_type": "display_data"
    }
   ],
   "source": [
    "mat=confusion_matrix(y_test,model.predict(test_tfidf))\n",
    "sns.heatmap(mat,square=True,annot=True,fmt='d',\\\n",
    "cbar=False)"
   ]
  },
  {
   "cell_type": "markdown",
   "metadata": {},
   "source": [
    "#### Train data confusion Matrix"
   ]
  },
  {
   "cell_type": "code",
   "execution_count": 251,
   "metadata": {},
   "outputs": [
    {
     "data": {
      "text/plain": [
       "<matplotlib.axes._subplots.AxesSubplot at 0x1ed01c24240>"
      ]
     },
     "execution_count": 251,
     "metadata": {},
     "output_type": "execute_result"
    },
    {
     "data": {
      "image/png": "[encoded data removed]",
      "text/plain": [
       "<Figure size 432x288 with 1 Axes>"
      ]
     },
     "metadata": {
      "needs_background": "light"
     },
     "output_type": "display_data"
    }
   ],
   "source": [
    "mat=confusion_matrix(y_train,model.predict(train_tfidf))\n",
    "sns.heatmap(mat,square=True,annot=True,fmt='d',\\\n",
    "cbar=False)"
   ]
  },
  {
   "cell_type": "markdown",
   "metadata": {
    "colab_type": "text",
    "id": "RlDghTPlN1Oc"
   },
   "source": [
    "#### 2.4.2.1 Top 10 important features of positive class from<font color='red'> SET 2</font>"
   ]
  },
  {
   "cell_type": "code",
   "execution_count": 171,
   "metadata": {},
   "outputs": [
    {
     "name": "stdout",
     "output_type": "stream",
     "text": [
      "16147\n",
      "16147\n"
     ]
    }
   ],
   "source": [
    "#https://stackoverflow.com/questions/50526898/how-to-get-feature-importance-in-naive-bayes\n",
    "clf=MultinomialNB(alpha=0.663)\n",
    "clf.fit(train_tfidf,y_train)\n",
    "feature_prob=[]\n",
    "feature_names=[]\n",
    "for cur_feature in range(train_tfidf.shape[1]):\n",
    "    feature_prob.append(clf.feature_log_prob_[1,cur_feature])\n",
    "def feature_append(data):\n",
    "    for a in data:\n",
    "        feature_names.append(a)\n",
    "feature_append(teacher_pre_feature_name)\n",
    "feature_append(school_state_feature_name)\n",
    "feature_append(grade_feature_name)\n",
    "feature_append(categories_feature_name)\n",
    "feature_append(subcategories_feature_name)\n",
    "feature_names.append('price')\n",
    "feature_append(tfidf_essay_feature)\n",
    "feature_append(tfidf_title_feature)\n",
    "print(len(feature_prob))\n",
    "print(len(feature_names))"
   ]
  },
  {
   "cell_type": "code",
   "execution_count": 172,
   "metadata": {
    "colab": {},
    "colab_type": "code",
    "id": "MuYcE0THN1Oc"
   },
   "outputs": [
    {
     "data": {
      "text/html": [
       "<div>\n",
       "<style scoped>\n",
       "    .dataframe tbody tr th:only-of-type {\n",
       "        vertical-align: middle;\n",
       "    }\n",
       "\n",
       "    .dataframe tbody tr th {\n",
       "        vertical-align: top;\n",
       "    }\n",
       "\n",
       "    .dataframe thead th {\n",
       "        text-align: right;\n",
       "    }\n",
       "</style>\n",
       "<table border=\"1\" class=\"dataframe\">\n",
       "  <thead>\n",
       "    <tr style=\"text-align: right;\">\n",
       "      <th></th>\n",
       "      <th>feature_prob</th>\n",
       "      <th>feature_names</th>\n",
       "    </tr>\n",
       "  </thead>\n",
       "  <tbody>\n",
       "    <tr>\n",
       "      <th>0</th>\n",
       "      <td>-14.156362</td>\n",
       "      <td>Dr.</td>\n",
       "    </tr>\n",
       "    <tr>\n",
       "      <th>57</th>\n",
       "      <td>-14.156362</td>\n",
       "      <td>6-8</td>\n",
       "    </tr>\n",
       "    <tr>\n",
       "      <th>2</th>\n",
       "      <td>-14.156362</td>\n",
       "      <td>Mr.</td>\n",
       "    </tr>\n",
       "    <tr>\n",
       "      <th>3</th>\n",
       "      <td>-14.156362</td>\n",
       "      <td>Ms.</td>\n",
       "    </tr>\n",
       "    <tr>\n",
       "      <th>4</th>\n",
       "      <td>-14.156362</td>\n",
       "      <td>Mrs.</td>\n",
       "    </tr>\n",
       "    <tr>\n",
       "      <th>58</th>\n",
       "      <td>-14.156362</td>\n",
       "      <td>3-5</td>\n",
       "    </tr>\n",
       "    <tr>\n",
       "      <th>59</th>\n",
       "      <td>-14.156362</td>\n",
       "      <td>PreK-2</td>\n",
       "    </tr>\n",
       "    <tr>\n",
       "      <th>56</th>\n",
       "      <td>-14.156362</td>\n",
       "      <td>9-12</td>\n",
       "    </tr>\n",
       "    <tr>\n",
       "      <th>7343</th>\n",
       "      <td>-13.466578</td>\n",
       "      <td>licensed</td>\n",
       "    </tr>\n",
       "    <tr>\n",
       "      <th>985</th>\n",
       "      <td>-13.453304</td>\n",
       "      <td>archive</td>\n",
       "    </tr>\n",
       "    <tr>\n",
       "      <th>4452</th>\n",
       "      <td>-13.397593</td>\n",
       "      <td>enterprise</td>\n",
       "    </tr>\n",
       "    <tr>\n",
       "      <th>7235</th>\n",
       "      <td>-13.385083</td>\n",
       "      <td>lb</td>\n",
       "    </tr>\n",
       "    <tr>\n",
       "      <th>9935</th>\n",
       "      <td>-13.364356</td>\n",
       "      <td>quad</td>\n",
       "    </tr>\n",
       "    <tr>\n",
       "      <th>5065</th>\n",
       "      <td>-13.363134</td>\n",
       "      <td>fireman</td>\n",
       "    </tr>\n",
       "    <tr>\n",
       "      <th>8532</th>\n",
       "      <td>-13.362613</td>\n",
       "      <td>observable</td>\n",
       "    </tr>\n",
       "    <tr>\n",
       "      <th>11719</th>\n",
       "      <td>-13.355006</td>\n",
       "      <td>spiritually</td>\n",
       "    </tr>\n",
       "    <tr>\n",
       "      <th>12418</th>\n",
       "      <td>-13.347787</td>\n",
       "      <td>teamed</td>\n",
       "    </tr>\n",
       "    <tr>\n",
       "      <th>2932</th>\n",
       "      <td>-13.344220</td>\n",
       "      <td>contributor</td>\n",
       "    </tr>\n",
       "    <tr>\n",
       "      <th>3054</th>\n",
       "      <td>-13.338184</td>\n",
       "      <td>counterpart</td>\n",
       "    </tr>\n",
       "    <tr>\n",
       "      <th>1446</th>\n",
       "      <td>-13.337981</td>\n",
       "      <td>behaving</td>\n",
       "    </tr>\n",
       "  </tbody>\n",
       "</table>\n",
       "</div>"
      ],
      "text/plain": [
       "       feature_prob feature_names\n",
       "0        -14.156362           Dr.\n",
       "57       -14.156362           6-8\n",
       "2        -14.156362           Mr.\n",
       "3        -14.156362           Ms.\n",
       "4        -14.156362          Mrs.\n",
       "58       -14.156362           3-5\n",
       "59       -14.156362        PreK-2\n",
       "56       -14.156362          9-12\n",
       "7343     -13.466578      licensed\n",
       "985      -13.453304       archive\n",
       "4452     -13.397593    enterprise\n",
       "7235     -13.385083            lb\n",
       "9935     -13.364356          quad\n",
       "5065     -13.363134       fireman\n",
       "8532     -13.362613    observable\n",
       "11719    -13.355006   spiritually\n",
       "12418    -13.347787        teamed\n",
       "2932     -13.344220   contributor\n",
       "3054     -13.338184   counterpart\n",
       "1446     -13.337981      behaving"
      ]
     },
     "execution_count": 172,
     "metadata": {},
     "output_type": "execute_result"
    }
   ],
   "source": [
    "\n",
    "bow_feature=pd.DataFrame({'feature_prob':feature_prob,'feature_names':feature_names})\n",
    "sorted_feature=bow_feature.sort_values(by=['feature_prob'])\n",
    "sorted_feature.head(20)"
   ]
  },
  {
   "cell_type": "markdown",
   "metadata": {
    "colab_type": "text",
    "id": "E2F4tscgN1Oe"
   },
   "source": [
    "#### 2.4.2.2 Top 10 important features of negative class from<font color='red'> SET 2</font>"
   ]
  },
  {
   "cell_type": "code",
   "execution_count": 173,
   "metadata": {
    "colab": {},
    "colab_type": "code",
    "id": "8-u4Xh2UN1Og"
   },
   "outputs": [
    {
     "name": "stdout",
     "output_type": "stream",
     "text": [
      "16147\n",
      "16147\n"
     ]
    }
   ],
   "source": [
    "\n",
    "feature_prob=[]\n",
    "feature_names=[]\n",
    "for cur_feature in range(train_tfidf.shape[1]):\n",
    "    feature_prob.append(clf.feature_log_prob_[0,cur_feature])\n",
    "def feature_append(data):\n",
    "    for a in data:\n",
    "        feature_names.append(a)\n",
    "feature_append(teacher_pre_feature_name)\n",
    "feature_append(school_state_feature_name)\n",
    "feature_append(grade_feature_name)\n",
    "feature_append(categories_feature_name)\n",
    "feature_append(subcategories_feature_name)\n",
    "feature_names.append('price')\n",
    "feature_append(tfidf_essay_feature)\n",
    "feature_append(tfidf_title_feature)\n",
    "print(len(feature_prob))\n",
    "print(len(feature_names))"
   ]
  },
  {
   "cell_type": "code",
   "execution_count": 174,
   "metadata": {},
   "outputs": [
    {
     "data": {
      "text/html": [
       "<div>\n",
       "<style scoped>\n",
       "    .dataframe tbody tr th:only-of-type {\n",
       "        vertical-align: middle;\n",
       "    }\n",
       "\n",
       "    .dataframe tbody tr th {\n",
       "        vertical-align: top;\n",
       "    }\n",
       "\n",
       "    .dataframe thead th {\n",
       "        text-align: right;\n",
       "    }\n",
       "</style>\n",
       "<table border=\"1\" class=\"dataframe\">\n",
       "  <thead>\n",
       "    <tr style=\"text-align: right;\">\n",
       "      <th></th>\n",
       "      <th>feature_prob</th>\n",
       "      <th>feature_names</th>\n",
       "    </tr>\n",
       "  </thead>\n",
       "  <tbody>\n",
       "    <tr>\n",
       "      <th>0</th>\n",
       "      <td>-12.464401</td>\n",
       "      <td>Dr.</td>\n",
       "    </tr>\n",
       "    <tr>\n",
       "      <th>4309</th>\n",
       "      <td>-12.464401</td>\n",
       "      <td>emilia</td>\n",
       "    </tr>\n",
       "    <tr>\n",
       "      <th>14445</th>\n",
       "      <td>-12.464401</td>\n",
       "      <td>cube</td>\n",
       "    </tr>\n",
       "    <tr>\n",
       "      <th>14444</th>\n",
       "      <td>-12.464401</td>\n",
       "      <td>cubby</td>\n",
       "    </tr>\n",
       "    <tr>\n",
       "      <th>8620</th>\n",
       "      <td>-12.464401</td>\n",
       "      <td>onenote</td>\n",
       "    </tr>\n",
       "    <tr>\n",
       "      <th>4614</th>\n",
       "      <td>-12.464401</td>\n",
       "      <td>evil</td>\n",
       "    </tr>\n",
       "    <tr>\n",
       "      <th>7578</th>\n",
       "      <td>-12.464401</td>\n",
       "      <td>magee</td>\n",
       "    </tr>\n",
       "    <tr>\n",
       "      <th>6145</th>\n",
       "      <td>-12.464401</td>\n",
       "      <td>horns</td>\n",
       "    </tr>\n",
       "    <tr>\n",
       "      <th>12427</th>\n",
       "      <td>-12.464401</td>\n",
       "      <td>teased</td>\n",
       "    </tr>\n",
       "    <tr>\n",
       "      <th>1149</th>\n",
       "      <td>-12.464401</td>\n",
       "      <td>attachments</td>\n",
       "    </tr>\n",
       "    <tr>\n",
       "      <th>1146</th>\n",
       "      <td>-12.464401</td>\n",
       "      <td>attaches</td>\n",
       "    </tr>\n",
       "    <tr>\n",
       "      <th>2461</th>\n",
       "      <td>-12.464401</td>\n",
       "      <td>clifford</td>\n",
       "    </tr>\n",
       "    <tr>\n",
       "      <th>2463</th>\n",
       "      <td>-12.464401</td>\n",
       "      <td>climates</td>\n",
       "    </tr>\n",
       "    <tr>\n",
       "      <th>13566</th>\n",
       "      <td>-12.464401</td>\n",
       "      <td>warped</td>\n",
       "    </tr>\n",
       "    <tr>\n",
       "      <th>14421</th>\n",
       "      <td>-12.464401</td>\n",
       "      <td>cover</td>\n",
       "    </tr>\n",
       "    <tr>\n",
       "      <th>2469</th>\n",
       "      <td>-12.464401</td>\n",
       "      <td>clinics</td>\n",
       "    </tr>\n",
       "    <tr>\n",
       "      <th>10533</th>\n",
       "      <td>-12.464401</td>\n",
       "      <td>resting</td>\n",
       "    </tr>\n",
       "    <tr>\n",
       "      <th>14420</th>\n",
       "      <td>-12.464401</td>\n",
       "      <td>course</td>\n",
       "    </tr>\n",
       "    <tr>\n",
       "      <th>10532</th>\n",
       "      <td>-12.464401</td>\n",
       "      <td>rested</td>\n",
       "    </tr>\n",
       "    <tr>\n",
       "      <th>14419</th>\n",
       "      <td>-12.464401</td>\n",
       "      <td>country</td>\n",
       "    </tr>\n",
       "  </tbody>\n",
       "</table>\n",
       "</div>"
      ],
      "text/plain": [
       "       feature_prob feature_names\n",
       "0        -12.464401           Dr.\n",
       "4309     -12.464401        emilia\n",
       "14445    -12.464401          cube\n",
       "14444    -12.464401         cubby\n",
       "8620     -12.464401       onenote\n",
       "4614     -12.464401          evil\n",
       "7578     -12.464401         magee\n",
       "6145     -12.464401         horns\n",
       "12427    -12.464401        teased\n",
       "1149     -12.464401   attachments\n",
       "1146     -12.464401      attaches\n",
       "2461     -12.464401      clifford\n",
       "2463     -12.464401      climates\n",
       "13566    -12.464401        warped\n",
       "14421    -12.464401         cover\n",
       "2469     -12.464401       clinics\n",
       "10533    -12.464401       resting\n",
       "14420    -12.464401        course\n",
       "10532    -12.464401        rested\n",
       "14419    -12.464401       country"
      ]
     },
     "execution_count": 174,
     "metadata": {},
     "output_type": "execute_result"
    }
   ],
   "source": [
    "bow_feature=pd.DataFrame({'feature_prob':feature_prob,'feature_names':feature_names})\n",
    "sorted_feature=bow_feature.sort_values(by=['feature_prob'])\n",
    "sorted_feature.head(20)"
   ]
  },
  {
   "cell_type": "markdown",
   "metadata": {
    "colab_type": "text",
    "id": "vz0LvF7mN1Oi"
   },
   "source": [
    "<h1>3. Conclusions</h1>"
   ]
  },
  {
   "cell_type": "code",
   "execution_count": 177,
   "metadata": {
    "colab": {},
    "colab_type": "code",
    "id": "nxMjhk9xN1Oi"
   },
   "outputs": [],
   "source": [
    "\n",
    "from prettytable import PrettyTable\n",
    "table=PrettyTable()\n",
    "table.field_names=['vectorize','HyperParameter(Alpha)','AUC-Train','AUC-Test']\n",
    "table.add_row(['BOW',\"0.5\",\"0.78\",\"0.70\"])\n",
    "table.add_row(['TFIDF',\"0.66\",\"0.78\",\"0.70\"])"
   ]
  },
  {
   "cell_type": "code",
   "execution_count": 178,
   "metadata": {},
   "outputs": [
    {
     "name": "stdout",
     "output_type": "stream",
     "text": [
      "+-----------+-----------------------+-----------+----------+\n",
      "| vectorize | HyperParameter(Alpha) | AUC-Train | AUC-Test |\n",
      "+-----------+-----------------------+-----------+----------+\n",
      "|    BOW    |          0.5          |    0.78   |   0.70   |\n",
      "|   TFIDF   |          0.66         |    0.78   |   0.70   |\n",
      "+-----------+-----------------------+-----------+----------+\n"
     ]
    }
   ],
   "source": [
    "print(table)"
   ]
  }
 ],
 "metadata": {
  "colab": {
   "collapsed_sections": [
    "hrCuADG4N1M-",
    "-U5bh83MN1NM",
    "_ht9enK1N1NT",
    "sYQKSZ_tN1NX",
    "n4vhAHnMN1Nf",
    "xzli_RRdN1OM",
    "WcsQ4_6VN1OQ",
    "mq21rLlsN1OS",
    "4c1EK-EgN1OZ",
    "RlDghTPlN1Oc",
    "E2F4tscgN1Oe"
   ],
   "name": "4_DonorsChoose_NB.ipynb",
   "provenance": [],
   "version": "0.3.2"
  },
  "kernelspec": {
   "display_name": "Python 3",
   "language": "python",
   "name": "python3"
  },
  "language_info": {
   "codemirror_mode": {
    "name": "ipython",
    "version": 3
   },
   "file_extension": ".py",
   "mimetype": "text/x-python",
   "name": "python",
   "nbconvert_exporter": "python",
   "pygments_lexer": "ipython3",
   "version": "3.7.3"
  }
 },
 "nbformat": 4,
 "nbformat_minor": 1
}
