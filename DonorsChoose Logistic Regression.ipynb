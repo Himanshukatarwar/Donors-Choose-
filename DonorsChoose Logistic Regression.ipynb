{
 "cells": [
  {
   "cell_type": "markdown",
   "metadata": {
    "colab_type": "text",
    "id": "7pzFaN8TOh78"
   },
   "source": [
    "# DonorsChoose"
   ]
  },
  {
   "cell_type": "markdown",
   "metadata": {
    "colab_type": "text",
    "id": "EVZ5rn7COh7-"
   },
   "source": [
    "<p>\n",
    "DonorsChoose.org receives hundreds of thousands of project proposals each year for classroom projects in need of funding. Right now, a large number of volunteers is needed to manually screen each submission before it's approved to be posted on the DonorsChoose.org website.\n",
    "</p>\n",
    "<p>\n",
    "    Next year, DonorsChoose.org expects to receive close to 500,000 project proposals. As a result, there are three main problems they need to solve:\n",
    "<ul>\n",
    "<li>\n",
    "    How to scale current manual processes and resources to screen 500,000 projects so that they can be posted as quickly and as efficiently as possible</li>\n",
    "    <li>How to increase the consistency of project vetting across different volunteers to improve the experience for teachers</li>\n",
    "    <li>How to focus volunteer time on the applications that need the most assistance</li>\n",
    "    </ul>\n",
    "</p>    \n",
    "<p>\n",
    "The goal of the competition is to predict whether or not a DonorsChoose.org project proposal submitted by a teacher will be approved, using the text of project descriptions as well as additional metadata about the project, teacher, and school. DonorsChoose.org can then use this information to identify projects most likely to need further review before approval.\n",
    "</p>"
   ]
  },
  {
   "cell_type": "markdown",
   "metadata": {
    "colab_type": "text",
    "id": "UZQ1FGY_Oh7_"
   },
   "source": [
    "## About the DonorsChoose Data Set\n",
    "\n",
    "The `train.csv` data set provided by DonorsChoose contains the following features:\n",
    "\n",
    "Feature | Description \n",
    "----------|---------------\n",
    "**`project_id`** | A unique identifier for the proposed project. **Example:** `p036502`   \n",
    "**`project_title`**    | Title of the project. **Examples:**<br><ul><li><code>Art Will Make You Happy!</code></li><li><code>First Grade Fun</code></li></ul> \n",
    "**`project_grade_category`** | Grade level of students for which the project is targeted. One of the following enumerated values: <br/><ul><li><code>Grades PreK-2</code></li><li><code>Grades 3-5</code></li><li><code>Grades 6-8</code></li><li><code>Grades 9-12</code></li></ul>  \n",
    " **`project_subject_categories`** | One or more (comma-separated) subject categories for the project from the following enumerated list of values:  <br/><ul><li><code>Applied Learning</code></li><li><code>Care &amp; Hunger</code></li><li><code>Health &amp; Sports</code></li><li><code>History &amp; Civics</code></li><li><code>Literacy &amp; Language</code></li><li><code>Math &amp; Science</code></li><li><code>Music &amp; The Arts</code></li><li><code>Special Needs</code></li><li><code>Warmth</code></li></ul><br/> **Examples:** <br/><ul><li><code>Music &amp; The Arts</code></li><li><code>Literacy &amp; Language, Math &amp; Science</code></li>  \n",
    "  **`school_state`** | State where school is located ([Two-letter U.S. postal code](https://en.wikipedia.org/wiki/List_of_U.S._state_abbreviations#Postal_codes)). **Example:** `WY`\n",
    "**`project_subject_subcategories`** | One or more (comma-separated) subject subcategories for the project. **Examples:** <br/><ul><li><code>Literacy</code></li><li><code>Literature &amp; Writing, Social Sciences</code></li></ul> \n",
    "**`project_resource_summary`** | An explanation of the resources needed for the project. **Example:** <br/><ul><li><code>My students need hands on literacy materials to manage sensory needs!</code</li></ul> \n",
    "**`project_essay_1`**    | First application essay<sup>*</sup>  \n",
    "**`project_essay_2`**    | Second application essay<sup>*</sup> \n",
    "**`project_essay_3`**    | Third application essay<sup>*</sup> \n",
    "**`project_essay_4`**    | Fourth application essay<sup>*</sup> \n",
    "**`project_submitted_datetime`** | Datetime when project application was submitted. **Example:** `2016-04-28 12:43:56.245`   \n",
    "**`teacher_id`** | A unique identifier for the teacher of the proposed project. **Example:** `bdf8baa8fedef6bfeec7ae4ff1c15c56`  \n",
    "**`teacher_prefix`** | Teacher's title. One of the following enumerated values: <br/><ul><li><code>nan</code></li><li><code>Dr.</code></li><li><code>Mr.</code></li><li><code>Mrs.</code></li><li><code>Ms.</code></li><li><code>Teacher.</code></li></ul>  \n",
    "**`teacher_number_of_previously_posted_projects`** | Number of project applications previously submitted by the same teacher. **Example:** `2` \n",
    "\n",
    "<sup>*</sup> See the section <b>Notes on the Essay Data</b> for more details about these features.\n",
    "\n",
    "Additionally, the `resources.csv` data set provides more data about the resources required for each project. Each line in this file represents a resource required by a project:\n",
    "\n",
    "Feature | Description \n",
    "----------|---------------\n",
    "**`id`** | A `project_id` value from the `train.csv` file.  **Example:** `p036502`   \n",
    "**`description`** | Desciption of the resource. **Example:** `Tenor Saxophone Reeds, Box of 25`   \n",
    "**`quantity`** | Quantity of the resource required. **Example:** `3`   \n",
    "**`price`** | Price of the resource required. **Example:** `9.95`   \n",
    "\n",
    "**Note:** Many projects require multiple resources. The `id` value corresponds to a `project_id` in train.csv, so you use it as a key to retrieve all resources needed for a project:\n",
    "\n",
    "The data set contains the following label (the value you will attempt to predict):\n",
    "\n",
    "Label | Description\n",
    "----------|---------------\n",
    "`project_is_approved` | A binary flag indicating whether DonorsChoose approved the project. A value of `0` indicates the project was not approved, and a value of `1` indicates the project was approved."
   ]
  },
  {
   "cell_type": "markdown",
   "metadata": {
    "colab_type": "text",
    "id": "sCCs5GkfOh8A"
   },
   "source": [
    "### Notes on the Essay Data\n",
    "\n",
    "<ul>\n",
    "Prior to May 17, 2016, the prompts for the essays were as follows:\n",
    "<li>__project_essay_1:__ \"Introduce us to your classroom\"</li>\n",
    "<li>__project_essay_2:__ \"Tell us more about your students\"</li>\n",
    "<li>__project_essay_3:__ \"Describe how your students will use the materials you're requesting\"</li>\n",
    "<li>__project_essay_3:__ \"Close by sharing why your project will make a difference\"</li>\n",
    "</ul>\n",
    "\n",
    "\n",
    "<ul>\n",
    "Starting on May 17, 2016, the number of essays was reduced from 4 to 2, and the prompts for the first 2 essays were changed to the following:<br>\n",
    "<li>__project_essay_1:__ \"Describe your students: What makes your students special? Specific details about their background, your neighborhood, and your school are all helpful.\"</li>\n",
    "<li>__project_essay_2:__ \"About your project: How will these materials make a difference in your students' learning and improve their school lives?\"</li>\n",
    "<br>For all projects with project_submitted_datetime of 2016-05-17 and later, the values of project_essay_3 and project_essay_4 will be NaN.\n",
    "</ul>\n"
   ]
  },
  {
   "cell_type": "code",
   "execution_count": 1,
   "metadata": {
    "colab": {},
    "colab_type": "code",
    "id": "bq-I4gTiOh8B",
    "outputId": "7fa6df60-d2e1-483b-8b5b-c287060d7dd2"
   },
   "outputs": [],
   "source": [
    "%matplotlib inline\n",
    "import warnings\n",
    "warnings.filterwarnings(\"ignore\")\n",
    "\n",
    "import sqlite3\n",
    "import pandas as pd\n",
    "import numpy as np\n",
    "import nltk\n",
    "import string\n",
    "import matplotlib.pyplot as plt\n",
    "import seaborn as sns\n",
    "from sklearn.feature_extraction.text import TfidfTransformer\n",
    "from sklearn.feature_extraction.text import TfidfVectorizer\n",
    "\n",
    "from sklearn.feature_extraction.text import CountVectorizer\n",
    "from sklearn.metrics import confusion_matrix\n",
    "from sklearn import metrics\n",
    "from sklearn.metrics import roc_curve, auc\n",
    "from nltk.stem.porter import PorterStemmer\n",
    "\n",
    "import re\n",
    "# Tutorial about Python regular expressions: https://pymotw.com/2/re/\n",
    "import string\n",
    "from nltk.corpus import stopwords\n",
    "from nltk.stem import PorterStemmer\n",
    "from nltk.stem.wordnet import WordNetLemmatizer\n",
    "\n",
    "from gensim.models import Word2Vec\n",
    "from gensim.models import KeyedVectors\n",
    "import pickle\n",
    "\n",
    "from tqdm import tqdm\n",
    "import os\n",
    "\n",
    "\n",
    "from collections import Counter"
   ]
  },
  {
   "cell_type": "markdown",
   "metadata": {
    "colab_type": "text",
    "id": "zLR1LA2oOh8L"
   },
   "source": [
    "## 1.1 Reading Data"
   ]
  },
  {
   "cell_type": "code",
   "execution_count": 2,
   "metadata": {
    "colab": {},
    "colab_type": "code",
    "id": "h_7d8KKsOh8M"
   },
   "outputs": [],
   "source": [
    "project_data = pd.read_csv('train_data.csv')\n",
    "resource_data = pd.read_csv('resources.csv')"
   ]
  },
  {
   "cell_type": "code",
   "execution_count": 3,
   "metadata": {
    "colab": {},
    "colab_type": "code",
    "id": "z-37jMkROh8P",
    "outputId": "e1f7c478-cebd-438d-c78e-869b8cb02893"
   },
   "outputs": [
    {
     "name": "stdout",
     "output_type": "stream",
     "text": [
      "Number of data points in train data (109248, 17)\n",
      "--------------------------------------------------\n",
      "The attributes of data : ['Unnamed: 0' 'id' 'teacher_id' 'teacher_prefix' 'school_state'\n",
      " 'project_submitted_datetime' 'project_grade_category'\n",
      " 'project_subject_categories' 'project_subject_subcategories'\n",
      " 'project_title' 'project_essay_1' 'project_essay_2' 'project_essay_3'\n",
      " 'project_essay_4' 'project_resource_summary'\n",
      " 'teacher_number_of_previously_posted_projects' 'project_is_approved']\n"
     ]
    }
   ],
   "source": [
    "print(\"Number of data points in train data\", project_data.shape)\n",
    "print('-'*50)\n",
    "print(\"The attributes of data :\", project_data.columns.values)"
   ]
  },
  {
   "cell_type": "code",
   "execution_count": 4,
   "metadata": {
    "colab": {},
    "colab_type": "code",
    "id": "JFvPg4TZOh8U",
    "outputId": "c90140d4-aeca-4315-d468-29bfe1e66fff"
   },
   "outputs": [
    {
     "name": "stdout",
     "output_type": "stream",
     "text": [
      "Number of data points in train data (1541272, 4)\n",
      "['id' 'description' 'quantity' 'price']\n"
     ]
    },
    {
     "data": {
      "text/html": [
       "<div>\n",
       "<style scoped>\n",
       "    .dataframe tbody tr th:only-of-type {\n",
       "        vertical-align: middle;\n",
       "    }\n",
       "\n",
       "    .dataframe tbody tr th {\n",
       "        vertical-align: top;\n",
       "    }\n",
       "\n",
       "    .dataframe thead th {\n",
       "        text-align: right;\n",
       "    }\n",
       "</style>\n",
       "<table border=\"1\" class=\"dataframe\">\n",
       "  <thead>\n",
       "    <tr style=\"text-align: right;\">\n",
       "      <th></th>\n",
       "      <th>id</th>\n",
       "      <th>description</th>\n",
       "      <th>quantity</th>\n",
       "      <th>price</th>\n",
       "    </tr>\n",
       "  </thead>\n",
       "  <tbody>\n",
       "    <tr>\n",
       "      <th>0</th>\n",
       "      <td>p233245</td>\n",
       "      <td>LC652 - Lakeshore Double-Space Mobile Drying Rack</td>\n",
       "      <td>1</td>\n",
       "      <td>149.00</td>\n",
       "    </tr>\n",
       "    <tr>\n",
       "      <th>1</th>\n",
       "      <td>p069063</td>\n",
       "      <td>Bouncy Bands for Desks (Blue support pipes)</td>\n",
       "      <td>3</td>\n",
       "      <td>14.95</td>\n",
       "    </tr>\n",
       "  </tbody>\n",
       "</table>\n",
       "</div>"
      ],
      "text/plain": [
       "        id                                        description  quantity  \\\n",
       "0  p233245  LC652 - Lakeshore Double-Space Mobile Drying Rack         1   \n",
       "1  p069063        Bouncy Bands for Desks (Blue support pipes)         3   \n",
       "\n",
       "    price  \n",
       "0  149.00  \n",
       "1   14.95  "
      ]
     },
     "execution_count": 4,
     "metadata": {},
     "output_type": "execute_result"
    }
   ],
   "source": [
    "print(\"Number of data points in train data\", resource_data.shape)\n",
    "print(resource_data.columns.values)\n",
    "resource_data.head(2)"
   ]
  },
  {
   "cell_type": "markdown",
   "metadata": {
    "colab_type": "text",
    "id": "pTDWxnUOOh8Y"
   },
   "source": [
    "## 1.2 preprocessing of `project_subject_categories`"
   ]
  },
  {
   "cell_type": "code",
   "execution_count": 5,
   "metadata": {
    "colab": {},
    "colab_type": "code",
    "id": "gw_I3RrXOh8Z"
   },
   "outputs": [],
   "source": [
    "catogories = list(project_data['project_subject_categories'].values)\n",
    "# remove special characters from list of strings python: https://stackoverflow.com/a/47301924/4084039\n",
    "\n",
    "# https://www.geeksforgeeks.org/removing-stop-words-nltk-python/\n",
    "# https://stackoverflow.com/questions/23669024/how-to-strip-a-specific-word-from-a-string\n",
    "# https://stackoverflow.com/questions/8270092/remove-all-whitespace-in-a-string-in-python\n",
    "cat_list = []\n",
    "for i in catogories:\n",
    "    temp = \"\"\n",
    "    # consider we have text like this \"Math & Science, Warmth, Care & Hunger\"\n",
    "    for j in i.split(','): # it will split it in three parts [\"Math & Science\", \"Warmth\", \"Care & Hunger\"]\n",
    "        if 'The' in j.split(): # this will split each of the catogory based on space \"Math & Science\"=> \"Math\",\"&\", \"Science\"\n",
    "            j=j.replace('The','') # if we have the words \"The\" we are going to replace it with ''(i.e removing 'The')\n",
    "        j = j.replace(' ','') # we are placeing all the ' '(space) with ''(empty) ex:\"Math & Science\"=>\"Math&Science\"\n",
    "        temp+=j.strip()+\" \" #\" abc \".strip() will return \"abc\", remove the trailing spaces\n",
    "        temp = temp.replace('&','_') # we are replacing the & value into \n",
    "    cat_list.append(temp.strip())\n",
    "    \n",
    "project_data['clean_categories'] = cat_list\n",
    "project_data.drop(['project_subject_categories'], axis=1, inplace=True)\n",
    "\n",
    "from collections import Counter\n",
    "my_counter = Counter()\n",
    "for word in project_data['clean_categories'].values:\n",
    "    my_counter.update(word.split())\n",
    "\n",
    "cat_dict = dict(my_counter)\n",
    "sorted_cat_dict = dict(sorted(cat_dict.items(), key=lambda kv: kv[1]))\n"
   ]
  },
  {
   "cell_type": "markdown",
   "metadata": {
    "colab_type": "text",
    "id": "uPeyOZOvOh8d"
   },
   "source": [
    "## 1.3 preprocessing of `project_subject_subcategories`"
   ]
  },
  {
   "cell_type": "code",
   "execution_count": 6,
   "metadata": {
    "colab": {},
    "colab_type": "code",
    "id": "uA4uC5YxOh8d"
   },
   "outputs": [],
   "source": [
    "sub_catogories = list(project_data['project_subject_subcategories'].values)\n",
    "# remove special characters from list of strings python: https://stackoverflow.com/a/47301924/4084039\n",
    "\n",
    "# https://www.geeksforgeeks.org/removing-stop-words-nltk-python/\n",
    "# https://stackoverflow.com/questions/23669024/how-to-strip-a-specific-word-from-a-string\n",
    "# https://stackoverflow.com/questions/8270092/remove-all-whitespace-in-a-string-in-python\n",
    "\n",
    "sub_cat_list = []\n",
    "for i in sub_catogories:\n",
    "    temp = \"\"\n",
    "    # consider we have text like this \"Math & Science, Warmth, Care & Hunger\"\n",
    "    for j in i.split(','): # it will split it in three parts [\"Math & Science\", \"Warmth\", \"Care & Hunger\"]\n",
    "        if 'The' in j.split(): # this will split each of the catogory based on space \"Math & Science\"=> \"Math\",\"&\", \"Science\"\n",
    "            j=j.replace('The','') # if we have the words \"The\" we are going to replace it with ''(i.e removing 'The')\n",
    "        j = j.replace(' ','') # we are placeing all the ' '(space) with ''(empty) ex:\"Math & Science\"=>\"Math&Science\"\n",
    "        temp +=j.strip()+\" \"#\" abc \".strip() will return \"abc\", remove the trailing spaces\n",
    "        temp = temp.replace('&','_')\n",
    "    sub_cat_list.append(temp.strip())\n",
    "\n",
    "project_data['clean_subcategories'] = sub_cat_list\n",
    "project_data.drop(['project_subject_subcategories'], axis=1, inplace=True)\n",
    "\n",
    "# count of all the words in corpus python: https://stackoverflow.com/a/22898595/4084039\n",
    "my_counter = Counter()\n",
    "for word in project_data['clean_subcategories'].values:\n",
    "    my_counter.update(word.split())\n",
    "    \n",
    "sub_cat_dict = dict(my_counter)\n",
    "sorted_sub_cat_dict = dict(sorted(sub_cat_dict.items(), key=lambda kv: kv[1]))"
   ]
  },
  {
   "cell_type": "markdown",
   "metadata": {
    "colab_type": "text",
    "id": "yWnCu3ufOh8h"
   },
   "source": [
    "## 1.3 Text preprocessing"
   ]
  },
  {
   "cell_type": "code",
   "execution_count": 7,
   "metadata": {
    "colab": {},
    "colab_type": "code",
    "id": "U05smU87Oh8i"
   },
   "outputs": [],
   "source": [
    "# merge two column text dataframe: \n",
    "project_data[\"essay\"] = project_data[\"project_essay_1\"].map(str) +\\\n",
    "                        project_data[\"project_essay_2\"].map(str) + \\\n",
    "                        project_data[\"project_essay_3\"].map(str) + \\\n",
    "                        project_data[\"project_essay_4\"].map(str)"
   ]
  },
  {
   "cell_type": "code",
   "execution_count": 9,
   "metadata": {
    "colab": {},
    "colab_type": "code",
    "id": "MGdcsQGDOh8v"
   },
   "outputs": [],
   "source": [
    "# https://stackoverflow.com/a/47091490/4084039\n",
    "import re\n",
    "\n",
    "def decontracted(phrase):\n",
    "    # specific\n",
    "    phrase = re.sub(r\"won't\", \"will not\", phrase)\n",
    "    phrase = re.sub(r\"can\\'t\", \"can not\", phrase)\n",
    "\n",
    "    # general\n",
    "    phrase = re.sub(r\"n\\'t\", \" not\", phrase)\n",
    "    phrase = re.sub(r\"\\'re\", \" are\", phrase)\n",
    "    phrase = re.sub(r\"\\'s\", \" is\", phrase)\n",
    "    phrase = re.sub(r\"\\'d\", \" would\", phrase)\n",
    "    phrase = re.sub(r\"\\'ll\", \" will\", phrase)\n",
    "    phrase = re.sub(r\"\\'t\", \" not\", phrase)\n",
    "    phrase = re.sub(r\"\\'ve\", \" have\", phrase)\n",
    "    phrase = re.sub(r\"\\'m\", \" am\", phrase)\n",
    "    return phrase"
   ]
  },
  {
   "cell_type": "code",
   "execution_count": null,
   "metadata": {
    "colab": {},
    "colab_type": "code",
    "id": "loyUeAjHOh8z",
    "outputId": "81ddaada-e995-4404-ab93-b049c94a85e8"
   },
   "outputs": [],
   "source": []
  },
  {
   "cell_type": "code",
   "execution_count": null,
   "metadata": {
    "colab": {},
    "colab_type": "code",
    "id": "yLZz_CbMOh84",
    "outputId": "861d8e1d-550c-4861-a3ac-efa430d4ad07"
   },
   "outputs": [],
   "source": []
  },
  {
   "cell_type": "code",
   "execution_count": null,
   "metadata": {
    "colab": {},
    "colab_type": "code",
    "id": "QBEg9vnkOh8_",
    "outputId": "ae570fb3-3203-4540-ddfb-a0661e23f7a7"
   },
   "outputs": [],
   "source": []
  },
  {
   "cell_type": "code",
   "execution_count": 10,
   "metadata": {
    "colab": {},
    "colab_type": "code",
    "id": "f9xBNXfxOh9F"
   },
   "outputs": [],
   "source": [
    "# https://gist.github.com/sebleier/554280\n",
    "# we are removing the words from the stop words list: 'no', 'nor', 'not'\n",
    "stopwords= ['i', 'me', 'my', 'myself', 'we', 'our', 'ours', 'ourselves', 'you', \"you're\", \"you've\",\\\n",
    "            \"you'll\", \"you'd\", 'your', 'yours', 'yourself', 'yourselves', 'he', 'him', 'his', 'himself', \\\n",
    "            'she', \"she's\", 'her', 'hers', 'herself', 'it', \"it's\", 'its', 'itself', 'they', 'them', 'their',\\\n",
    "            'theirs', 'themselves', 'what', 'which', 'who', 'whom', 'this', 'that', \"that'll\", 'these', 'those', \\\n",
    "            'am', 'is', 'are', 'was', 'were', 'be', 'been', 'being', 'have', 'has', 'had', 'having', 'do', 'does', \\\n",
    "            'did', 'doing', 'a', 'an', 'the', 'and', 'but', 'if', 'or', 'because', 'as', 'until', 'while', 'of', \\\n",
    "            'at', 'by', 'for', 'with', 'about', 'against', 'between', 'into', 'through', 'during', 'before', 'after',\\\n",
    "            'above', 'below', 'to', 'from', 'up', 'down', 'in', 'out', 'on', 'off', 'over', 'under', 'again', 'further',\\\n",
    "            'then', 'once', 'here', 'there', 'when', 'where', 'why', 'how', 'all', 'any', 'both', 'each', 'few', 'more',\\\n",
    "            'most', 'other', 'some', 'such', 'only', 'own', 'same', 'so', 'than', 'too', 'very', \\\n",
    "            's', 't', 'can', 'will', 'just', 'don', \"don't\", 'should', \"should've\", 'now', 'd', 'll', 'm', 'o', 're', \\\n",
    "            've', 'y', 'ain', 'aren', \"aren't\", 'couldn', \"couldn't\", 'didn', \"didn't\", 'doesn', \"doesn't\", 'hadn',\\\n",
    "            \"hadn't\", 'hasn', \"hasn't\", 'haven', \"haven't\", 'isn', \"isn't\", 'ma', 'mightn', \"mightn't\", 'mustn',\\\n",
    "            \"mustn't\", 'needn', \"needn't\", 'shan', \"shan't\", 'shouldn', \"shouldn't\", 'wasn', \"wasn't\", 'weren', \"weren't\", \\\n",
    "            'won', \"won't\", 'wouldn', \"wouldn't\"]"
   ]
  },
  {
   "cell_type": "code",
   "execution_count": 11,
   "metadata": {
    "colab": {},
    "colab_type": "code",
    "id": "ykn0tBvpOh9M",
    "outputId": "86b5e136-bfb4-4881-dda8-6de1752ffb6d"
   },
   "outputs": [
    {
     "name": "stderr",
     "output_type": "stream",
     "text": [
      "100%|██████████| 109248/109248 [02:03<00:00, 885.39it/s] \n"
     ]
    }
   ],
   "source": [
    "# Combining all the above stundents \n",
    "from tqdm import tqdm\n",
    "preprocessed_essays = []\n",
    "# tqdm is for printing the status bar\n",
    "for sentance in tqdm(project_data['essay'].values):\n",
    "    sent = decontracted(sentance)\n",
    "    sent = sent.replace('\\\\r', ' ')\n",
    "    sent = sent.replace('\\\\\"', ' ')\n",
    "    sent = sent.replace('\\\\n', ' ')\n",
    "    sent = re.sub('[^A-Za-z0-9]+', ' ', sent)\n",
    "    # https://gist.github.com/sebleier/554280\n",
    "    sent = ' '.join(e for e in sent.split() if e not in stopwords)\n",
    "    preprocessed_essays.append(sent.lower().strip())"
   ]
  },
  {
   "cell_type": "code",
   "execution_count": null,
   "metadata": {
    "colab": {},
    "colab_type": "code",
    "id": "xQcuOWaaOh9P",
    "outputId": "26a0789c-ccca-4fb5-b6c7-8eba65a400d3"
   },
   "outputs": [],
   "source": []
  },
  {
   "cell_type": "markdown",
   "metadata": {
    "colab_type": "text",
    "id": "dATutMFcOh9S"
   },
   "source": [
    "<h2><font color='red'> 1.4 Preprocessing of `project_title`</font></h2>"
   ]
  },
  {
   "cell_type": "code",
   "execution_count": 12,
   "metadata": {
    "colab": {},
    "colab_type": "code",
    "id": "7BrWMw3vOh9T"
   },
   "outputs": [],
   "source": [
    "# similarly you can preprocess the titles also\n",
    "project_title=project_data['project_title']\n",
    "import re\n",
    "preprocessed_title=[]\n",
    "for i in project_title:\n",
    "    i=i.replace('\\\\r',\"\")\n",
    "    i=i.replace('\\\\n',\"\")\n",
    "    i=i.replace('\\\\t',\"\")\n",
    "    i=i.replace(\"'\\'\",\"\")\n",
    "    i=i.replace(\":\",\"\")\n",
    "    i=i.replace(\"'\",\"\")\n",
    "    i=i.replace(\"-\",\"\")\n",
    "    i=i.replace(\",\",\"\")\n",
    "    i=i.replace(\".\",\"\")\n",
    "    i=i.replace(\"'\"\"'\",\"\")\n",
    "    clean=re.sub('[^A-Za-z0-9]+',\" \",i)\n",
    "    word = ' '.join(e for e in clean.split() if e not in stopwords)\n",
    "    preprocessed_title.append(word.lower().strip())"
   ]
  },
  {
   "cell_type": "code",
   "execution_count": 13,
   "metadata": {},
   "outputs": [
    {
     "name": "stderr",
     "output_type": "stream",
     "text": [
      "100%|██████████| 109248/109248 [02:57<00:00, 614.66it/s]\n"
     ]
    }
   ],
   "source": [
    "#https://simmonhessner.de/lammitize-whole-sentences-with-python-and-nltks-wordnetlemmatizer/\n",
    "#lemmatizing the preprocessed_title\n",
    "from nltk.stem import *\n",
    "import nltk\n",
    "from nltk.corpus import wordnet\n",
    "lemmatizer=WordNetLemmatizer()\n",
    "def nltk2wn_tag(nltk_tag):\n",
    "    if nltk_tag.startswith('J'):\n",
    "        return wordnet.ADJ\n",
    "    elif nltk_tag.startswith('V'):\n",
    "        return wordnet.VERB\n",
    "    elif nltk_tag.startswith('N'):\n",
    "        return wordnet.NOUN\n",
    "    elif nltk_tag.startswith('R'):\n",
    "        return wordnet.ADV\n",
    "    else:\n",
    "        return None\n",
    "def lemmatize_sentence(sentence):\n",
    "    nltk_tagged=nltk.pos_tag(nltk.word_tokenize(sentence))\n",
    "    wn_tagged=map(lambda x:(x[0],nltk2wn_tag(x[1])),nltk_tagged)\n",
    "    res_words=[]\n",
    "    for word,tag in wn_tagged:\n",
    "        if tag is None:\n",
    "            res_words.append(word)\n",
    "        else:\n",
    "            res_words.append(lemmatizer.lemmatize(word,tag))\n",
    "    return \" \".join(res_words)\n",
    "from tqdm import tqdm\n",
    "clean_title=[]\n",
    "for word in tqdm(preprocessed_title):\n",
    "    i=lemmatize_sentence(word)\n",
    "    clean_title.append(i)"
   ]
  },
  {
   "cell_type": "code",
   "execution_count": 14,
   "metadata": {},
   "outputs": [
    {
     "name": "stdout",
     "output_type": "stream",
     "text": [
      "[0, 0, 0, 0, 0, 0, 0, 0, 0, 0, 1, 0, 1, 0, 0, 1]\n",
      "109248\n"
     ]
    }
   ],
   "source": [
    "num_counter=[]\n",
    "project_sumry=project_data['project_resource_summary'].str.split()\n",
    "for i,sent in enumerate(project_sumry):\n",
    "    for word in sent:\n",
    "        if word.isdigit():\n",
    "            num_counter.append(i)\n",
    "numerical_digit=[]\n",
    "for sent_i in range(len(project_sumry)):\n",
    "    if sent_i in num_counter:\n",
    "        numerical_digit.append(1)\n",
    "    else:\n",
    "        numerical_digit.append(0)\n",
    "print(numerical_digit[4:20])\n",
    "print(len(numerical_digit))\n"
   ]
  },
  {
   "cell_type": "code",
   "execution_count": 15,
   "metadata": {},
   "outputs": [],
   "source": [
    "project_data.shape\n",
    "project_data['project_sumry_digit']=numerical_digit"
   ]
  },
  {
   "cell_type": "code",
   "execution_count": 16,
   "metadata": {},
   "outputs": [
    {
     "name": "stdout",
     "output_type": "stream",
     "text": [
      "109248\n"
     ]
    }
   ],
   "source": [
    "project_data['essay']= preprocessed_essays\n",
    "essay_word_count = project_data['essay'].str.split().apply(len)\n",
    "essay_word_count = essay_word_count.values\n",
    "print(len(essay_word_count))"
   ]
  },
  {
   "cell_type": "code",
   "execution_count": 17,
   "metadata": {},
   "outputs": [
    {
     "name": "stdout",
     "output_type": "stream",
     "text": [
      "109248\n"
     ]
    }
   ],
   "source": [
    "project_data['title']= preprocessed_title\n",
    "title_word_count = project_data['title'].str.split().apply(len)\n",
    "title_word_count = title_word_count.values\n",
    "print(len(title_word_count))"
   ]
  },
  {
   "cell_type": "code",
   "execution_count": 18,
   "metadata": {},
   "outputs": [],
   "source": [
    "price_data = resource_data.groupby('id').agg({'price':'sum', 'quantity':'sum'}).reset_index()\n",
    "project_data = pd.merge(project_data, price_data, on='id', how='left')\n",
    "project_data['title_Count']=title_word_count\n",
    "project_data['essay_Count']=essay_word_count"
   ]
  },
  {
   "cell_type": "markdown",
   "metadata": {
    "colab_type": "text",
    "id": "q7zXfuktOh9W"
   },
   "source": [
    "## 1.5 Preparing data for models"
   ]
  },
  {
   "cell_type": "code",
   "execution_count": 19,
   "metadata": {
    "colab": {},
    "colab_type": "code",
    "id": "GWx5ER5XOh9X",
    "outputId": "06f931bc-ff9a-4635-9af7-f65d095a7448"
   },
   "outputs": [
    {
     "data": {
      "text/plain": [
       "Index(['Unnamed: 0', 'id', 'teacher_id', 'teacher_prefix', 'school_state',\n",
       "       'project_submitted_datetime', 'project_grade_category', 'project_title',\n",
       "       'project_essay_1', 'project_essay_2', 'project_essay_3',\n",
       "       'project_essay_4', 'project_resource_summary',\n",
       "       'teacher_number_of_previously_posted_projects', 'project_is_approved',\n",
       "       'clean_categories', 'clean_subcategories', 'essay',\n",
       "       'project_sumry_digit', 'title', 'price', 'quantity', 'title_Count',\n",
       "       'essay_Count'],\n",
       "      dtype='object')"
      ]
     },
     "execution_count": 19,
     "metadata": {},
     "output_type": "execute_result"
    }
   ],
   "source": [
    "project_data.columns"
   ]
  },
  {
   "cell_type": "markdown",
   "metadata": {
    "colab_type": "text",
    "id": "j2-sbIVbOh9a"
   },
   "source": [
    "we are going to consider\n",
    "\n",
    "       - school_state : categorical data\n",
    "       - clean_categories : categorical data\n",
    "       - clean_subcategories : categorical data\n",
    "       - project_grade_category : categorical data\n",
    "       - teacher_prefix : categorical data\n",
    "       \n",
    "       - project_title : text data\n",
    "       - text : text data\n",
    "       - project_resource_summary: text data (optinal)\n",
    "       \n",
    "       - quantity : numerical (optinal)\n",
    "       - teacher_number_of_previously_posted_projects : numerical\n",
    "       - price : numerical"
   ]
  },
  {
   "cell_type": "markdown",
   "metadata": {
    "colab_type": "text",
    "id": "6sZvMoQfOh-b"
   },
   "source": [
    "__ Computing Sentiment Scores__"
   ]
  },
  {
   "cell_type": "code",
   "execution_count": 43,
   "metadata": {
    "colab": {},
    "colab_type": "code",
    "id": "8D0ZIhL2Oh-e",
    "outputId": "4ac4b39e-93a0-4468-8d64-94f111265b74"
   },
   "outputs": [
    {
     "name": "stderr",
     "output_type": "stream",
     "text": [
      "100%|██████████| 109245/109245 [07:14<00:00, 251.33it/s]\n"
     ]
    }
   ],
   "source": [
    "import nltk\n",
    "from nltk.sentiment.vader import SentimentIntensityAnalyzer\n",
    "\n",
    "# import nltk\n",
    "# nltk.download('vader_lexicon')\n",
    "\n",
    "sid = SentimentIntensityAnalyzer()\n",
    "sentiment_com_essay=[]\n",
    "sentiment_neg_essay=[]\n",
    "sentiment_pos_essay=[]\n",
    "for for_sentiment in tqdm(project_data['essay']):\n",
    "    ss = sid.polarity_scores(for_sentiment)\n",
    "    sentiment_com_essay.append(ss['compound'])\n",
    "    sentiment_neg_essay.append(ss['neg'])\n",
    "    sentiment_pos_essay.append(ss['pos'])\n",
    "project_data['com_essay']=sentiment_com_essay\n",
    "project_data['neg_essay']=sentiment_neg_essay\n",
    "project_data['pos_essay']=sentiment_pos_essay"
   ]
  },
  {
   "cell_type": "markdown",
   "metadata": {
    "colab_type": "text",
    "id": "Drelm2SEOh-i"
   },
   "source": [
    "#  Logistic Regression"
   ]
  },
  {
   "cell_type": "markdown",
   "metadata": {
    "colab_type": "text",
    "id": "ZPHEJ2gOOh-l"
   },
   "source": [
    "<ol>\n",
    "    <li><strong>[Task-1] Logistic Regression(either SGDClassifier with log loss, or LogisticRegression) on these feature sets</strong>\n",
    "        <ul>\n",
    "            <li><font color='red'>Set 1</font>: categorical, numerical features + project_title(BOW) + preprocessed_eassay (`BOW with bi-grams` with `min_df=10` and `max_features=5000`)</li>\n",
    "            <li><font color='red'>Set 2</font>: categorical, numerical features + project_title(TFIDF)+  preprocessed_eassay (`TFIDF with bi-grams` with `min_df=10` and `max_features=5000`)</li>\n",
    "            <li><font color='red'>Set 3</font>: categorical, numerical features + project_title(AVG W2V)+  preprocessed_eassay (AVG W2V)</li>\n",
    "            <li><font color='red'>Set 4</font>: categorical, numerical features + project_title(TFIDF W2V)+  preprocessed_essay (TFIDF W2V)</li>        </ul>\n",
    "    </li>\n",
    "    <br>\n",
    "    <li><strong>Hyper paramter tuning (find best hyper parameters corresponding the algorithm that you choose)</strong>\n",
    "        <ul>\n",
    "    <li>Finding the best hyper parameter which will give the maximum AUC value</li>\n",
    "    <li>Finding  the best hyper paramter </li>\n",
    "    <li>Using  gridsearch cv or randomsearch cv</li>          \n",
    "        </ul>\n",
    "    </li>\n",
    "    <br>\n",
    "    <li><strong>Representation of results</strong>\n",
    "        <ul>\n",
    "    <li>plot the performance of model both on train data and cross validation data for each hyper parameter</li>\n",
    "    <li>On best hyper parameter, train your model with it, and plot the AUC on test data and the ROC curve on both train and test.</li>\n",
    "    <li>print theconfusion matrix with predicted and original labels of test data points. Please visualize your confusion matrices using <a href='https://seaborn.pydata.org/generated/seaborn.heatmap.html'>seaborn heatmaps.</a>\n",
    "        </ul>\n",
    "    </li>\n",
    "    <br>\n",
    "    <li><strong>[Task-2] Logistic Regression on the below feature set <font color='red'> Set 5 </font> by finding the best hyper parameter as suggested in step 2 and step 3.</strong>\n",
    "    <li> Consider these set of features <font color='red'> Set 5 :</font>\n",
    "            <ul>\n",
    "                <li><strong>school_state</strong> : categorical data</li>\n",
    "                <li><strong>clean_categories</strong> : categorical data</li>\n",
    "                <li><strong>clean_subcategories</strong> : categorical data</li>\n",
    "                <li><strong>project_grade_category</strong> :categorical data</li>\n",
    "                <li><strong>teacher_prefix</strong> : categorical data</li>\n",
    "                <li><strong>quantity</strong> : numerical data</li>\n",
    "                <li><strong>teacher_number_of_previously_posted_projects</strong> : numerical data</li>\n",
    "                <li><strong>price</strong> : numerical data</li>\n",
    "                <li><strong>sentiment score's of each of the essay</strong> : numerical data</li>\n",
    "                <li><strong>number of words in the title</strong> : numerical data</li>\n",
    "                <li><strong>number of words in the combine essays</strong> : numerical data</li>\n",
    "            </ul>\n",
    "    </li>\n",
    "    <br>\n",
    "    <li><strong>Conclusion</strong>\n",
    "        <ul>\n",
    "        </ul>\n",
    "</ol>"
   ]
  },
  {
   "cell_type": "markdown",
   "metadata": {
    "colab_type": "text",
    "id": "cy1c6UN2Oh-n"
   },
   "source": [
    "<h1>2. Logistic Regression </h1>"
   ]
  },
  {
   "cell_type": "markdown",
   "metadata": {
    "colab_type": "text",
    "id": "oJIsZrjrOh-o"
   },
   "source": [
    "<h2>2.1 Splitting data into Train and cross validation(or test): Stratified Sampling</h2>"
   ]
  },
  {
   "cell_type": "code",
   "execution_count": 21,
   "metadata": {},
   "outputs": [
    {
     "data": {
      "text/plain": [
       "Index(['Unnamed: 0', 'id', 'teacher_id', 'teacher_prefix', 'school_state',\n",
       "       'project_submitted_datetime', 'project_grade_category', 'project_title',\n",
       "       'project_essay_1', 'project_essay_2', 'project_essay_3',\n",
       "       'project_essay_4', 'project_resource_summary',\n",
       "       'teacher_number_of_previously_posted_projects', 'project_is_approved',\n",
       "       'clean_categories', 'clean_subcategories', 'essay',\n",
       "       'project_sumry_digit', 'title', 'price', 'quantity', 'title_Count',\n",
       "       'essay_Count', 'com_essay', 'neg_essay', 'pos_essay'],\n",
       "      dtype='object')"
      ]
     },
     "execution_count": 21,
     "metadata": {},
     "output_type": "execute_result"
    }
   ],
   "source": [
    "project_data.columns"
   ]
  },
  {
   "cell_type": "code",
   "execution_count": 22,
   "metadata": {
    "colab": {},
    "colab_type": "code",
    "id": "Uadl5GfvOh-o"
   },
   "outputs": [
    {
     "name": "stdout",
     "output_type": "stream",
     "text": [
      "(68823, 17)\n",
      "(68823,)\n",
      "(32774, 17)\n",
      "(32774,)\n",
      "(7648, 17)\n",
      "(7648,)\n",
      "Index(['teacher_prefix', 'school_state', 'project_grade_category', 'title',\n",
      "       'project_resource_summary',\n",
      "       'teacher_number_of_previously_posted_projects', 'clean_categories',\n",
      "       'clean_subcategories', 'essay', 'price', 'quantity',\n",
      "       'project_sumry_digit', 'title_Count', 'essay_Count', 'com_essay',\n",
      "       'neg_essay', 'pos_essay'],\n",
      "      dtype='object')\n"
     ]
    }
   ],
   "source": [
    "# please write all the code with proper documentation, and proper titles for each subsection\n",
    "# go through documentations and blogs before you start coding\n",
    "# first figure out what to do, and then think about how to do.\n",
    "# reading and understanding error messages will be very much helpfull in debugging your code\n",
    "# when you plot any graph make sure you use \n",
    "    # a. Title, that describes your plot, this will be very helpful to the reader\n",
    "    # b. Legends if needed\n",
    "    # c. X-axis label\n",
    "    # d. Y-axis labe\\\n",
    "from sklearn.model_selection import train_test_split\n",
    "project_data=project_data[['teacher_prefix', 'school_state', 'project_grade_category', 'project_resource_summary',\n",
    "       'teacher_number_of_previously_posted_projects',\n",
    "       'clean_categories', 'clean_subcategories', 'essay', 'price', 'quantity','project_is_approved','project_sumry_digit'\n",
    "                          , 'title_Count', 'essay_Count','title','com_essay','neg_essay','pos_essay']]\n",
    "project_data=project_data.dropna()\n",
    "y=project_data['project_is_approved']\n",
    "x=project_data[['teacher_prefix', 'school_state', 'project_grade_category', 'title', 'project_resource_summary',\n",
    "       'teacher_number_of_previously_posted_projects',\n",
    "       'clean_categories', 'clean_subcategories', 'essay', 'price', 'quantity','project_sumry_digit'\n",
    "                          , 'title_Count', 'essay_Count','com_essay','neg_essay','pos_essay']]\n",
    "x_train,x_test,y_train,y_test=train_test_split(x,y,test_size=0.3,random_state=0)\n",
    "x_train,x_cv,y_train,y_cv=train_test_split(x_train,y_train,test_size=0.1,random_state=0)\n",
    "print(x_train.shape)\n",
    "print(y_train.shape)\n",
    "print(x_test.shape)\n",
    "print(y_test.shape)\n",
    "print(x_cv.shape)\n",
    "print(y_cv.shape)\n",
    "print(x_train.columns)"
   ]
  },
  {
   "cell_type": "markdown",
   "metadata": {
    "colab_type": "text",
    "id": "PDLSDy4bOh-s"
   },
   "source": [
    "<h2>2.2 Make Data Model Ready: encoding numerical, categorical features</h2>"
   ]
  },
  {
   "cell_type": "markdown",
   "metadata": {},
   "source": [
    "## upsampling minority target"
   ]
  },
  {
   "cell_type": "code",
   "execution_count": 23,
   "metadata": {},
   "outputs": [],
   "source": [
    "x_train['approved_project']=y_train\n",
    "train_neg=x_train[x_train['approved_project']==0]\n",
    "train_pos=x_train[x_train['approved_project']==1]\n",
    "train_upsample=train_neg.sample(train_pos.shape[0],replace=True)\n",
    "train_data=pd.concat([train_pos,train_upsample],axis=0)\n",
    "y_train=train_data['approved_project']\n",
    "x_train=train_data.drop(['approved_project'],axis=1)"
   ]
  },
  {
   "cell_type": "code",
   "execution_count": 24,
   "metadata": {},
   "outputs": [
    {
     "data": {
      "text/plain": [
       "(116940,)"
      ]
     },
     "execution_count": 24,
     "metadata": {},
     "output_type": "execute_result"
    }
   ],
   "source": [
    "y_train.shape"
   ]
  },
  {
   "cell_type": "markdown",
   "metadata": {},
   "source": [
    "### One hot encoding of school state feature"
   ]
  },
  {
   "cell_type": "code",
   "execution_count": 25,
   "metadata": {
    "colab": {},
    "colab_type": "code",
    "id": "CHCHH_ZyOh-t"
   },
   "outputs": [],
   "source": [
    "# please write all the code with proper documentation, and proper titles for each subsection\n",
    "# go through documentations and blogs before you start coding \n",
    "# first figure out what to do, and then think about how to do.\n",
    "# reading and understanding error messages will be very much helpfull in debugging your code\n",
    "# make sure you featurize train and test data separatly\n",
    "\n",
    "# when you plot any graph make sure you use \n",
    "    # a. Title, that describes your plot, this will be very helpful to the reader\n",
    "    # b. Legends if needed\n",
    "    # c. X-axis label\n",
    "    # d. Y-axis label\n",
    "my_counter=Counter()\n",
    "for grade in x_train['school_state'].values:\n",
    "    my_counter.update(grade.split())\n",
    "dict_my_counter=dict(my_counter)\n",
    "sort_project_grade_cat=dict(sorted(dict_my_counter.items(), key=lambda kv: kv[1]))\n",
    "vectorizer = CountVectorizer(vocabulary=list(sort_project_grade_cat),lowercase=False, binary=True)\n",
    "vectorizer.fit(x_train['school_state'])\n",
    "    # vectorizing \n",
    "school_state_one_hot_train = vectorizer.transform(x_train['school_state'])\n",
    "school_state_one_hot_cv = vectorizer.transform(x_cv['school_state'])\n",
    "school_state_one_hot_test = vectorizer.transform(x_test['school_state'])\n"
   ]
  },
  {
   "cell_type": "markdown",
   "metadata": {},
   "source": [
    "### one hot encoding of cleaned sub categories features"
   ]
  },
  {
   "cell_type": "code",
   "execution_count": 26,
   "metadata": {},
   "outputs": [],
   "source": [
    "from sklearn.preprocessing import Normalizer\n",
    "\n",
    "my_counter=Counter()\n",
    "for grade in x_train['clean_subcategories'].values:\n",
    "    my_counter.update(grade.split())\n",
    "dict_my_counter=dict(my_counter)\n",
    "sorted_sub_cat_dict=dict(sorted(dict_my_counter.items(), key=lambda kv: kv[1]))\n",
    "vectorizer = CountVectorizer(vocabulary=list(sorted_sub_cat_dict.keys()),\\\n",
    "lowercase=False, binary= True) \n",
    "vectorizer.fit(x_train['clean_subcategories'].values)\n",
    "\n",
    "subcategories_one_hot_train=vectorizer.transform(x_train['clean_subcategories'])\n",
    "subcategories_one_hot_test=vectorizer.transform(x_test['clean_subcategories'])\n",
    "subcategories_one_hot_cv=vectorizer.transform(x_cv['clean_subcategories'])"
   ]
  },
  {
   "cell_type": "code",
   "execution_count": 27,
   "metadata": {},
   "outputs": [],
   "source": [
    "# you can do the similar thing with state, teacher_prefix and project_grade_category also\n",
    "def vectorization(data):\n",
    "    my_counter=Counter()\n",
    "    for grade in data:\n",
    "        my_counter.update(grade.split())\n",
    "    dict_my_counter=dict(my_counter)\n",
    "    sort_project_grade_cat=dict(sorted(dict_my_counter.items(), key=lambda kv: kv[1]))\n",
    "    if 'Grades' in dict_my_counter:\n",
    "        dict_my_counter.pop('Grades')\n",
    "    vectorizer = CountVectorizer(vocabulary=list(sort_project_grade_cat),lowercase=False, binary=True)\n",
    "    vectorizer.fit(data)\n",
    "    # vectorizing \n",
    "    project_grade_category_one_hot = vectorizer.transform(data)\n",
    "    return project_grade_category_one_hot\n",
    "#vectorizing of teacher prefix\n",
    "def teacher_prefix_vec(data):\n",
    "    my_counter=Counter()\n",
    "    for prefix in data.values:\n",
    "        my_counter.update(str(prefix).split())\n",
    "    dict_my_counter=dict(my_counter)\n",
    "    sort_teacher_prefix_cat=dict(sorted(dict_my_counter.items()), key=lambda kv: kv[1])\n",
    "    if 'nan' in sort_teacher_prefix_cat.keys():\n",
    "        sort_teacher_prefix_cat.pop('nan')\n",
    "    vectorizer = CountVectorizer(vocabulary=list(sort_teacher_prefix_cat),lowercase=False, binary=True)\n",
    "    vectorizer.fit(data.values.astype('U'))\n",
    "    project_teacher_prefix_one_hot = vectorizer.transform(data.values.astype('U'))\n",
    "    return project_teacher_prefix_one_hot"
   ]
  },
  {
   "cell_type": "markdown",
   "metadata": {},
   "source": [
    "### One hot encoding of project Grade category and clean categories"
   ]
  },
  {
   "cell_type": "code",
   "execution_count": 28,
   "metadata": {},
   "outputs": [],
   "source": [
    "import warnings\n",
    "warnings.filterwarnings(\"ignore\")\n",
    "grade_cat_one_hot_train=vectorization(x_train['project_grade_category'])\n",
    "grade_cat_one_hot_test=vectorization(x_test['project_grade_category'])\n",
    "grade_cat_one_hot_cv=vectorization(x_cv['project_grade_category'])\n",
    "categories_one_hot_train=vectorization(x_train['clean_categories'])\n",
    "categories_one_hot_test=vectorization(x_test['clean_categories'])\n",
    "categories_one_hot_cv=vectorization(x_cv['clean_categories'])\n",
    "\n",
    "from sklearn.preprocessing import Normalizer\n",
    "normalizer=Normalizer()\n",
    "normalizer.fit(x_train['price'].values.reshape(-1,1))\n",
    "price_one_hot_train = normalizer.transform(x_train['price'].values.reshape(-1,1)) \n",
    "price_one_hot_test = normalizer.transform(x_test['price'].values.reshape(-1,1)) \n",
    "price_one_hot_cv = normalizer.transform(x_cv['price'].values.reshape(-1,1)) \n",
    "normalizer.fit(x_train['quantity'].values.reshape(-1,1))\n",
    "quantity_one_hot_train=normalizer.transform(x_train['price'].values.reshape(-1,1))\n",
    "quantity_one_hot_test=normalizer.transform(x_test['price'].values.reshape(-1,1))\n",
    "quantity_one_hot_cv=normalizer.transform(x_cv['price'].values.reshape(-1,1))"
   ]
  },
  {
   "cell_type": "markdown",
   "metadata": {},
   "source": [
    "### One hot encoding of teacher Prefix"
   ]
  },
  {
   "cell_type": "code",
   "execution_count": 29,
   "metadata": {},
   "outputs": [
    {
     "data": {
      "text/plain": [
       "(7648, 5)"
      ]
     },
     "execution_count": 29,
     "metadata": {},
     "output_type": "execute_result"
    }
   ],
   "source": [
    "my_counter=Counter()\n",
    "for grade in x_train['teacher_prefix'].values:\n",
    "    my_counter.update(grade.split())\n",
    "dict_my_counter=dict(my_counter)\n",
    "sorted_sub_cat_dict=dict(sorted(dict_my_counter.items(), key=lambda kv: kv[1]))\n",
    "vectorizer = CountVectorizer(vocabulary=list(sorted_sub_cat_dict.keys()),\\\n",
    "lowercase=False, binary= True) \n",
    "vectorizer.fit(x_train['teacher_prefix'].values)\n",
    "\n",
    "teacher_prefix_one_hot_train=vectorizer.transform(x_train['teacher_prefix'])\n",
    "teacher_prefix_one_hot_test=vectorizer.transform(x_test['teacher_prefix'])\n",
    "teacher_prefix_one_hot_cv=vectorizer.transform(x_cv['teacher_prefix'])\n",
    "teacher_prefix_one_hot_cv.shape"
   ]
  },
  {
   "cell_type": "code",
   "execution_count": 30,
   "metadata": {},
   "outputs": [
    {
     "name": "stdout",
     "output_type": "stream",
     "text": [
      "(7648, 51)\n",
      "(116940, 51)\n",
      "(32774, 51)\n",
      "(7648, 1)\n",
      "(116940, 1)\n",
      "(32774, 1)\n",
      "(7648, 1)\n",
      "(116940, 1)\n",
      "(32774, 1)\n",
      "(7648, 30)\n",
      "(116940, 30)\n",
      "(32774, 30)\n",
      "(7648, 9)\n",
      "(116940, 9)\n",
      "(32774, 9)\n",
      "(7648, 5)\n",
      "(116940, 5)\n",
      "(32774, 5)\n",
      "(7648, 5)\n",
      "(116940, 5)\n",
      "(32774, 5)\n"
     ]
    }
   ],
   "source": [
    "print(school_state_one_hot_cv.shape)\n",
    "print(school_state_one_hot_train.shape)\n",
    "print(school_state_one_hot_test.shape)\n",
    "print(quantity_one_hot_cv.shape)\n",
    "print(quantity_one_hot_train.shape)\n",
    "print(quantity_one_hot_test.shape)\n",
    "\n",
    "print(price_one_hot_cv.shape)\n",
    "print(price_one_hot_train.shape)\n",
    "print(price_one_hot_test.shape)\n",
    "\n",
    "print(subcategories_one_hot_cv.shape)\n",
    "print(subcategories_one_hot_train.shape)\n",
    "print(subcategories_one_hot_test.shape)\n",
    "print(categories_one_hot_cv.shape)\n",
    "print(categories_one_hot_train.shape)\n",
    "print(categories_one_hot_test.shape)\n",
    "print(grade_cat_one_hot_cv.shape)\n",
    "print(grade_cat_one_hot_train.shape)\n",
    "print(grade_cat_one_hot_test.shape)\n",
    "print(teacher_prefix_one_hot_cv.shape)\n",
    "print(teacher_prefix_one_hot_train.shape)\n",
    "print(teacher_prefix_one_hot_test.shape)"
   ]
  },
  {
   "cell_type": "markdown",
   "metadata": {},
   "source": [
    "### Reshaping and feature of digit is in project summary feature"
   ]
  },
  {
   "cell_type": "code",
   "execution_count": 31,
   "metadata": {},
   "outputs": [
    {
     "data": {
      "text/plain": [
       "(116940, 1)"
      ]
     },
     "execution_count": 31,
     "metadata": {},
     "output_type": "execute_result"
    }
   ],
   "source": [
    "num_or_not_train=x_train['project_sumry_digit'].values.reshape(-1,1)\n",
    "num_or_not_test=x_test['project_sumry_digit'].values.reshape(-1,1)\n",
    "num_or_not_cv=x_cv['project_sumry_digit'].values.reshape(-1,1)\n",
    "num_or_not_train.shape"
   ]
  },
  {
   "cell_type": "markdown",
   "metadata": {},
   "source": [
    "### Essay digit count"
   ]
  },
  {
   "cell_type": "code",
   "execution_count": 32,
   "metadata": {},
   "outputs": [
    {
     "data": {
      "text/plain": [
       "(116940, 1)"
      ]
     },
     "execution_count": 32,
     "metadata": {},
     "output_type": "execute_result"
    }
   ],
   "source": [
    "essay_count_train=x_train['essay_Count'].values.reshape(-1,1)\n",
    "essay_count_test=x_test['essay_Count'].values.reshape(-1,1)\n",
    "essay_count_cv=x_cv['essay_Count'].values.reshape(-1,1)\n",
    "essay_count_train.shape"
   ]
  },
  {
   "cell_type": "markdown",
   "metadata": {},
   "source": [
    "## Title digit count"
   ]
  },
  {
   "cell_type": "code",
   "execution_count": 33,
   "metadata": {},
   "outputs": [
    {
     "data": {
      "text/plain": [
       "(116940, 1)"
      ]
     },
     "execution_count": 33,
     "metadata": {},
     "output_type": "execute_result"
    }
   ],
   "source": [
    "title_count_train=x_train['title_Count'].values.reshape(-1,1)\n",
    "title_count_test=x_test['title_Count'].values.reshape(-1,1)\n",
    "title_count_cv=x_cv['title_Count'].values.reshape(-1,1)\n",
    "title_count_train.shape"
   ]
  },
  {
   "cell_type": "markdown",
   "metadata": {
    "colab_type": "text",
    "id": "P-xc_4G3Oh-w"
   },
   "source": [
    "<h2>2.3 Make Data Model Ready: encoding eassay, and project_title</h2>"
   ]
  },
  {
   "cell_type": "code",
   "execution_count": 34,
   "metadata": {},
   "outputs": [
    {
     "data": {
      "text/plain": [
       "Index(['teacher_prefix', 'school_state', 'project_grade_category', 'title',\n",
       "       'project_resource_summary',\n",
       "       'teacher_number_of_previously_posted_projects', 'clean_categories',\n",
       "       'clean_subcategories', 'essay', 'price', 'quantity',\n",
       "       'project_sumry_digit', 'title_Count', 'essay_Count', 'com_essay',\n",
       "       'neg_essay', 'pos_essay'],\n",
       "      dtype='object')"
      ]
     },
     "execution_count": 34,
     "metadata": {},
     "output_type": "execute_result"
    }
   ],
   "source": [
    "x_train.columns"
   ]
  },
  {
   "cell_type": "markdown",
   "metadata": {},
   "source": [
    "### Bag of Words of Essay and Title feature"
   ]
  },
  {
   "cell_type": "code",
   "execution_count": 35,
   "metadata": {
    "colab": {},
    "colab_type": "code",
    "id": "uiEkXDYWOh-x"
   },
   "outputs": [],
   "source": [
    "# please write all the code with proper documentation, and proper titles for each subsection\n",
    "# go through documentations and blogs before you start coding\n",
    "# first figure out what to do, and then think about how to do.\n",
    "# reading and understanding error messages will be very much helpfull in debugging your code\n",
    "# make sure you featurize train and test data separatly\n",
    "\n",
    "# when you plot any graph make sure you use \n",
    "    # a. Title, that describes your plot, this will be very helpful to the reader\n",
    "    # b. Legends if needed\n",
    "    # c. X-axis label\n",
    "    # d. Y-axis label\n",
    "# We are considering only the words which appeared in at least 10 documents(rows or projects).\n",
    "from sklearn.feature_extraction.text import CountVectorizer\n",
    "vectorizer = CountVectorizer(ngram_range=(2,2),min_df=10,max_features=5000)\n",
    "def bow(data): \n",
    "    text_bow = vectorizer.transform(data)\n",
    "    return text_bow\n",
    "vectorizer.fit(x_train['essay'])\n",
    "bow_train_essay=bow(x_train['essay'])\n",
    "bow_test_essay=bow(x_test['essay'])\n",
    "bow_cv_essay=bow(x_cv['essay'])\n",
    "#bow of v\n",
    "vectorizer=CountVectorizer(min_df=10)\n",
    "vectorizer.fit(x_train['title'])\n",
    "bow_train_title=bow(x_train['title'])\n",
    "bow_test_title=bow(x_test['title'])\n",
    "bow_cv_title=bow(x_cv['title'])\n"
   ]
  },
  {
   "cell_type": "code",
   "execution_count": 36,
   "metadata": {},
   "outputs": [
    {
     "name": "stdout",
     "output_type": "stream",
     "text": [
      "(7648, 3700)\n",
      "(116940, 3700)\n",
      "(32774, 3700)\n",
      "(7648, 5000)\n",
      "(116940, 5000)\n",
      "(32774, 5000)\n"
     ]
    }
   ],
   "source": [
    "print(bow_cv_title.shape)\n",
    "print(bow_train_title.shape)\n",
    "print(bow_test_title.shape)\n",
    "print(bow_cv_essay.shape)\n",
    "print(bow_train_essay.shape)\n",
    "print(bow_test_essay.shape)"
   ]
  },
  {
   "cell_type": "markdown",
   "metadata": {},
   "source": [
    "### Tfidf of Essay and Title Features"
   ]
  },
  {
   "cell_type": "code",
   "execution_count": 37,
   "metadata": {},
   "outputs": [
    {
     "name": "stdout",
     "output_type": "stream",
     "text": [
      "(116940, 238162)\n",
      "(32774, 238162)\n",
      "(7648, 238162)\n"
     ]
    }
   ],
   "source": [
    "from sklearn.feature_extraction.text import TfidfVectorizer\n",
    "vectorizer = TfidfVectorizer()\n",
    "vectorizer = TfidfVectorizer(ngram_range=(2,2),min_df=10,max_df=5000)\n",
    "vectorizer.fit(x_train['essay'])\n",
    "tfidf_train_essay = vectorizer.transform(x_train['essay'])\n",
    "tfidf_test_essay = vectorizer.transform(x_test['essay'])\n",
    "tfidf_cv_essay = vectorizer.transform(x_cv['essay'])\n",
    "print(tfidf_train_essay.shape)\n",
    "print(tfidf_test_essay.shape)\n",
    "print(tfidf_cv_essay.shape)"
   ]
  },
  {
   "cell_type": "code",
   "execution_count": 38,
   "metadata": {},
   "outputs": [
    {
     "name": "stdout",
     "output_type": "stream",
     "text": [
      "(116940, 3700)\n",
      "(32774, 3700)\n",
      "(7648, 3700)\n"
     ]
    }
   ],
   "source": [
    "vectorizer = TfidfVectorizer(min_df=10)\n",
    "vectorizer.fit(x_train['title'])\n",
    "tfidf_train_title = vectorizer.transform(x_train['title'])\n",
    "tfidf_test_title = vectorizer.transform(x_test['title'])\n",
    "tfidf_cv_title = vectorizer.transform(x_cv['title'])\n",
    "print(tfidf_train_title.shape)\n",
    "print(tfidf_test_title.shape)\n",
    "print(tfidf_cv_title.shape)"
   ]
  },
  {
   "cell_type": "markdown",
   "metadata": {},
   "source": [
    "### Avgearge Word2vec of Title and Essay Feature"
   ]
  },
  {
   "cell_type": "code",
   "execution_count": 41,
   "metadata": {},
   "outputs": [],
   "source": [
    "# average Word2Vec\n",
    "# compute average word2vec for each review.\n",
    "def avg_w2v(data):\n",
    "    with open('glove_vectors', 'rb') as f:\n",
    "        model = pickle.load(f)\n",
    "        glove_words =  set(model.keys())\n",
    "    avg_w2v_vectors = []; # the avg-w2v for each sentence/review is stored in this list\n",
    "    for sentence in data: # for each review/sentence\n",
    "        vector = np.zeros(300) # as word vectors are of zero length\n",
    "        cnt_words =0; # num of words with a valid vector in the sentence/review\n",
    "        for word in sentence.split(): # for each word in a review/sentence\n",
    "            if word in glove_words:\n",
    "                vector += model[word]\n",
    "                cnt_words += 1\n",
    "        if cnt_words != 0:\n",
    "            vector /= cnt_words\n",
    "        avg_w2v_vectors.append(vector)\n",
    "    return avg_w2v_vectors\n",
    "\n",
    "\n",
    "\n",
    "# average Word2Vec\n",
    "# compute average word2vec for each review\n",
    "def tfidf_weighted_w2v(data,tfidf_words):\n",
    "    with open('glove_vectors', 'rb') as f:\n",
    "        model = pickle.load(f)\n",
    "        glove_words =  set(model.keys())\n",
    "    tfidf_w2v_vectors = []; # the avg-w2v for each sentence/review is stored in this list\n",
    "    for sentence in data: # for each review/sentence\n",
    "        vector = np.zeros(300) # as word vectors are of zero length\n",
    "        tf_idf_weight =0; # num of words with a valid vector in the sentence/review\n",
    "        for word in sentence.split(): # for each word in a review/sentence\n",
    "            if (word in glove_words) and (word in tfidf_words):\n",
    "                vec = model[word] # getting the vector for each word\n",
    "            # here we are multiplying idf value(dictionary[word]) and the tf value((sentence.count(word)/len(sentence.split())))\n",
    "                tf_idf = dictionary[word]*(sentence.count(word)/len(sentence.split())) # getting the tfidf value for each word\n",
    "                vector += (vec * tf_idf) # calculating tfidf weighted w2v\n",
    "                tf_idf_weight += tf_idf\n",
    "        if tf_idf_weight != 0:\n",
    "            vector /= tf_idf_weight\n",
    "        tfidf_w2v_vectors.append(vector)\n",
    "    return tfidf_w2v_vectors"
   ]
  },
  {
   "cell_type": "code",
   "execution_count": 42,
   "metadata": {},
   "outputs": [],
   "source": [
    "avgw2v_train_essay=avg_w2v(x_train['essay'])\n",
    "avgw2v_test_essay=avg_w2v(x_test['essay'])\n",
    "avgw2v_cv_essay=avg_w2v(x_cv['essay'])\n",
    "avgw2v_train_title=avg_w2v(x_train['title'])\n",
    "avgw2v_test_title=avg_w2v(x_test['title'])\n",
    "avgw2v_cv_title=avg_w2v(x_cv['title'])\n",
    "\n",
    "\n",
    "tfidf_model = TfidfVectorizer()\n",
    "tfidf_model.fit(x_train['essay'])# we are converting a dictionary with word as a key, and the idf as a value\n",
    "dictionary = dict(zip(tfidf_model.get_feature_names(), list(tfidf_model.idf_)))\n",
    "tfidf_words = set(tfidf_model.get_feature_names())\n",
    "wtw2v_train_essay=tfidf_weighted_w2v(x_train['essay'],tfidf_words)\n",
    "wtw2v_test_essay=tfidf_weighted_w2v(x_test['essay'],tfidf_words)\n",
    "wtw2v_cv_essay=tfidf_weighted_w2v(x_cv['essay'],tfidf_words)\n",
    "\n",
    "\n",
    "tfidf_model = TfidfVectorizer()\n",
    "tfidf_model.fit(x_train['title'])# we are converting a dictionary with word as a key, and the idf as a value\n",
    "dictionary = dict(zip(tfidf_model.get_feature_names(), list(tfidf_model.idf_)))\n",
    "tfidf_words = set(tfidf_model.get_feature_names())\n",
    "wtw2v_train_title=tfidf_weighted_w2v(x_train['title'],tfidf_words)\n",
    "wtw2v_test_title=tfidf_weighted_w2v(x_test['title'],tfidf_words)\n",
    "wtw2v_cv_title=tfidf_weighted_w2v(x_cv['title'],tfidf_words)"
   ]
  },
  {
   "cell_type": "markdown",
   "metadata": {},
   "source": [
    "### Sentiment Features"
   ]
  },
  {
   "cell_type": "code",
   "execution_count": 44,
   "metadata": {},
   "outputs": [],
   "source": [
    "pos_train_essay=x_train['pos_essay'].values.reshape(-1,1)\n",
    "neg_train_essay=x_train['neg_essay'].values.reshape(-1,1)\n",
    "com_train_essay=x_train['com_essay'].values.reshape(-1,1)\n",
    "pos_cv_essay=x_cv['pos_essay'].values.reshape(-1,1)\n",
    "neg_cv_essay=x_cv['neg_essay'].values.reshape(-1,1)\n",
    "com_cv_essay=x_cv['com_essay'].values.reshape(-1,1)\n",
    "pos_test_essay=x_test['pos_essay'].values.reshape(-1,1)\n",
    "neg_test_essay=x_test['neg_essay'].values.reshape(-1,1)\n",
    "com_test_essay=x_test['com_essay'].values.reshape(-1,1)"
   ]
  },
  {
   "cell_type": "markdown",
   "metadata": {},
   "source": [
    "#### SET 1"
   ]
  },
  {
   "cell_type": "code",
   "execution_count": null,
   "metadata": {},
   "outputs": [],
   "source": []
  },
  {
   "cell_type": "code",
   "execution_count": 45,
   "metadata": {
    "colab": {},
    "colab_type": "code",
    "id": "hP1tBLs1Oh-1"
   },
   "outputs": [
    {
     "name": "stdout",
     "output_type": "stream",
     "text": [
      "(116940, 8805)\n",
      "(7648, 8805)\n"
     ]
    }
   ],
   "source": [
    "# please write all the code with proper documentation, and proper titles for each subsection\n",
    "# go through documentations and blogs before you start coding\n",
    "# first figure out what to do, and then think about how to do.\n",
    "# reading and understanding error messages will be very much helpfull in debugging your code\n",
    "# when you plot any graph make sure you use \n",
    "    # a. Title, that describes your plot, this will be very helpful to the reader\n",
    "    # b. Legends if needed\n",
    "    # c. X-axis label\n",
    "    # d. Y-axis label\n",
    "from scipy.sparse import hstack\n",
    "train_bow=hstack((teacher_prefix_one_hot_train,school_state_one_hot_train,num_or_not_train,\\\n",
    "grade_cat_one_hot_train,categories_one_hot_train,subcategories_one_hot_train,price_one_hot_train,\\\n",
    "quantity_one_hot_train,bow_train_essay,bow_train_title,essay_count_train,title_count_train)).tocsr()\n",
    "cv_bow=hstack((teacher_prefix_one_hot_cv,school_state_one_hot_cv,num_or_not_cv,\\\n",
    "grade_cat_one_hot_cv,categories_one_hot_cv,subcategories_one_hot_cv,price_one_hot_cv,\\\n",
    "quantity_one_hot_cv,bow_cv_essay,bow_cv_title,essay_count_cv,title_count_cv)).tocsr()\n",
    "\n",
    "print(train_bow.shape)\n",
    "print(cv_bow.shape)\n"
   ]
  },
  {
   "cell_type": "code",
   "execution_count": 46,
   "metadata": {},
   "outputs": [],
   "source": [
    "from sklearn.linear_model import LogisticRegression\n",
    "from sklearn.metrics import roc_auc_score,auc"
   ]
  },
  {
   "cell_type": "code",
   "execution_count": 47,
   "metadata": {},
   "outputs": [
    {
     "name": "stderr",
     "output_type": "stream",
     "text": [
      "100%|██████████| 8/8 [03:40<00:00, 42.97s/it]\n"
     ]
    }
   ],
   "source": [
    "train_auc=[]\n",
    "cv_auc=[]\n",
    "from tqdm import tqdm\n",
    "K=[10**i for i in range(-4,4)]\n",
    "for k in tqdm(K):\n",
    "    model=LogisticRegression(C=k,penalty='l2',class_weight='balanced')\n",
    "    model.fit(train_bow,y_train)\n",
    "    y_train_prob=[]\n",
    "    for i in range(0,train_bow.shape[0],1000):\n",
    "        y_train_prob.extend(model.predict_proba(train_bow[i:i+1000])[:,1])\n",
    "    y_cv_prob=[]\n",
    "    for i in range(0,cv_bow.shape[0],1000):\n",
    "        y_cv_prob.extend(model.predict_proba(cv_bow[i:i+1000])[:,1])\n",
    "    train_auc.append(roc_auc_score(y_train,y_train_prob))\n",
    "    cv_auc.append(roc_auc_score(y_cv,y_cv_prob))"
   ]
  },
  {
   "cell_type": "code",
   "execution_count": 55,
   "metadata": {},
   "outputs": [
    {
     "name": "stdout",
     "output_type": "stream",
     "text": [
      "[0.0001, 0.001, 0.01, 0.1, 1, 10, 100, 1000]\n"
     ]
    },
    {
     "data": {
      "image/png": "[encoded data removed]",
      "text/plain": [
       "<Figure size 432x288 with 1 Axes>"
      ]
     },
     "metadata": {
      "needs_background": "light"
     },
     "output_type": "display_data"
    }
   ],
   "source": [
    "import math\n",
    "k=[10**i for i in range(-4,4)]\n",
    "print(k)\n",
    "log_c=[math.log(i) for i in k]\n",
    "\n",
    "plt.plot(log_c,train_auc,label='train_auc')\n",
    "plt.plot(log_c,cv_auc,label='cv_auc')\n",
    "plt.legend()\n",
    "plt.scatter(log_c,train_auc)\n",
    "plt.scatter(log_c,cv_auc)\n",
    "plt.grid()\n",
    "plt.ylabel('auc')\n",
    "plt.xlabel('value of c')\n",
    "plt.show()\n"
   ]
  },
  {
   "cell_type": "code",
   "execution_count": 50,
   "metadata": {},
   "outputs": [
    {
     "name": "stdout",
     "output_type": "stream",
     "text": [
      "(116940, 8805)\n"
     ]
    }
   ],
   "source": [
    "test_bow=hstack((teacher_prefix_one_hot_test,school_state_one_hot_test,num_or_not_test,\\\n",
    "grade_cat_one_hot_test,categories_one_hot_test,subcategories_one_hot_test,price_one_hot_test,\\\n",
    "quantity_one_hot_test,bow_test_essay,bow_test_title,essay_count_test,title_count_test)).tocsr()\n",
    "test_bow.shape\n",
    "print(train_bow.shape)"
   ]
  },
  {
   "cell_type": "code",
   "execution_count": 56,
   "metadata": {},
   "outputs": [
    {
     "name": "stderr",
     "output_type": "stream",
     "text": [
      "100%|██████████| 117/117 [00:00<00:00, 814.67it/s]\n",
      "100%|██████████| 33/33 [00:00<00:00, 919.08it/s]\n"
     ]
    }
   ],
   "source": [
    "best_C=0.01\n",
    "from sklearn.metrics import roc_curve,auc\n",
    "model=LogisticRegression(C=0.01,penalty='l2',class_weight='balanced')\n",
    "model.fit(train_bow,y_train)\n",
    "y_train_pred=[]\n",
    "for i in tqdm(range(0,train_bow.shape[0],1000)):\n",
    "    y_train_pred.extend(model.predict_proba(train_bow[i:i+1000])[:,1])\n",
    "fpr_train,tpr_train,thresholds_train=roc_curve(y_train,y_train_pred)\n",
    "y_test_pred=[]\n",
    "for i in tqdm(range(0,test_bow.shape[0],1000)):\n",
    "    y_test_pred.extend(model.predict_proba(test_bow[i:i+1000])[:,1])\n",
    "fpr_test,tpr_test,thresholds_test=roc_curve(y_test,y_test_pred)"
   ]
  },
  {
   "cell_type": "code",
   "execution_count": 57,
   "metadata": {},
   "outputs": [
    {
     "data": {
      "text/plain": [
       "Text(0,0.5,'True positive rate')"
      ]
     },
     "execution_count": 57,
     "metadata": {},
     "output_type": "execute_result"
    },
    {
     "data": {
      "image/png": "[encoded data removed]",
      "text/plain": [
       "<Figure size 432x288 with 1 Axes>"
      ]
     },
     "metadata": {
      "needs_background": "light"
     },
     "output_type": "display_data"
    }
   ],
   "source": [
    "plt.title('Error')\n",
    "plt.plot(fpr_test,tpr_test,label='test='+str(auc(fpr_test,tpr_test)))\n",
    "plt.plot(fpr_train,tpr_train,label='train='+str(auc(fpr_train,tpr_train)))\n",
    "plt.legend()\n",
    "plt.xlabel('False positive rate')\n",
    "plt.ylabel('True positive rate')"
   ]
  },
  {
   "cell_type": "code",
   "execution_count": 58,
   "metadata": {},
   "outputs": [
    {
     "name": "stdout",
     "output_type": "stream",
     "text": [
      "Train Confusion Matrix\n",
      "[[44404 14066]\n",
      " [16552 41918]]\n"
     ]
    },
    {
     "data": {
      "text/plain": [
       "<matplotlib.axes._subplots.AxesSubplot at 0x1e3cae89cf8>"
      ]
     },
     "execution_count": 58,
     "metadata": {},
     "output_type": "execute_result"
    },
    {
     "data": {
      "image/png": "[encoded data removed]",
      "text/plain": [
       "<Figure size 432x288 with 1 Axes>"
      ]
     },
     "metadata": {
      "needs_background": "light"
     },
     "output_type": "display_data"
    }
   ],
   "source": [
    "from sklearn.metrics import confusion_matrix\n",
    "print('Train Confusion Matrix')\n",
    "print(confusion_matrix(y_train,model.predict(train_bow)))\n",
    "tn,fp,fn,tp=confusion_matrix(y_train,model.predict(train_bow)).ravel()\n",
    "mat=np.matrix([[tn,fn],[fp,tp]])\n",
    "sns.heatmap(mat, square=True, annot=True, fmt='d', cbar=False,            \n",
    "xticklabels=[0,1], yticklabels=[0,1]) "
   ]
  },
  {
   "cell_type": "code",
   "execution_count": 59,
   "metadata": {},
   "outputs": [
    {
     "name": "stdout",
     "output_type": "stream",
     "text": [
      "Test Confusion Matrix\n",
      "[[ 2856  2206]\n",
      " [ 8670 19042]]\n"
     ]
    },
    {
     "data": {
      "text/plain": [
       "<matplotlib.axes._subplots.AxesSubplot at 0x1e3cc2d80f0>"
      ]
     },
     "execution_count": 59,
     "metadata": {},
     "output_type": "execute_result"
    },
    {
     "data": {
      "image/png": "[encoded data removed]",
      "text/plain": [
       "<Figure size 432x288 with 1 Axes>"
      ]
     },
     "metadata": {
      "needs_background": "light"
     },
     "output_type": "display_data"
    }
   ],
   "source": [
    "print('Test Confusion Matrix')\n",
    "print(confusion_matrix(y_test,model.predict(test_bow)))\n",
    "tn,fp,fn,tp=confusion_matrix(y_test,model.predict(test_bow)).ravel()\n",
    "mat=np.matrix([[tn,fn],[fp,tp]])\n",
    "sns.heatmap(mat, square=True, annot=True, fmt='d', cbar=False,            \n",
    "xticklabels=[0,1], yticklabels=[0,1]) "
   ]
  },
  {
   "cell_type": "markdown",
   "metadata": {},
   "source": [
    "#### SET 2"
   ]
  },
  {
   "cell_type": "code",
   "execution_count": 60,
   "metadata": {},
   "outputs": [
    {
     "name": "stdout",
     "output_type": "stream",
     "text": [
      "(116940, 241967)\n",
      "(32774, 241967)\n",
      "(7648, 241967)\n"
     ]
    }
   ],
   "source": [
    "train_tfidf=hstack((teacher_prefix_one_hot_train,school_state_one_hot_train,num_or_not_train,\\\n",
    "grade_cat_one_hot_train,categories_one_hot_train,subcategories_one_hot_train,price_one_hot_train,\\\n",
    "quantity_one_hot_train,tfidf_train_essay,tfidf_train_title,essay_count_train,title_count_train)).tocsr()\n",
    "cv_tfidf=hstack((teacher_prefix_one_hot_cv,school_state_one_hot_cv,num_or_not_cv,\\\n",
    "grade_cat_one_hot_cv,categories_one_hot_cv,subcategories_one_hot_cv,price_one_hot_cv,\\\n",
    "quantity_one_hot_cv,tfidf_cv_essay,tfidf_cv_title,essay_count_cv,title_count_cv)).tocsr()\n",
    "test_tfidf=hstack((teacher_prefix_one_hot_test,school_state_one_hot_test,num_or_not_test,\\\n",
    "grade_cat_one_hot_test,categories_one_hot_test,subcategories_one_hot_test,price_one_hot_test,\\\n",
    "quantity_one_hot_test,tfidf_test_essay,tfidf_test_title,essay_count_test,title_count_test)).tocsr()\n",
    "print(train_tfidf.shape)\n",
    "print(test_tfidf.shape)\n",
    "print(cv_tfidf.shape)"
   ]
  },
  {
   "cell_type": "code",
   "execution_count": 61,
   "metadata": {},
   "outputs": [
    {
     "name": "stderr",
     "output_type": "stream",
     "text": [
      "100%|██████████| 8/8 [11:41<00:00, 139.22s/it]\n"
     ]
    }
   ],
   "source": [
    "train_auc=[]\n",
    "cv_auc=[]\n",
    "from tqdm import tqdm\n",
    "k=[10**i for i in range(-4,4)]\n",
    "for k in tqdm(k):\n",
    "    model=LogisticRegression(C=k,penalty='l2',class_weight='balanced')\n",
    "    model.fit(train_tfidf,y_train)\n",
    "    y_train_prob=[]\n",
    "    for i in range(0,train_tfidf.shape[0],1000):\n",
    "        y_train_prob.extend(model.predict_proba(train_tfidf[i:i+1000])[:,1])\n",
    "    y_cv_prob=[]\n",
    "    for i in range(0,cv_tfidf.shape[0],1000):\n",
    "        y_cv_prob.extend(model.predict_proba(cv_tfidf[i:i+1000])[:,1])\n",
    "    train_auc.append(roc_auc_score(y_train,y_train_prob))\n",
    "    cv_auc.append(roc_auc_score(y_cv,y_cv_prob))"
   ]
  },
  {
   "cell_type": "code",
   "execution_count": 62,
   "metadata": {},
   "outputs": [
    {
     "data": {
      "image/png": "[encoded data removed]",
      "text/plain": [
       "<Figure size 432x288 with 1 Axes>"
      ]
     },
     "metadata": {
      "needs_background": "light"
     },
     "output_type": "display_data"
    }
   ],
   "source": [
    "k=[10**i for i in range(-4,4)]\n",
    "log_c=[math.log(i) for i in k]\n",
    "plt.plot(log_c,train_auc,label='train_auc')\n",
    "plt.plot(log_c,cv_auc,label='cv_auc')\n",
    "plt.legend()\n",
    "plt.scatter(log_c,train_auc)\n",
    "plt.scatter(log_c,cv_auc)\n",
    "plt.grid()\n",
    "plt.ylabel('auc')\n",
    "plt.xlabel('value of c')\n",
    "plt.show()\n"
   ]
  },
  {
   "cell_type": "code",
   "execution_count": 67,
   "metadata": {},
   "outputs": [
    {
     "name": "stderr",
     "output_type": "stream",
     "text": [
      "100%|██████████| 117/117 [00:00<00:00, 394.94it/s]\n",
      "100%|██████████| 33/33 [00:00<00:00, 429.72it/s]\n"
     ]
    }
   ],
   "source": [
    "best_C=0.1\n",
    "from sklearn.metrics import roc_curve,auc\n",
    "model=LogisticRegression(C=0.1,penalty='l2',class_weight='balanced')\n",
    "model.fit(train_tfidf,y_train)\n",
    "y_train_pred=[]\n",
    "for i in tqdm(range(0,train_tfidf.shape[0],1000)):\n",
    "    y_train_pred.extend(model.predict_proba(train_tfidf[i:i+1000])[:,1])\n",
    "fpr_train,tpr_train,thresholds_train=roc_curve(y_train,y_train_pred)\n",
    "y_test_pred=[]\n",
    "for i in tqdm(range(0,test_tfidf.shape[0],1000)):\n",
    "    y_test_pred.extend(model.predict_proba(test_tfidf[i:i+1000])[:,1])\n",
    "fpr_test,tpr_test,thresholds_test=roc_curve(y_test,y_test_pred)"
   ]
  },
  {
   "cell_type": "code",
   "execution_count": 68,
   "metadata": {},
   "outputs": [
    {
     "data": {
      "text/plain": [
       "Text(0,0.5,'True positive rate')"
      ]
     },
     "execution_count": 68,
     "metadata": {},
     "output_type": "execute_result"
    },
    {
     "data": {
      "image/png": "[encoded data removed]",
      "text/plain": [
       "<Figure size 432x288 with 1 Axes>"
      ]
     },
     "metadata": {
      "needs_background": "light"
     },
     "output_type": "display_data"
    }
   ],
   "source": [
    "plt.title('Error')\n",
    "plt.plot(fpr_test,tpr_test,label='test='+str(auc(fpr_test,tpr_test)))\n",
    "plt.plot(fpr_train,tpr_train,label='train='+str(auc(fpr_train,tpr_train)))\n",
    "plt.legend()\n",
    "plt.xlabel('False positive rate')\n",
    "plt.ylabel('True positive rate')"
   ]
  },
  {
   "cell_type": "code",
   "execution_count": 69,
   "metadata": {},
   "outputs": [
    {
     "name": "stdout",
     "output_type": "stream",
     "text": [
      "Train Confusion Matrix\n",
      "[[47043 11427]\n",
      " [14411 44059]]\n"
     ]
    },
    {
     "data": {
      "text/plain": [
       "<matplotlib.axes._subplots.AxesSubplot at 0x1e3bd101588>"
      ]
     },
     "execution_count": 69,
     "metadata": {},
     "output_type": "execute_result"
    },
    {
     "data": {
      "image/png": "[encoded data removed]",
      "text/plain": [
       "<Figure size 432x288 with 1 Axes>"
      ]
     },
     "metadata": {
      "needs_background": "light"
     },
     "output_type": "display_data"
    }
   ],
   "source": [
    "print('Train Confusion Matrix')\n",
    "print(confusion_matrix(y_train,model.predict(train_tfidf)))\n",
    "tn,fp,fn,tp=confusion_matrix(y_train,model.predict(train_tfidf)).ravel()\n",
    "mat=np.matrix([[tn,fn],[fp,tp]])\n",
    "sns.heatmap(mat, square=True, annot=True, fmt='d', cbar=False,            \n",
    "xticklabels=[0,1], yticklabels=[0,1]) "
   ]
  },
  {
   "cell_type": "code",
   "execution_count": 70,
   "metadata": {},
   "outputs": [
    {
     "name": "stdout",
     "output_type": "stream",
     "text": [
      "Test Confusion Matrix\n",
      "[[ 2701  2361]\n",
      " [ 7855 19857]]\n"
     ]
    },
    {
     "data": {
      "text/plain": [
       "<matplotlib.axes._subplots.AxesSubplot at 0x1e407155198>"
      ]
     },
     "execution_count": 70,
     "metadata": {},
     "output_type": "execute_result"
    },
    {
     "data": {
      "image/png": "[encoded data removed]",
      "text/plain": [
       "<Figure size 432x288 with 1 Axes>"
      ]
     },
     "metadata": {
      "needs_background": "light"
     },
     "output_type": "display_data"
    }
   ],
   "source": [
    "print('Test Confusion Matrix')\n",
    "print(confusion_matrix(y_test,model.predict(test_tfidf)))\n",
    "tn,fp,fn,tp=confusion_matrix(y_test,model.predict(test_tfidf)).ravel()\n",
    "mat=np.matrix([[tn,fn],[fp,tp]])\n",
    "sns.heatmap(mat, square=True, annot=True, fmt='d', cbar=False,            \n",
    "xticklabels=[0,1], yticklabels=[0,1]) "
   ]
  },
  {
   "cell_type": "markdown",
   "metadata": {},
   "source": [
    "#### set 3"
   ]
  },
  {
   "cell_type": "code",
   "execution_count": 71,
   "metadata": {
    "scrolled": true
   },
   "outputs": [
    {
     "name": "stdout",
     "output_type": "stream",
     "text": [
      "(32774, 705)\n",
      "(116940, 705)\n",
      "(7648, 705)\n"
     ]
    }
   ],
   "source": [
    "# please write all the code with proper documentation, and proper titles for each subsection\n",
    "# go through documentations and blogs before you start coding\n",
    "# first figure out what to do, and then think about how to do.\n",
    "# reading and understanding error messages will be very much helpfull in debugging your code\n",
    "# when you plot any graph make sure you use \n",
    "    # a. Title, that describes your plot, this will be very helpful to the reader\n",
    "    # b. Legends if needed\n",
    "    # c. X-axis label\n",
    "    # d. Y-axis label\n",
    "train_avgw2v=hstack((teacher_prefix_one_hot_train,school_state_one_hot_train,\\\n",
    "grade_cat_one_hot_train,categories_one_hot_train,subcategories_one_hot_train,price_one_hot_train,\\\n",
    "quantity_one_hot_train,avgw2v_train_essay,avgw2v_train_title,num_or_not_train\n",
    "                     ,essay_count_train,title_count_train)).tocsr()\n",
    "cv_avgw2v=hstack((teacher_prefix_one_hot_cv,school_state_one_hot_cv,\\\n",
    "grade_cat_one_hot_cv,categories_one_hot_cv,subcategories_one_hot_cv,price_one_hot_cv,\\\n",
    "quantity_one_hot_cv,avgw2v_cv_essay,avgw2v_cv_title,num_or_not_cv,essay_count_cv,title_count_cv)).tocsr()\n",
    "test_avgw2v=hstack((teacher_prefix_one_hot_test,school_state_one_hot_test,\\\n",
    "grade_cat_one_hot_test,categories_one_hot_test,subcategories_one_hot_test,price_one_hot_test,\\\n",
    "quantity_one_hot_test,avgw2v_test_essay,avgw2v_test_title,\n",
    "                    num_or_not_test,essay_count_test,title_count_test)).tocsr()\n",
    "print(test_avgw2v.shape)\n",
    "print(train_avgw2v.shape)\n",
    "print(cv_avgw2v.shape)"
   ]
  },
  {
   "cell_type": "code",
   "execution_count": 72,
   "metadata": {},
   "outputs": [
    {
     "name": "stderr",
     "output_type": "stream",
     "text": [
      "100%|██████████| 8/8 [11:21<00:00, 133.31s/it]\n"
     ]
    }
   ],
   "source": [
    "train_auc=[]\n",
    "cv_auc=[]\n",
    "from tqdm import tqdm\n",
    "k=[10**i for i in range(-4,4)]\n",
    "for k in tqdm(k):\n",
    "    model=LogisticRegression(C=k,penalty='l2',class_weight='balanced')\n",
    "    model.fit(train_tfidf,y_train)\n",
    "    y_train_prob=[]\n",
    "    for i in range(0,train_tfidf.shape[0],1000):\n",
    "        y_train_prob.extend(model.predict_proba(train_tfidf[i:i+1000])[:,1])\n",
    "    y_cv_prob=[]\n",
    "    for i in range(0,cv_tfidf.shape[0],1000):\n",
    "        y_cv_prob.extend(model.predict_proba(cv_tfidf[i:i+1000])[:,1])\n",
    "    train_auc.append(roc_auc_score(y_train,y_train_prob))\n",
    "    cv_auc.append(roc_auc_score(y_cv,y_cv_prob))"
   ]
  },
  {
   "cell_type": "code",
   "execution_count": 74,
   "metadata": {},
   "outputs": [
    {
     "data": {
      "image/png": "[encoded data removed]",
      "text/plain": [
       "<Figure size 432x288 with 1 Axes>"
      ]
     },
     "metadata": {
      "needs_background": "light"
     },
     "output_type": "display_data"
    }
   ],
   "source": [
    "k=[10**i for i in range(-4,4)]\n",
    "log_c =[math.log(i) for i in k]\n",
    "plt.plot(log_c,train_auc,label='train_auc')\n",
    "plt.plot(log_c,cv_auc,label='cv_auc')\n",
    "plt.legend()\n",
    "plt.scatter(log_c,train_auc)\n",
    "plt.scatter(log_c,cv_auc)\n",
    "plt.grid()\n",
    "plt.ylabel('auc')\n",
    "plt.xlabel('value of c')\n",
    "plt.show()\n"
   ]
  },
  {
   "cell_type": "code",
   "execution_count": 75,
   "metadata": {},
   "outputs": [
    {
     "name": "stderr",
     "output_type": "stream",
     "text": [
      "100%|██████████| 117/117 [00:02<00:00, 44.75it/s]\n",
      "100%|██████████| 33/33 [00:00<00:00, 45.33it/s]\n"
     ]
    }
   ],
   "source": [
    "best_C=1\n",
    "from sklearn.metrics import roc_curve,auc\n",
    "model=LogisticRegression(C=1,penalty='l2',class_weight='balanced')\n",
    "model.fit(train_avgw2v,y_train)\n",
    "y_train_pred=[]\n",
    "for i in tqdm(range(0,train_avgw2v.shape[0],1000)):\n",
    "    y_train_pred.extend(model.predict_proba(train_avgw2v[i:i+1000])[:,1])\n",
    "fpr_train,tpr_train,thresholds_train=roc_curve(y_train,y_train_pred)\n",
    "y_test_pred=[]\n",
    "for i in tqdm(range(0,test_avgw2v.shape[0],1000)):\n",
    "    y_test_pred.extend(model.predict_proba(test_avgw2v[i:i+1000])[:,1])\n",
    "fpr_test,tpr_test,thresholds_test=roc_curve(y_test,y_test_pred)"
   ]
  },
  {
   "cell_type": "code",
   "execution_count": 76,
   "metadata": {},
   "outputs": [
    {
     "data": {
      "text/plain": [
       "Text(0,0.5,'True positive rate')"
      ]
     },
     "execution_count": 76,
     "metadata": {},
     "output_type": "execute_result"
    },
    {
     "data": {
      "image/png": "[encoded data removed]",
      "text/plain": [
       "<Figure size 432x288 with 1 Axes>"
      ]
     },
     "metadata": {
      "needs_background": "light"
     },
     "output_type": "display_data"
    }
   ],
   "source": [
    "plt.title('Error')\n",
    "plt.plot(fpr_test,tpr_test,label='test='+str(auc(fpr_test,tpr_test)))\n",
    "plt.plot(fpr_train,tpr_train,label='train='+str(auc(fpr_train,tpr_train)))\n",
    "plt.legend()\n",
    "plt.xlabel('False positive rate')\n",
    "plt.ylabel('True positive rate')"
   ]
  },
  {
   "cell_type": "code",
   "execution_count": 77,
   "metadata": {},
   "outputs": [
    {
     "name": "stdout",
     "output_type": "stream",
     "text": [
      "Train Confusion Matrix\n",
      "[[40318 18152]\n",
      " [19134 39336]]\n"
     ]
    },
    {
     "data": {
      "text/plain": [
       "<matplotlib.axes._subplots.AxesSubplot at 0x1e38c19fb70>"
      ]
     },
     "execution_count": 77,
     "metadata": {},
     "output_type": "execute_result"
    },
    {
     "data": {
      "image/png": "[encoded data removed]",
      "text/plain": [
       "<Figure size 432x288 with 1 Axes>"
      ]
     },
     "metadata": {
      "needs_background": "light"
     },
     "output_type": "display_data"
    }
   ],
   "source": [
    "print('Train Confusion Matrix')\n",
    "print(confusion_matrix(y_train,model.predict(train_avgw2v)))\n",
    "tn,fp,fn,tp=confusion_matrix(y_train,model.predict(train_avgw2v)).ravel()\n",
    "mat=np.matrix([[tn,fn],[fp,tp]])\n",
    "sns.heatmap(mat, square=True, annot=True, fmt='d', cbar=False,            \n",
    "xticklabels=[0,1], yticklabels=[0,1]) "
   ]
  },
  {
   "cell_type": "code",
   "execution_count": 78,
   "metadata": {},
   "outputs": [
    {
     "name": "stdout",
     "output_type": "stream",
     "text": [
      "Test Confusion Matrix\n",
      "[[ 3248  1814]\n",
      " [ 9190 18522]]\n"
     ]
    },
    {
     "data": {
      "text/plain": [
       "<matplotlib.axes._subplots.AxesSubplot at 0x1e38c2af588>"
      ]
     },
     "execution_count": 78,
     "metadata": {},
     "output_type": "execute_result"
    },
    {
     "data": {
      "image/png": "[encoded data removed]",
      "text/plain": [
       "<Figure size 432x288 with 1 Axes>"
      ]
     },
     "metadata": {
      "needs_background": "light"
     },
     "output_type": "display_data"
    }
   ],
   "source": [
    "print('Test Confusion Matrix')\n",
    "print(confusion_matrix(y_test,model.predict(test_avgw2v)))\n",
    "tn,fp,fn,tp=confusion_matrix(y_test,model.predict(test_avgw2v)).ravel()\n",
    "mat=np.matrix([[tn,fn],[fp,tp]])\n",
    "sns.heatmap(mat, square=True, annot=True, fmt='d', cbar=False,            \n",
    "xticklabels=[0,1], yticklabels=[0,1]) "
   ]
  },
  {
   "cell_type": "markdown",
   "metadata": {},
   "source": [
    "##### Set 4"
   ]
  },
  {
   "cell_type": "code",
   "execution_count": 79,
   "metadata": {},
   "outputs": [
    {
     "name": "stdout",
     "output_type": "stream",
     "text": [
      "(32774, 705)\n",
      "(116940, 705)\n",
      "(7648, 705)\n"
     ]
    }
   ],
   "source": [
    "train_tfidfw2v=hstack((teacher_prefix_one_hot_train,school_state_one_hot_train,\\\n",
    "grade_cat_one_hot_train,categories_one_hot_train,subcategories_one_hot_train,price_one_hot_train,\\\n",
    "quantity_one_hot_train,wtw2v_train_essay,wtw2v_train_title,num_or_not_train,essay_count_train,\n",
    "                       title_count_train)).tocsr()\n",
    "\n",
    "cv_tfidfw2v=hstack((teacher_prefix_one_hot_cv,school_state_one_hot_cv,\\\n",
    "grade_cat_one_hot_cv,categories_one_hot_cv,subcategories_one_hot_cv,price_one_hot_cv,\\\n",
    "quantity_one_hot_cv,wtw2v_cv_essay,wtw2v_cv_title,num_or_not_cv,essay_count_cv,title_count_cv)).tocsr()\n",
    "\n",
    "test_tfidfw2v=hstack((teacher_prefix_one_hot_test,school_state_one_hot_test,\\\n",
    "grade_cat_one_hot_test,categories_one_hot_test,subcategories_one_hot_test,price_one_hot_test,\\\n",
    "quantity_one_hot_test,wtw2v_test_essay,wtw2v_test_title,num_or_not_test,\n",
    "                      essay_count_test,title_count_test)).tocsr()\n",
    "\n",
    "print(test_tfidfw2v.shape)\n",
    "print(train_tfidfw2v.shape)\n",
    "print(cv_tfidfw2v.shape)"
   ]
  },
  {
   "cell_type": "code",
   "execution_count": 80,
   "metadata": {},
   "outputs": [
    {
     "name": "stderr",
     "output_type": "stream",
     "text": [
      "100%|██████████| 8/8 [12:33<00:00, 120.39s/it]\n"
     ]
    }
   ],
   "source": [
    "train_auc=[]\n",
    "cv_auc=[]\n",
    "from tqdm import tqdm\n",
    "k=[10**i for i in range(-4,4)]\n",
    "for k in tqdm(k):\n",
    "    model=LogisticRegression(C=k,penalty='l2',class_weight='balanced')\n",
    "    model.fit(train_tfidfw2v,y_train)\n",
    "    y_train_prob=[]\n",
    "    for i in range(0,train_tfidfw2v.shape[0],1000):\n",
    "        y_train_prob.extend(model.predict_proba(train_tfidfw2v[i:i+1000])[:,1])\n",
    "    y_cv_prob=[]\n",
    "    for i in range(0,cv_tfidfw2v.shape[0],1000):\n",
    "        y_cv_prob.extend(model.predict_proba(cv_tfidfw2v[i:i+1000])[:,1])\n",
    "    train_auc.append(roc_auc_score(y_train,y_train_prob))\n",
    "    cv_auc.append(roc_auc_score(y_cv,y_cv_prob))"
   ]
  },
  {
   "cell_type": "code",
   "execution_count": 82,
   "metadata": {},
   "outputs": [
    {
     "data": {
      "image/png": "[encoded data removed]",
      "text/plain": [
       "<Figure size 432x288 with 1 Axes>"
      ]
     },
     "metadata": {
      "needs_background": "light"
     },
     "output_type": "display_data"
    }
   ],
   "source": [
    "k=[10**i for i in range(-4,4)]\n",
    "log_c=[math.log(i) for i in k]\n",
    "plt.plot(log_c,train_auc,label='train_auc')\n",
    "plt.plot(log_c,cv_auc,label='cv_auc')\n",
    "plt.legend()\n",
    "plt.scatter(log_c,train_auc)\n",
    "plt.scatter(log_c,cv_auc)\n",
    "plt.grid()\n",
    "plt.ylabel('auc')\n",
    "plt.xlabel('value of c')\n",
    "plt.show()\n"
   ]
  },
  {
   "cell_type": "code",
   "execution_count": 83,
   "metadata": {},
   "outputs": [
    {
     "name": "stderr",
     "output_type": "stream",
     "text": [
      "100%|██████████| 117/117 [00:02<00:00, 45.68it/s]\n",
      "100%|██████████| 33/33 [00:00<00:00, 40.65it/s]\n"
     ]
    }
   ],
   "source": [
    "best_C=1\n",
    "from sklearn.metrics import roc_curve,auc\n",
    "model=LogisticRegression(C=1,penalty='l2',class_weight='balanced')\n",
    "model.fit(train_tfidfw2v,y_train)\n",
    "y_train_pred=[]\n",
    "for i in tqdm(range(0,train_tfidfw2v.shape[0],1000)):\n",
    "    y_train_pred.extend(model.predict_proba(train_tfidfw2v[i:i+1000])[:,1])\n",
    "fpr_train,tpr_train,thresholds_train=roc_curve(y_train,y_train_pred)\n",
    "y_test_pred=[]\n",
    "for i in tqdm(range(0,test_tfidfw2v.shape[0],1000)):\n",
    "    y_test_pred.extend(model.predict_proba(test_tfidfw2v[i:i+1000])[:,1])\n",
    "fpr_test,tpr_test,thresholds_test=roc_curve(y_test,y_test_pred)"
   ]
  },
  {
   "cell_type": "code",
   "execution_count": 84,
   "metadata": {},
   "outputs": [
    {
     "data": {
      "text/plain": [
       "Text(0,0.5,'True positive rate')"
      ]
     },
     "execution_count": 84,
     "metadata": {},
     "output_type": "execute_result"
    },
    {
     "data": {
      "image/png": "[encoded data removed]",
      "text/plain": [
       "<Figure size 432x288 with 1 Axes>"
      ]
     },
     "metadata": {
      "needs_background": "light"
     },
     "output_type": "display_data"
    }
   ],
   "source": [
    "plt.title('Error')\n",
    "plt.plot(fpr_test,tpr_test,label='test='+str(auc(fpr_test,tpr_test)))\n",
    "plt.plot(fpr_train,tpr_train,label='train='+str(auc(fpr_train,tpr_train)))\n",
    "plt.legend()\n",
    "plt.xlabel('False positive rate')\n",
    "plt.ylabel('True positive rate')"
   ]
  },
  {
   "cell_type": "code",
   "execution_count": 85,
   "metadata": {},
   "outputs": [
    {
     "name": "stdout",
     "output_type": "stream",
     "text": [
      "Train Confusion Matrix\n",
      "[[40993 17477]\n",
      " [20151 38319]]\n"
     ]
    },
    {
     "data": {
      "text/plain": [
       "<matplotlib.axes._subplots.AxesSubplot at 0x1e3bc8071d0>"
      ]
     },
     "execution_count": 85,
     "metadata": {},
     "output_type": "execute_result"
    },
    {
     "data": {
      "image/png": "[encoded data removed]",
      "text/plain": [
       "<Figure size 432x288 with 1 Axes>"
      ]
     },
     "metadata": {
      "needs_background": "light"
     },
     "output_type": "display_data"
    }
   ],
   "source": [
    "print('Train Confusion Matrix')\n",
    "print(confusion_matrix(y_train,model.predict(train_tfidfw2v)))\n",
    "tn,fp,fn,tp=confusion_matrix(y_train,model.predict(train_tfidfw2v)).ravel()\n",
    "mat=np.matrix([[tn,fn],[fp,tp]])\n",
    "sns.heatmap(mat, square=True, annot=True, fmt='d', cbar=False,            \n",
    "xticklabels=[0,1], yticklabels=[0,1]) "
   ]
  },
  {
   "cell_type": "code",
   "execution_count": 86,
   "metadata": {},
   "outputs": [
    {
     "name": "stdout",
     "output_type": "stream",
     "text": [
      "Test Confusion Matrix\n",
      "[[ 3303  1759]\n",
      " [ 9856 17856]]\n"
     ]
    },
    {
     "data": {
      "text/plain": [
       "<matplotlib.axes._subplots.AxesSubplot at 0x1e3bcc6f240>"
      ]
     },
     "execution_count": 86,
     "metadata": {},
     "output_type": "execute_result"
    },
    {
     "data": {
      "image/png": "[encoded data removed]",
      "text/plain": [
       "<Figure size 432x288 with 1 Axes>"
      ]
     },
     "metadata": {
      "needs_background": "light"
     },
     "output_type": "display_data"
    }
   ],
   "source": [
    "print('Test Confusion Matrix')\n",
    "print(confusion_matrix(y_test,model.predict(test_tfidfw2v)))\n",
    "tn,fp,fn,tp=confusion_matrix(y_test,model.predict(test_tfidfw2v)).ravel()\n",
    "mat=np.matrix([[tn,fn],[fp,tp]])\n",
    "sns.heatmap(mat, square=True, annot=True, fmt='d', cbar=False,            \n",
    "xticklabels=[0,1], yticklabels=[0,1]) "
   ]
  },
  {
   "cell_type": "markdown",
   "metadata": {
    "colab_type": "text",
    "id": "MFNbcFUZOh-2"
   },
   "source": [
    "<h2>2.5 Logistic Regression with added Features `Set 5` </h2>"
   ]
  },
  {
   "cell_type": "code",
   "execution_count": 87,
   "metadata": {
    "colab": {},
    "colab_type": "code",
    "id": "PfNbQ8PuOh-3"
   },
   "outputs": [
    {
     "name": "stdout",
     "output_type": "stream",
     "text": [
      "(116940, 108)\n",
      "(7648, 108)\n",
      "(32774, 108)\n"
     ]
    }
   ],
   "source": [
    "# please write all the code with proper documentation, and proper titles for each subsection\n",
    "# go through documentations and blogs before you start coding\n",
    "# first figure out what to do, and then think about how to do.\n",
    "# reading and understanding error messages will be very much helpfull in debugging your code\n",
    "# when you plot any graph make sure you use \n",
    "    # a. Title, that describes your plot, this will be very helpful to the reader\n",
    "    # b. Legends if needed\n",
    "    # c. X-axis label\n",
    "    # d. Y-axis label\n",
    "train_sentiment=hstack((teacher_prefix_one_hot_train,school_state_one_hot_train,num_or_not_train,\\\n",
    "grade_cat_one_hot_train,categories_one_hot_train,subcategories_one_hot_train,price_one_hot_train,\\\n",
    "quantity_one_hot_train,com_train_essay,pos_train_essay,neg_train_essay,essay_count_train,title_count_train)).tocsr()\n",
    "cv_sentiment=hstack((teacher_prefix_one_hot_cv,school_state_one_hot_cv,num_or_not_cv,\\\n",
    "grade_cat_one_hot_cv,categories_one_hot_cv,subcategories_one_hot_cv,price_one_hot_cv,\\\n",
    "quantity_one_hot_cv,com_cv_essay,pos_cv_essay,neg_cv_essay,essay_count_cv,title_count_cv)).tocsr()\n",
    "test_sentiment=hstack((teacher_prefix_one_hot_test,school_state_one_hot_test,num_or_not_test,\\\n",
    "grade_cat_one_hot_test,categories_one_hot_test,subcategories_one_hot_test,price_one_hot_test,\\\n",
    "quantity_one_hot_test,com_test_essay,pos_test_essay,neg_test_essay,essay_count_test,title_count_test)).tocsr()\n",
    "print(train_sentiment.shape)\n",
    "print(cv_sentiment.shape)\n",
    "print(test_sentiment.shape)"
   ]
  },
  {
   "cell_type": "code",
   "execution_count": 96,
   "metadata": {},
   "outputs": [
    {
     "name": "stderr",
     "output_type": "stream",
     "text": [
      "100%|██████████| 8/8 [00:37<00:00,  5.42s/it]\n"
     ]
    }
   ],
   "source": [
    "train_auc=[]\n",
    "cv_auc=[]\n",
    "from tqdm import tqdm\n",
    "k=[10**i for i in range(-4,4)]\n",
    "for k in tqdm(k):\n",
    "    model=LogisticRegression(C=k,penalty='l1',class_weight='balanced')\n",
    "    model.fit(train_sentiment,y_train)\n",
    "    y_train_prob=[]\n",
    "    for i in range(0,train_sentiment.shape[0],1000):\n",
    "        y_train_prob.extend(model.predict_proba(train_sentiment[i:i+1000])[:,1])\n",
    "    y_cv_prob=[]\n",
    "    for i in range(0,cv_sentiment.shape[0],1000):\n",
    "        y_cv_prob.extend(model.predict_proba(cv_sentiment[i:i+1000])[:,1])\n",
    "    train_auc.append(roc_auc_score(y_train,y_train_prob))\n",
    "    cv_auc.append(roc_auc_score(y_cv,y_cv_prob))"
   ]
  },
  {
   "cell_type": "code",
   "execution_count": 91,
   "metadata": {},
   "outputs": [
    {
     "data": {
      "image/png": "[encoded data removed]",
      "text/plain": [
       "<Figure size 432x288 with 1 Axes>"
      ]
     },
     "metadata": {
      "needs_background": "light"
     },
     "output_type": "display_data"
    }
   ],
   "source": [
    "k=[10**i for i in range(-4,4)]\n",
    "log_c=[math.log(i) for i in k]\n",
    "plt.plot(log_c,train_auc,label='train_auc')\n",
    "plt.plot(log_c,cv_auc,label='cv_auc')\n",
    "plt.legend()\n",
    "plt.scatter(log_c,train_auc)\n",
    "plt.scatter(log_c,cv_auc)\n",
    "plt.grid()\n",
    "plt.ylabel('auc')\n",
    "plt.xlabel('value of c')\n",
    "plt.show()\n"
   ]
  },
  {
   "cell_type": "code",
   "execution_count": 92,
   "metadata": {},
   "outputs": [
    {
     "name": "stderr",
     "output_type": "stream",
     "text": [
      "100%|██████████| 117/117 [00:00<00:00, 1349.00it/s]\n",
      "100%|██████████| 33/33 [00:00<00:00, 1142.43it/s]\n"
     ]
    }
   ],
   "source": [
    "best_C=1\n",
    "from sklearn.metrics import roc_curve,auc\n",
    "model=LogisticRegression(C=1,penalty='l2',class_weight='balanced')\n",
    "model.fit(train_sentiment,y_train)\n",
    "y_train_pred=[]\n",
    "for i in tqdm(range(0,train_sentiment.shape[0],1000)):\n",
    "    y_train_pred.extend(model.predict_proba(train_sentiment[i:i+1000])[:,1])\n",
    "fpr_train,tpr_train,thresholds_train=roc_curve(y_train,y_train_pred)\n",
    "y_test_pred=[]\n",
    "for i in tqdm(range(0,test_sentiment.shape[0],1000)):\n",
    "    y_test_pred.extend(model.predict_proba(test_sentiment[i:i+1000])[:,1])\n",
    "fpr_test,tpr_test,thresholds_test=roc_curve(y_test,y_test_pred)"
   ]
  },
  {
   "cell_type": "code",
   "execution_count": 93,
   "metadata": {},
   "outputs": [
    {
     "data": {
      "text/plain": [
       "Text(0,0.5,'True positive rate')"
      ]
     },
     "execution_count": 93,
     "metadata": {},
     "output_type": "execute_result"
    },
    {
     "data": {
      "image/png": "[encoded data removed]",
      "text/plain": [
       "<Figure size 432x288 with 1 Axes>"
      ]
     },
     "metadata": {
      "needs_background": "light"
     },
     "output_type": "display_data"
    }
   ],
   "source": [
    "plt.title('Error')\n",
    "plt.plot(fpr_test,tpr_test,label='test='+str(auc(fpr_test,tpr_test)))\n",
    "plt.plot(fpr_train,tpr_train,label='train='+str(auc(fpr_train,tpr_train)))\n",
    "plt.legend()\n",
    "plt.xlabel('False positive rate')\n",
    "plt.ylabel('True positive rate')"
   ]
  },
  {
   "cell_type": "code",
   "execution_count": 94,
   "metadata": {},
   "outputs": [
    {
     "name": "stdout",
     "output_type": "stream",
     "text": [
      "Train Confusion Matrix\n",
      "[[35970 22500]\n",
      " [25671 32799]]\n"
     ]
    },
    {
     "data": {
      "text/plain": [
       "<matplotlib.axes._subplots.AxesSubplot at 0x1e3caf38a90>"
      ]
     },
     "execution_count": 94,
     "metadata": {},
     "output_type": "execute_result"
    },
    {
     "data": {
      "image/png": "[encoded data removed]",
      "text/plain": [
       "<Figure size 432x288 with 1 Axes>"
      ]
     },
     "metadata": {
      "needs_background": "light"
     },
     "output_type": "display_data"
    }
   ],
   "source": [
    "print('Train Confusion Matrix')\n",
    "print(confusion_matrix(y_train,model.predict(train_sentiment)))\n",
    "tn,fp,fn,tp=confusion_matrix(y_train,model.predict(train_sentiment)).ravel()\n",
    "mat=np.matrix([[tn,fn],[fp,tp]])\n",
    "sns.heatmap(mat, square=True, annot=True, fmt='d', cbar=False,            \n",
    "xticklabels=[0,1], yticklabels=[0,1]) "
   ]
  },
  {
   "cell_type": "code",
   "execution_count": 95,
   "metadata": {},
   "outputs": [
    {
     "name": "stdout",
     "output_type": "stream",
     "text": [
      "Test Confusion Matrix\n",
      "[[ 2963  2099]\n",
      " [12368 15344]]\n"
     ]
    },
    {
     "data": {
      "text/plain": [
       "<matplotlib.axes._subplots.AxesSubplot at 0x1e3caf829e8>"
      ]
     },
     "execution_count": 95,
     "metadata": {},
     "output_type": "execute_result"
    },
    {
     "data": {
      "image/png": "[encoded data removed]",
      "text/plain": [
       "<Figure size 432x288 with 1 Axes>"
      ]
     },
     "metadata": {
      "needs_background": "light"
     },
     "output_type": "display_data"
    }
   ],
   "source": [
    "print('Test Confusion Matrix')\n",
    "print(confusion_matrix(y_test,model.predict(test_sentiment)))\n",
    "tn,fp,fn,tp=confusion_matrix(y_test,model.predict(test_sentiment)).ravel()\n",
    "mat=np.matrix([[tn,fn],[fp,tp]])\n",
    "sns.heatmap(mat, square=True, annot=True, fmt='d', cbar=False,            \n",
    "xticklabels=[0,1], yticklabels=[0,1]) "
   ]
  },
  {
   "cell_type": "markdown",
   "metadata": {
    "colab_type": "text",
    "id": "pnpdIsN4Oh-5"
   },
   "source": [
    "<h1>3. Conclusion</h1>"
   ]
  },
  {
   "cell_type": "code",
   "execution_count": 2,
   "metadata": {
    "colab": {},
    "colab_type": "code",
    "id": "tEXoNncrOh-6"
   },
   "outputs": [
    {
     "name": "stdout",
     "output_type": "stream",
     "text": [
      "+-----------+----------------+----------------+-------------+\n",
      "|    Set    | Hyperparameter | Regularization | Auc on Test |\n",
      "+-----------+----------------+----------------+-------------+\n",
      "|    BOW    |      0.1       |       L2       |     0.68    |\n",
      "|   TFIDF   |      0.1       |       L2       |     0.68    |\n",
      "|   AVGW2V  |       1        |       L2       |      70     |\n",
      "|  TFIDFW2V |      0.1       |       L2       |     0.68    |\n",
      "| SENTIMENT |      0.1       |       L2       |     0.59    |\n",
      "+-----------+----------------+----------------+-------------+\n"
     ]
    }
   ],
   "source": [
    "\n",
    "from prettytable import PrettyTable\n",
    "table=PrettyTable()\n",
    "table.field_names=['Set','Hyperparameter','Regularization','Auc on Test']\n",
    "table.add_row(['BOW','0.1','L2','0.68'])\n",
    "table.add_row(['TFIDF','0.1','L2','0.68'])\n",
    "table.add_row(['AVGW2V','1','L2','70'])\n",
    "table.add_row(['TFIDFW2V','0.1','L2','0.68'])\n",
    "table.add_row(['SENTIMENT','0.1','L2','0.59'])\n",
    "print(table)"
   ]
  }
 ],
 "metadata": {
  "colab": {
   "collapsed_sections": [
    "OeLLx404Oh9c",
    "ACyCSq0LOh9o",
    "NMbzzOsPOh9p",
    "z2gxZ2ogOh9w",
    "73m5MNjoOh90",
    "pAcQahGBOh99"
   ],
   "name": "5_DonorsChoose_LR.ipynb",
   "provenance": [],
   "version": "0.3.2"
  },
  "kernelspec": {
   "display_name": "Python 3",
   "language": "python",
   "name": "python3"
  },
  "language_info": {
   "codemirror_mode": {
    "name": "ipython",
    "version": 3
   },
   "file_extension": ".py",
   "mimetype": "text/x-python",
   "name": "python",
   "nbconvert_exporter": "python",
   "pygments_lexer": "ipython3",
   "version": "3.7.3"
  }
 },
 "nbformat": 4,
 "nbformat_minor": 1
}
