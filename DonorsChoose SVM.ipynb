{
 "cells": [
  {
   "cell_type": "markdown",
   "metadata": {
    "colab_type": "text",
    "id": "33R7Ev5IoUFw"
   },
   "source": [
    "# DonorsChoose"
   ]
  },
  {
   "cell_type": "markdown",
   "metadata": {
    "colab_type": "text",
    "id": "33uDdN2EoUFz"
   },
   "source": [
    "<p>\n",
    "DonorsChoose.org receives hundreds of thousands of project proposals each year for classroom projects in need of funding. Right now, a large number of volunteers is needed to manually screen each submission before it's approved to be posted on the DonorsChoose.org website.\n",
    "</p>\n",
    "<p>\n",
    "    Next year, DonorsChoose.org expects to receive close to 500,000 project proposals. As a result, there are three main problems they need to solve:\n",
    "<ul>\n",
    "<li>\n",
    "    How to scale current manual processes and resources to screen 500,000 projects so that they can be posted as quickly and as efficiently as possible</li>\n",
    "    <li>How to increase the consistency of project vetting across different volunteers to improve the experience for teachers</li>\n",
    "    <li>How to focus volunteer time on the applications that need the most assistance</li>\n",
    "    </ul>\n",
    "</p>    \n",
    "<p>\n",
    "The goal of the competition is to predict whether or not a DonorsChoose.org project proposal submitted by a teacher will be approved, using the text of project descriptions as well as additional metadata about the project, teacher, and school. DonorsChoose.org can then use this information to identify projects most likely to need further review before approval.\n",
    "</p>"
   ]
  },
  {
   "cell_type": "markdown",
   "metadata": {
    "colab_type": "text",
    "id": "W447mRzLoUF2"
   },
   "source": [
    "## About the DonorsChoose Data Set\n",
    "\n",
    "The `train.csv` data set provided by DonorsChoose contains the following features:\n",
    "\n",
    "Feature | Description \n",
    "----------|---------------\n",
    "**`project_id`** | A unique identifier for the proposed project. **Example:** `p036502`   \n",
    "**`project_title`**    | Title of the project. **Examples:**<br><ul><li><code>Art Will Make You Happy!</code></li><li><code>First Grade Fun</code></li></ul> \n",
    "**`project_grade_category`** | Grade level of students for which the project is targeted. One of the following enumerated values: <br/><ul><li><code>Grades PreK-2</code></li><li><code>Grades 3-5</code></li><li><code>Grades 6-8</code></li><li><code>Grades 9-12</code></li></ul>  \n",
    " **`project_subject_categories`** | One or more (comma-separated) subject categories for the project from the following enumerated list of values:  <br/><ul><li><code>Applied Learning</code></li><li><code>Care &amp; Hunger</code></li><li><code>Health &amp; Sports</code></li><li><code>History &amp; Civics</code></li><li><code>Literacy &amp; Language</code></li><li><code>Math &amp; Science</code></li><li><code>Music &amp; The Arts</code></li><li><code>Special Needs</code></li><li><code>Warmth</code></li></ul><br/> **Examples:** <br/><ul><li><code>Music &amp; The Arts</code></li><li><code>Literacy &amp; Language, Math &amp; Science</code></li>  \n",
    "  **`school_state`** | State where school is located ([Two-letter U.S. postal code](https://en.wikipedia.org/wiki/List_of_U.S._state_abbreviations#Postal_codes)). **Example:** `WY`\n",
    "**`project_subject_subcategories`** | One or more (comma-separated) subject subcategories for the project. **Examples:** <br/><ul><li><code>Literacy</code></li><li><code>Literature &amp; Writing, Social Sciences</code></li></ul> \n",
    "**`project_resource_summary`** | An explanation of the resources needed for the project. **Example:** <br/><ul><li><code>My students need hands on literacy materials to manage sensory needs!</code</li></ul> \n",
    "**`project_essay_1`**    | First application essay<sup>*</sup>  \n",
    "**`project_essay_2`**    | Second application essay<sup>*</sup> \n",
    "**`project_essay_3`**    | Third application essay<sup>*</sup> \n",
    "**`project_essay_4`**    | Fourth application essay<sup>*</sup> \n",
    "**`project_submitted_datetime`** | Datetime when project application was submitted. **Example:** `2016-04-28 12:43:56.245`   \n",
    "**`teacher_id`** | A unique identifier for the teacher of the proposed project. **Example:** `bdf8baa8fedef6bfeec7ae4ff1c15c56`  \n",
    "**`teacher_prefix`** | Teacher's title. One of the following enumerated values: <br/><ul><li><code>nan</code></li><li><code>Dr.</code></li><li><code>Mr.</code></li><li><code>Mrs.</code></li><li><code>Ms.</code></li><li><code>Teacher.</code></li></ul>  \n",
    "**`teacher_number_of_previously_posted_projects`** | Number of project applications previously submitted by the same teacher. **Example:** `2` \n",
    "\n",
    "<sup>*</sup> See the section <b>Notes on the Essay Data</b> for more details about these features.\n",
    "\n",
    "Additionally, the `resources.csv` data set provides more data about the resources required for each project. Each line in this file represents a resource required by a project:\n",
    "\n",
    "Feature | Description \n",
    "----------|---------------\n",
    "**`id`** | A `project_id` value from the `train.csv` file.  **Example:** `p036502`   \n",
    "**`description`** | Desciption of the resource. **Example:** `Tenor Saxophone Reeds, Box of 25`   \n",
    "**`quantity`** | Quantity of the resource required. **Example:** `3`   \n",
    "**`price`** | Price of the resource required. **Example:** `9.95`   \n",
    "\n",
    "**Note:** Many projects require multiple resources. The `id` value corresponds to a `project_id` in train.csv, so you use it as a key to retrieve all resources needed for a project:\n",
    "\n",
    "The data set contains the following label (the value you will attempt to predict):\n",
    "\n",
    "Label | Description\n",
    "----------|---------------\n",
    "`project_is_approved` | A binary flag indicating whether DonorsChoose approved the project. A value of `0` indicates the project was not approved, and a value of `1` indicates the project was approved."
   ]
  },
  {
   "cell_type": "markdown",
   "metadata": {
    "colab_type": "text",
    "id": "iydYV-rsoUF4"
   },
   "source": [
    "### Notes on the Essay Data\n",
    "\n",
    "<ul>\n",
    "Prior to May 17, 2016, the prompts for the essays were as follows:\n",
    "<li>__project_essay_1:__ \"Introduce us to your classroom\"</li>\n",
    "<li>__project_essay_2:__ \"Tell us more about your students\"</li>\n",
    "<li>__project_essay_3:__ \"Describe how your students will use the materials you're requesting\"</li>\n",
    "<li>__project_essay_3:__ \"Close by sharing why your project will make a difference\"</li>\n",
    "</ul>\n",
    "\n",
    "\n",
    "<ul>\n",
    "Starting on May 17, 2016, the number of essays was reduced from 4 to 2, and the prompts for the first 2 essays were changed to the following:<br>\n",
    "<li>__project_essay_1:__ \"Describe your students: What makes your students special? Specific details about their background, your neighborhood, and your school are all helpful.\"</li>\n",
    "<li>__project_essay_2:__ \"About your project: How will these materials make a difference in your students' learning and improve their school lives?\"</li>\n",
    "<br>For all projects with project_submitted_datetime of 2016-05-17 and later, the values of project_essay_3 and project_essay_4 will be NaN.\n",
    "</ul>\n"
   ]
  },
  {
   "cell_type": "code",
   "execution_count": 1,
   "metadata": {
    "colab": {},
    "colab_type": "code",
    "id": "CB_mY9_roUF6",
    "outputId": "e9ecaa59-1666-4996-d932-79fab4aec227"
   },
   "outputs": [],
   "source": [
    "%matplotlib inline\n",
    "import warnings\n",
    "warnings.filterwarnings(\"ignore\")\n",
    "\n",
    "import sqlite3\n",
    "import pandas as pd\n",
    "import numpy as np\n",
    "import nltk\n",
    "import string\n",
    "import matplotlib.pyplot as plt\n",
    "import seaborn as sns\n",
    "from sklearn.feature_extraction.text import TfidfTransformer\n",
    "from sklearn.feature_extraction.text import TfidfVectorizer\n",
    "\n",
    "from sklearn.feature_extraction.text import CountVectorizer\n",
    "from sklearn.metrics import confusion_matrix\n",
    "from sklearn import metrics\n",
    "from sklearn.metrics import roc_curve, auc\n",
    "from nltk.stem.porter import PorterStemmer\n",
    "\n",
    "import re\n",
    "# Tutorial about Python regular expressions: https://pymotw.com/2/re/\n",
    "import string\n",
    "from nltk.corpus import stopwords\n",
    "from nltk.stem import PorterStemmer\n",
    "from nltk.stem.wordnet import WordNetLemmatizer\n",
    "from sklearn.linear_model import SGDClassifier\n",
    "from sklearn.metrics import roc_auc_score,auc\n",
    "from gensim.models import Word2Vec\n",
    "from gensim.models import KeyedVectors\n",
    "import pickle\n",
    "from sklearn.model_selection import GridSearchCV\n",
    "from tqdm import tqdm\n",
    "import os\n",
    "from scipy.sparse import hstack\n",
    "from tqdm import tqdm\n",
    "from collections import Counter"
   ]
  },
  {
   "cell_type": "markdown",
   "metadata": {
    "colab_type": "text",
    "id": "XbVmhJgKoUGE"
   },
   "source": [
    "## 1.1 Reading Data"
   ]
  },
  {
   "cell_type": "code",
   "execution_count": 2,
   "metadata": {
    "colab": {},
    "colab_type": "code",
    "id": "fv9wFU8ZoUGF"
   },
   "outputs": [],
   "source": [
    "project_data = pd.read_csv('train_data.csv')\n",
    "resource_data = pd.read_csv('resources.csv')"
   ]
  },
  {
   "cell_type": "code",
   "execution_count": 3,
   "metadata": {
    "colab": {},
    "colab_type": "code",
    "id": "GAYzkeNtoUGJ",
    "outputId": "88b611ff-da90-41fe-ae21-91a4eef86906"
   },
   "outputs": [
    {
     "name": "stdout",
     "output_type": "stream",
     "text": [
      "Number of data points in train data (109248, 17)\n",
      "--------------------------------------------------\n",
      "The attributes of data : ['Unnamed: 0' 'id' 'teacher_id' 'teacher_prefix' 'school_state'\n",
      " 'project_submitted_datetime' 'project_grade_category'\n",
      " 'project_subject_categories' 'project_subject_subcategories'\n",
      " 'project_title' 'project_essay_1' 'project_essay_2' 'project_essay_3'\n",
      " 'project_essay_4' 'project_resource_summary'\n",
      " 'teacher_number_of_previously_posted_projects' 'project_is_approved']\n"
     ]
    }
   ],
   "source": [
    "print(\"Number of data points in train data\", project_data.shape)\n",
    "print('-'*50)\n",
    "print(\"The attributes of data :\", project_data.columns.values)"
   ]
  },
  {
   "cell_type": "code",
   "execution_count": 4,
   "metadata": {
    "colab": {},
    "colab_type": "code",
    "id": "RcShjQotoUGQ",
    "outputId": "5d400178-f25a-46f6-ffd8-6657f022fd33"
   },
   "outputs": [
    {
     "name": "stdout",
     "output_type": "stream",
     "text": [
      "Number of data points in train data (1541272, 4)\n",
      "['id' 'description' 'quantity' 'price']\n"
     ]
    },
    {
     "data": {
      "text/html": [
       "<div>\n",
       "<style scoped>\n",
       "    .dataframe tbody tr th:only-of-type {\n",
       "        vertical-align: middle;\n",
       "    }\n",
       "\n",
       "    .dataframe tbody tr th {\n",
       "        vertical-align: top;\n",
       "    }\n",
       "\n",
       "    .dataframe thead th {\n",
       "        text-align: right;\n",
       "    }\n",
       "</style>\n",
       "<table border=\"1\" class=\"dataframe\">\n",
       "  <thead>\n",
       "    <tr style=\"text-align: right;\">\n",
       "      <th></th>\n",
       "      <th>id</th>\n",
       "      <th>description</th>\n",
       "      <th>quantity</th>\n",
       "      <th>price</th>\n",
       "    </tr>\n",
       "  </thead>\n",
       "  <tbody>\n",
       "    <tr>\n",
       "      <th>0</th>\n",
       "      <td>p233245</td>\n",
       "      <td>LC652 - Lakeshore Double-Space Mobile Drying Rack</td>\n",
       "      <td>1</td>\n",
       "      <td>149.00</td>\n",
       "    </tr>\n",
       "    <tr>\n",
       "      <th>1</th>\n",
       "      <td>p069063</td>\n",
       "      <td>Bouncy Bands for Desks (Blue support pipes)</td>\n",
       "      <td>3</td>\n",
       "      <td>14.95</td>\n",
       "    </tr>\n",
       "  </tbody>\n",
       "</table>\n",
       "</div>"
      ],
      "text/plain": [
       "        id                                        description  quantity  \\\n",
       "0  p233245  LC652 - Lakeshore Double-Space Mobile Drying Rack         1   \n",
       "1  p069063        Bouncy Bands for Desks (Blue support pipes)         3   \n",
       "\n",
       "    price  \n",
       "0  149.00  \n",
       "1   14.95  "
      ]
     },
     "execution_count": 4,
     "metadata": {},
     "output_type": "execute_result"
    }
   ],
   "source": [
    "print(\"Number of data points in train data\", resource_data.shape)\n",
    "print(resource_data.columns.values)\n",
    "resource_data.head(2)"
   ]
  },
  {
   "cell_type": "markdown",
   "metadata": {
    "colab_type": "text",
    "id": "WpalDcGUoUGW"
   },
   "source": [
    "## 1.2 preprocessing of `project_subject_categories`"
   ]
  },
  {
   "cell_type": "code",
   "execution_count": 5,
   "metadata": {
    "colab": {},
    "colab_type": "code",
    "id": "eM4RYg1qoUGX"
   },
   "outputs": [],
   "source": [
    "catogories = list(project_data['project_subject_categories'].values)\n",
    "# remove special characters from list of strings python: https://stackoverflow.com/a/47301924/4084039\n",
    "\n",
    "# https://www.geeksforgeeks.org/removing-stop-words-nltk-python/\n",
    "# https://stackoverflow.com/questions/23669024/how-to-strip-a-specific-word-from-a-string\n",
    "# https://stackoverflow.com/questions/8270092/remove-all-whitespace-in-a-string-in-python\n",
    "cat_list = []\n",
    "for i in catogories:\n",
    "    temp = \"\"\n",
    "    # consider we have text like this \"Math & Science, Warmth, Care & Hunger\"\n",
    "    for j in i.split(','): # it will split it in three parts [\"Math & Science\", \"Warmth\", \"Care & Hunger\"]\n",
    "        if 'The' in j.split(): # this will split each of the catogory based on space \"Math & Science\"=> \"Math\",\"&\", \"Science\"\n",
    "            j=j.replace('The','') # if we have the words \"The\" we are going to replace it with ''(i.e removing 'The')\n",
    "        j = j.replace(' ','') # we are placeing all the ' '(space) with ''(empty) ex:\"Math & Science\"=>\"Math&Science\"\n",
    "        temp+=j.strip()+\" \" #\" abc \".strip() will return \"abc\", remove the trailing spaces\n",
    "        temp = temp.replace('&','_') # we are replacing the & value into \n",
    "    cat_list.append(temp.strip())\n",
    "    \n",
    "project_data['clean_categories'] = cat_list\n",
    "project_data.drop(['project_subject_categories'], axis=1, inplace=True)\n",
    "\n",
    "from collections import Counter\n",
    "my_counter = Counter()\n",
    "for word in project_data['clean_categories'].values:\n",
    "    my_counter.update(word.split())\n",
    "\n",
    "cat_dict = dict(my_counter)\n",
    "sorted_cat_dict = dict(sorted(cat_dict.items(), key=lambda kv: kv[1]))\n"
   ]
  },
  {
   "cell_type": "markdown",
   "metadata": {
    "colab_type": "text",
    "id": "EMP3hhkvoUGb"
   },
   "source": [
    "## 1.3 preprocessing of `project_subject_subcategories`"
   ]
  },
  {
   "cell_type": "code",
   "execution_count": 6,
   "metadata": {
    "colab": {},
    "colab_type": "code",
    "id": "DGM4QvrQoUGc"
   },
   "outputs": [],
   "source": [
    "sub_catogories = list(project_data['project_subject_subcategories'].values)\n",
    "# remove special characters from list of strings python: https://stackoverflow.com/a/47301924/4084039\n",
    "\n",
    "# https://www.geeksforgeeks.org/removing-stop-words-nltk-python/\n",
    "# https://stackoverflow.com/questions/23669024/how-to-strip-a-specific-word-from-a-string\n",
    "# https://stackoverflow.com/questions/8270092/remove-all-whitespace-in-a-string-in-python\n",
    "\n",
    "sub_cat_list = []\n",
    "for i in sub_catogories:\n",
    "    temp = \"\"\n",
    "    # consider we have text like this \"Math & Science, Warmth, Care & Hunger\"\n",
    "    for j in i.split(','): # it will split it in three parts [\"Math & Science\", \"Warmth\", \"Care & Hunger\"]\n",
    "        if 'The' in j.split(): # this will split each of the catogory based on space \"Math & Science\"=> \"Math\",\"&\", \"Science\"\n",
    "            j=j.replace('The','') # if we have the words \"The\" we are going to replace it with ''(i.e removing 'The')\n",
    "        j = j.replace(' ','') # we are placeing all the ' '(space) with ''(empty) ex:\"Math & Science\"=>\"Math&Science\"\n",
    "        temp +=j.strip()+\" \"#\" abc \".strip() will return \"abc\", remove the trailing spaces\n",
    "        temp = temp.replace('&','_')\n",
    "    sub_cat_list.append(temp.strip())\n",
    "\n",
    "project_data['clean_subcategories'] = sub_cat_list\n",
    "project_data.drop(['project_subject_subcategories'], axis=1, inplace=True)\n",
    "\n",
    "# count of all the words in corpus python: https://stackoverflow.com/a/22898595/4084039\n",
    "my_counter = Counter()\n",
    "for word in project_data['clean_subcategories'].values:\n",
    "    my_counter.update(word.split())\n",
    "    \n",
    "sub_cat_dict = dict(my_counter)\n",
    "sorted_sub_cat_dict = dict(sorted(sub_cat_dict.items(), key=lambda kv: kv[1]))"
   ]
  },
  {
   "cell_type": "markdown",
   "metadata": {
    "colab_type": "text",
    "id": "9LdJ4JOloUGf"
   },
   "source": [
    "## 1.3 Text preprocessing"
   ]
  },
  {
   "cell_type": "code",
   "execution_count": 7,
   "metadata": {
    "colab": {},
    "colab_type": "code",
    "id": "JRmyuIgeoUGh"
   },
   "outputs": [],
   "source": [
    "# merge two column text dataframe: \n",
    "project_data[\"essay\"] = project_data[\"project_essay_1\"].map(str) +\\\n",
    "                        project_data[\"project_essay_2\"].map(str) + \\\n",
    "                        project_data[\"project_essay_3\"].map(str) + \\\n",
    "                        project_data[\"project_essay_4\"].map(str)"
   ]
  },
  {
   "cell_type": "code",
   "execution_count": null,
   "metadata": {
    "colab": {},
    "colab_type": "code",
    "id": "8vCZZ8sKoUGk",
    "outputId": "a3e673c8-d33b-4803-8095-6185727695fa"
   },
   "outputs": [],
   "source": [
    "project_data.head(2)"
   ]
  },
  {
   "cell_type": "code",
   "execution_count": null,
   "metadata": {
    "colab": {},
    "colab_type": "code",
    "id": "y1IMIH5ioUGo"
   },
   "outputs": [],
   "source": [
    "#### 1.4.2.3 Using Pretrained Models: TFIDF weighted W2V"
   ]
  },
  {
   "cell_type": "code",
   "execution_count": null,
   "metadata": {
    "colab": {},
    "colab_type": "code",
    "id": "ghjkQ5NJoUGq",
    "outputId": "1e5cb6dd-5776-4fe5-be4a-f541a82341d4"
   },
   "outputs": [],
   "source": [
    "# printing some random reviews\n",
    "print(project_data['essay'].values[0])\n",
    "print(\"=\"*50)\n",
    "print(project_data['essay'].values[150])\n",
    "print(\"=\"*50)\n",
    "print(project_data['essay'].values[1000])\n",
    "print(\"=\"*50)\n",
    "print(project_data['essay'].values[20000])\n",
    "print(\"=\"*50)\n",
    "print(project_data['essay'].values[99999])\n",
    "print(\"=\"*50)"
   ]
  },
  {
   "cell_type": "code",
   "execution_count": 9,
   "metadata": {
    "colab": {},
    "colab_type": "code",
    "id": "TGzKAL65oUGt"
   },
   "outputs": [],
   "source": [
    "# https://stackoverflow.com/a/47091490/4084039\n",
    "import re\n",
    "\n",
    "def decontracted(phrase):\n",
    "    # specific\n",
    "    phrase = re.sub(r\"won't\", \"will not\", phrase)\n",
    "    phrase = re.sub(r\"can\\'t\", \"can not\", phrase)\n",
    "\n",
    "    # general\n",
    "    phrase = re.sub(r\"n\\'t\", \" not\", phrase)\n",
    "    phrase = re.sub(r\"\\'re\", \" are\", phrase)\n",
    "    phrase = re.sub(r\"\\'s\", \" is\", phrase)\n",
    "    phrase = re.sub(r\"\\'d\", \" would\", phrase)\n",
    "    phrase = re.sub(r\"\\'ll\", \" will\", phrase)\n",
    "    phrase = re.sub(r\"\\'t\", \" not\", phrase)\n",
    "    phrase = re.sub(r\"\\'ve\", \" have\", phrase)\n",
    "    phrase = re.sub(r\"\\'m\", \" am\", phrase)\n",
    "    return phrase"
   ]
  },
  {
   "cell_type": "code",
   "execution_count": null,
   "metadata": {
    "colab": {},
    "colab_type": "code",
    "id": "xkeCI1WmoUGw",
    "outputId": "f85659af-c549-43d5-89aa-62bd78b4f708"
   },
   "outputs": [],
   "source": [
    "sent = decontracted(project_data['essay'].values[20000])\n",
    "print(sent)\n",
    "print(\"=\"*50)"
   ]
  },
  {
   "cell_type": "code",
   "execution_count": null,
   "metadata": {
    "colab": {},
    "colab_type": "code",
    "id": "KAhl8dbYoUGz",
    "outputId": "cec5949b-f5f2-4899-d8fa-c645d528b231"
   },
   "outputs": [],
   "source": [
    "# \\r \\n \\t remove from string python: http://texthandler.com/info/remove-line-breaks-python/\n",
    "sent = sent.replace('\\\\r', ' ')\n",
    "sent = sent.replace('\\\\\"', ' ')\n",
    "sent = sent.replace('\\\\n', ' ')\n",
    "print(sent)"
   ]
  },
  {
   "cell_type": "code",
   "execution_count": null,
   "metadata": {
    "colab": {},
    "colab_type": "code",
    "id": "io_sbKCWoUG2",
    "outputId": "8b1e198e-c9fd-4a1f-b72d-fbfaff746b54"
   },
   "outputs": [],
   "source": [
    "#remove spacial character: https://stackoverflow.com/a/5843547/4084039\n",
    "sent = re.sub('[^A-Za-z0-9]+', ' ', sent)\n",
    "print(sent)"
   ]
  },
  {
   "cell_type": "code",
   "execution_count": 10,
   "metadata": {
    "colab": {},
    "colab_type": "code",
    "id": "wtuFzHzfoUG6"
   },
   "outputs": [],
   "source": [
    "# https://gist.github.com/sebleier/554280\n",
    "# we are removing the words from the stop words list: 'no', 'nor', 'not'\n",
    "stopwords= ['i', 'me', 'my', 'myself', 'we', 'our', 'ours', 'ourselves', 'you', \"you're\", \"you've\",\\\n",
    "            \"you'll\", \"you'd\", 'your', 'yours', 'yourself', 'yourselves', 'he', 'him', 'his', 'himself', \\\n",
    "            'she', \"she's\", 'her', 'hers', 'herself', 'it', \"it's\", 'its', 'itself', 'they', 'them', 'their',\\\n",
    "            'theirs', 'themselves', 'what', 'which', 'who', 'whom', 'this', 'that', \"that'll\", 'these', 'those', \\\n",
    "            'am', 'is', 'are', 'was', 'were', 'be', 'been', 'being', 'have', 'has', 'had', 'having', 'do', 'does', \\\n",
    "            'did', 'doing', 'a', 'an', 'the', 'and', 'but', 'if', 'or', 'because', 'as', 'until', 'while', 'of', \\\n",
    "            'at', 'by', 'for', 'with', 'about', 'against', 'between', 'into', 'through', 'during', 'before', 'after',\\\n",
    "            'above', 'below', 'to', 'from', 'up', 'down', 'in', 'out', 'on', 'off', 'over', 'under', 'again', 'further',\\\n",
    "            'then', 'once', 'here', 'there', 'when', 'where', 'why', 'how', 'all', 'any', 'both', 'each', 'few', 'more',\\\n",
    "            'most', 'other', 'some', 'such', 'only', 'own', 'same', 'so', 'than', 'too', 'very', \\\n",
    "            's', 't', 'can', 'will', 'just', 'don', \"don't\", 'should', \"should've\", 'now', 'd', 'll', 'm', 'o', 're', \\\n",
    "            've', 'y', 'ain', 'aren', \"aren't\", 'couldn', \"couldn't\", 'didn', \"didn't\", 'doesn', \"doesn't\", 'hadn',\\\n",
    "            \"hadn't\", 'hasn', \"hasn't\", 'haven', \"haven't\", 'isn', \"isn't\", 'ma', 'mightn', \"mightn't\", 'mustn',\\\n",
    "            \"mustn't\", 'needn', \"needn't\", 'shan', \"shan't\", 'shouldn', \"shouldn't\", 'wasn', \"wasn't\", 'weren', \"weren't\", \\\n",
    "            'won', \"won't\", 'wouldn', \"wouldn't\"]"
   ]
  },
  {
   "cell_type": "code",
   "execution_count": 11,
   "metadata": {
    "colab": {},
    "colab_type": "code",
    "id": "ny4jT0IzoUG8",
    "outputId": "a973df34-b25b-404d-e37d-5b4377ec68b2"
   },
   "outputs": [
    {
     "name": "stderr",
     "output_type": "stream",
     "text": [
      "100%|██████████| 109248/109248 [01:53<00:00, 962.91it/s]\n"
     ]
    }
   ],
   "source": [
    "# Combining all the above stundents \n",
    "from tqdm import tqdm\n",
    "preprocessed_essays = []\n",
    "# tqdm is for printing the status bar\n",
    "for sentance in tqdm(project_data['essay'].values):\n",
    "    sent = decontracted(sentance)\n",
    "    sent = sent.replace('\\\\r', ' ')\n",
    "    sent = sent.replace('\\\\\"', ' ')\n",
    "    sent = sent.replace('\\\\n', ' ')\n",
    "    sent = re.sub('[^A-Za-z0-9]+', ' ', sent)\n",
    "    # https://gist.github.com/sebleier/554280\n",
    "    sent = ' '.join(e for e in sent.split() if e not in stopwords)\n",
    "    preprocessed_essays.append(sent.lower().strip())"
   ]
  },
  {
   "cell_type": "code",
   "execution_count": 17,
   "metadata": {
    "colab": {},
    "colab_type": "code",
    "id": "ccPTDoKGoUG_",
    "outputId": "79740a48-c822-4071-9274-6d9625edd9ec"
   },
   "outputs": [
    {
     "data": {
      "text/plain": [
       "'my kindergarten students varied disabilities ranging speech language delays cognitive delays gross fine motor delays autism they eager beavers always strive work hardest working past limitations the materials ones i seek students i teach title i school students receive free reduced price lunch despite disabilities limitations students love coming school come eager learn explore have ever felt like ants pants needed groove move meeting this kids feel time the want able move learn say wobble chairs answer i love develop core enhances gross motor turn fine motor skills they also want learn games kids not want sit worksheets they want learn count jumping playing physical engagement key success the number toss color shape mats make happen my students forget work fun 6 year old deserves nannan'"
      ]
     },
     "execution_count": 17,
     "metadata": {},
     "output_type": "execute_result"
    }
   ],
   "source": [
    "# after preprocesing\n",
    "preprocessed_essays[20000]"
   ]
  },
  {
   "cell_type": "markdown",
   "metadata": {
    "colab_type": "text",
    "id": "oxBhoq--oUHC"
   },
   "source": [
    "<h2><font color='red'> 1.4 Preprocessing of `project_title`</font></h2>"
   ]
  },
  {
   "cell_type": "code",
   "execution_count": 12,
   "metadata": {
    "colab": {},
    "colab_type": "code",
    "id": "zBxyacM6oUHD"
   },
   "outputs": [],
   "source": [
    "# similarly you can preprocess the titles also\n",
    "# similarly you can preprocess the titles also\n",
    "project_title=project_data['project_title']\n",
    "import re\n",
    "preprocessed_title=[]\n",
    "for i in project_title:\n",
    "    i=i.replace('\\\\r',\"\")\n",
    "    i=i.replace('\\\\n',\"\")\n",
    "    i=i.replace('\\\\t',\"\")\n",
    "    i=i.replace(\"'\\'\",\"\")\n",
    "    i=i.replace(\":\",\"\")\n",
    "    i=i.replace(\"'\",\"\")\n",
    "    i=i.replace(\"-\",\"\")\n",
    "    i=i.replace(\",\",\"\")\n",
    "    i=i.replace(\".\",\"\")\n",
    "    i=i.replace(\"'\"\"'\",\"\")\n",
    "    clean=re.sub('[^A-Za-z0-9]+',\" \",i)\n",
    "    word = ' '.join(e for e in clean.split() if e not in stopwords)\n",
    "    preprocessed_title.append(word.lower().strip())"
   ]
  },
  {
   "cell_type": "code",
   "execution_count": 13,
   "metadata": {},
   "outputs": [
    {
     "name": "stderr",
     "output_type": "stream",
     "text": [
      "100%|██████████| 109248/109248 [03:18<00:00, 550.86it/s]\n"
     ]
    }
   ],
   "source": [
    "#https://simmonhessner.de/lammitize-whole-sentences-with-python-and-nltks-wordnetlemmatizer/\n",
    "#lemmatizing the preprocessed_title\n",
    "from nltk.stem import *\n",
    "import nltk\n",
    "from nltk.corpus import wordnet\n",
    "lemmatizer=WordNetLemmatizer()\n",
    "def nltk2wn_tag(nltk_tag):\n",
    "    if nltk_tag.startswith('J'):\n",
    "        return wordnet.ADJ\n",
    "    elif nltk_tag.startswith('V'):\n",
    "        return wordnet.VERB\n",
    "    elif nltk_tag.startswith('N'):\n",
    "        return wordnet.NOUN\n",
    "    elif nltk_tag.startswith('R'):\n",
    "        return wordnet.ADV\n",
    "    else:\n",
    "        return None\n",
    "def lemmatize_sentence(sentence):\n",
    "    nltk_tagged=nltk.pos_tag(nltk.word_tokenize(sentence))\n",
    "    wn_tagged=map(lambda x:(x[0],nltk2wn_tag(x[1])),nltk_tagged)\n",
    "    res_words=[]\n",
    "    for word,tag in wn_tagged:\n",
    "        if tag is None:\n",
    "            res_words.append(word)\n",
    "        else:\n",
    "            res_words.append(lemmatizer.lemmatize(word,tag))\n",
    "    return \" \".join(res_words)\n",
    "from tqdm import tqdm\n",
    "clean_title=[]\n",
    "for word in tqdm(preprocessed_title):\n",
    "    i=lemmatize_sentence(word)\n",
    "    clean_title.append(i)"
   ]
  },
  {
   "cell_type": "code",
   "execution_count": 14,
   "metadata": {},
   "outputs": [
    {
     "name": "stdout",
     "output_type": "stream",
     "text": [
      "[0, 0, 0, 0, 0, 0, 0, 0, 0, 0, 1, 0, 1, 0, 0, 1]\n",
      "109248\n"
     ]
    }
   ],
   "source": [
    "num_counter=[]\n",
    "project_sumry=project_data['project_resource_summary'].str.split()\n",
    "for i,sent in enumerate(project_sumry):\n",
    "    for word in sent:\n",
    "        if word.isdigit():\n",
    "            num_counter.append(i)\n",
    "numerical_digit=[]\n",
    "for sent_i in range(len(project_sumry)):\n",
    "    if sent_i in num_counter:\n",
    "        numerical_digit.append(1)\n",
    "    else:\n",
    "        numerical_digit.append(0)\n",
    "print(numerical_digit[4:20])\n",
    "print(len(numerical_digit))\n"
   ]
  },
  {
   "cell_type": "code",
   "execution_count": 15,
   "metadata": {},
   "outputs": [
    {
     "name": "stdout",
     "output_type": "stream",
     "text": [
      "109248\n"
     ]
    }
   ],
   "source": [
    "project_data.shape\n",
    "project_data['project_sumry_digit']=numerical_digit\n",
    "project_data['essay']= preprocessed_essays\n",
    "essay_word_count = project_data['essay'].str.split().apply(len)\n",
    "essay_word_count = essay_word_count.values\n",
    "print(len(essay_word_count))"
   ]
  },
  {
   "cell_type": "code",
   "execution_count": 16,
   "metadata": {},
   "outputs": [
    {
     "name": "stdout",
     "output_type": "stream",
     "text": [
      "109248\n"
     ]
    }
   ],
   "source": [
    "project_data['title']= preprocessed_title\n",
    "title_word_count = project_data['title'].str.split().apply(len)\n",
    "title_word_count = title_word_count.values\n",
    "print(len(title_word_count))"
   ]
  },
  {
   "cell_type": "code",
   "execution_count": 17,
   "metadata": {},
   "outputs": [],
   "source": [
    "price_data = resource_data.groupby('id').agg({'price':'sum', 'quantity':'sum'}).reset_index()\n",
    "project_data = pd.merge(project_data, price_data, on='id', how='left')\n",
    "project_data['title_Count']=title_word_count\n",
    "project_data['essay_Count']=essay_word_count"
   ]
  },
  {
   "cell_type": "markdown",
   "metadata": {
    "colab_type": "text",
    "id": "P4I60VW7oUHF"
   },
   "source": [
    "## 1.5 Preparing data for models"
   ]
  },
  {
   "cell_type": "code",
   "execution_count": 24,
   "metadata": {
    "colab": {},
    "colab_type": "code",
    "id": "F_jrfczjoUHG",
    "outputId": "6e45eb13-642b-488f-b44d-e370e7430b18"
   },
   "outputs": [
    {
     "data": {
      "text/plain": [
       "Index(['Unnamed: 0', 'id', 'teacher_id', 'teacher_prefix', 'school_state',\n",
       "       'project_submitted_datetime', 'project_grade_category', 'project_title',\n",
       "       'project_essay_1', 'project_essay_2', 'project_essay_3',\n",
       "       'project_essay_4', 'project_resource_summary',\n",
       "       'teacher_number_of_previously_posted_projects', 'project_is_approved',\n",
       "       'clean_categories', 'clean_subcategories', 'essay',\n",
       "       'project_sumry_digit', 'title', 'price', 'quantity', 'title_Count',\n",
       "       'essay_Count'],\n",
       "      dtype='object')"
      ]
     },
     "execution_count": 24,
     "metadata": {},
     "output_type": "execute_result"
    }
   ],
   "source": [
    "project_data.columns"
   ]
  },
  {
   "cell_type": "markdown",
   "metadata": {
    "colab_type": "text",
    "id": "y1YePFvOoUHI"
   },
   "source": [
    "we are going to consider\n",
    "\n",
    "       - school_state : categorical data\n",
    "       - clean_categories : categorical data\n",
    "       - clean_subcategories : categorical data\n",
    "       - project_grade_category : categorical data\n",
    "       - teacher_prefix : categorical data\n",
    "       \n",
    "       - project_title : text data\n",
    "       - text : text data\n",
    "       - project_resource_summary: text data (optinal)\n",
    "       \n",
    "       - quantity : numerical (optinal)\n",
    "       - teacher_number_of_previously_posted_projects : numerical\n",
    "       - price : numerical"
   ]
  },
  {
   "cell_type": "markdown",
   "metadata": {
    "colab_type": "text",
    "id": "sroxCZEPoUHy"
   },
   "source": [
    "## __ Computing Sentiment Scores__"
   ]
  },
  {
   "cell_type": "code",
   "execution_count": 18,
   "metadata": {
    "colab": {},
    "colab_type": "code",
    "id": "F8rRKUskoUHz",
    "outputId": "ea7f1629-df31-4a5f-a6df-f57d8dface17"
   },
   "outputs": [
    {
     "name": "stderr",
     "output_type": "stream",
     "text": [
      "C:\\ProgramData\\Anaconda\\lib\\site-packages\\nltk\\twitter\\__init__.py:20: UserWarning: The twython library has not been installed. Some functionality from the twitter package will not be available.\n",
      "  warnings.warn(\"The twython library has not been installed. \"\n",
      "100%|██████████| 109248/109248 [06:48<00:00, 267.72it/s]\n"
     ]
    }
   ],
   "source": [
    "import nltk\n",
    "from nltk.sentiment.vader import SentimentIntensityAnalyzer\n",
    "\n",
    "# import nltk\n",
    "# nltk.download('vader_lexicon')\n",
    "\n",
    "sid = SentimentIntensityAnalyzer()\n",
    "\n",
    "sentiment_com_essay=[]\n",
    "sentiment_neg_essay=[]\n",
    "sentiment_pos_essay=[]\n",
    "for for_sentiment in tqdm(project_data['essay']):\n",
    "    ss = sid.polarity_scores(for_sentiment)\n",
    "    sentiment_com_essay.append(ss['compound'])\n",
    "    sentiment_neg_essay.append(ss['neg'])\n",
    "    sentiment_pos_essay.append(ss['pos'])\n",
    "project_data['com_essay']=sentiment_com_essay\n",
    "project_data['neg_essay']=sentiment_neg_essay\n",
    "project_data['pos_essay']=sentiment_pos_essay"
   ]
  },
  {
   "cell_type": "markdown",
   "metadata": {
    "colab_type": "text",
    "id": "EDbdwrJ7oUH1"
   },
   "source": [
    "#  SVM TASK"
   ]
  },
  {
   "cell_type": "markdown",
   "metadata": {
    "colab_type": "text",
    "id": "sKc9KmNQoUH2"
   },
   "source": [
    "<ol>\n",
    "    <li><strong>[Task-1]Support Vector Machines(SGDClassifier with hinge loss: Linear SVM) on these feature sets</strong>\n",
    "        <ul>\n",
    "            <li><font color='red'>Set 1</font>: categorical, numerical features + project_title(BOW) + preprocessed_eassay (BOW)</li>\n",
    "            <li><font color='red'>Set 2</font>: categorical, numerical features + project_title(TFIDF)+  preprocessed_eassay (TFIDF)</li>\n",
    "            <li><font color='red'>Set 3</font>: categorical, numerical features + project_title(AVG W2V)+  preprocessed_eassay (AVG W2V)</li>\n",
    "            <li><font color='red'>Set 4</font>: categorical, numerical features + project_title(TFIDF W2V)+  preprocessed_eassay (TFIDF W2V)</li>        </ul>\n",
    "    </li>\n",
    "    <br>\n",
    "    <li>\n",
    "        <ul>\n",
    "    <li>Find the best hyper parameter which will give the maximum AUC value</li>\n",
    "    <li>Find the best hyper paramter using k-fold cross validation or simple cross validation data</li>\n",
    "    <li>Use gridsearch cv or randomsearch cv \n",
    "        </ul>\n",
    "            </li>\n",
    "    <br>\n",
    "    <li><strong>Representation of results</strong>\n",
    "        <ul>\n",
    "    <li> plot the performance of model both on train data and cross validation data for each hyper parameter</li>\n",
    "    <li>On best hyper parameter, train model with it, and plot the AUC on test data and plot the ROC curve on both train and test.\n",
    "    </li>\n",
    "    <li>Along with plotting ROC curve, you need to print the confusion matrix with predicted and original labels of test data points .</li>\n",
    "        </ul>\n",
    "    </li>\n",
    "    <br>\n",
    "    <li><strong>[Task-2]  Support Vector Machines on these features by finding the best hyper paramter as  in step 2 and step 3</strong>\n",
    "        <ul>\n",
    "    <li> Consider these set of features <font color='red'> Set 5 :</font>\n",
    "            <ul>\n",
    "                <li><strong>school_state</strong> : categorical data</li>\n",
    "                <li><strong>clean_categories</strong> : categorical data</li>\n",
    "                <li><strong>clean_subcategories</strong> : categorical data</li>\n",
    "                <li><strong>project_grade_category</strong> :categorical data</li>\n",
    "                <li><strong>teacher_prefix</strong> : categorical data</li>\n",
    "                <li><strong>quantity</strong> : numerical data</li>\n",
    "                <li><strong>teacher_number_of_previously_posted_projects</strong> : numerical data</li>\n",
    "                <li><strong>price</strong> : numerical data</li>\n",
    "                <li><strong>sentiment score's of each of the essay</strong> : numerical data</li>\n",
    "                <li><strong>number of words in the title</strong> : numerical data</li>\n",
    "                <li><strong>number of words in the combine essays</strong> : numerical data</li>\n",
    "                <li><strong>Apply <a href='http://scikit-learn.org/stable/modules/generated/sklearn.decomposition.TruncatedSVD.html'>TruncatedSVD</a> on <a href='https://scikit-learn.org/stable/modules/generated/sklearn.feature_extraction.text.TfidfVectorizer.html'>TfidfVectorizer</a> of essay text, choose the number of components (`n_components`) using <a href='https://www.appliedaicourse.com/course/applied-ai-course-online/lessons/pca-code-example-using-non-visualization/'>elbow method</a></strong> : numerical data</li>\n",
    "            </ul>\n",
    "         <br>\n",
    "    </li>\n",
    "    <br>\n",
    "    <li><strong>Conclusion</strong>\n",
    "        <ul>\n",
    "    <li>summarize the results at the end of the notebook, summarize it in the table format. \n",
    "    </li>\n",
    "        </ul>\n",
    "</ol>"
   ]
  },
  {
   "cell_type": "markdown",
   "metadata": {
    "colab_type": "text",
    "id": "__AbIboVoUH3"
   },
   "source": [
    "<h1>2. Support Vector Machines </h1>"
   ]
  },
  {
   "cell_type": "markdown",
   "metadata": {
    "colab_type": "text",
    "id": "vMxruDG7oUH3"
   },
   "source": [
    "<h2>2.1 Splitting data into Train and cross validation(or test): Stratified Sampling</h2>"
   ]
  },
  {
   "cell_type": "code",
   "execution_count": 26,
   "metadata": {},
   "outputs": [
    {
     "data": {
      "text/plain": [
       "Index(['Unnamed: 0', 'id', 'teacher_id', 'teacher_prefix', 'school_state',\n",
       "       'project_submitted_datetime', 'project_grade_category', 'project_title',\n",
       "       'project_essay_1', 'project_essay_2', 'project_essay_3',\n",
       "       'project_essay_4', 'project_resource_summary',\n",
       "       'teacher_number_of_previously_posted_projects', 'project_is_approved',\n",
       "       'clean_categories', 'clean_subcategories', 'essay',\n",
       "       'project_sumry_digit', 'title', 'price', 'quantity', 'title_Count',\n",
       "       'essay_Count', 'com_essay', 'neg_essay', 'pos_essay'],\n",
       "      dtype='object')"
      ]
     },
     "execution_count": 26,
     "metadata": {},
     "output_type": "execute_result"
    }
   ],
   "source": [
    "project_data.columns"
   ]
  },
  {
   "cell_type": "code",
   "execution_count": 19,
   "metadata": {
    "colab": {},
    "colab_type": "code",
    "id": "vc9jEpzzoUH4"
   },
   "outputs": [
    {
     "name": "stdout",
     "output_type": "stream",
     "text": [
      "(68823, 17)\n",
      "(68823,)\n",
      "(32774, 17)\n",
      "(32774,)\n",
      "(7648, 17)\n",
      "(7648,)\n",
      "Index(['teacher_prefix', 'school_state', 'project_grade_category', 'title',\n",
      "       'project_resource_summary',\n",
      "       'teacher_number_of_previously_posted_projects', 'clean_categories',\n",
      "       'clean_subcategories', 'essay', 'price', 'quantity',\n",
      "       'project_sumry_digit', 'title_Count', 'essay_Count', 'com_essay',\n",
      "       'neg_essay', 'pos_essay'],\n",
      "      dtype='object')\n"
     ]
    }
   ],
   "source": [
    "# please write all the code with proper documentation, and proper titles for each subsection\n",
    "# go through documentations and blogs before you start coding\n",
    "# first figure out what to do, and then think about how to do.\n",
    "# reading and understanding error messages will be very much helpfull in debugging your code\n",
    "# when you plot any graph make sure you use \n",
    "    # a. Title, that describes your plot, this will be very helpful to the reader\n",
    "    # b. Legends if needed\n",
    "    # c. X-axis label\n",
    "    # d. Y-axis label\n",
    "from sklearn.model_selection import train_test_split\n",
    "project_data=project_data[['teacher_prefix', 'school_state', 'project_grade_category', 'project_resource_summary',\n",
    "       'teacher_number_of_previously_posted_projects',\n",
    "       'clean_categories', 'clean_subcategories', 'essay', 'price', 'quantity','project_is_approved','project_sumry_digit'\n",
    "                          , 'title_Count', 'essay_Count','title','com_essay','neg_essay','pos_essay']]\n",
    "project_data=project_data.dropna()\n",
    "y=project_data['project_is_approved']\n",
    "x=project_data[['teacher_prefix', 'school_state', 'project_grade_category', 'title', 'project_resource_summary',\n",
    "       'teacher_number_of_previously_posted_projects',\n",
    "       'clean_categories', 'clean_subcategories', 'essay', 'price', 'quantity','project_sumry_digit'\n",
    "                          , 'title_Count', 'essay_Count','com_essay','neg_essay','pos_essay']]\n",
    "x_train,x_test,y_train,y_test=train_test_split(x,y,test_size=0.3,random_state=0)\n",
    "x_train,x_cv,y_train,y_cv=train_test_split(x_train,y_train,test_size=0.1,random_state=0)\n",
    "print(x_train.shape)\n",
    "print(y_train.shape)\n",
    "print(x_test.shape)\n",
    "print(y_test.shape)\n",
    "print(x_cv.shape)\n",
    "print(y_cv.shape)\n",
    "print(x_train.columns)"
   ]
  },
  {
   "cell_type": "markdown",
   "metadata": {
    "colab_type": "text",
    "id": "RXh9o-rOoUH5"
   },
   "source": [
    "<h2>2.2 Make Data Model Ready: encoding numerical, categorical features</h2>"
   ]
  },
  {
   "cell_type": "code",
   "execution_count": 29,
   "metadata": {
    "colab": {},
    "colab_type": "code",
    "id": "80ha3YnqoUH5"
   },
   "outputs": [],
   "source": [
    "# please write all the code with proper documentation, and proper titles for each subsection\n",
    "# go through documentations and blogs before you start coding \n",
    "# first figure out what to do, and then think about how to do.\n",
    "# reading and understanding error messages will be very much helpfull in debugging your code\n",
    "# make sure you featurize train and test data separatly\n",
    "\n",
    "# when you plot any graph make sure you use \n",
    "    # a. Title, that describes your plot, this will be very helpful to the reader\n",
    "    # b. Legends if needed\n",
    "    # c. X-axis label\n",
    "    # d. Y-axis label\n",
    "my_counter=Counter()\n",
    "for grade in x_train['school_state'].values:\n",
    "    my_counter.update(grade.split())\n",
    "dict_my_counter=dict(my_counter)\n",
    "sort_project_grade_cat=dict(sorted(dict_my_counter.items(), key=lambda kv: kv[1]))\n",
    "vectorizer = CountVectorizer(vocabulary=list(sort_project_grade_cat),lowercase=False, binary=True)\n",
    "vectorizer.fit(x_train['school_state'])\n",
    "    # vectorizing \n",
    "school_state_one_hot_train = vectorizer.transform(x_train['school_state'])\n",
    "school_state_one_hot_cv = vectorizer.transform(x_cv['school_state'])\n",
    "school_state_one_hot_test = vectorizer.transform(x_test['school_state'])\n"
   ]
  },
  {
   "cell_type": "code",
   "execution_count": 30,
   "metadata": {},
   "outputs": [],
   "source": [
    "from sklearn.preprocessing import Normalizer\n",
    "\n",
    "my_counter=Counter()\n",
    "for grade in x_train['clean_subcategories'].values:\n",
    "    my_counter.update(grade.split())\n",
    "dict_my_counter=dict(my_counter)\n",
    "sorted_sub_cat_dict=dict(sorted(dict_my_counter.items(), key=lambda kv: kv[1]))\n",
    "vectorizer = CountVectorizer(vocabulary=list(sorted_sub_cat_dict.keys()),\\\n",
    "lowercase=False, binary= True) \n",
    "vectorizer.fit(x_train['clean_subcategories'].values)\n",
    "\n",
    "subcategories_one_hot_train=vectorizer.transform(x_train['clean_subcategories'])\n",
    "subcategories_one_hot_test=vectorizer.transform(x_test['clean_subcategories'])\n",
    "subcategories_one_hot_cv=vectorizer.transform(x_cv['clean_subcategories'])"
   ]
  },
  {
   "cell_type": "code",
   "execution_count": 32,
   "metadata": {},
   "outputs": [],
   "source": [
    "# you can do the similar thing with state, teacher_prefix and project_grade_category also\n",
    "def vectorization(data):\n",
    "    my_counter=Counter()\n",
    "    for grade in data:\n",
    "        my_counter.update(grade.split())\n",
    "    dict_my_counter=dict(my_counter)\n",
    "    sort_project_grade_cat=dict(sorted(dict_my_counter.items(), key=lambda kv: kv[1]))\n",
    "    if 'Grades' in dict_my_counter:\n",
    "        dict_my_counter.pop('Grades')\n",
    "    vectorizer = CountVectorizer(vocabulary=list(sort_project_grade_cat),lowercase=False, binary=True)\n",
    "    vectorizer.fit(data)\n",
    "    # vectorizing \n",
    "    project_grade_category_one_hot = vectorizer.transform(data)\n",
    "    return project_grade_category_one_hot\n",
    "#vectorizing of teacher prefix\n",
    "def teacher_prefix_vec(data):\n",
    "    my_counter=Counter()\n",
    "    for prefix in data.values:\n",
    "        my_counter.update(str(prefix).split())\n",
    "    dict_my_counter=dict(my_counter)\n",
    "    sort_teacher_prefix_cat=dict(sorted(dict_my_counter.items()), key=lambda kv: kv[1])\n",
    "    if 'nan' in sort_teacher_prefix_cat.keys():\n",
    "        sort_teacher_prefix_cat.pop('nan')\n",
    "    vectorizer = CountVectorizer(vocabulary=list(sort_teacher_prefix_cat),lowercase=False, binary=True)\n",
    "    vectorizer.fit(data.values.astype('U'))\n",
    "    project_teacher_prefix_one_hot = vectorizer.transform(data.values.astype('U'))\n",
    "    return project_teacher_prefix_one_hot"
   ]
  },
  {
   "cell_type": "code",
   "execution_count": 33,
   "metadata": {},
   "outputs": [],
   "source": [
    "import warnings\n",
    "warnings.filterwarnings(\"ignore\")\n",
    "grade_cat_one_hot_train=vectorization(x_train['project_grade_category'])\n",
    "grade_cat_one_hot_test=vectorization(x_test['project_grade_category'])\n",
    "grade_cat_one_hot_cv=vectorization(x_cv['project_grade_category'])\n",
    "categories_one_hot_train=vectorization(x_train['clean_categories'])\n",
    "categories_one_hot_test=vectorization(x_test['clean_categories'])\n",
    "categories_one_hot_cv=vectorization(x_cv['clean_categories'])\n",
    "\n",
    "from sklearn.preprocessing import Normalizer\n",
    "normalizer=Normalizer()\n",
    "normalizer.fit(x_train['price'].values.reshape(-1,1))\n",
    "price_one_hot_train = normalizer.transform(x_train['price'].values.reshape(-1,1)) \n",
    "price_one_hot_test = normalizer.transform(x_test['price'].values.reshape(-1,1)) \n",
    "price_one_hot_cv = normalizer.transform(x_cv['price'].values.reshape(-1,1)) \n",
    "normalizer.fit(x_train['quantity'].values.reshape(-1,1))\n",
    "quantity_one_hot_train=normalizer.transform(x_train['price'].values.reshape(-1,1))\n",
    "quantity_one_hot_test=normalizer.transform(x_test['price'].values.reshape(-1,1))\n",
    "quantity_one_hot_cv=normalizer.transform(x_cv['price'].values.reshape(-1,1))"
   ]
  },
  {
   "cell_type": "code",
   "execution_count": 34,
   "metadata": {},
   "outputs": [
    {
     "data": {
      "text/plain": [
       "(7648, 5)"
      ]
     },
     "execution_count": 34,
     "metadata": {},
     "output_type": "execute_result"
    }
   ],
   "source": [
    "my_counter=Counter()\n",
    "for grade in x_train['teacher_prefix'].values:\n",
    "    my_counter.update(grade.split())\n",
    "dict_my_counter=dict(my_counter)\n",
    "sorted_sub_cat_dict=dict(sorted(dict_my_counter.items(), key=lambda kv: kv[1]))\n",
    "vectorizer = CountVectorizer(vocabulary=list(sorted_sub_cat_dict.keys()),\\\n",
    "lowercase=False, binary= True) \n",
    "vectorizer.fit(x_train['teacher_prefix'].values)\n",
    "\n",
    "teacher_prefix_one_hot_train=vectorizer.transform(x_train['teacher_prefix'])\n",
    "teacher_prefix_one_hot_test=vectorizer.transform(x_test['teacher_prefix'])\n",
    "teacher_prefix_one_hot_cv=vectorizer.transform(x_cv['teacher_prefix'])\n",
    "teacher_prefix_one_hot_cv.shape"
   ]
  },
  {
   "cell_type": "code",
   "execution_count": 35,
   "metadata": {},
   "outputs": [
    {
     "name": "stdout",
     "output_type": "stream",
     "text": [
      "(7648, 51)\n",
      "(68823, 51)\n",
      "(32774, 51)\n",
      "(7648, 1)\n",
      "(68823, 1)\n",
      "(32774, 1)\n",
      "(7648, 1)\n",
      "(68823, 1)\n",
      "(32774, 1)\n",
      "(7648, 30)\n",
      "(68823, 30)\n",
      "(32774, 30)\n",
      "(7648, 9)\n",
      "(68823, 9)\n",
      "(32774, 9)\n",
      "(7648, 5)\n",
      "(68823, 5)\n",
      "(32774, 5)\n",
      "(7648, 5)\n",
      "(68823, 5)\n",
      "(32774, 5)\n"
     ]
    }
   ],
   "source": [
    "print(school_state_one_hot_cv.shape)\n",
    "print(school_state_one_hot_train.shape)\n",
    "print(school_state_one_hot_test.shape)\n",
    "print(quantity_one_hot_cv.shape)\n",
    "print(quantity_one_hot_train.shape)\n",
    "print(quantity_one_hot_test.shape)\n",
    "\n",
    "print(price_one_hot_cv.shape)\n",
    "print(price_one_hot_train.shape)\n",
    "print(price_one_hot_test.shape)\n",
    "\n",
    "print(subcategories_one_hot_cv.shape)\n",
    "print(subcategories_one_hot_train.shape)\n",
    "print(subcategories_one_hot_test.shape)\n",
    "print(categories_one_hot_cv.shape)\n",
    "print(categories_one_hot_train.shape)\n",
    "print(categories_one_hot_test.shape)\n",
    "print(grade_cat_one_hot_cv.shape)\n",
    "print(grade_cat_one_hot_train.shape)\n",
    "print(grade_cat_one_hot_test.shape)\n",
    "print(teacher_prefix_one_hot_cv.shape)\n",
    "print(teacher_prefix_one_hot_train.shape)\n",
    "print(teacher_prefix_one_hot_test.shape)"
   ]
  },
  {
   "cell_type": "code",
   "execution_count": 36,
   "metadata": {},
   "outputs": [
    {
     "data": {
      "text/plain": [
       "(68823, 1)"
      ]
     },
     "execution_count": 36,
     "metadata": {},
     "output_type": "execute_result"
    }
   ],
   "source": [
    "num_or_not_train=x_train['project_sumry_digit'].values.reshape(-1,1)\n",
    "num_or_not_test=x_test['project_sumry_digit'].values.reshape(-1,1)\n",
    "num_or_not_cv=x_cv['project_sumry_digit'].values.reshape(-1,1)\n",
    "num_or_not_train.shape"
   ]
  },
  {
   "cell_type": "code",
   "execution_count": 37,
   "metadata": {},
   "outputs": [
    {
     "data": {
      "text/plain": [
       "(68823, 1)"
      ]
     },
     "execution_count": 37,
     "metadata": {},
     "output_type": "execute_result"
    }
   ],
   "source": [
    "essay_count_train=x_train['essay_Count'].values.reshape(-1,1)\n",
    "essay_count_test=x_test['essay_Count'].values.reshape(-1,1)\n",
    "essay_count_cv=x_cv['essay_Count'].values.reshape(-1,1)\n",
    "essay_count_train.shape"
   ]
  },
  {
   "cell_type": "code",
   "execution_count": 38,
   "metadata": {},
   "outputs": [
    {
     "data": {
      "text/plain": [
       "(68823, 1)"
      ]
     },
     "execution_count": 38,
     "metadata": {},
     "output_type": "execute_result"
    }
   ],
   "source": [
    "title_count_train=x_train['title_Count'].values.reshape(-1,1)\n",
    "title_count_test=x_test['title_Count'].values.reshape(-1,1)\n",
    "title_count_cv=x_cv['title_Count'].values.reshape(-1,1)\n",
    "title_count_train.shape"
   ]
  },
  {
   "cell_type": "markdown",
   "metadata": {
    "colab_type": "text",
    "id": "Ya1V6mLSoUH7"
   },
   "source": [
    "<h2>2.3 Make Data Model Ready: encoding eassay, and project_title</h2>"
   ]
  },
  {
   "cell_type": "code",
   "execution_count": 39,
   "metadata": {
    "colab": {},
    "colab_type": "code",
    "id": "aKrh3dwvoUH7"
   },
   "outputs": [],
   "source": [
    "# please write all the code with proper documentation, and proper titles for each subsection\n",
    "# go through documentations and blogs before you start coding\n",
    "# first figure out what to do, and then think about how to do.\n",
    "# reading and understanding error messages will be very much helpfull in debugging your code\n",
    "# make sure you featurize train and test data separatly\n",
    "\n",
    "# when you plot any graph make sure you use \n",
    "    # a. Title, that describes your plot, this will be very helpful to the reader\n",
    "    # b. Legends if needed\n",
    "    # c. X-axis label\n",
    "    # d. Y-axis labe\n",
    "from sklearn.feature_extraction.text import CountVectorizer\n",
    "vectorizer = CountVectorizer(ngram_range=(2,2),min_df=10,max_features=5000)\n",
    "def bow(data): \n",
    "    text_bow = vectorizer.transform(data)\n",
    "    return text_bow\n",
    "vectorizer.fit(x_train['essay'])\n",
    "bow_train_essay=bow(x_train['essay'])\n",
    "bow_test_essay=bow(x_test['essay'])\n",
    "bow_cv_essay=bow(x_cv['essay'])\n",
    "#bow of v\n",
    "vectorizer=CountVectorizer(min_df=10)\n",
    "vectorizer.fit(x_train['title'])\n",
    "bow_train_title=bow(x_train['title'])\n",
    "bow_test_title=bow(x_test['title'])\n",
    "bow_cv_title=bow(x_cv['title'])\n"
   ]
  },
  {
   "cell_type": "code",
   "execution_count": 40,
   "metadata": {},
   "outputs": [
    {
     "name": "stdout",
     "output_type": "stream",
     "text": [
      "(7648, 2541)\n",
      "(68823, 2541)\n",
      "(32774, 2541)\n",
      "(7648, 5000)\n",
      "(68823, 5000)\n",
      "(32774, 5000)\n"
     ]
    }
   ],
   "source": [
    "print(bow_cv_title.shape)\n",
    "print(bow_train_title.shape)\n",
    "print(bow_test_title.shape)\n",
    "print(bow_cv_essay.shape)\n",
    "print(bow_train_essay.shape)\n",
    "print(bow_test_essay.shape)"
   ]
  },
  {
   "cell_type": "code",
   "execution_count": 21,
   "metadata": {},
   "outputs": [
    {
     "name": "stdout",
     "output_type": "stream",
     "text": [
      "(68823, 13888)\n",
      "(32774, 13888)\n",
      "(7648, 13888)\n"
     ]
    }
   ],
   "source": [
    "from sklearn.feature_extraction.text import TfidfVectorizer\n",
    "vectorizer = TfidfVectorizer()\n",
    "vectorizer = TfidfVectorizer(min_df=10)\n",
    "vectorizer.fit(x_train['essay'])\n",
    "tfidf_train_essay = vectorizer.transform(x_train['essay'])\n",
    "tfidf_test_essay = vectorizer.transform(x_test['essay'])\n",
    "tfidf_cv_essay = vectorizer.transform(x_cv['essay'])\n",
    "print(tfidf_train_essay.shape)\n",
    "print(tfidf_test_essay.shape)\n",
    "print(tfidf_cv_essay.shape)"
   ]
  },
  {
   "cell_type": "code",
   "execution_count": 41,
   "metadata": {},
   "outputs": [
    {
     "name": "stdout",
     "output_type": "stream",
     "text": [
      "(68823, 2541)\n",
      "(32774, 2541)\n",
      "(7648, 2541)\n"
     ]
    }
   ],
   "source": [
    "vectorizer = TfidfVectorizer(min_df=10)\n",
    "vectorizer.fit(x_train['title'])\n",
    "tfidf_train_title = vectorizer.transform(x_train['title'])\n",
    "tfidf_test_title = vectorizer.transform(x_test['title'])\n",
    "tfidf_cv_title = vectorizer.transform(x_cv['title'])\n",
    "print(tfidf_train_title.shape)\n",
    "print(tfidf_test_title.shape)\n",
    "print(tfidf_cv_title.shape)"
   ]
  },
  {
   "cell_type": "code",
   "execution_count": 42,
   "metadata": {},
   "outputs": [],
   "source": [
    "# average Word2Vec\n",
    "# compute average word2vec for each review.\n",
    "def avg_w2v(data):\n",
    "    with open('glove_vectors', 'rb') as f:\n",
    "        model = pickle.load(f)\n",
    "        glove_words =  set(model.keys())\n",
    "    avg_w2v_vectors = []; # the avg-w2v for each sentence/review is stored in this list\n",
    "    for sentence in data: # for each review/sentence\n",
    "        vector = np.zeros(300) # as word vectors are of zero length\n",
    "        cnt_words =0; # num of words with a valid vector in the sentence/review\n",
    "        for word in sentence.split(): # for each word in a review/sentence\n",
    "            if word in glove_words:\n",
    "                vector += model[word]\n",
    "                cnt_words += 1\n",
    "        if cnt_words != 0:\n",
    "            vector /= cnt_words\n",
    "        avg_w2v_vectors.append(vector)\n",
    "    return avg_w2v_vectors\n",
    "\n",
    "\n",
    "\n",
    "# average Word2Vec\n",
    "# compute average word2vec for each review\n",
    "def tfidf_weighted_w2v(data,tfidf_words):\n",
    "    with open('glove_vectors', 'rb') as f:\n",
    "        model = pickle.load(f)\n",
    "        glove_words =  set(model.keys())\n",
    "    tfidf_w2v_vectors = []; # the avg-w2v for each sentence/review is stored in this list\n",
    "    for sentence in data: # for each review/sentence\n",
    "        vector = np.zeros(300) # as word vectors are of zero length\n",
    "        tf_idf_weight =0; # num of words with a valid vector in the sentence/review\n",
    "        for word in sentence.split(): # for each word in a review/sentence\n",
    "            if (word in glove_words) and (word in tfidf_words):\n",
    "                vec = model[word] # getting the vector for each word\n",
    "            # here we are multiplying idf value(dictionary[word]) and the tf value((sentence.count(word)/len(sentence.split())))\n",
    "                tf_idf = dictionary[word]*(sentence.count(word)/len(sentence.split())) # getting the tfidf value for each word\n",
    "                vector += (vec * tf_idf) # calculating tfidf weighted w2v\n",
    "                tf_idf_weight += tf_idf\n",
    "        if tf_idf_weight != 0:\n",
    "            vector /= tf_idf_weight\n",
    "        tfidf_w2v_vectors.append(vector)\n",
    "    return tfidf_w2v_vectors"
   ]
  },
  {
   "cell_type": "code",
   "execution_count": 43,
   "metadata": {},
   "outputs": [],
   "source": [
    "avgw2v_train_essay=avg_w2v(x_train['essay'])\n",
    "avgw2v_test_essay=avg_w2v(x_test['essay'])\n",
    "avgw2v_cv_essay=avg_w2v(x_cv['essay'])\n",
    "avgw2v_train_title=avg_w2v(x_train['title'])\n",
    "avgw2v_test_title=avg_w2v(x_test['title'])\n",
    "avgw2v_cv_title=avg_w2v(x_cv['title'])\n",
    "\n",
    "\n",
    "tfidf_model = TfidfVectorizer()\n",
    "tfidf_model.fit(x_train['essay'])# we are converting a dictionary with word as a key, and the idf as a value\n",
    "dictionary = dict(zip(tfidf_model.get_feature_names(), list(tfidf_model.idf_)))\n",
    "tfidf_words = set(tfidf_model.get_feature_names())\n",
    "wtw2v_train_essay=tfidf_weighted_w2v(x_train['essay'],tfidf_words)\n",
    "wtw2v_test_essay=tfidf_weighted_w2v(x_test['essay'],tfidf_words)\n",
    "wtw2v_cv_essay=tfidf_weighted_w2v(x_cv['essay'],tfidf_words)\n",
    "\n",
    "\n",
    "tfidf_model = TfidfVectorizer()\n",
    "tfidf_model.fit(x_train['title'])# we are converting a dictionary with word as a key, and the idf as a value\n",
    "dictionary = dict(zip(tfidf_model.get_feature_names(), list(tfidf_model.idf_)))\n",
    "tfidf_words = set(tfidf_model.get_feature_names())\n",
    "wtw2v_train_title=tfidf_weighted_w2v(x_train['title'],tfidf_words)\n",
    "wtw2v_test_title=tfidf_weighted_w2v(x_test['title'],tfidf_words)\n",
    "wtw2v_cv_title=tfidf_weighted_w2v(x_cv['title'],tfidf_words)"
   ]
  },
  {
   "cell_type": "code",
   "execution_count": 44,
   "metadata": {},
   "outputs": [],
   "source": [
    "pos_train_essay=x_train['pos_essay'].values.reshape(-1,1)\n",
    "neg_train_essay=x_train['neg_essay'].values.reshape(-1,1)\n",
    "com_train_essay=x_train['com_essay'].values.reshape(-1,1)\n",
    "pos_cv_essay=x_cv['pos_essay'].values.reshape(-1,1)\n",
    "neg_cv_essay=x_cv['neg_essay'].values.reshape(-1,1)\n",
    "com_cv_essay=x_cv['com_essay'].values.reshape(-1,1)\n",
    "pos_test_essay=x_test['pos_essay'].values.reshape(-1,1)\n",
    "neg_test_essay=x_test['neg_essay'].values.reshape(-1,1)\n",
    "com_test_essay=x_test['com_essay'].values.reshape(-1,1)"
   ]
  },
  {
   "cell_type": "markdown",
   "metadata": {
    "colab_type": "text",
    "id": "4IolabGIoUH9"
   },
   "source": [
    "<h2>2.4 Appling Support Vector Machines on different kind of featurization as mentioned in the instructions</h2>\n",
    "\n",
    "<br>Apply Support Vector Machines on different kind of featurization as mentioned in the instructions\n",
    "<br> For Every model that you work on make sure you do the step 2 and step 3 of instrucations"
   ]
  },
  {
   "cell_type": "code",
   "execution_count": 44,
   "metadata": {
    "colab": {},
    "colab_type": "code",
    "id": "0IBXizg6oUH9"
   },
   "outputs": [
    {
     "name": "stdout",
     "output_type": "stream",
     "text": [
      "(68823, 7646)\n",
      "(7648, 7646)\n"
     ]
    }
   ],
   "source": [
    "# please write all the code with proper documentation, and proper titles for each subsection\n",
    "# go through documentations and blogs before you start coding\n",
    "# first figure out what to do, and then think about how to do.\n",
    "# reading and understanding error messages will be very much helpfull in debugging your code\n",
    "# when you plot any graph make sure you use \n",
    "    # a. Title, that describes your plot, this will be very helpful to the reader\n",
    "    # b. Legends if needed\n",
    "    # c. X-axis label\n",
    "    # d. Y-axis label\n",
    "from scipy.sparse import hstack\n",
    "train_bow=hstack((teacher_prefix_one_hot_train,school_state_one_hot_train,num_or_not_train,\\\n",
    "grade_cat_one_hot_train,categories_one_hot_train,subcategories_one_hot_train,price_one_hot_train,\\\n",
    "quantity_one_hot_train,bow_train_essay,bow_train_title,essay_count_train,title_count_train)).tocsr()\n",
    "cv_bow=hstack((teacher_prefix_one_hot_cv,school_state_one_hot_cv,num_or_not_cv,\\\n",
    "grade_cat_one_hot_cv,categories_one_hot_cv,subcategories_one_hot_cv,price_one_hot_cv,\\\n",
    "quantity_one_hot_cv,bow_cv_essay,bow_cv_title,essay_count_cv,title_count_cv)).tocsr()\n",
    "\n",
    "print(train_bow.shape)\n",
    "print(cv_bow.shape)\n"
   ]
  },
  {
   "cell_type": "code",
   "execution_count": 116,
   "metadata": {},
   "outputs": [
    {
     "name": "stderr",
     "output_type": "stream",
     "text": [
      "\n",
      "\n",
      "\n",
      "  0%|          | 0/8 [00:00<?, ?it/s]\n",
      "\n",
      "\n",
      " 12%|█▎        | 1/8 [00:14<01:41, 14.46s/it]\n",
      "\n",
      "\n",
      " 25%|██▌       | 2/8 [00:25<01:20, 13.49s/it]\n",
      "\n",
      "\n",
      " 38%|███▊      | 3/8 [00:39<01:07, 13.46s/it]\n",
      "\n",
      "\n",
      " 50%|█████     | 4/8 [00:51<00:52, 13.20s/it]\n",
      "\n",
      "\n",
      " 62%|██████▎   | 5/8 [00:57<00:33, 11.10s/it]\n",
      "\n",
      "\n",
      " 75%|███████▌  | 6/8 [01:00<00:17,  8.68s/it]\n",
      "\n",
      "\n",
      " 88%|████████▊ | 7/8 [01:02<00:06,  6.43s/it]\n",
      "\n",
      "\n",
      "100%|██████████| 8/8 [01:02<00:00,  4.65s/it]\n",
      "\n",
      "\n"
     ]
    }
   ],
   "source": [
    "from sklearn.linear_model import SGDClassifier\n",
    "from sklearn.metrics import roc_auc_score,auc\n",
    "train_auc=[]\n",
    "cv_auc=[]\n",
    "alpha=[10**i for i in range(-7,1)]\n",
    "for alf in tqdm(alpha):\n",
    "    model=SGDClassifier(loss='hinge',alpha=alf,penalty='l2')\n",
    "    model.fit(train_bow,y_train)\n",
    "    y_train_prob=[]\n",
    "    y_train_prob=model.decision_function(train_bow)\n",
    "    y_cv_prob=[]\n",
    "    y_cv_prob=model.decision_function(cv_bow)\n",
    "    train_auc.append(roc_auc_score(y_train,y_train_prob))\n",
    "    cv_auc.append(roc_auc_score(y_cv,y_cv_prob))"
   ]
  },
  {
   "cell_type": "code",
   "execution_count": 117,
   "metadata": {},
   "outputs": [
    {
     "data": {
      "image/png": "[encoded data removed]",
      "text/plain": [
       "<Figure size 432x288 with 1 Axes>"
      ]
     },
     "metadata": {
      "needs_background": "light"
     },
     "output_type": "display_data"
    },
    {
     "name": "stdout",
     "output_type": "stream",
     "text": [
      "[1e-07, 1e-06, 1e-05, 0.0001, 0.001, 0.01, 0.1, 1]\n"
     ]
    }
   ],
   "source": [
    "import math\n",
    "log_alpha=[math.log(i) for i in alpha]\n",
    "plt.plot(log_alpha,train_auc,label='train_auc')\n",
    "plt.plot(log_alpha,cv_auc,label='cv_auc')\n",
    "plt.legend()\n",
    "plt.scatter(log_alpha,train_auc)\n",
    "plt.scatter(log_alpha,cv_auc)\n",
    "plt.grid()\n",
    "plt.ylabel('auc')\n",
    "plt.xlabel('value of c')\n",
    "plt.show()\n",
    "print(alpha)"
   ]
  },
  {
   "cell_type": "code",
   "execution_count": 129,
   "metadata": {},
   "outputs": [],
   "source": [
    "sgd=SGDClassifier(loss='hinge')\n",
    "from sklearn.model_selection import GridSearchCV\n",
    "parameters = {'alpha':[10**i for i in range(-7,1)]}\n",
    "clf=GridSearchCV(sgd,parameters,cv=3,scoring='roc_auc',return_train_score=True)\n",
    "clf.fit(train_bow,y_train)\n",
    "\n",
    "train_auc= clf.cv_results_['mean_train_score']\n",
    "train_auc_std= clf.cv_results_['std_train_score']\n",
    "cv_auc = clf.cv_results_['mean_test_score'] \n",
    "cv_auc_std= clf.cv_results_['std_test_score']"
   ]
  },
  {
   "cell_type": "code",
   "execution_count": 127,
   "metadata": {},
   "outputs": [
    {
     "data": {
      "text/plain": [
       "{'alpha': 0.001, 'penalty': 'l2'}"
      ]
     },
     "execution_count": 127,
     "metadata": {},
     "output_type": "execute_result"
    }
   ],
   "source": [
    "clf.best_params_"
   ]
  },
  {
   "cell_type": "code",
   "execution_count": 130,
   "metadata": {},
   "outputs": [
    {
     "data": {
      "image/png": "[encoded data removed]",
      "text/plain": [
       "<Figure size 432x288 with 1 Axes>"
      ]
     },
     "metadata": {
      "needs_background": "light"
     },
     "output_type": "display_data"
    },
    {
     "name": "stdout",
     "output_type": "stream",
     "text": [
      "[1e-07, 1e-06, 1e-05, 0.0001, 0.001, 0.01, 0.1, 1]\n"
     ]
    }
   ],
   "source": [
    "import math\n",
    "alpha=[10**i for i in range(-7,1)]\n",
    "log_alpha=[math.log(i) for i in alpha]\n",
    "plt.plot(log_alpha,train_auc,label='train_auc')\n",
    "plt.plot(log_alpha,cv_auc,label='cv_auc')\n",
    "plt.legend()\n",
    "plt.scatter(log_alpha,train_auc)\n",
    "plt.scatter(log_alpha,cv_auc)\n",
    "plt.grid()\n",
    "plt.ylabel('auc')\n",
    "plt.xlabel('value of c')\n",
    "plt.show()\n",
    "print(alpha)"
   ]
  },
  {
   "cell_type": "code",
   "execution_count": null,
   "metadata": {},
   "outputs": [],
   "source": []
  },
  {
   "cell_type": "code",
   "execution_count": 123,
   "metadata": {},
   "outputs": [
    {
     "name": "stdout",
     "output_type": "stream",
     "text": [
      "(32774, 7646)\n"
     ]
    }
   ],
   "source": [
    "test_bow=hstack((teacher_prefix_one_hot_test,school_state_one_hot_test,num_or_not_test,\\\n",
    "grade_cat_one_hot_test,categories_one_hot_test,subcategories_one_hot_test,price_one_hot_test,\\\n",
    "quantity_one_hot_test,bow_test_essay,bow_test_title,essay_count_test,title_count_test)).tocsr()\n",
    "print(test_bow.shape)"
   ]
  },
  {
   "cell_type": "code",
   "execution_count": 124,
   "metadata": {},
   "outputs": [],
   "source": [
    "best_alpha = 0.001\n",
    "from sklearn.metrics import roc_curve,auc\n",
    "model=SGDClassifier(alpha=best_alpha,penalty='l2',loss='hinge')\n",
    "model.fit(train_bow,y_train)\n",
    "y_train_pred=[]\n",
    "y_train_pred=model.decision_function(train_bow)\n",
    "fpr_train,tpr_train,thresholds_train=roc_curve(y_train,y_train_pred)\n",
    "y_test_pred=[]\n",
    "y_test_pred=model.decision_function(test_bow)\n",
    "fpr_test,tpr_test,thresholds_test=roc_curve(y_test,y_test_pred)"
   ]
  },
  {
   "cell_type": "code",
   "execution_count": 125,
   "metadata": {},
   "outputs": [
    {
     "data": {
      "text/plain": [
       "Text(0,0.5,'True positive rate')"
      ]
     },
     "execution_count": 125,
     "metadata": {},
     "output_type": "execute_result"
    },
    {
     "data": {
      "image/png": "[encoded data removed]",
      "text/plain": [
       "<Figure size 432x288 with 1 Axes>"
      ]
     },
     "metadata": {
      "needs_background": "light"
     },
     "output_type": "display_data"
    }
   ],
   "source": [
    "plt.title('Error')\n",
    "plt.plot(fpr_test,tpr_test,label='test='+str(auc(fpr_test,tpr_test)))\n",
    "plt.plot(fpr_train,tpr_train,label='train='+str(auc(fpr_train,tpr_train)))\n",
    "plt.legend()\n",
    "plt.xlabel('False positive rate')\n",
    "plt.ylabel('True positive rate')"
   ]
  },
  {
   "cell_type": "code",
   "execution_count": 131,
   "metadata": {},
   "outputs": [
    {
     "name": "stdout",
     "output_type": "stream",
     "text": [
      "Train Confusion Matrix\n",
      "[[ 2309  8044]\n",
      " [ 1448 57022]]\n"
     ]
    },
    {
     "data": {
      "text/plain": [
       "<matplotlib.axes._subplots.AxesSubplot at 0x1f143e81278>"
      ]
     },
     "execution_count": 131,
     "metadata": {},
     "output_type": "execute_result"
    },
    {
     "data": {
      "image/png": "[encoded data removed]",
      "text/plain": [
       "<Figure size 432x288 with 1 Axes>"
      ]
     },
     "metadata": {
      "needs_background": "light"
     },
     "output_type": "display_data"
    }
   ],
   "source": [
    "print('Train Confusion Matrix')\n",
    "print(confusion_matrix(y_train,model.predict(train_bow)))\n",
    "tn,fp,fn,tp=confusion_matrix(y_train,model.predict(train_bow)).ravel()\n",
    "mat=np.matrix([[tn,fn],[fp,tp]])\n",
    "sns.heatmap(mat, square=True, annot=True, fmt='d', cbar=False,            \n",
    "xticklabels=[0,1], yticklabels=[0,1]) "
   ]
  },
  {
   "cell_type": "code",
   "execution_count": 132,
   "metadata": {},
   "outputs": [
    {
     "name": "stdout",
     "output_type": "stream",
     "text": [
      "Test Confusion Matrix\n",
      "[[  643  4419]\n",
      " [ 1008 26704]]\n"
     ]
    },
    {
     "data": {
      "text/plain": [
       "<matplotlib.axes._subplots.AxesSubplot at 0x1f14240c358>"
      ]
     },
     "execution_count": 132,
     "metadata": {},
     "output_type": "execute_result"
    },
    {
     "data": {
      "image/png": "[encoded data removed]",
      "text/plain": [
       "<Figure size 432x288 with 1 Axes>"
      ]
     },
     "metadata": {
      "needs_background": "light"
     },
     "output_type": "display_data"
    }
   ],
   "source": [
    "print('Test Confusion Matrix')\n",
    "print(confusion_matrix(y_test,model.predict(test_bow)))\n",
    "tn,fp,fn,tp=confusion_matrix(y_test,model.predict(test_bow)).ravel()\n",
    "mat=np.matrix([[tn,fn],[fp,tp]])\n",
    "sns.heatmap(mat, square=True, annot=True, fmt='d', cbar=False,            \n",
    "xticklabels=[0,1], yticklabels=[0,1]) "
   ]
  },
  {
   "cell_type": "markdown",
   "metadata": {},
   "source": [
    "# Set 2"
   ]
  },
  {
   "cell_type": "code",
   "execution_count": 45,
   "metadata": {},
   "outputs": [
    {
     "name": "stdout",
     "output_type": "stream",
     "text": [
      "(68823, 127757)\n",
      "(32774, 127757)\n",
      "(7648, 127757)\n"
     ]
    }
   ],
   "source": [
    "train_tfidf=hstack((teacher_prefix_one_hot_train,school_state_one_hot_train,num_or_not_train,\\\n",
    "grade_cat_one_hot_train,categories_one_hot_train,subcategories_one_hot_train,price_one_hot_train,\\\n",
    "quantity_one_hot_train,tfidf_train_essay,tfidf_train_title,essay_count_train,title_count_train)).tocsr()\n",
    "cv_tfidf=hstack((teacher_prefix_one_hot_cv,school_state_one_hot_cv,num_or_not_cv,\\\n",
    "grade_cat_one_hot_cv,categories_one_hot_cv,subcategories_one_hot_cv,price_one_hot_cv,\\\n",
    "quantity_one_hot_cv,tfidf_cv_essay,tfidf_cv_title,essay_count_cv,title_count_cv)).tocsr()\n",
    "test_tfidf=hstack((teacher_prefix_one_hot_test,school_state_one_hot_test,num_or_not_test,\\\n",
    "grade_cat_one_hot_test,categories_one_hot_test,subcategories_one_hot_test,price_one_hot_test,\\\n",
    "quantity_one_hot_test,tfidf_test_essay,tfidf_test_title,essay_count_test,title_count_test)).tocsr()\n",
    "print(train_tfidf.shape)\n",
    "print(test_tfidf.shape)\n",
    "print(cv_tfidf.shape)"
   ]
  },
  {
   "cell_type": "code",
   "execution_count": null,
   "metadata": {},
   "outputs": [],
   "source": [
    "sgd=SGDClassifier(loss='hinge',penalty='l1')\n",
    "from sklearn.model_selection import GridSearchCV\n",
    "parameters = {'alpha':[10**i for i in range(-7,1)]}\n",
    "clf=GridSearchCV(sgd,parameters,cv=3,scoring='roc_auc',return_train_score=True)\n",
    "clf.fit(train_tfidf,y_train)\n",
    "\n",
    "train_auc= clf.cv_results_['mean_train_score']\n",
    "train_auc_std= clf.cv_results_['std_train_score']\n",
    "cv_auc = clf.cv_results_['mean_test_score'] \n",
    "cv_auc_std= clf.cv_results_['std_test_score']"
   ]
  },
  {
   "cell_type": "code",
   "execution_count": 138,
   "metadata": {},
   "outputs": [
    {
     "data": {
      "text/plain": [
       "{'alpha': 1e-07, 'penalty': 'l1'}"
      ]
     },
     "execution_count": 138,
     "metadata": {},
     "output_type": "execute_result"
    }
   ],
   "source": [
    "clf.best_params_"
   ]
  },
  {
   "cell_type": "code",
   "execution_count": 146,
   "metadata": {},
   "outputs": [
    {
     "data": {
      "image/png": "[encoded data removed]",
      "text/plain": [
       "<Figure size 432x288 with 1 Axes>"
      ]
     },
     "metadata": {
      "needs_background": "light"
     },
     "output_type": "display_data"
    },
    {
     "name": "stdout",
     "output_type": "stream",
     "text": [
      "[1e-07, 1e-06, 1e-05, 0.0001, 0.001, 0.01, 0.1, 1]\n"
     ]
    }
   ],
   "source": [
    "import math\n",
    "alpha=[10**i for i in range(-7,1)]\n",
    "log_alpha=[math.log(i) for i in alpha]\n",
    "plt.plot(log_alpha,train_auc,label='train_auc')\n",
    "plt.plot(log_alpha,cv_auc,label='cv_auc')\n",
    "plt.legend()\n",
    "plt.scatter(log_alpha,train_auc)\n",
    "plt.scatter(log_alpha,cv_auc)\n",
    "plt.grid()\n",
    "plt.ylabel('auc')\n",
    "plt.xlabel('value of alpha')\n",
    "plt.show()\n",
    "print(alpha)"
   ]
  },
  {
   "cell_type": "code",
   "execution_count": 49,
   "metadata": {},
   "outputs": [],
   "source": [
    "best_alpha =1e-07\n",
    "from sklearn.metrics import roc_curve,auc\n",
    "model=SGDClassifier(alpha=best_alpha,penalty='l1',loss='hinge')\n",
    "model.fit(train_tfidf,y_train)\n",
    "y_train_pred=[]\n",
    "y_train_pred=model.decision_function(train_tfidf)\n",
    "fpr_train,tpr_train,thresholds_train=roc_curve(y_train,y_train_pred)\n",
    "y_test_pred=[]\n",
    "y_test_pred=model.decision_function(test_tfidf)\n",
    "fpr_test,tpr_test,thresholds_test=roc_curve(y_test,y_test_pred)"
   ]
  },
  {
   "cell_type": "code",
   "execution_count": 50,
   "metadata": {},
   "outputs": [
    {
     "data": {
      "text/plain": [
       "Text(0,0.5,'True positive rate')"
      ]
     },
     "execution_count": 50,
     "metadata": {},
     "output_type": "execute_result"
    },
    {
     "data": {
      "image/png": "[encoded data removed]",
      "text/plain": [
       "<Figure size 432x288 with 1 Axes>"
      ]
     },
     "metadata": {
      "needs_background": "light"
     },
     "output_type": "display_data"
    }
   ],
   "source": [
    "plt.title('Error')\n",
    "plt.plot(fpr_test,tpr_test,label='test='+str(auc(fpr_test,tpr_test)))\n",
    "plt.plot(fpr_train,tpr_train,label='train='+str(auc(fpr_train,tpr_train)))\n",
    "plt.legend()\n",
    "plt.xlabel('False positive rate')\n",
    "plt.ylabel('True positive rate')"
   ]
  },
  {
   "cell_type": "code",
   "execution_count": 51,
   "metadata": {},
   "outputs": [
    {
     "name": "stdout",
     "output_type": "stream",
     "text": [
      "Train Confusion Matrix\n",
      "[[  762  9591]\n",
      " [  443 58027]]\n"
     ]
    },
    {
     "data": {
      "text/plain": [
       "<matplotlib.axes._subplots.AxesSubplot at 0x27d207ce0f0>"
      ]
     },
     "execution_count": 51,
     "metadata": {},
     "output_type": "execute_result"
    },
    {
     "data": {
      "image/png": "[encoded data removed]",
      "text/plain": [
       "<Figure size 432x288 with 1 Axes>"
      ]
     },
     "metadata": {
      "needs_background": "light"
     },
     "output_type": "display_data"
    }
   ],
   "source": [
    "print('Train Confusion Matrix')\n",
    "print(confusion_matrix(y_train,model.predict(train_tfidf)))\n",
    "tn,fp,fn,tp=confusion_matrix(y_train,model.predict(train_tfidf)).ravel()\n",
    "mat=np.matrix([[tn,fn],[fp,tp]])\n",
    "sns.heatmap(mat, square=True, annot=True, fmt='d', cbar=False,            \n",
    "xticklabels=[0,1], yticklabels=[0,1]) "
   ]
  },
  {
   "cell_type": "code",
   "execution_count": 52,
   "metadata": {},
   "outputs": [
    {
     "name": "stdout",
     "output_type": "stream",
     "text": [
      "Test Confusion Matrix\n",
      "[[  231  4831]\n",
      " [  281 27431]]\n"
     ]
    },
    {
     "data": {
      "text/plain": [
       "<matplotlib.axes._subplots.AxesSubplot at 0x27d207044e0>"
      ]
     },
     "execution_count": 52,
     "metadata": {},
     "output_type": "execute_result"
    },
    {
     "data": {
      "image/png": "[encoded data removed]",
      "text/plain": [
       "<Figure size 432x288 with 1 Axes>"
      ]
     },
     "metadata": {
      "needs_background": "light"
     },
     "output_type": "display_data"
    }
   ],
   "source": [
    "print('Test Confusion Matrix')\n",
    "print(confusion_matrix(y_test,model.predict(test_tfidf)))\n",
    "tn,fp,fn,tp=confusion_matrix(y_test,model.predict(test_tfidf)).ravel()\n",
    "mat=np.matrix([[tn,fn],[fp,tp]])\n",
    "sns.heatmap(mat, square=True, annot=True, fmt='d', cbar=False,            \n",
    "xticklabels=[0,1], yticklabels=[0,1]) "
   ]
  },
  {
   "cell_type": "markdown",
   "metadata": {},
   "source": [
    "# Set 3"
   ]
  },
  {
   "cell_type": "code",
   "execution_count": 47,
   "metadata": {},
   "outputs": [
    {
     "name": "stdout",
     "output_type": "stream",
     "text": [
      "(32774, 705)\n",
      "(68823, 705)\n",
      "(7648, 705)\n"
     ]
    }
   ],
   "source": [
    "train_avgw2v=hstack((teacher_prefix_one_hot_train,school_state_one_hot_train,\\\n",
    "grade_cat_one_hot_train,categories_one_hot_train,subcategories_one_hot_train,price_one_hot_train,\\\n",
    "quantity_one_hot_train,avgw2v_train_essay,avgw2v_train_title,num_or_not_train\n",
    "                     ,essay_count_train,title_count_train)).tocsr()\n",
    "cv_avgw2v=hstack((teacher_prefix_one_hot_cv,school_state_one_hot_cv,\\\n",
    "grade_cat_one_hot_cv,categories_one_hot_cv,subcategories_one_hot_cv,price_one_hot_cv,\\\n",
    "quantity_one_hot_cv,avgw2v_cv_essay,avgw2v_cv_title,num_or_not_cv,essay_count_cv,title_count_cv)).tocsr()\n",
    "test_avgw2v=hstack((teacher_prefix_one_hot_test,school_state_one_hot_test,\\\n",
    "grade_cat_one_hot_test,categories_one_hot_test,subcategories_one_hot_test,price_one_hot_test,\\\n",
    "quantity_one_hot_test,avgw2v_test_essay,avgw2v_test_title,\n",
    "                    num_or_not_test,essay_count_test,title_count_test)).tocsr()\n",
    "print(test_avgw2v.shape)\n",
    "print(train_avgw2v.shape)\n",
    "print(cv_avgw2v.shape)"
   ]
  },
  {
   "cell_type": "code",
   "execution_count": 54,
   "metadata": {},
   "outputs": [],
   "source": [
    "sgd=SGDClassifier(loss='hinge')\n",
    "from sklearn.model_selection import GridSearchCV\n",
    "parameters = {'alpha':[10**i for i in range(-7,1)],'penalty':['l1','l2']}\n",
    "clf=GridSearchCV(sgd,parameters,cv=3,scoring='roc_auc',return_train_score=True)\n",
    "clf.fit(train_avgw2v,y_train)\n",
    "\n",
    "train_auc= clf.cv_results_['mean_train_score']\n",
    "train_auc_std= clf.cv_results_['std_train_score']\n",
    "cv_auc = clf.cv_results_['mean_test_score'] \n",
    "cv_auc_std= clf.cv_results_['std_test_score']"
   ]
  },
  {
   "cell_type": "code",
   "execution_count": 55,
   "metadata": {},
   "outputs": [
    {
     "data": {
      "text/plain": [
       "{'alpha': 1e-07, 'penalty': 'l1'}"
      ]
     },
     "execution_count": 55,
     "metadata": {},
     "output_type": "execute_result"
    }
   ],
   "source": [
    "clf.best_params_"
   ]
  },
  {
   "cell_type": "code",
   "execution_count": 61,
   "metadata": {},
   "outputs": [
    {
     "data": {
      "image/png": "[encoded data removed]",
      "text/plain": [
       "<Figure size 432x288 with 1 Axes>"
      ]
     },
     "metadata": {
      "needs_background": "light"
     },
     "output_type": "display_data"
    },
    {
     "name": "stdout",
     "output_type": "stream",
     "text": [
      "[1e-07, 1e-06, 1e-05, 0.0001, 0.001, 0.01, 0.1, 1]\n"
     ]
    }
   ],
   "source": [
    "import math\n",
    "alpha=[10**i for i in range(-7,1)]\n",
    "log_alpha=[math.log(i) for i in alpha]\n",
    "plt.plot(log_alpha,train_auc[:8],label='train_auc')\n",
    "plt.plot(log_alpha,cv_auc[:8],label='cv_auc')\n",
    "plt.legend()\n",
    "plt.scatter(log_alpha,train_auc[:8])\n",
    "plt.scatter(log_alpha,cv_auc[:8])\n",
    "plt.grid()\n",
    "plt.ylabel('auc')\n",
    "plt.xlabel('value of alpha')\n",
    "plt.show()\n",
    "print(alpha)"
   ]
  },
  {
   "cell_type": "code",
   "execution_count": 48,
   "metadata": {},
   "outputs": [
    {
     "name": "stderr",
     "output_type": "stream",
     "text": [
      "100%|██████████| 8/8 [05:46<00:00, 25.16s/it]\n"
     ]
    }
   ],
   "source": [
    "train_auc=[]\n",
    "cv_auc=[]\n",
    "alpha=[10**i for i in range(-7,1)]\n",
    "for alf in tqdm(alpha):\n",
    "    model=SGDClassifier(loss='hinge',alpha=alf,penalty='l2')\n",
    "    model.fit(train_avgw2v,y_train)\n",
    "    y_train_prob=[]\n",
    "    y_train_prob=model.decision_function(train_avgw2v)\n",
    "    y_cv_prob=[]\n",
    "    y_cv_prob=model.decision_function(cv_avgw2v)\n",
    "    train_auc.append(roc_auc_score(y_train,y_train_prob))\n",
    "    cv_auc.append(roc_auc_score(y_cv,y_cv_prob))"
   ]
  },
  {
   "cell_type": "code",
   "execution_count": 49,
   "metadata": {},
   "outputs": [
    {
     "data": {
      "image/png": "[encoded data removed]",
      "text/plain": [
       "<Figure size 432x288 with 1 Axes>"
      ]
     },
     "metadata": {
      "needs_background": "light"
     },
     "output_type": "display_data"
    },
    {
     "name": "stdout",
     "output_type": "stream",
     "text": [
      "[1e-07, 1e-06, 1e-05, 0.0001, 0.001, 0.01, 0.1, 1]\n"
     ]
    }
   ],
   "source": [
    "import math\n",
    "alpha=[10**i for i in range(-7,1)]\n",
    "log_alpha=[math.log(i) for i in alpha]\n",
    "plt.plot(log_alpha,train_auc,label='train_auc')\n",
    "plt.plot(log_alpha,cv_auc,label='cv_auc')\n",
    "plt.legend()\n",
    "plt.scatter(log_alpha,train_auc)\n",
    "plt.scatter(log_alpha,cv_auc)\n",
    "plt.grid()\n",
    "plt.ylabel('auc')\n",
    "plt.xlabel('value of c')\n",
    "plt.show()\n",
    "print(alpha)"
   ]
  },
  {
   "cell_type": "code",
   "execution_count": 50,
   "metadata": {},
   "outputs": [
    {
     "name": "stderr",
     "output_type": "stream",
     "text": [
      "100%|██████████| 8/8 [15:49<00:00, 68.69s/it] \n"
     ]
    }
   ],
   "source": [
    "train_auc=[]\n",
    "cv_auc=[]\n",
    "alpha=[10**i for i in range(-7,1)]\n",
    "for alf in tqdm(alpha):\n",
    "    model=SGDClassifier(loss='hinge',alpha=alf,penalty='l1')\n",
    "    model.fit(train_avgw2v,y_train)\n",
    "    y_train_prob=[]\n",
    "    y_train_prob=model.decision_function(train_avgw2v)\n",
    "    y_cv_prob=[]\n",
    "    y_cv_prob=model.decision_function(cv_avgw2v)\n",
    "    train_auc.append(roc_auc_score(y_train,y_train_prob))\n",
    "    cv_auc.append(roc_auc_score(y_cv,y_cv_prob))"
   ]
  },
  {
   "cell_type": "code",
   "execution_count": 51,
   "metadata": {},
   "outputs": [
    {
     "data": {
      "image/png": "[encoded data removed]",
      "text/plain": [
       "<Figure size 432x288 with 1 Axes>"
      ]
     },
     "metadata": {
      "needs_background": "light"
     },
     "output_type": "display_data"
    },
    {
     "name": "stdout",
     "output_type": "stream",
     "text": [
      "[1e-07, 1e-06, 1e-05, 0.0001, 0.001, 0.01, 0.1, 1]\n"
     ]
    }
   ],
   "source": [
    "import math\n",
    "alpha=[10**i for i in range(-7,1)]\n",
    "log_alpha=[math.log(i) for i in alpha]\n",
    "plt.plot(log_alpha,train_auc,label='train_auc')\n",
    "plt.plot(log_alpha,cv_auc,label='cv_auc')\n",
    "plt.legend()\n",
    "plt.scatter(log_alpha,train_auc)\n",
    "plt.scatter(log_alpha,cv_auc)\n",
    "plt.grid()\n",
    "plt.ylabel('auc')\n",
    "plt.xlabel('value of c')\n",
    "plt.show()\n",
    "print(alpha)"
   ]
  },
  {
   "cell_type": "code",
   "execution_count": 52,
   "metadata": {},
   "outputs": [],
   "source": [
    "best_alpha =1e-06\n",
    "from sklearn.metrics import roc_curve,auc\n",
    "model=SGDClassifier(alpha=best_alpha,penalty='l2',loss='hinge')\n",
    "model.fit(train_avgw2v,y_train)\n",
    "y_train_pred=[]\n",
    "y_train_pred=model.decision_function(train_avgw2v)\n",
    "fpr_train,tpr_train,thresholds_train=roc_curve(y_train,y_train_pred)\n",
    "y_test_pred=[]\n",
    "y_test_pred=model.decision_function(test_avgw2v)\n",
    "fpr_test,tpr_test,thresholds_test=roc_curve(y_test,y_test_pred)"
   ]
  },
  {
   "cell_type": "code",
   "execution_count": 53,
   "metadata": {},
   "outputs": [
    {
     "data": {
      "text/plain": [
       "Text(0,0.5,'True positive rate')"
      ]
     },
     "execution_count": 53,
     "metadata": {},
     "output_type": "execute_result"
    },
    {
     "data": {
      "image/png": "[encoded data removed]",
      "text/plain": [
       "<Figure size 432x288 with 1 Axes>"
      ]
     },
     "metadata": {
      "needs_background": "light"
     },
     "output_type": "display_data"
    }
   ],
   "source": [
    "plt.title('Error')\n",
    "plt.plot(fpr_test,tpr_test,label='test='+str(auc(fpr_test,tpr_test)))\n",
    "plt.plot(fpr_train,tpr_train,label='train='+str(auc(fpr_train,tpr_train)))\n",
    "plt.legend()\n",
    "plt.xlabel('False positive rate')\n",
    "plt.ylabel('True positive rate')"
   ]
  },
  {
   "cell_type": "code",
   "execution_count": 63,
   "metadata": {},
   "outputs": [
    {
     "name": "stdout",
     "output_type": "stream",
     "text": [
      "Train Confusion Matrix\n",
      "[[ 4682  5671]\n",
      " [ 9215 49255]]\n"
     ]
    },
    {
     "data": {
      "text/plain": [
       "<matplotlib.axes._subplots.AxesSubplot at 0x27d1ffcdd30>"
      ]
     },
     "execution_count": 63,
     "metadata": {},
     "output_type": "execute_result"
    },
    {
     "data": {
      "image/png": "[encoded data removed]",
      "text/plain": [
       "<Figure size 432x288 with 1 Axes>"
      ]
     },
     "metadata": {
      "needs_background": "light"
     },
     "output_type": "display_data"
    }
   ],
   "source": [
    "print('Train Confusion Matrix')\n",
    "print(confusion_matrix(y_train,model.predict(train_avgw2v)))\n",
    "tn,fp,fn,tp=confusion_matrix(y_train,model.predict(train_avgw2v)).ravel()\n",
    "mat=np.matrix([[tn,fn],[fp,tp]])\n",
    "sns.heatmap(mat, square=True, annot=True, fmt='d', cbar=False,            \n",
    "xticklabels=[0,1], yticklabels=[0,1]) "
   ]
  },
  {
   "cell_type": "code",
   "execution_count": 64,
   "metadata": {},
   "outputs": [
    {
     "name": "stdout",
     "output_type": "stream",
     "text": [
      "Test Confusion Matrix\n",
      "[[ 2162  2900]\n",
      " [ 4554 23158]]\n"
     ]
    },
    {
     "data": {
      "text/plain": [
       "<matplotlib.axes._subplots.AxesSubplot at 0x27d20798a90>"
      ]
     },
     "execution_count": 64,
     "metadata": {},
     "output_type": "execute_result"
    },
    {
     "data": {
      "image/png": "[encoded data removed]",
      "text/plain": [
       "<Figure size 432x288 with 1 Axes>"
      ]
     },
     "metadata": {
      "needs_background": "light"
     },
     "output_type": "display_data"
    }
   ],
   "source": [
    "print('Test Confusion Matrix')\n",
    "print(confusion_matrix(y_test,model.predict(test_avgw2v)))\n",
    "tn,fp,fn,tp=confusion_matrix(y_test,model.predict(test_avgw2v)).ravel()\n",
    "mat=np.matrix([[tn,fn],[fp,tp]])\n",
    "sns.heatmap(mat, square=True, annot=True, fmt='d', cbar=False,            \n",
    "xticklabels=[0,1], yticklabels=[0,1]) "
   ]
  },
  {
   "cell_type": "markdown",
   "metadata": {},
   "source": [
    "# SET 4"
   ]
  },
  {
   "cell_type": "code",
   "execution_count": 57,
   "metadata": {},
   "outputs": [
    {
     "name": "stdout",
     "output_type": "stream",
     "text": [
      "(32774, 705)\n",
      "(68823, 705)\n",
      "(7648, 705)\n"
     ]
    }
   ],
   "source": [
    "train_tfidfw2v=hstack((teacher_prefix_one_hot_train,school_state_one_hot_train,\\\n",
    "grade_cat_one_hot_train,categories_one_hot_train,subcategories_one_hot_train,price_one_hot_train,\\\n",
    "quantity_one_hot_train,wtw2v_train_essay,wtw2v_train_title,num_or_not_train,essay_count_train,\n",
    "                       title_count_train)).tocsr()\n",
    "\n",
    "cv_tfidfw2v=hstack((teacher_prefix_one_hot_cv,school_state_one_hot_cv,\\\n",
    "grade_cat_one_hot_cv,categories_one_hot_cv,subcategories_one_hot_cv,price_one_hot_cv,\\\n",
    "quantity_one_hot_cv,wtw2v_cv_essay,wtw2v_cv_title,num_or_not_cv,essay_count_cv,title_count_cv)).tocsr()\n",
    "\n",
    "test_tfidfw2v=hstack((teacher_prefix_one_hot_test,school_state_one_hot_test,\\\n",
    "grade_cat_one_hot_test,categories_one_hot_test,subcategories_one_hot_test,price_one_hot_test,\\\n",
    "quantity_one_hot_test,wtw2v_test_essay,wtw2v_test_title,num_or_not_test,\n",
    "                      essay_count_test,title_count_test)).tocsr()\n",
    "\n",
    "print(test_tfidfw2v.shape)\n",
    "print(train_tfidfw2v.shape)\n",
    "print(cv_tfidfw2v.shape)"
   ]
  },
  {
   "cell_type": "code",
   "execution_count": 66,
   "metadata": {},
   "outputs": [],
   "source": [
    "sgd=SGDClassifier(loss='hinge')\n",
    "from sklearn.model_selection import GridSearchCV\n",
    "parameters = {'alpha':[10**i for i in range(-7,1)],'penalty':['l2','l1']}\n",
    "clf=GridSearchCV(sgd,parameters,cv=3,scoring='roc_auc',return_train_score=True)\n",
    "clf.fit(train_tfidfw2v,y_train)\n",
    "\n",
    "train_auc= clf.cv_results_['mean_train_score']\n",
    "train_auc_std= clf.cv_results_['std_train_score']\n",
    "cv_auc = clf.cv_results_['mean_test_score'] \n",
    "cv_auc_std= clf.cv_results_['std_test_score']"
   ]
  },
  {
   "cell_type": "code",
   "execution_count": 67,
   "metadata": {},
   "outputs": [
    {
     "data": {
      "text/plain": [
       "{'alpha': 0.001, 'penalty': 'l2'}"
      ]
     },
     "execution_count": 67,
     "metadata": {},
     "output_type": "execute_result"
    }
   ],
   "source": [
    "clf.best_params_"
   ]
  },
  {
   "cell_type": "code",
   "execution_count": 68,
   "metadata": {},
   "outputs": [
    {
     "data": {
      "image/png": "[encoded data removed]",
      "text/plain": [
       "<Figure size 432x288 with 1 Axes>"
      ]
     },
     "metadata": {
      "needs_background": "light"
     },
     "output_type": "display_data"
    },
    {
     "name": "stdout",
     "output_type": "stream",
     "text": [
      "[1e-07, 1e-06, 1e-05, 0.0001, 0.001, 0.01, 0.1, 1]\n"
     ]
    }
   ],
   "source": [
    "\n",
    "alpha=[10**i for i in range(-7,1)]\n",
    "log_alpha=[math.log(i) for i in alpha]\n",
    "plt.plot(log_alpha,train_auc[:8],label='train_auc')\n",
    "plt.plot(log_alpha,cv_auc[:8],label='cv_auc')\n",
    "plt.legend()\n",
    "plt.scatter(log_alpha,train_auc[:8])\n",
    "plt.scatter(log_alpha,cv_auc[:8])\n",
    "plt.grid()\n",
    "plt.ylabel('auc')\n",
    "plt.xlabel('value of alpha')\n",
    "plt.show()\n",
    "print(alpha)"
   ]
  },
  {
   "cell_type": "code",
   "execution_count": 76,
   "metadata": {},
   "outputs": [
    {
     "name": "stderr",
     "output_type": "stream",
     "text": [
      "100%|██████████| 8/8 [12:48<00:00, 60.03s/it] \n"
     ]
    }
   ],
   "source": [
    "train_auc=[]\n",
    "cv_auc=[]\n",
    "alpha=[10**i for i in range(-7,1)]\n",
    "for alf in tqdm(alpha):\n",
    "    model=SGDClassifier(loss='hinge',alpha=alf,penalty='l1')\n",
    "    model.fit(train_tfidfw2v,y_train)\n",
    "    y_train_prob=[]\n",
    "    y_train_prob=model.decision_function(train_tfidfw2v)\n",
    "    y_cv_prob=[]\n",
    "    y_cv_prob=model.decision_function(cv_tfidfw2v)\n",
    "    train_auc.append(roc_auc_score(y_train,y_train_prob))\n",
    "    cv_auc.append(roc_auc_score(y_cv,y_cv_prob))"
   ]
  },
  {
   "cell_type": "code",
   "execution_count": 77,
   "metadata": {},
   "outputs": [
    {
     "data": {
      "image/png": "[encoded data removed]",
      "text/plain": [
       "<Figure size 432x288 with 1 Axes>"
      ]
     },
     "metadata": {
      "needs_background": "light"
     },
     "output_type": "display_data"
    },
    {
     "name": "stdout",
     "output_type": "stream",
     "text": [
      "[1e-07, 1e-06, 1e-05, 0.0001, 0.001, 0.01, 0.1, 1]\n"
     ]
    }
   ],
   "source": [
    "alpha=[10**i for i in range(-7,1)]\n",
    "log_alpha=[math.log(i) for i in alpha]\n",
    "plt.plot(log_alpha,train_auc,label='train_auc')\n",
    "plt.plot(log_alpha,cv_auc,label='cv_auc')\n",
    "plt.legend()\n",
    "plt.scatter(log_alpha,train_auc)\n",
    "plt.scatter(log_alpha,cv_auc)\n",
    "plt.grid()\n",
    "plt.ylabel('auc')\n",
    "plt.xlabel('value of alpha')\n",
    "plt.show()\n",
    "print(alpha)"
   ]
  },
  {
   "cell_type": "code",
   "execution_count": 72,
   "metadata": {},
   "outputs": [],
   "source": [
    "best_alpha =0.001\n",
    "from sklearn.metrics import roc_curve,auc\n",
    "model=SGDClassifier(alpha=best_alpha,penalty='l1',loss='hinge')\n",
    "model.fit(train_tfidfw2v,y_train)\n",
    "y_train_pred=[]\n",
    "y_train_pred=model.decision_function(train_tfidfw2v)\n",
    "fpr_train,tpr_train,thresholds_train=roc_curve(y_train,y_train_pred)\n",
    "y_test_pred=[]\n",
    "y_test_pred=model.decision_function(test_tfidfw2v)\n",
    "fpr_test,tpr_test,thresholds_test=roc_curve(y_test,y_test_pred)"
   ]
  },
  {
   "cell_type": "code",
   "execution_count": 73,
   "metadata": {},
   "outputs": [
    {
     "data": {
      "text/plain": [
       "Text(0,0.5,'True positive rate')"
      ]
     },
     "execution_count": 73,
     "metadata": {},
     "output_type": "execute_result"
    },
    {
     "data": {
      "image/png": "[encoded data removed]",
      "text/plain": [
       "<Figure size 432x288 with 1 Axes>"
      ]
     },
     "metadata": {
      "needs_background": "light"
     },
     "output_type": "display_data"
    }
   ],
   "source": [
    "plt.title('Error')\n",
    "plt.plot(fpr_test,tpr_test,label='test='+str(auc(fpr_test,tpr_test)))\n",
    "plt.plot(fpr_train,tpr_train,label='train='+str(auc(fpr_train,tpr_train)))\n",
    "plt.legend()\n",
    "plt.xlabel('False positive rate')\n",
    "plt.ylabel('True positive rate')"
   ]
  },
  {
   "cell_type": "code",
   "execution_count": 58,
   "metadata": {},
   "outputs": [
    {
     "name": "stdout",
     "output_type": "stream",
     "text": [
      "Train Confusion Matrix\n",
      "[[   96 10257]\n",
      " [   48 58422]]\n"
     ]
    },
    {
     "data": {
      "text/plain": [
       "<matplotlib.axes._subplots.AxesSubplot at 0x21583bd44e0>"
      ]
     },
     "execution_count": 58,
     "metadata": {},
     "output_type": "execute_result"
    },
    {
     "data": {
      "image/png": "[encoded data removed]",
      "text/plain": [
       "<Figure size 432x288 with 1 Axes>"
      ]
     },
     "metadata": {
      "needs_background": "light"
     },
     "output_type": "display_data"
    }
   ],
   "source": [
    "print('Train Confusion Matrix')\n",
    "print(confusion_matrix(y_train,model.predict(train_tfidfw2v)))\n",
    "tn,fp,fn,tp=confusion_matrix(y_train,model.predict(train_tfidfw2v)).ravel()\n",
    "mat=np.matrix([[tn,fn],[fp,tp]])\n",
    "sns.heatmap(mat, square=True, annot=True, fmt='d', cbar=False,            \n",
    "xticklabels=[0,1], yticklabels=[0,1]) "
   ]
  },
  {
   "cell_type": "code",
   "execution_count": 59,
   "metadata": {},
   "outputs": [
    {
     "name": "stdout",
     "output_type": "stream",
     "text": [
      "Test Confusion Matrix\n",
      "[[   38  5024]\n",
      " [   40 27672]]\n"
     ]
    },
    {
     "data": {
      "text/plain": [
       "<matplotlib.axes._subplots.AxesSubplot at 0x2158c183748>"
      ]
     },
     "execution_count": 59,
     "metadata": {},
     "output_type": "execute_result"
    },
    {
     "data": {
      "image/png": "[encoded data removed]",
      "text/plain": [
       "<Figure size 432x288 with 1 Axes>"
      ]
     },
     "metadata": {
      "needs_background": "light"
     },
     "output_type": "display_data"
    }
   ],
   "source": [
    "print('Test Confusion Matrix')\n",
    "print(confusion_matrix(y_test,model.predict(test_tfidfw2v)))\n",
    "tn,fp,fn,tp=confusion_matrix(y_test,model.predict(test_tfidfw2v)).ravel()\n",
    "mat=np.matrix([[tn,fn],[fp,tp]])\n",
    "sns.heatmap(mat, square=True, annot=True, fmt='d', cbar=False,            \n",
    "xticklabels=[0,1], yticklabels=[0,1]) "
   ]
  },
  {
   "cell_type": "code",
   "execution_count": null,
   "metadata": {},
   "outputs": [],
   "source": []
  },
  {
   "cell_type": "code",
   "execution_count": null,
   "metadata": {},
   "outputs": [],
   "source": []
  },
  {
   "cell_type": "code",
   "execution_count": null,
   "metadata": {},
   "outputs": [],
   "source": []
  },
  {
   "cell_type": "code",
   "execution_count": null,
   "metadata": {},
   "outputs": [],
   "source": [
    "### Only 10000 datapoints is taken because of memory error"
   ]
  },
  {
   "cell_type": "code",
   "execution_count": 70,
   "metadata": {},
   "outputs": [],
   "source": [
    "school_state_one_hot_cv=school_state_one_hot_cv[:10000]\n",
    "school_state_one_hot_train=school_state_one_hot_train[:10000]\n",
    "school_state_one_hot_test=school_state_one_hot_test[:10000]\n",
    "quantity_one_hot_cv=quantity_one_hot_cv[:10000]\n",
    "quantity_one_hot_train=quantity_one_hot_train[:10000]\n",
    "quantity_one_hot_test=quantity_one_hot_test[:10000]\n",
    "price_one_hot_cv=price_one_hot_cv[:10000]\n",
    "price_one_hot_train=price_one_hot_train[:10000]\n",
    "price_one_hot_test=price_one_hot_test[:10000]\n",
    "\n",
    "subcategories_one_hot_cv=subcategories_one_hot_cv[:10000]\n",
    "subcategories_one_hot_train=subcategories_one_hot_train[:10000]\n",
    "subcategories_one_hot_test=subcategories_one_hot_test[:10000]\n",
    "categories_one_hot_cv=categories_one_hot_cv[:10000]\n",
    "categories_one_hot_train=categories_one_hot_train[:10000]\n",
    "categories_one_hot_test=categories_one_hot_test[:10000]\n",
    "grade_cat_one_hot_cv=grade_cat_one_hot_cv[:10000]\n",
    "grade_cat_one_hot_train=grade_cat_one_hot_train[:10000]\n",
    "grade_cat_one_hot_test=grade_cat_one_hot_test[:10000]\n",
    "teacher_prefix_one_hot_cv=teacher_prefix_one_hot_cv[:10000]\n",
    "teacher_prefix_one_hot_train=teacher_prefix_one_hot_train[:10000]\n",
    "teacher_prefix_one_hot_test=teacher_prefix_one_hot_test[:10000]"
   ]
  },
  {
   "cell_type": "code",
   "execution_count": 73,
   "metadata": {},
   "outputs": [],
   "source": [
    "pos_train_essay=x_train['pos_essay'].values.reshape(-1,1)[:10000]\n",
    "neg_train_essay=x_train['neg_essay'].values.reshape(-1,1)[:10000]\n",
    "com_train_essay=x_train['com_essay'].values.reshape(-1,1)[:10000]\n",
    "pos_cv_essay=x_cv['pos_essay'].values.reshape(-1,1)[:10000]\n",
    "neg_cv_essay=x_cv['neg_essay'].values.reshape(-1,1)[:10000]\n",
    "com_cv_essay=x_cv['com_essay'].values.reshape(-1,1)[:10000]\n",
    "pos_test_essay=x_test['pos_essay'].values.reshape(-1,1)[:10000]\n",
    "neg_test_essay=x_test['neg_essay'].values.reshape(-1,1)[:10000]\n",
    "com_test_essay=x_test['com_essay'].values.reshape(-1,1)[:10000]"
   ]
  },
  {
   "cell_type": "code",
   "execution_count": 76,
   "metadata": {},
   "outputs": [],
   "source": [
    "num_or_not_train=x_train['project_sumry_digit'].values.reshape(-1,1)[:10000]\n",
    "num_or_not_test=x_test['project_sumry_digit'].values.reshape(-1,1)[:10000]\n",
    "num_or_not_cv=x_cv['project_sumry_digit'].values.reshape(-1,1)[:10000]\n",
    "essay_count_train=x_train['essay_Count'].values.reshape(-1,1)[:10000]\n",
    "essay_count_test=x_test['essay_Count'].values.reshape(-1,1)[:10000]\n",
    "essay_count_cv=x_cv['essay_Count'].values.reshape(-1,1)[:10000]\n",
    "title_count_train=x_train['title_Count'].values.reshape(-1,1)[:10000]\n",
    "title_count_test=x_test['title_Count'].values.reshape(-1,1)[:10000]\n",
    "title_count_cv=x_cv['title_Count'].values.reshape(-1,1)[:10000]"
   ]
  },
  {
   "cell_type": "code",
   "execution_count": null,
   "metadata": {},
   "outputs": [],
   "source": []
  },
  {
   "cell_type": "markdown",
   "metadata": {
    "colab_type": "text",
    "id": "_T2l87JfoUH-"
   },
   "source": [
    "<h2>2.5 Support Vector Machines with added Features `Set 5` </h2>"
   ]
  },
  {
   "cell_type": "code",
   "execution_count": 22,
   "metadata": {},
   "outputs": [
    {
     "data": {
      "text/plain": [
       "(68823, 13888)"
      ]
     },
     "execution_count": 22,
     "metadata": {},
     "output_type": "execute_result"
    }
   ],
   "source": [
    "tfidf_train_essay.shape"
   ]
  },
  {
   "cell_type": "code",
   "execution_count": 25,
   "metadata": {},
   "outputs": [
    {
     "data": {
      "text/plain": [
       "TruncatedSVD(algorithm='randomized', n_components=10000, n_iter=5,\n",
       "             random_state=None, tol=0.0)"
      ]
     },
     "execution_count": 25,
     "metadata": {},
     "output_type": "execute_result"
    }
   ],
   "source": [
    "from sklearn.decomposition import TruncatedSVD\n",
    "decompos=TruncatedSVD(10000)\n",
    "decompos.fit(tfidf_train_essay)"
   ]
  },
  {
   "cell_type": "code",
   "execution_count": 26,
   "metadata": {},
   "outputs": [
    {
     "data": {
      "image/png": "[encoded data removed]",
      "text/plain": [
       "<Figure size 432x288 with 1 Axes>"
      ]
     },
     "metadata": {
      "needs_background": "light"
     },
     "output_type": "display_data"
    }
   ],
   "source": [
    "plt.plot(np.cumsum(decompos.explained_variance_ratio_))\n",
    "plt.xlabel('dimension')\n",
    "plt.ylabel('Variance')\n",
    "plt.grid()"
   ]
  },
  {
   "cell_type": "code",
   "execution_count": 82,
   "metadata": {},
   "outputs": [],
   "source": [
    "tfidf_train=decompos.transform(tfidf_train_essay[:10000])\n",
    "tfidf_cv=decompos.transform(tfidf_cv_essay[:10000])"
   ]
  },
  {
   "cell_type": "code",
   "execution_count": 93,
   "metadata": {},
   "outputs": [],
   "source": [
    "tfidf_test=decompos.transform(tfidf_test_essay[:10000])"
   ]
  },
  {
   "cell_type": "code",
   "execution_count": 83,
   "metadata": {},
   "outputs": [
    {
     "name": "stdout",
     "output_type": "stream",
     "text": [
      "(10000, 10108)\n",
      "(7648, 10108)\n"
     ]
    }
   ],
   "source": [
    "# please write all the code with proper documentation, and proper titles for each subsection\n",
    "# go through documentations and blogs before you start coding\n",
    "# first figure out what to do, and then think about how to do.\n",
    "# reading and understanding error messages will be very much helpfull in debugging your code\n",
    "# when you plot any graph make sure you use \n",
    "    # a. Title, that describes your plot, this will be very helpful to the reader\n",
    "    # b. Legends if needed\n",
    "    # c. X-axis label\n",
    "    # d. Y-axis label\n",
    "train_sentiment=hstack((teacher_prefix_one_hot_train,school_state_one_hot_train,num_or_not_train,\\\n",
    "grade_cat_one_hot_train,categories_one_hot_train,subcategories_one_hot_train,price_one_hot_train,\\\n",
    "quantity_one_hot_train,com_train_essay,pos_train_essay,neg_train_essay,essay_count_train,title_count_train,tfidf_train)).tocsr()\n",
    "cv_sentiment=hstack((teacher_prefix_one_hot_cv,school_state_one_hot_cv,num_or_not_cv,\\\n",
    "grade_cat_one_hot_cv,categories_one_hot_cv,subcategories_one_hot_cv,price_one_hot_cv,\\\n",
    "quantity_one_hot_cv,com_cv_essay,pos_cv_essay,neg_cv_essay,essay_count_cv,title_count_cv,tfidf_cv)).tocsr()\n",
    "print(train_sentiment.shape)\n",
    "print(cv_sentiment.shape)"
   ]
  },
  {
   "cell_type": "code",
   "execution_count": 94,
   "metadata": {},
   "outputs": [
    {
     "name": "stdout",
     "output_type": "stream",
     "text": [
      "(10000, 10108)\n"
     ]
    }
   ],
   "source": [
    "test_sentiment=hstack((teacher_prefix_one_hot_test,school_state_one_hot_test,num_or_not_test,\\\n",
    "grade_cat_one_hot_test,categories_one_hot_test,subcategories_one_hot_test,price_one_hot_test,\\\n",
    "quantity_one_hot_test,com_test_essay,pos_test_essay,neg_test_essay,essay_count_test,title_count_test,tfidf_test)).tocsr()\n",
    "print(train_sentiment.shape)"
   ]
  },
  {
   "cell_type": "code",
   "execution_count": 86,
   "metadata": {},
   "outputs": [
    {
     "name": "stderr",
     "output_type": "stream",
     "text": [
      "100%|██████████| 9/9 [38:34<00:00, 264.51s/it]\n"
     ]
    }
   ],
   "source": [
    "train_auc=[]\n",
    "cv_auc=[]\n",
    "alpha=[10**i for i in range(-10,-1)]\n",
    "for alf in tqdm(alpha):\n",
    "    model=SGDClassifier(loss='hinge',alpha=alf,penalty='l1')\n",
    "    model.fit(train_sentiment,y_train[:10000])\n",
    "    y_train_prob=[]\n",
    "    y_train_prob=model.decision_function(train_sentiment)\n",
    "    y_cv_prob=[]\n",
    "    y_cv_prob=model.decision_function(cv_sentiment)\n",
    "    train_auc.append(roc_auc_score(y_train[:10000],y_train_prob))\n",
    "    cv_auc.append(roc_auc_score(y_cv[:10000],y_cv_prob))"
   ]
  },
  {
   "cell_type": "code",
   "execution_count": null,
   "metadata": {},
   "outputs": [],
   "source": []
  },
  {
   "cell_type": "code",
   "execution_count": 88,
   "metadata": {},
   "outputs": [
    {
     "data": {
      "image/png": "[encoded data removed]",
      "text/plain": [
       "<Figure size 432x288 with 1 Axes>"
      ]
     },
     "metadata": {
      "needs_background": "light"
     },
     "output_type": "display_data"
    },
    {
     "name": "stdout",
     "output_type": "stream",
     "text": [
      "[1e-10, 1e-09, 1e-08, 1e-07, 1e-06, 1e-05, 0.0001, 0.001, 0.01]\n"
     ]
    }
   ],
   "source": [
    "import math\n",
    "alpha=[10**i for i in range(-10,-1)]\n",
    "log_alpha=[math.log(i) for i in alpha]\n",
    "plt.plot(log_alpha,train_auc,label='train_auc')\n",
    "plt.plot(log_alpha,cv_auc,label='cv_auc')\n",
    "plt.legend()\n",
    "plt.scatter(log_alpha,train_auc)\n",
    "plt.scatter(log_alpha,cv_auc)\n",
    "plt.grid()\n",
    "plt.ylabel('auc')\n",
    "plt.xlabel('value of alpha')\n",
    "plt.show()\n",
    "print(alpha)"
   ]
  },
  {
   "cell_type": "code",
   "execution_count": 89,
   "metadata": {},
   "outputs": [
    {
     "name": "stderr",
     "output_type": "stream",
     "text": [
      "100%|██████████| 9/9 [08:37<00:00, 65.63s/it]\n"
     ]
    }
   ],
   "source": [
    "train_auc=[]\n",
    "cv_auc=[]\n",
    "alpha=[10**i for i in range(-10,-1)]\n",
    "for alf in tqdm(alpha):\n",
    "    model=SGDClassifier(loss='hinge',alpha=alf,penalty='l2')\n",
    "    model.fit(train_sentiment,y_train[:10000])\n",
    "    y_train_prob=[]\n",
    "    y_train_prob=model.decision_function(train_sentiment)\n",
    "    y_cv_prob=[]\n",
    "    y_cv_prob=model.decision_function(cv_sentiment)\n",
    "    train_auc.append(roc_auc_score(y_train[:10000],y_train_prob))\n",
    "    cv_auc.append(roc_auc_score(y_cv[:10000],y_cv_prob))"
   ]
  },
  {
   "cell_type": "code",
   "execution_count": 90,
   "metadata": {},
   "outputs": [
    {
     "data": {
      "image/png": "[encoded data removed]",
      "text/plain": [
       "<Figure size 432x288 with 1 Axes>"
      ]
     },
     "metadata": {
      "needs_background": "light"
     },
     "output_type": "display_data"
    },
    {
     "name": "stdout",
     "output_type": "stream",
     "text": [
      "[1e-10, 1e-09, 1e-08, 1e-07, 1e-06, 1e-05, 0.0001, 0.001, 0.01]\n"
     ]
    }
   ],
   "source": [
    "alpha=[10**i for i in range(-10,-1)]\n",
    "log_alpha=[math.log(i) for i in alpha]\n",
    "plt.plot(log_alpha,train_auc,label='train_auc')\n",
    "plt.plot(log_alpha,cv_auc,label='cv_auc')\n",
    "plt.legend()\n",
    "plt.scatter(log_alpha,train_auc)\n",
    "plt.scatter(log_alpha,cv_auc)\n",
    "plt.grid()\n",
    "plt.ylabel('auc')\n",
    "plt.xlabel('value of alpha')\n",
    "plt.show()\n",
    "print(alpha)"
   ]
  },
  {
   "cell_type": "code",
   "execution_count": 95,
   "metadata": {},
   "outputs": [],
   "source": [
    "best_alpha =1e-5\n",
    "from sklearn.metrics import roc_curve,auc\n",
    "model=SGDClassifier(alpha=best_alpha,penalty='l1',loss='hinge')\n",
    "model.fit(train_sentiment,y_train[:10000])\n",
    "y_train_pred=[]\n",
    "y_train_pred=model.decision_function(train_sentiment)\n",
    "fpr_train,tpr_train,thresholds_train=roc_curve(y_train[:10000],y_train_pred)\n",
    "y_test_pred=[]\n",
    "y_test_pred=model.decision_function(test_sentiment)\n",
    "fpr_test,tpr_test,thresholds_test=roc_curve(y_test[:10000],y_test_pred)"
   ]
  },
  {
   "cell_type": "code",
   "execution_count": 96,
   "metadata": {},
   "outputs": [
    {
     "data": {
      "text/plain": [
       "Text(0,0.5,'True positive rate')"
      ]
     },
     "execution_count": 96,
     "metadata": {},
     "output_type": "execute_result"
    },
    {
     "data": {
      "image/png": "[encoded data removed]",
      "text/plain": [
       "<Figure size 432x288 with 1 Axes>"
      ]
     },
     "metadata": {
      "needs_background": "light"
     },
     "output_type": "display_data"
    }
   ],
   "source": [
    "plt.title('Error')\n",
    "plt.plot(fpr_test,tpr_test,label='test='+str(auc(fpr_test,tpr_test)))\n",
    "plt.plot(fpr_train,tpr_train,label='train='+str(auc(fpr_train,tpr_train)))\n",
    "plt.legend()\n",
    "plt.xlabel('False positive rate')\n",
    "plt.ylabel('True positive rate')"
   ]
  },
  {
   "cell_type": "code",
   "execution_count": 102,
   "metadata": {},
   "outputs": [
    {
     "name": "stdout",
     "output_type": "stream",
     "text": [
      "Train Confusion Matrix\n",
      "[[   4 1496]\n",
      " [   1 8499]]\n"
     ]
    },
    {
     "data": {
      "text/plain": [
       "<matplotlib.axes._subplots.AxesSubplot at 0x1fb3a3aae80>"
      ]
     },
     "execution_count": 102,
     "metadata": {},
     "output_type": "execute_result"
    },
    {
     "data": {
      "image/png": "[encoded data removed]",
      "text/plain": [
       "<Figure size 432x288 with 1 Axes>"
      ]
     },
     "metadata": {
      "needs_background": "light"
     },
     "output_type": "display_data"
    }
   ],
   "source": [
    "print('Train Confusion Matrix')\n",
    "\n",
    "y_train=y_train[:10000]\n",
    "print(confusion_matrix(y_train,model.predict(train_sentiment)))\n",
    "\n",
    "tn,fp,fn,tp=confusion_matrix(y_train,model.predict(train_sentiment)).ravel()\n",
    "mat=np.matrix([[tn,fn],[fp,tp]])\n",
    "sns.heatmap(mat, square=True, annot=True, fmt='d', cbar=False,            \n",
    "xticklabels=[0,1], yticklabels=[0,1]) "
   ]
  },
  {
   "cell_type": "code",
   "execution_count": 103,
   "metadata": {},
   "outputs": [
    {
     "name": "stdout",
     "output_type": "stream",
     "text": [
      "Test Confusion Matrix\n",
      "[[   2 1522]\n",
      " [   1 8475]]\n"
     ]
    },
    {
     "data": {
      "text/plain": [
       "<matplotlib.axes._subplots.AxesSubplot at 0x1fb3caea630>"
      ]
     },
     "execution_count": 103,
     "metadata": {},
     "output_type": "execute_result"
    },
    {
     "data": {
      "image/png": "[encoded data removed]",
      "text/plain": [
       "<Figure size 432x288 with 1 Axes>"
      ]
     },
     "metadata": {
      "needs_background": "light"
     },
     "output_type": "display_data"
    }
   ],
   "source": [
    "print('Test Confusion Matrix')\n",
    "print(confusion_matrix(y_test[:10000],model.predict(test_sentiment)))\n",
    "tn,fp,fn,tp=confusion_matrix(y_test[:10000],model.predict(test_sentiment)).ravel()\n",
    "mat=np.matrix([[tn,fn],[fp,tp]])\n",
    "sns.heatmap(mat, square=True, annot=True, fmt='d', cbar=False,            \n",
    "xticklabels=[0,1], yticklabels=[0,1]) "
   ]
  },
  {
   "cell_type": "markdown",
   "metadata": {
    "colab_type": "text",
    "id": "51CZPd61oUIA"
   },
   "source": [
    "<h1>3. Conclusion</h1>"
   ]
  },
  {
   "cell_type": "code",
   "execution_count": 106,
   "metadata": {
    "colab": {},
    "colab_type": "code",
    "id": "uZfzkquRoUIB"
   },
   "outputs": [
    {
     "name": "stdout",
     "output_type": "stream",
     "text": [
      "+-----------+----------------+----------------+------+\n",
      "|    Set    | hyperparameter | Regularization | AUC  |\n",
      "+-----------+----------------+----------------+------+\n",
      "|    BOW    |     0.001      |       L2       | 0.68 |\n",
      "|   TFIDF   |     1e-07      |       L1       | 0.65 |\n",
      "|   AVGW2V  |     1e-06      |       L2       | 0.66 |\n",
      "|  TFIDFW2V |     0.001      |       L1       | 0.64 |\n",
      "| Sentiment |     1e-05      |       L1       | 0.57 |\n",
      "+-----------+----------------+----------------+------+\n"
     ]
    }
   ],
   "source": [
    "\n",
    "from prettytable import PrettyTable\n",
    "table=PrettyTable()\n",
    "table.field_names=['Set','hyperparameter','Regularization','AUC']\n",
    "table.add_row(['BOW','0.001','L2','0.68'])\n",
    "table.add_row(['TFIDF','1e-07','L1','0.65'])\n",
    "table.add_row(['AVGW2V','1e-06','L2','0.66'])\n",
    "table.add_row(['TFIDFW2V','0.001','L1','0.64'])\n",
    "table.add_row(['Sentiment','1e-05','L1','0.57'])\n",
    "print(table)"
   ]
  },
  {
   "cell_type": "code",
   "execution_count": null,
   "metadata": {},
   "outputs": [],
   "source": []
  }
 ],
 "metadata": {
  "colab": {
   "collapsed_sections": [
    "1xr5XNfxoUHJ",
    "k_rW-gxmoUHR",
    "VMvzxx_koUHR",
    "HjDdqenYoUHX",
    "ElMda-g1oUHZ",
    "919fc_i1oUHf"
   ],
   "name": "7_DonorsChoose_SVM.ipynb",
   "provenance": [],
   "version": "0.3.2"
  },
  "kernelspec": {
   "display_name": "Python 3",
   "language": "python",
   "name": "python3"
  },
  "language_info": {
   "codemirror_mode": {
    "name": "ipython",
    "version": 3
   },
   "file_extension": ".py",
   "mimetype": "text/x-python",
   "name": "python",
   "nbconvert_exporter": "python",
   "pygments_lexer": "ipython3",
   "version": "3.7.3"
  }
 },
 "nbformat": 4,
 "nbformat_minor": 1
}
